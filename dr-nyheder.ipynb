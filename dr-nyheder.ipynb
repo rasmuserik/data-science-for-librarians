{
 "cells": [
  {
   "cell_type": "code",
   "execution_count": null,
   "metadata": {
    "collapsed": true
   },
   "outputs": [],
   "source": [
    "import requests\n",
    "response = requests.get('https://www.dr.dk/nyheder/service/feeds/allenyheder')"
   ]
  },
  {
   "cell_type": "code",
   "execution_count": null,
   "metadata": {
    "scrolled": false
   },
   "outputs": [],
   "source": [
    "from IPython.display import display\n",
    "import feedparser\n",
    "from opengraph import OpenGraph\n",
    "from PIL import Image\n",
    "from io import BytesIO\n",
    "for post in feedparser.parse(response.text)[\"entries\"]:\n",
    "    url = post[\"link\"]\n",
    "    og = OpenGraph(url)\n",
    "    image = requests.get(og.image)\n",
    "    print(og)\n",
    "    display(Image.open(BytesIO(image.content)).resize((150,100), Image.ANTIALIAS))"
   ]
  }
 ],
 "metadata": {
  "kernelspec": {
   "display_name": "Python 3",
   "language": "python",
   "name": "python3"
  },
  "language_info": {
   "codemirror_mode": {
    "name": "ipython",
    "version": 3
   },
   "file_extension": ".py",
   "mimetype": "text/x-python",
   "name": "python",
   "nbconvert_exporter": "python",
   "pygments_lexer": "ipython3",
   "version": "3.6.3"
  }
 },
 "nbformat": 4,
 "nbformat_minor": 2
}
