{
 "cells": [
  {
   "cell_type": "code",
   "execution_count": null,
   "metadata": {
    "collapsed": true
   },
   "outputs": [],
   "source": [
    "from PIL import Image\n",
    "from io import BytesIO\n",
    "import requests\n",
    "response = requests.get('https://upload.wikimedia.org/wikipedia/commons/f/fb/Buffalo_nickles.jpg')"
   ]
  },
  {
   "cell_type": "code",
   "execution_count": null,
   "metadata": {
    "scrolled": true
   },
   "outputs": [],
   "source": [
    "src = Image.open(BytesIO(response.content))\n",
    "src"
   ]
  },
  {
   "cell_type": "code",
   "execution_count": null,
   "metadata": {},
   "outputs": [],
   "source": [
    "import random;\n",
    "width = 800\n",
    "height = 600\n",
    "\n",
    "image = Image.new('RGBA', (width, height), (0, 0, 0, 255))\n",
    "for i in range(100):\n",
    "    size = random.randint(10, 300)\n",
    "    x = random.randint(-size, width)\n",
    "    y = random.randint(-size, height)    \n",
    "    image.paste(src.resize((size,int(size/src.size[0]*src.size[1])), Image.ANTIALIAS), (x,y))\n",
    "image"
   ]
  },
  {
   "cell_type": "code",
   "execution_count": null,
   "metadata": {
    "collapsed": true
   },
   "outputs": [],
   "source": [
    "import json\n",
    "data = json.loads(requests.get('http://api.reddit.com/', headers={\"user-agent\": \"mozilla/5.0 test\"}).text)"
   ]
  },
  {
   "cell_type": "code",
   "execution_count": null,
   "metadata": {
    "scrolled": false
   },
   "outputs": [],
   "source": [
    "for entry in [entry[\"data\"] for entry in data[\"data\"][\"children\"]]:\n",
    "    if entry[\"url\"].endswith('jpg'):\n",
    "        response = requests.get(entry[\"url\"])\n",
    "        src = Image.open(BytesIO(response.content))\n",
    "        display(src.resize([30,1000]).resize((400, int(400 * src.size[1] / src.size[0]))))\n",
    "        print(entry[\"title\"])\n",
    "        print()\n",
    "        "
   ]
  },
  {
   "cell_type": "code",
   "execution_count": null,
   "metadata": {},
   "outputs": [],
   "source": [
    "from PIL import ImageFilter\n",
    "src.filter(ImageFilter.EDGE_ENHANCE_MORE)"
   ]
  },
  {
   "cell_type": "code",
   "execution_count": null,
   "metadata": {
    "collapsed": true
   },
   "outputs": [],
   "source": [
    "src.thumbnail([100,100])"
   ]
  }
 ],
 "metadata": {
  "kernelspec": {
   "display_name": "Python 3",
   "language": "python",
   "name": "python3"
  },
  "language_info": {
   "codemirror_mode": {
    "name": "ipython",
    "version": 3
   },
   "file_extension": ".py",
   "mimetype": "text/x-python",
   "name": "python",
   "nbconvert_exporter": "python",
   "pygments_lexer": "ipython3",
   "version": "3.6.3"
  }
 },
 "nbformat": 4,
 "nbformat_minor": 2
}
