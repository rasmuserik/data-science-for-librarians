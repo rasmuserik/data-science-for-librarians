{
 "cells": [
  {
   "cell_type": "code",
   "execution_count": 1,
   "metadata": {},
   "outputs": [
    {
     "data": {
      "text/plain": [
       "4"
      ]
     },
     "execution_count": 1,
     "metadata": {},
     "output_type": "execute_result"
    }
   ],
   "source": [
    "2 + 2"
   ]
  },
  {
   "cell_type": "code",
   "execution_count": 2,
   "metadata": {},
   "outputs": [
    {
     "name": "stdout",
     "output_type": "stream",
     "text": [
      "hello world\n"
     ]
    }
   ],
   "source": [
    "name = \"world\"\n",
    "print(\"hello \" + name)"
   ]
  },
  {
   "cell_type": "code",
   "execution_count": 3,
   "metadata": {},
   "outputs": [
    {
     "data": {
      "text/plain": [
       "[0, 1, 2, 3, 4, 5, 6, 7, 8, 9, 10, 11]"
      ]
     },
     "execution_count": 3,
     "metadata": {},
     "output_type": "execute_result"
    }
   ],
   "source": [
    "list(range(12))"
   ]
  },
  {
   "cell_type": "code",
   "execution_count": 4,
   "metadata": {},
   "outputs": [
    {
     "data": {
      "text/plain": [
       "[0, 2, 4, 6, 8, 10, 12, 14, 16, 18, 20, 22]"
      ]
     },
     "execution_count": 4,
     "metadata": {},
     "output_type": "execute_result"
    }
   ],
   "source": [
    "[n * 2 for n in range(12)]"
   ]
  },
  {
   "cell_type": "code",
   "execution_count": 5,
   "metadata": {
    "scrolled": true
   },
   "outputs": [
    {
     "data": {
      "text/plain": [
       "[6, 7, 8, 9, 10, 11]"
      ]
     },
     "execution_count": 5,
     "metadata": {},
     "output_type": "execute_result"
    }
   ],
   "source": [
    "[n for n in range(12) if n > 5]"
   ]
  },
  {
   "cell_type": "code",
   "execution_count": 6,
   "metadata": {},
   "outputs": [
    {
     "name": "stdout",
     "output_type": "stream",
     "text": [
      "0\n",
      "1\n",
      "2\n",
      "3\n"
     ]
    }
   ],
   "source": [
    "for i in range(4):\n",
    "    print(i)"
   ]
  },
  {
   "cell_type": "code",
   "execution_count": 7,
   "metadata": {},
   "outputs": [
    {
     "name": "stdout",
     "output_type": "stream",
     "text": [
      "abekat\n",
      "abeuhyre\n",
      "abegræs\n",
      "søkat\n",
      "søuhyre\n",
      "søgræs\n",
      "citronkat\n",
      "citronuhyre\n",
      "citrongræs\n"
     ]
    }
   ],
   "source": [
    "for word1 in [\"abe\", \"sø\", \"citron\"]:\n",
    "    for word2 in [\"kat\", \"uhyre\", \"græs\"]:\n",
    "        print(word1 + word2)"
   ]
  },
  {
   "cell_type": "code",
   "execution_count": 8,
   "metadata": {},
   "outputs": [
    {
     "data": {
      "text/plain": [
       "4"
      ]
     },
     "execution_count": 8,
     "metadata": {},
     "output_type": "execute_result"
    }
   ],
   "source": [
    "len(['a', 'b', 'c', 'd'])"
   ]
  },
  {
   "cell_type": "code",
   "execution_count": 9,
   "metadata": {},
   "outputs": [
    {
     "data": {
      "text/plain": [
       "3"
      ]
     },
     "execution_count": 9,
     "metadata": {},
     "output_type": "execute_result"
    }
   ],
   "source": [
    "len('hej')"
   ]
  },
  {
   "cell_type": "code",
   "execution_count": 10,
   "metadata": {},
   "outputs": [
    {
     "name": "stdout",
     "output_type": "stream",
     "text": [
      "abeuhyre\n",
      "abegræs\n",
      "søuhyre\n",
      "citronkat\n",
      "citronuhyre\n",
      "citrongræs\n"
     ]
    }
   ],
   "source": [
    "for word1 in [\"abe\", \"sø\", \"citron\"]:\n",
    "    for word2 in [\"kat\", \"uhyre\", \"græs\"]:\n",
    "        if len(word1 + word2) > 6:\n",
    "            print(word1 + word2)"
   ]
  },
  {
   "cell_type": "code",
   "execution_count": 11,
   "metadata": {},
   "outputs": [
    {
     "name": "stdout",
     "output_type": "stream",
     "text": [
      "{'a': [11, 22, 33], 'b': {'c': 456}}\n"
     ]
    }
   ],
   "source": [
    "data = {\n",
    "    \"a\": [11,22,33],\n",
    "    \"b\": {\n",
    "        \"c\": 456\n",
    "    }\n",
    "}\n",
    "print(data)"
   ]
  },
  {
   "cell_type": "code",
   "execution_count": 12,
   "metadata": {},
   "outputs": [
    {
     "name": "stdout",
     "output_type": "stream",
     "text": [
      "{\"a\": [11, 22, 33], \"b\": {\"c\": 456}}\n"
     ]
    }
   ],
   "source": [
    "import json\n",
    "print(json.dumps(data))"
   ]
  },
  {
   "cell_type": "code",
   "execution_count": 13,
   "metadata": {},
   "outputs": [
    {
     "data": {
      "text/plain": [
       "{'d': [7, 8], 'e': 'f'}"
      ]
     },
     "execution_count": 13,
     "metadata": {},
     "output_type": "execute_result"
    }
   ],
   "source": [
    "json.loads('{\"d\":[7,8],\"e\":\"f\"}')"
   ]
  },
  {
   "cell_type": "code",
   "execution_count": 14,
   "metadata": {},
   "outputs": [
    {
     "data": {
      "text/plain": [
       "[11, 22, 33]"
      ]
     },
     "execution_count": 14,
     "metadata": {},
     "output_type": "execute_result"
    }
   ],
   "source": [
    "data[\"a\"]"
   ]
  },
  {
   "cell_type": "code",
   "execution_count": 15,
   "metadata": {},
   "outputs": [
    {
     "data": {
      "text/plain": [
       "11"
      ]
     },
     "execution_count": 15,
     "metadata": {},
     "output_type": "execute_result"
    }
   ],
   "source": [
    "data[\"a\"][0]"
   ]
  },
  {
   "cell_type": "code",
   "execution_count": 16,
   "metadata": {},
   "outputs": [
    {
     "data": {
      "text/plain": [
       "33"
      ]
     },
     "execution_count": 16,
     "metadata": {},
     "output_type": "execute_result"
    }
   ],
   "source": [
    "data[\"a\"][2]"
   ]
  },
  {
   "cell_type": "code",
   "execution_count": 17,
   "metadata": {},
   "outputs": [
    {
     "data": {
      "text/plain": [
       "[11, 22, 33]"
      ]
     },
     "execution_count": 17,
     "metadata": {},
     "output_type": "execute_result"
    }
   ],
   "source": [
    "data.get(\"a\", \"hej\")"
   ]
  },
  {
   "cell_type": "code",
   "execution_count": 18,
   "metadata": {},
   "outputs": [
    {
     "data": {
      "text/plain": [
       "'hej'"
      ]
     },
     "execution_count": 18,
     "metadata": {},
     "output_type": "execute_result"
    }
   ],
   "source": [
    "data.get(\"x\", \"hej\")"
   ]
  },
  {
   "cell_type": "code",
   "execution_count": 19,
   "metadata": {},
   "outputs": [
    {
     "data": {
      "text/plain": [
       "['a', 'b']"
      ]
     },
     "execution_count": 19,
     "metadata": {},
     "output_type": "execute_result"
    }
   ],
   "source": [
    "list(data.keys())"
   ]
  },
  {
   "cell_type": "code",
   "execution_count": 20,
   "metadata": {},
   "outputs": [
    {
     "data": {
      "text/plain": [
       "[[11, 22, 33], {'c': 456}]"
      ]
     },
     "execution_count": 20,
     "metadata": {},
     "output_type": "execute_result"
    }
   ],
   "source": [
    "list(data.values())"
   ]
  },
  {
   "cell_type": "code",
   "execution_count": 168,
   "metadata": {},
   "outputs": [
    {
     "name": "stdout",
     "output_type": "stream",
     "text": [
      "The word 'happiness' would lose its meaning if it were not balanced by sadness.\n",
      " -- Carl Jung\n",
      "%\n",
      "One looks back with appreciation to the brilliant teachers, but with gratitude to those who touched our human feelings. The curriculum is so much necessary raw material, but warmth is the vital element for the growing plant and for the soul of the child.\n",
      " -- Carl Jung\n",
      "%\n",
      "Knowing your own darkness is the best method for dealing with the darknesses of other people.\n",
      " -- Carl Jung\n",
      "%\n",
      "Everything that irritat\n"
     ]
    }
   ],
   "source": [
    "import requests\n",
    "fortunes = requests.get('https://raw.githubusercontent.com/JKirchartz/fortune/master/jung').text\n",
    "print(fortunes[0:500])"
   ]
  },
  {
   "cell_type": "code",
   "execution_count": 87,
   "metadata": {},
   "outputs": [
    {
     "data": {
      "text/plain": [
       "['hej', 'med', 'dig']"
      ]
     },
     "execution_count": 87,
     "metadata": {},
     "output_type": "execute_result"
    }
   ],
   "source": [
    "\"hej med dig\".split(\" \")"
   ]
  },
  {
   "cell_type": "code",
   "execution_count": 88,
   "metadata": {},
   "outputs": [
    {
     "data": {
      "text/plain": [
       "4"
      ]
     },
     "execution_count": 88,
     "metadata": {},
     "output_type": "execute_result"
    }
   ],
   "source": [
    "import random\n",
    "random.choice([4,5,6,7])"
   ]
  },
  {
   "cell_type": "code",
   "execution_count": 167,
   "metadata": {
    "scrolled": true
   },
   "outputs": [
    {
     "name": "stdout",
     "output_type": "stream",
     "text": [
      "There is endless debate about the existence of the human soul. Well it does exist, and Chuck Norris finds it delicious.\n",
      "\n"
     ]
    }
   ],
   "source": [
    "print(random.choice(fortunes.split('%\\n')))"
   ]
  },
  {
   "cell_type": "code",
   "execution_count": 111,
   "metadata": {},
   "outputs": [
    {
     "data": {
      "text/plain": [
       "['The', 'only', 'way', 'to', 'make', 'sense', 'out', 'of', 'change', 'is']"
      ]
     },
     "execution_count": 111,
     "metadata": {},
     "output_type": "execute_result"
    }
   ],
   "source": [
    "words = fortunes.split(' ')\n",
    "words[0:10]"
   ]
  },
  {
   "cell_type": "code",
   "execution_count": 112,
   "metadata": {},
   "outputs": [
    {
     "data": {
      "text/plain": [
       "[('the', 50),\n",
       " ('Alan', 48),\n",
       " ('is', 36),\n",
       " ('of', 35),\n",
       " ('to', 32),\n",
       " ('and', 24),\n",
       " ('that', 18),\n",
       " ('in', 16),\n",
       " ('you', 15),\n",
       " ('a', 15)]"
      ]
     },
     "execution_count": 112,
     "metadata": {},
     "output_type": "execute_result"
    }
   ],
   "source": [
    "from collections import Counter\n",
    "Counter(words).most_common(10)"
   ]
  },
  {
   "cell_type": "markdown",
   "metadata": {},
   "source": [
    "# Data sources"
   ]
  },
  {
   "cell_type": "markdown",
   "metadata": {},
   "source": [
    "## reddit"
   ]
  },
  {
   "cell_type": "code",
   "execution_count": 194,
   "metadata": {
    "scrolled": true
   },
   "outputs": [
    {
     "data": {
      "text/plain": [
       "{'data': {'approved_at_utc': None,\n",
       "  'approved_by': None,\n",
       "  'archived': False,\n",
       "  'author': 'CrapWeasel-',\n",
       "  'author_flair_css_class': None,\n",
       "  'author_flair_text': None,\n",
       "  'banned_at_utc': None,\n",
       "  'banned_by': None,\n",
       "  'brand_safe': True,\n",
       "  'can_gild': False,\n",
       "  'can_mod_post': False,\n",
       "  'clicked': False,\n",
       "  'contest_mode': False,\n",
       "  'created': 1518945586.0,\n",
       "  'created_utc': 1518916786.0,\n",
       "  'distinguished': None,\n",
       "  'domain': 'gfycat.com',\n",
       "  'downs': 0,\n",
       "  'edited': False,\n",
       "  'gilded': 0,\n",
       "  'hidden': False,\n",
       "  'hide_score': False,\n",
       "  'id': '7yb1ii',\n",
       "  'is_crosspostable': False,\n",
       "  'is_reddit_media_domain': False,\n",
       "  'is_self': False,\n",
       "  'is_video': False,\n",
       "  'likes': None,\n",
       "  'link_flair_css_class': None,\n",
       "  'link_flair_text': None,\n",
       "  'locked': False,\n",
       "  'media': {'oembed': {'description': 'Watch Boom-headshot GIF on Gfycat. Discover more GIFS online at Gfycat.',\n",
       "    'height': 306,\n",
       "    'html': '&lt;iframe class=\"embedly-embed\" src=\"https://cdn.embedly.com/widgets/media.html?src=https%3A%2F%2Fgfycat.com%2Fifr%2FTanSolidIndusriverdolphin&amp;url=https%3A%2F%2Fgfycat.com%2Ftansolidindusriverdolphin&amp;image=https%3A%2F%2Fthumbs.gfycat.com%2FTanSolidIndusriverdolphin-size_restricted.gif&amp;key=522baf40bd3911e08d854040d3dc5c07&amp;type=text%2Fhtml&amp;schema=gfycat\" width=\"460\" height=\"306\" scrolling=\"no\" frameborder=\"0\" allowfullscreen&gt;&lt;/iframe&gt;',\n",
       "    'provider_name': 'gfycat',\n",
       "    'provider_url': 'http://gfycat.com',\n",
       "    'thumbnail_height': 249,\n",
       "    'thumbnail_url': 'https://i.embed.ly/1/image?url=https%3A%2F%2Fthumbs.gfycat.com%2FTanSolidIndusriverdolphin-size_restricted.gif&amp;key=522baf40bd3911e08d854040d3dc5c07',\n",
       "    'thumbnail_width': 375,\n",
       "    'title': 'Boom-headshot - Create, Discover and Share GIFs on Gfycat',\n",
       "    'type': 'video',\n",
       "    'version': '1.0',\n",
       "    'width': 460},\n",
       "   'type': 'gfycat.com'},\n",
       "  'media_embed': {'content': '&lt;iframe class=\"embedly-embed\" src=\"https://cdn.embedly.com/widgets/media.html?src=https%3A%2F%2Fgfycat.com%2Fifr%2FTanSolidIndusriverdolphin&amp;url=https%3A%2F%2Fgfycat.com%2Ftansolidindusriverdolphin&amp;image=https%3A%2F%2Fthumbs.gfycat.com%2FTanSolidIndusriverdolphin-size_restricted.gif&amp;key=522baf40bd3911e08d854040d3dc5c07&amp;type=text%2Fhtml&amp;schema=gfycat\" width=\"460\" height=\"306\" scrolling=\"no\" frameborder=\"0\" allowfullscreen&gt;&lt;/iframe&gt;',\n",
       "   'height': 306,\n",
       "   'media_domain_url': 'https://www.redditmedia.com/mediaembed/7yb1ii',\n",
       "   'scrolling': False,\n",
       "   'width': 460},\n",
       "  'mod_note': None,\n",
       "  'mod_reason_by': None,\n",
       "  'mod_reason_title': None,\n",
       "  'mod_reports': [],\n",
       "  'name': 't3_7yb1ii',\n",
       "  'num_comments': 86,\n",
       "  'num_crossposts': 0,\n",
       "  'num_reports': None,\n",
       "  'over_18': False,\n",
       "  'parent_whitelist_status': 'all_ads',\n",
       "  'permalink': '/r/funny/comments/7yb1ii/giggity/',\n",
       "  'pinned': False,\n",
       "  'post_hint': 'rich:video',\n",
       "  'preview': {'enabled': True,\n",
       "   'images': [{'id': 'SxP3oRB3WnjBMiymnLvgsauoXNJoUIShG_C2d3fDpZY',\n",
       "     'resolutions': [{'height': 71,\n",
       "       'url': 'https://i.redditmedia.com/xvRAx7lCS1Hnnyelelu4bvoJKNM51VfPKtahPoMSda4.gif?fit=crop&amp;crop=faces%2Centropy&amp;arh=2&amp;w=108&amp;fm=jpg&amp;s=2aa20cf715855bda37530c2c6d24f8d0',\n",
       "       'width': 108},\n",
       "      {'height': 143,\n",
       "       'url': 'https://i.redditmedia.com/xvRAx7lCS1Hnnyelelu4bvoJKNM51VfPKtahPoMSda4.gif?fit=crop&amp;crop=faces%2Centropy&amp;arh=2&amp;w=216&amp;fm=jpg&amp;s=561c0304853e4cd66063d249fb5e33d4',\n",
       "       'width': 216},\n",
       "      {'height': 212,\n",
       "       'url': 'https://i.redditmedia.com/xvRAx7lCS1Hnnyelelu4bvoJKNM51VfPKtahPoMSda4.gif?fit=crop&amp;crop=faces%2Centropy&amp;arh=2&amp;w=320&amp;fm=jpg&amp;s=2808b6e8953bea49fecc0a831743ae72',\n",
       "       'width': 320}],\n",
       "     'source': {'height': 306,\n",
       "      'url': 'https://i.redditmedia.com/xvRAx7lCS1Hnnyelelu4bvoJKNM51VfPKtahPoMSda4.gif?fm=jpg&amp;s=4d2a27e9252b456128aabce0e28318b5',\n",
       "      'width': 460},\n",
       "     'variants': {'gif': {'resolutions': [{'height': 71,\n",
       "         'url': 'https://g.redditmedia.com/xvRAx7lCS1Hnnyelelu4bvoJKNM51VfPKtahPoMSda4.gif?fit=crop&amp;crop=faces%2Centropy&amp;arh=2&amp;w=108&amp;s=6895db6c5a311d091d482328a0f0ddbb',\n",
       "         'width': 108},\n",
       "        {'height': 143,\n",
       "         'url': 'https://g.redditmedia.com/xvRAx7lCS1Hnnyelelu4bvoJKNM51VfPKtahPoMSda4.gif?fit=crop&amp;crop=faces%2Centropy&amp;arh=2&amp;w=216&amp;s=b97018d9a858b34868454dd0f70005fc',\n",
       "         'width': 216},\n",
       "        {'height': 212,\n",
       "         'url': 'https://g.redditmedia.com/xvRAx7lCS1Hnnyelelu4bvoJKNM51VfPKtahPoMSda4.gif?fit=crop&amp;crop=faces%2Centropy&amp;arh=2&amp;w=320&amp;s=5ff179d44e39f5421a8c77acfb403add',\n",
       "         'width': 320}],\n",
       "       'source': {'height': 306,\n",
       "        'url': 'https://g.redditmedia.com/xvRAx7lCS1Hnnyelelu4bvoJKNM51VfPKtahPoMSda4.gif?s=19b3e42d1612d6b1dd1daffc277fa9c8',\n",
       "        'width': 460}},\n",
       "      'mp4': {'resolutions': [{'height': 71,\n",
       "         'url': 'https://g.redditmedia.com/xvRAx7lCS1Hnnyelelu4bvoJKNM51VfPKtahPoMSda4.gif?fit=crop&amp;crop=faces%2Centropy&amp;arh=2&amp;w=108&amp;fm=mp4&amp;mp4-fragmented=false&amp;s=96e413ae45f194499476f6e580cb877d',\n",
       "         'width': 108},\n",
       "        {'height': 143,\n",
       "         'url': 'https://g.redditmedia.com/xvRAx7lCS1Hnnyelelu4bvoJKNM51VfPKtahPoMSda4.gif?fit=crop&amp;crop=faces%2Centropy&amp;arh=2&amp;w=216&amp;fm=mp4&amp;mp4-fragmented=false&amp;s=06ec71473cc3afddb7da90ae884312ea',\n",
       "         'width': 216},\n",
       "        {'height': 212,\n",
       "         'url': 'https://g.redditmedia.com/xvRAx7lCS1Hnnyelelu4bvoJKNM51VfPKtahPoMSda4.gif?fit=crop&amp;crop=faces%2Centropy&amp;arh=2&amp;w=320&amp;fm=mp4&amp;mp4-fragmented=false&amp;s=ff75a99ca26e7180d1e5ce77d6891388',\n",
       "         'width': 320}],\n",
       "       'source': {'height': 306,\n",
       "        'url': 'https://g.redditmedia.com/xvRAx7lCS1Hnnyelelu4bvoJKNM51VfPKtahPoMSda4.gif?fm=mp4&amp;mp4-fragmented=false&amp;s=43ead341ca32e3f8d30243be7b6320a5',\n",
       "        'width': 460}}}}],\n",
       "   'reddit_video_preview': {'dash_url': 'https://v.redd.it/4pw0a3dyhvg01/DASHPlaylist.mpd',\n",
       "    'duration': 14,\n",
       "    'fallback_url': 'https://v.redd.it/4pw0a3dyhvg01/DASH_600_K',\n",
       "    'height': 240,\n",
       "    'hls_url': 'https://v.redd.it/4pw0a3dyhvg01/HLSPlaylist.m3u8',\n",
       "    'is_gif': True,\n",
       "    'scrubber_media_url': 'https://v.redd.it/4pw0a3dyhvg01/DASH_600_K',\n",
       "    'transcoding_status': 'completed',\n",
       "    'width': 360}},\n",
       "  'quarantine': False,\n",
       "  'removal_reason': None,\n",
       "  'report_reasons': None,\n",
       "  'saved': False,\n",
       "  'score': 2278,\n",
       "  'secure_media': {'oembed': {'description': 'Watch Boom-headshot GIF on Gfycat. Discover more GIFS online at Gfycat.',\n",
       "    'height': 306,\n",
       "    'html': '&lt;iframe class=\"embedly-embed\" src=\"https://cdn.embedly.com/widgets/media.html?src=https%3A%2F%2Fgfycat.com%2Fifr%2FTanSolidIndusriverdolphin&amp;url=https%3A%2F%2Fgfycat.com%2Ftansolidindusriverdolphin&amp;image=https%3A%2F%2Fthumbs.gfycat.com%2FTanSolidIndusriverdolphin-size_restricted.gif&amp;key=522baf40bd3911e08d854040d3dc5c07&amp;type=text%2Fhtml&amp;schema=gfycat\" width=\"460\" height=\"306\" scrolling=\"no\" frameborder=\"0\" allowfullscreen&gt;&lt;/iframe&gt;',\n",
       "    'provider_name': 'gfycat',\n",
       "    'provider_url': 'http://gfycat.com',\n",
       "    'thumbnail_height': 249,\n",
       "    'thumbnail_url': 'https://i.embed.ly/1/image?url=https%3A%2F%2Fthumbs.gfycat.com%2FTanSolidIndusriverdolphin-size_restricted.gif&amp;key=522baf40bd3911e08d854040d3dc5c07',\n",
       "    'thumbnail_width': 375,\n",
       "    'title': 'Boom-headshot - Create, Discover and Share GIFs on Gfycat',\n",
       "    'type': 'video',\n",
       "    'version': '1.0',\n",
       "    'width': 460},\n",
       "   'type': 'gfycat.com'},\n",
       "  'secure_media_embed': {'content': '&lt;iframe class=\"embedly-embed\" src=\"https://cdn.embedly.com/widgets/media.html?src=https%3A%2F%2Fgfycat.com%2Fifr%2FTanSolidIndusriverdolphin&amp;url=https%3A%2F%2Fgfycat.com%2Ftansolidindusriverdolphin&amp;image=https%3A%2F%2Fthumbs.gfycat.com%2FTanSolidIndusriverdolphin-size_restricted.gif&amp;key=522baf40bd3911e08d854040d3dc5c07&amp;type=text%2Fhtml&amp;schema=gfycat\" width=\"460\" height=\"306\" scrolling=\"no\" frameborder=\"0\" allowfullscreen&gt;&lt;/iframe&gt;',\n",
       "   'height': 306,\n",
       "   'media_domain_url': 'https://www.redditmedia.com/mediaembed/7yb1ii',\n",
       "   'scrolling': False,\n",
       "   'width': 460},\n",
       "  'selftext': '',\n",
       "  'selftext_html': None,\n",
       "  'spoiler': False,\n",
       "  'stickied': False,\n",
       "  'subreddit': 'funny',\n",
       "  'subreddit_id': 't5_2qh33',\n",
       "  'subreddit_name_prefixed': 'r/funny',\n",
       "  'subreddit_type': 'public',\n",
       "  'suggested_sort': None,\n",
       "  'thumbnail': 'https://b.thumbs.redditmedia.com/OZLXgO-m83XTpTrRNMO-iIYenXloHhBzH5T0ZIxoSmk.jpg',\n",
       "  'thumbnail_height': 93,\n",
       "  'thumbnail_width': 140,\n",
       "  'title': 'Giggity',\n",
       "  'ups': 2278,\n",
       "  'url': 'https://gfycat.com/tansolidindusriverdolphin',\n",
       "  'user_reports': [],\n",
       "  'view_count': None,\n",
       "  'visited': False,\n",
       "  'whitelist_status': 'all_ads'},\n",
       " 'kind': 't3'}"
      ]
     },
     "execution_count": 194,
     "metadata": {},
     "output_type": "execute_result"
    }
   ],
   "source": [
    "reddit_response = requests.get(\n",
    "    'http://api.reddit.com/r/funny', \n",
    "    headers={'User-Agent': 'Mozilla/5 Data Science Intro'})\n",
    "reddit_data = json.loads(reddit_response.text)\n",
    "\n",
    "reddit_page2 =  json.loads(requests.get(\n",
    "    'http://api.reddit.com/r/funny', \n",
    "    params={\"after\": reddit_data[\"data\"][\"after\"]},\n",
    "    headers={'User-Agent': 'Mozilla/5.0 Data Science Workshop at inf.ku.dk'}).text)\n",
    "\n",
    "reddit_page2[\"data\"][\"children\"][0]"
   ]
  },
  {
   "cell_type": "code",
   "execution_count": 196,
   "metadata": {},
   "outputs": [
    {
     "data": {
      "text/plain": [
       "[{'lastupdated': '2018-02-16',\n",
       "  'page': 1,\n",
       "  'pages': 1,\n",
       "  'per_page': 100,\n",
       "  'total': 58},\n",
       " [{'country': {'id': 'DK', 'value': 'Denmark'},\n",
       "   'countryiso3code': 'DNK',\n",
       "   'date': '2017',\n",
       "   'decimal': 0,\n",
       "   'indicator': {'id': 'SP.POP.TOTL', 'value': 'Population, total'},\n",
       "   'obs_status': '',\n",
       "   'unit': '',\n",
       "   'value': None},\n",
       "  {'country': {'id': 'DK', 'value': 'Denmark'},\n",
       "   'countryiso3code': 'DNK',\n",
       "   'date': '2016',\n",
       "   'decimal': 0,\n",
       "   'indicator': {'id': 'SP.POP.TOTL', 'value': 'Population, total'},\n",
       "   'obs_status': '',\n",
       "   'unit': '',\n",
       "   'value': 5731118},\n",
       "  {'country': {'id': 'DK', 'value': 'Denmark'},\n",
       "   'countryiso3code': 'DNK',\n",
       "   'date': '2015',\n",
       "   'decimal': 0,\n",
       "   'indicator': {'id': 'SP.POP.TOTL', 'value': 'Population, total'},\n",
       "   'obs_status': '',\n",
       "   'unit': '',\n",
       "   'value': 5683483},\n",
       "  {'country': {'id': 'DK', 'value': 'Denmark'},\n",
       "   'countryiso3code': 'DNK',\n",
       "   'date': '2014',\n",
       "   'decimal': 0,\n",
       "   'indicator': {'id': 'SP.POP.TOTL', 'value': 'Population, total'},\n",
       "   'obs_status': '',\n",
       "   'unit': '',\n",
       "   'value': 5643475},\n",
       "  {'country': {'id': 'DK', 'value': 'Denmark'},\n",
       "   'countryiso3code': 'DNK',\n",
       "   'date': '2013',\n",
       "   'decimal': 0,\n",
       "   'indicator': {'id': 'SP.POP.TOTL', 'value': 'Population, total'},\n",
       "   'obs_status': '',\n",
       "   'unit': '',\n",
       "   'value': 5614932},\n",
       "  {'country': {'id': 'DK', 'value': 'Denmark'},\n",
       "   'countryiso3code': 'DNK',\n",
       "   'date': '2012',\n",
       "   'decimal': 0,\n",
       "   'indicator': {'id': 'SP.POP.TOTL', 'value': 'Population, total'},\n",
       "   'obs_status': '',\n",
       "   'unit': '',\n",
       "   'value': 5591572},\n",
       "  {'country': {'id': 'DK', 'value': 'Denmark'},\n",
       "   'countryiso3code': 'DNK',\n",
       "   'date': '2011',\n",
       "   'decimal': 0,\n",
       "   'indicator': {'id': 'SP.POP.TOTL', 'value': 'Population, total'},\n",
       "   'obs_status': '',\n",
       "   'unit': '',\n",
       "   'value': 5570572},\n",
       "  {'country': {'id': 'DK', 'value': 'Denmark'},\n",
       "   'countryiso3code': 'DNK',\n",
       "   'date': '2010',\n",
       "   'decimal': 0,\n",
       "   'indicator': {'id': 'SP.POP.TOTL', 'value': 'Population, total'},\n",
       "   'obs_status': '',\n",
       "   'unit': '',\n",
       "   'value': 5547683},\n",
       "  {'country': {'id': 'DK', 'value': 'Denmark'},\n",
       "   'countryiso3code': 'DNK',\n",
       "   'date': '2009',\n",
       "   'decimal': 0,\n",
       "   'indicator': {'id': 'SP.POP.TOTL', 'value': 'Population, total'},\n",
       "   'obs_status': '',\n",
       "   'unit': '',\n",
       "   'value': 5523095},\n",
       "  {'country': {'id': 'DK', 'value': 'Denmark'},\n",
       "   'countryiso3code': 'DNK',\n",
       "   'date': '2008',\n",
       "   'decimal': 0,\n",
       "   'indicator': {'id': 'SP.POP.TOTL', 'value': 'Population, total'},\n",
       "   'obs_status': '',\n",
       "   'unit': '',\n",
       "   'value': 5493621},\n",
       "  {'country': {'id': 'DK', 'value': 'Denmark'},\n",
       "   'countryiso3code': 'DNK',\n",
       "   'date': '2007',\n",
       "   'decimal': 0,\n",
       "   'indicator': {'id': 'SP.POP.TOTL', 'value': 'Population, total'},\n",
       "   'obs_status': '',\n",
       "   'unit': '',\n",
       "   'value': 5461438},\n",
       "  {'country': {'id': 'DK', 'value': 'Denmark'},\n",
       "   'countryiso3code': 'DNK',\n",
       "   'date': '2006',\n",
       "   'decimal': 0,\n",
       "   'indicator': {'id': 'SP.POP.TOTL', 'value': 'Population, total'},\n",
       "   'obs_status': '',\n",
       "   'unit': '',\n",
       "   'value': 5437272},\n",
       "  {'country': {'id': 'DK', 'value': 'Denmark'},\n",
       "   'countryiso3code': 'DNK',\n",
       "   'date': '2005',\n",
       "   'decimal': 0,\n",
       "   'indicator': {'id': 'SP.POP.TOTL', 'value': 'Population, total'},\n",
       "   'obs_status': '',\n",
       "   'unit': '',\n",
       "   'value': 5419432},\n",
       "  {'country': {'id': 'DK', 'value': 'Denmark'},\n",
       "   'countryiso3code': 'DNK',\n",
       "   'date': '2004',\n",
       "   'decimal': 0,\n",
       "   'indicator': {'id': 'SP.POP.TOTL', 'value': 'Population, total'},\n",
       "   'obs_status': '',\n",
       "   'unit': '',\n",
       "   'value': 5404523},\n",
       "  {'country': {'id': 'DK', 'value': 'Denmark'},\n",
       "   'countryiso3code': 'DNK',\n",
       "   'date': '2003',\n",
       "   'decimal': 0,\n",
       "   'indicator': {'id': 'SP.POP.TOTL', 'value': 'Population, total'},\n",
       "   'obs_status': '',\n",
       "   'unit': '',\n",
       "   'value': 5390574},\n",
       "  {'country': {'id': 'DK', 'value': 'Denmark'},\n",
       "   'countryiso3code': 'DNK',\n",
       "   'date': '2002',\n",
       "   'decimal': 0,\n",
       "   'indicator': {'id': 'SP.POP.TOTL', 'value': 'Population, total'},\n",
       "   'obs_status': '',\n",
       "   'unit': '',\n",
       "   'value': 5375931},\n",
       "  {'country': {'id': 'DK', 'value': 'Denmark'},\n",
       "   'countryiso3code': 'DNK',\n",
       "   'date': '2001',\n",
       "   'decimal': 0,\n",
       "   'indicator': {'id': 'SP.POP.TOTL', 'value': 'Population, total'},\n",
       "   'obs_status': '',\n",
       "   'unit': '',\n",
       "   'value': 5358783},\n",
       "  {'country': {'id': 'DK', 'value': 'Denmark'},\n",
       "   'countryiso3code': 'DNK',\n",
       "   'date': '2000',\n",
       "   'decimal': 0,\n",
       "   'indicator': {'id': 'SP.POP.TOTL', 'value': 'Population, total'},\n",
       "   'obs_status': '',\n",
       "   'unit': '',\n",
       "   'value': 5339616},\n",
       "  {'country': {'id': 'DK', 'value': 'Denmark'},\n",
       "   'countryiso3code': 'DNK',\n",
       "   'date': '1999',\n",
       "   'decimal': 0,\n",
       "   'indicator': {'id': 'SP.POP.TOTL', 'value': 'Population, total'},\n",
       "   'obs_status': '',\n",
       "   'unit': '',\n",
       "   'value': 5321799},\n",
       "  {'country': {'id': 'DK', 'value': 'Denmark'},\n",
       "   'countryiso3code': 'DNK',\n",
       "   'date': '1998',\n",
       "   'decimal': 0,\n",
       "   'indicator': {'id': 'SP.POP.TOTL', 'value': 'Population, total'},\n",
       "   'obs_status': '',\n",
       "   'unit': '',\n",
       "   'value': 5304219},\n",
       "  {'country': {'id': 'DK', 'value': 'Denmark'},\n",
       "   'countryiso3code': 'DNK',\n",
       "   'date': '1997',\n",
       "   'decimal': 0,\n",
       "   'indicator': {'id': 'SP.POP.TOTL', 'value': 'Population, total'},\n",
       "   'obs_status': '',\n",
       "   'unit': '',\n",
       "   'value': 5284991},\n",
       "  {'country': {'id': 'DK', 'value': 'Denmark'},\n",
       "   'countryiso3code': 'DNK',\n",
       "   'date': '1996',\n",
       "   'decimal': 0,\n",
       "   'indicator': {'id': 'SP.POP.TOTL', 'value': 'Population, total'},\n",
       "   'obs_status': '',\n",
       "   'unit': '',\n",
       "   'value': 5263074},\n",
       "  {'country': {'id': 'DK', 'value': 'Denmark'},\n",
       "   'countryiso3code': 'DNK',\n",
       "   'date': '1995',\n",
       "   'decimal': 0,\n",
       "   'indicator': {'id': 'SP.POP.TOTL', 'value': 'Population, total'},\n",
       "   'obs_status': '',\n",
       "   'unit': '',\n",
       "   'value': 5233373},\n",
       "  {'country': {'id': 'DK', 'value': 'Denmark'},\n",
       "   'countryiso3code': 'DNK',\n",
       "   'date': '1994',\n",
       "   'decimal': 0,\n",
       "   'indicator': {'id': 'SP.POP.TOTL', 'value': 'Population, total'},\n",
       "   'obs_status': '',\n",
       "   'unit': '',\n",
       "   'value': 5206180},\n",
       "  {'country': {'id': 'DK', 'value': 'Denmark'},\n",
       "   'countryiso3code': 'DNK',\n",
       "   'date': '1993',\n",
       "   'decimal': 0,\n",
       "   'indicator': {'id': 'SP.POP.TOTL', 'value': 'Population, total'},\n",
       "   'obs_status': '',\n",
       "   'unit': '',\n",
       "   'value': 5188628},\n",
       "  {'country': {'id': 'DK', 'value': 'Denmark'},\n",
       "   'countryiso3code': 'DNK',\n",
       "   'date': '1992',\n",
       "   'decimal': 0,\n",
       "   'indicator': {'id': 'SP.POP.TOTL', 'value': 'Population, total'},\n",
       "   'obs_status': '',\n",
       "   'unit': '',\n",
       "   'value': 5171370},\n",
       "  {'country': {'id': 'DK', 'value': 'Denmark'},\n",
       "   'countryiso3code': 'DNK',\n",
       "   'date': '1991',\n",
       "   'decimal': 0,\n",
       "   'indicator': {'id': 'SP.POP.TOTL', 'value': 'Population, total'},\n",
       "   'obs_status': '',\n",
       "   'unit': '',\n",
       "   'value': 5154298},\n",
       "  {'country': {'id': 'DK', 'value': 'Denmark'},\n",
       "   'countryiso3code': 'DNK',\n",
       "   'date': '1990',\n",
       "   'decimal': 0,\n",
       "   'indicator': {'id': 'SP.POP.TOTL', 'value': 'Population, total'},\n",
       "   'obs_status': '',\n",
       "   'unit': '',\n",
       "   'value': 5140939},\n",
       "  {'country': {'id': 'DK', 'value': 'Denmark'},\n",
       "   'countryiso3code': 'DNK',\n",
       "   'date': '1989',\n",
       "   'decimal': 0,\n",
       "   'indicator': {'id': 'SP.POP.TOTL', 'value': 'Population, total'},\n",
       "   'obs_status': '',\n",
       "   'unit': '',\n",
       "   'value': 5132594},\n",
       "  {'country': {'id': 'DK', 'value': 'Denmark'},\n",
       "   'countryiso3code': 'DNK',\n",
       "   'date': '1988',\n",
       "   'decimal': 0,\n",
       "   'indicator': {'id': 'SP.POP.TOTL', 'value': 'Population, total'},\n",
       "   'obs_status': '',\n",
       "   'unit': '',\n",
       "   'value': 5129516},\n",
       "  {'country': {'id': 'DK', 'value': 'Denmark'},\n",
       "   'countryiso3code': 'DNK',\n",
       "   'date': '1987',\n",
       "   'decimal': 0,\n",
       "   'indicator': {'id': 'SP.POP.TOTL', 'value': 'Population, total'},\n",
       "   'obs_status': '',\n",
       "   'unit': '',\n",
       "   'value': 5127024},\n",
       "  {'country': {'id': 'DK', 'value': 'Denmark'},\n",
       "   'countryiso3code': 'DNK',\n",
       "   'date': '1986',\n",
       "   'decimal': 0,\n",
       "   'indicator': {'id': 'SP.POP.TOTL', 'value': 'Population, total'},\n",
       "   'obs_status': '',\n",
       "   'unit': '',\n",
       "   'value': 5120534},\n",
       "  {'country': {'id': 'DK', 'value': 'Denmark'},\n",
       "   'countryiso3code': 'DNK',\n",
       "   'date': '1985',\n",
       "   'decimal': 0,\n",
       "   'indicator': {'id': 'SP.POP.TOTL', 'value': 'Population, total'},\n",
       "   'obs_status': '',\n",
       "   'unit': '',\n",
       "   'value': 5113691},\n",
       "  {'country': {'id': 'DK', 'value': 'Denmark'},\n",
       "   'countryiso3code': 'DNK',\n",
       "   'date': '1984',\n",
       "   'decimal': 0,\n",
       "   'indicator': {'id': 'SP.POP.TOTL', 'value': 'Population, total'},\n",
       "   'obs_status': '',\n",
       "   'unit': '',\n",
       "   'value': 5111619},\n",
       "  {'country': {'id': 'DK', 'value': 'Denmark'},\n",
       "   'countryiso3code': 'DNK',\n",
       "   'date': '1983',\n",
       "   'decimal': 0,\n",
       "   'indicator': {'id': 'SP.POP.TOTL', 'value': 'Population, total'},\n",
       "   'obs_status': '',\n",
       "   'unit': '',\n",
       "   'value': 5114297},\n",
       "  {'country': {'id': 'DK', 'value': 'Denmark'},\n",
       "   'countryiso3code': 'DNK',\n",
       "   'date': '1982',\n",
       "   'decimal': 0,\n",
       "   'indicator': {'id': 'SP.POP.TOTL', 'value': 'Population, total'},\n",
       "   'obs_status': '',\n",
       "   'unit': '',\n",
       "   'value': 5117810},\n",
       "  {'country': {'id': 'DK', 'value': 'Denmark'},\n",
       "   'countryiso3code': 'DNK',\n",
       "   'date': '1981',\n",
       "   'decimal': 0,\n",
       "   'indicator': {'id': 'SP.POP.TOTL', 'value': 'Population, total'},\n",
       "   'obs_status': '',\n",
       "   'unit': '',\n",
       "   'value': 5121572},\n",
       "  {'country': {'id': 'DK', 'value': 'Denmark'},\n",
       "   'countryiso3code': 'DNK',\n",
       "   'date': '1980',\n",
       "   'decimal': 0,\n",
       "   'indicator': {'id': 'SP.POP.TOTL', 'value': 'Population, total'},\n",
       "   'obs_status': '',\n",
       "   'unit': '',\n",
       "   'value': 5123027},\n",
       "  {'country': {'id': 'DK', 'value': 'Denmark'},\n",
       "   'countryiso3code': 'DNK',\n",
       "   'date': '1979',\n",
       "   'decimal': 0,\n",
       "   'indicator': {'id': 'SP.POP.TOTL', 'value': 'Population, total'},\n",
       "   'obs_status': '',\n",
       "   'unit': '',\n",
       "   'value': 5116801},\n",
       "  {'country': {'id': 'DK', 'value': 'Denmark'},\n",
       "   'countryiso3code': 'DNK',\n",
       "   'date': '1978',\n",
       "   'decimal': 0,\n",
       "   'indicator': {'id': 'SP.POP.TOTL', 'value': 'Population, total'},\n",
       "   'obs_status': '',\n",
       "   'unit': '',\n",
       "   'value': 5104248},\n",
       "  {'country': {'id': 'DK', 'value': 'Denmark'},\n",
       "   'countryiso3code': 'DNK',\n",
       "   'date': '1977',\n",
       "   'decimal': 0,\n",
       "   'indicator': {'id': 'SP.POP.TOTL', 'value': 'Population, total'},\n",
       "   'obs_status': '',\n",
       "   'unit': '',\n",
       "   'value': 5088419},\n",
       "  {'country': {'id': 'DK', 'value': 'Denmark'},\n",
       "   'countryiso3code': 'DNK',\n",
       "   'date': '1976',\n",
       "   'decimal': 0,\n",
       "   'indicator': {'id': 'SP.POP.TOTL', 'value': 'Population, total'},\n",
       "   'obs_status': '',\n",
       "   'unit': '',\n",
       "   'value': 5072596},\n",
       "  {'country': {'id': 'DK', 'value': 'Denmark'},\n",
       "   'countryiso3code': 'DNK',\n",
       "   'date': '1975',\n",
       "   'decimal': 0,\n",
       "   'indicator': {'id': 'SP.POP.TOTL', 'value': 'Population, total'},\n",
       "   'obs_status': '',\n",
       "   'unit': '',\n",
       "   'value': 5059862},\n",
       "  {'country': {'id': 'DK', 'value': 'Denmark'},\n",
       "   'countryiso3code': 'DNK',\n",
       "   'date': '1974',\n",
       "   'decimal': 0,\n",
       "   'indicator': {'id': 'SP.POP.TOTL', 'value': 'Population, total'},\n",
       "   'obs_status': '',\n",
       "   'unit': '',\n",
       "   'value': 5045297},\n",
       "  {'country': {'id': 'DK', 'value': 'Denmark'},\n",
       "   'countryiso3code': 'DNK',\n",
       "   'date': '1973',\n",
       "   'decimal': 0,\n",
       "   'indicator': {'id': 'SP.POP.TOTL', 'value': 'Population, total'},\n",
       "   'obs_status': '',\n",
       "   'unit': '',\n",
       "   'value': 5021861},\n",
       "  {'country': {'id': 'DK', 'value': 'Denmark'},\n",
       "   'countryiso3code': 'DNK',\n",
       "   'date': '1972',\n",
       "   'decimal': 0,\n",
       "   'indicator': {'id': 'SP.POP.TOTL', 'value': 'Population, total'},\n",
       "   'obs_status': '',\n",
       "   'unit': '',\n",
       "   'value': 4991596},\n",
       "  {'country': {'id': 'DK', 'value': 'Denmark'},\n",
       "   'countryiso3code': 'DNK',\n",
       "   'date': '1971',\n",
       "   'decimal': 0,\n",
       "   'indicator': {'id': 'SP.POP.TOTL', 'value': 'Population, total'},\n",
       "   'obs_status': '',\n",
       "   'unit': '',\n",
       "   'value': 4963126},\n",
       "  {'country': {'id': 'DK', 'value': 'Denmark'},\n",
       "   'countryiso3code': 'DNK',\n",
       "   'date': '1970',\n",
       "   'decimal': 0,\n",
       "   'indicator': {'id': 'SP.POP.TOTL', 'value': 'Population, total'},\n",
       "   'obs_status': '',\n",
       "   'unit': '',\n",
       "   'value': 4928757},\n",
       "  {'country': {'id': 'DK', 'value': 'Denmark'},\n",
       "   'countryiso3code': 'DNK',\n",
       "   'date': '1969',\n",
       "   'decimal': 0,\n",
       "   'indicator': {'id': 'SP.POP.TOTL', 'value': 'Population, total'},\n",
       "   'obs_status': '',\n",
       "   'unit': '',\n",
       "   'value': 4891860},\n",
       "  {'country': {'id': 'DK', 'value': 'Denmark'},\n",
       "   'countryiso3code': 'DNK',\n",
       "   'date': '1968',\n",
       "   'decimal': 0,\n",
       "   'indicator': {'id': 'SP.POP.TOTL', 'value': 'Population, total'},\n",
       "   'obs_status': '',\n",
       "   'unit': '',\n",
       "   'value': 4864883},\n",
       "  {'country': {'id': 'DK', 'value': 'Denmark'},\n",
       "   'countryiso3code': 'DNK',\n",
       "   'date': '1967',\n",
       "   'decimal': 0,\n",
       "   'indicator': {'id': 'SP.POP.TOTL', 'value': 'Population, total'},\n",
       "   'obs_status': '',\n",
       "   'unit': '',\n",
       "   'value': 4835354},\n",
       "  {'country': {'id': 'DK', 'value': 'Denmark'},\n",
       "   'countryiso3code': 'DNK',\n",
       "   'date': '1966',\n",
       "   'decimal': 0,\n",
       "   'indicator': {'id': 'SP.POP.TOTL', 'value': 'Population, total'},\n",
       "   'obs_status': '',\n",
       "   'unit': '',\n",
       "   'value': 4797381},\n",
       "  {'country': {'id': 'DK', 'value': 'Denmark'},\n",
       "   'countryiso3code': 'DNK',\n",
       "   'date': '1965',\n",
       "   'decimal': 0,\n",
       "   'indicator': {'id': 'SP.POP.TOTL', 'value': 'Population, total'},\n",
       "   'obs_status': '',\n",
       "   'unit': '',\n",
       "   'value': 4759012},\n",
       "  {'country': {'id': 'DK', 'value': 'Denmark'},\n",
       "   'countryiso3code': 'DNK',\n",
       "   'date': '1964',\n",
       "   'decimal': 0,\n",
       "   'indicator': {'id': 'SP.POP.TOTL', 'value': 'Population, total'},\n",
       "   'obs_status': '',\n",
       "   'unit': '',\n",
       "   'value': 4722072},\n",
       "  {'country': {'id': 'DK', 'value': 'Denmark'},\n",
       "   'countryiso3code': 'DNK',\n",
       "   'date': '1963',\n",
       "   'decimal': 0,\n",
       "   'indicator': {'id': 'SP.POP.TOTL', 'value': 'Population, total'},\n",
       "   'obs_status': '',\n",
       "   'unit': '',\n",
       "   'value': 4684483},\n",
       "  {'country': {'id': 'DK', 'value': 'Denmark'},\n",
       "   'countryiso3code': 'DNK',\n",
       "   'date': '1962',\n",
       "   'decimal': 0,\n",
       "   'indicator': {'id': 'SP.POP.TOTL', 'value': 'Population, total'},\n",
       "   'obs_status': '',\n",
       "   'unit': '',\n",
       "   'value': 4647727},\n",
       "  {'country': {'id': 'DK', 'value': 'Denmark'},\n",
       "   'countryiso3code': 'DNK',\n",
       "   'date': '1961',\n",
       "   'decimal': 0,\n",
       "   'indicator': {'id': 'SP.POP.TOTL', 'value': 'Population, total'},\n",
       "   'obs_status': '',\n",
       "   'unit': '',\n",
       "   'value': 4611687},\n",
       "  {'country': {'id': 'DK', 'value': 'Denmark'},\n",
       "   'countryiso3code': 'DNK',\n",
       "   'date': '1960',\n",
       "   'decimal': 0,\n",
       "   'indicator': {'id': 'SP.POP.TOTL', 'value': 'Population, total'},\n",
       "   'obs_status': '',\n",
       "   'unit': '',\n",
       "   'value': 4579603}]]"
      ]
     },
     "execution_count": 196,
     "metadata": {},
     "output_type": "execute_result"
    }
   ],
   "source": [
    "result = json.loads(requests.get(\n",
    "    'http://api.worldbank.org/v2/countries/DNK/indicators/SP.POP.TOTL', \n",
    "    params = {\n",
    "        \"per_page\": 100,\n",
    "        \"format\": \"json\"\n",
    "    }).text)\n",
    "result"
   ]
  },
  {
   "cell_type": "markdown",
   "metadata": {},
   "source": [
    "## Wikipedia"
   ]
  },
  {
   "cell_type": "markdown",
   "metadata": {},
   "source": [
    "### links"
   ]
  },
  {
   "cell_type": "code",
   "execution_count": 36,
   "metadata": {},
   "outputs": [
    {
     "data": {
      "text/plain": [
       "{'continue': {'continue': '||', 'plcontinue': '13692155|0|Absolute_idealism'},\n",
       " 'query': {'pages': {'13692155': {'links': [{'ns': 0,\n",
       "      'title': '19th-century philosophy'},\n",
       "     {'ns': 0, 'title': 'A.C. Grayling'},\n",
       "     {'ns': 0, 'title': 'A priori knowledge'},\n",
       "     {'ns': 0, 'title': 'Abhidharma'},\n",
       "     {'ns': 0, 'title': 'Absolute (philosophy)'}],\n",
       "    'ns': 0,\n",
       "    'pageid': 13692155,\n",
       "    'title': 'Philosophy'}}}}"
      ]
     },
     "execution_count": 36,
     "metadata": {},
     "output_type": "execute_result"
    }
   ],
   "source": [
    "title = \"Philosophy\"\n",
    "result = json.loads(requests.get(\n",
    "    'https://en.wikipedia.org/w/api.php', \n",
    "    params = {\n",
    "        \"action\": \"query\",\n",
    "        \"titles\": title,\n",
    "        \"prop\": \"links\",\n",
    "        \"format\": \"json\",\n",
    "        \"plnamespace\": [0],\n",
    "        \"pllimit\": 5\n",
    "    }).text)\n",
    "result"
   ]
  },
  {
   "cell_type": "code",
   "execution_count": 38,
   "metadata": {},
   "outputs": [
    {
     "data": {
      "text/plain": [
       "{'13692155': {'links': [{'ns': 0, 'title': '19th-century philosophy'},\n",
       "   {'ns': 0, 'title': 'A.C. Grayling'},\n",
       "   {'ns': 0, 'title': 'A priori knowledge'},\n",
       "   {'ns': 0, 'title': 'Abhidharma'},\n",
       "   {'ns': 0, 'title': 'Absolute (philosophy)'}],\n",
       "  'ns': 0,\n",
       "  'pageid': 13692155,\n",
       "  'title': 'Philosophy'}}"
      ]
     },
     "execution_count": 38,
     "metadata": {},
     "output_type": "execute_result"
    }
   ],
   "source": [
    "result[\"query\"][\"pages\"]"
   ]
  },
  {
   "cell_type": "code",
   "execution_count": 37,
   "metadata": {},
   "outputs": [
    {
     "data": {
      "text/plain": [
       "{'links': [{'ns': 0, 'title': '19th-century philosophy'},\n",
       "  {'ns': 0, 'title': 'A.C. Grayling'},\n",
       "  {'ns': 0, 'title': 'A priori knowledge'},\n",
       "  {'ns': 0, 'title': 'Abhidharma'},\n",
       "  {'ns': 0, 'title': 'Absolute (philosophy)'}],\n",
       " 'ns': 0,\n",
       " 'pageid': 13692155,\n",
       " 'title': 'Philosophy'}"
      ]
     },
     "execution_count": 37,
     "metadata": {},
     "output_type": "execute_result"
    }
   ],
   "source": [
    "list(result[\"query\"][\"pages\"].values())[0]"
   ]
  },
  {
   "cell_type": "code",
   "execution_count": 39,
   "metadata": {},
   "outputs": [
    {
     "data": {
      "text/plain": [
       "[{'ns': 0, 'title': '19th-century philosophy'},\n",
       " {'ns': 0, 'title': 'A.C. Grayling'},\n",
       " {'ns': 0, 'title': 'A priori knowledge'},\n",
       " {'ns': 0, 'title': 'Abhidharma'},\n",
       " {'ns': 0, 'title': 'Absolute (philosophy)'}]"
      ]
     },
     "execution_count": 39,
     "metadata": {},
     "output_type": "execute_result"
    }
   ],
   "source": [
    "links = list(result[\"query\"][\"pages\"].values())[0][\"links\"]\n",
    "links"
   ]
  },
  {
   "cell_type": "code",
   "execution_count": 40,
   "metadata": {},
   "outputs": [
    {
     "data": {
      "text/plain": [
       "['19th-century philosophy',\n",
       " 'A.C. Grayling',\n",
       " 'A priori knowledge',\n",
       " 'Abhidharma',\n",
       " 'Absolute (philosophy)']"
      ]
     },
     "execution_count": 40,
     "metadata": {},
     "output_type": "execute_result"
    }
   ],
   "source": [
    "[link[\"title\"] for link in links]"
   ]
  },
  {
   "cell_type": "markdown",
   "metadata": {},
   "source": [
    "### links here"
   ]
  },
  {
   "cell_type": "code",
   "execution_count": 75,
   "metadata": {},
   "outputs": [
    {
     "name": "stdout",
     "output_type": "stream",
     "text": [
      "['Blues', 'List of dance style categories', 'Dance improvisation', 'List of lindy hop moves', 'Lindy exchange', 'Blues (disambiguation)', 'Close embrace', 'List of North American folk music traditions', 'Lindy hop today', 'Talang 2007', 'The Spirit Moves', 'List of street and vernacular dances', 'Butler May', 'Disappearance of Tiffany Daniels']\n"
     ]
    }
   ],
   "source": [
    "title = \"Blues dance\"\n",
    "result = json.loads(requests.get(\n",
    "    'https://en.wikipedia.org/w/api.php', \n",
    "    params = {\n",
    "        \"action\": \"query\",\n",
    "        \"titles\": title,\n",
    "        \"prop\": \"linkshere\",\n",
    "        \"format\": \"json\",\n",
    "        \"lhlimit\": 50,\n",
    "        \"lhnamespace\": 0,\n",
    "        \"lhshow\": \"!redirect\"\n",
    "    }).text)\n",
    "links = list(result[\"query\"][\"pages\"].values())[0][\"linkshere\"]\n",
    "print([link[\"title\"] for link in links])"
   ]
  },
  {
   "cell_type": "markdown",
   "metadata": {},
   "source": [
    "### content"
   ]
  },
  {
   "cell_type": "code",
   "execution_count": 76,
   "metadata": {},
   "outputs": [
    {
     "data": {
      "text/plain": [
       "\"<p><b>Contact improvisation</b> is a form of improvised dancing that has been developing internationally since 1972. Contact improvisation involves the exploration from one's body to the next by using the fundamentals of sharing weight, touch, being kinetically aware and finding a point of contact between you and your partner(s). American dancer and choreographer Steve Paxton had first conceived and presented this form of movement and has impacted how dancers and people view movement by a large factor. Paxton utilized his past training such as Aikido, a martial art form, to explore and push bo\""
      ]
     },
     "execution_count": 76,
     "metadata": {},
     "output_type": "execute_result"
    }
   ],
   "source": [
    "title = \"Contact improvisation\"\n",
    "result = json.loads(requests.get(\n",
    "    'https://en.wikipedia.org/w/api.php', \n",
    "    params = {\n",
    "        \"action\": \"query\",\n",
    "        \"titles\": title,\n",
    "        \"prop\": \"extracts\",\n",
    "        \"format\": \"json\",\n",
    "    }).text)\n",
    "list(result[\"query\"][\"pages\"].values())[0][\"extract\"][0:600]"
   ]
  },
  {
   "cell_type": "markdown",
   "metadata": {},
   "source": [
    "## Open Graph Protocol (youtube, dr.dk, ...)"
   ]
  },
  {
   "cell_type": "code",
   "execution_count": 169,
   "metadata": {},
   "outputs": [
    {
     "name": "stdout",
     "output_type": "stream",
     "text": [
      "Requirement already satisfied: feedparser in /home/rasmuserik/anaconda3/lib/python3.6/site-packages\n",
      "Requirement already satisfied: python-opengraph in /home/rasmuserik/anaconda3/lib/python3.6/site-packages\n",
      "Requirement already satisfied: requests>=2.7 in /home/rasmuserik/anaconda3/lib/python3.6/site-packages (from python-opengraph)\n",
      "Requirement already satisfied: beautifulsoup4>=4.3 in /home/rasmuserik/anaconda3/lib/python3.6/site-packages (from python-opengraph)\n",
      "Requirement already satisfied: chardet<3.1.0,>=3.0.2 in /home/rasmuserik/anaconda3/lib/python3.6/site-packages (from requests>=2.7->python-opengraph)\n",
      "Requirement already satisfied: idna<2.7,>=2.5 in /home/rasmuserik/anaconda3/lib/python3.6/site-packages (from requests>=2.7->python-opengraph)\n",
      "Requirement already satisfied: urllib3<1.23,>=1.21.1 in /home/rasmuserik/anaconda3/lib/python3.6/site-packages (from requests>=2.7->python-opengraph)\n",
      "Requirement already satisfied: certifi>=2017.4.17 in /home/rasmuserik/anaconda3/lib/python3.6/site-packages (from requests>=2.7->python-opengraph)\n"
     ]
    }
   ],
   "source": [
    "!pip install python-opengraph\n",
    "from opengraph import OpenGraph"
   ]
  },
  {
   "cell_type": "code",
   "execution_count": 175,
   "metadata": {},
   "outputs": [
    {
     "name": "stdout",
     "output_type": "stream",
     "text": [
      "{'type': 'article', 'title': 'Aktivist kæmper for dine digitale rettigheder mod tech-giganter', 'site_name': 'DR', 'description': 'En østrigsk aktivist har startet en ny organisation, der vil sagsøge tech-virksomheder, som krænker dine digitale rettigheder.', 'url': 'https://www.dr.dk/nyheder/viden/teknologi/aktivist-kaemper-dine-digitale-rettigheder-mod-tech-giganter', 'image': 'http://asset.dr.dk/ImageScaler/?file=%2Fimages%2Fother%2F2018%2F02%2F08%2Fscanpix-20171003-150322-l.jpg&server=www.dr.dk'}\n"
     ]
    },
    {
     "name": "stderr",
     "output_type": "stream",
     "text": [
      "/home/rasmuserik/anaconda3/lib/python3.6/site-packages/bs4/__init__.py:181: UserWarning: No parser was explicitly specified, so I'm using the best available HTML parser for this system (\"lxml\"). This usually isn't a problem, but if you run this code on another system, or in a different virtual environment, it may use a different parser and behave differently.\n",
      "\n",
      "The code that caused this warning is on line 193 of the file /home/rasmuserik/anaconda3/lib/python3.6/runpy.py. To get rid of this warning, change code that looks like this:\n",
      "\n",
      " BeautifulSoup(YOUR_MARKUP})\n",
      "\n",
      "to this:\n",
      "\n",
      " BeautifulSoup(YOUR_MARKUP, \"lxml\")\n",
      "\n",
      "  markup_type=markup_type))\n"
     ]
    }
   ],
   "source": [
    "dr = OpenGraph(\"https://www.dr.dk/nyheder/viden/teknologi/aktivist-kaemper-dine-digitale-rettigheder-mod-tech-giganter\")\n",
    "print(dr)"
   ]
  },
  {
   "cell_type": "code",
   "execution_count": 180,
   "metadata": {},
   "outputs": [
    {
     "name": "stdout",
     "output_type": "stream",
     "text": [
      "The best stats you've ever seen | Hans Rosling\n",
      "http://www.ted.com With the drama and urgency of a sportscaster, statistics guru Hans Rosling uses an amazing new presentation tool, Gapminder, to present da...\n",
      "{'type': 'video.other', 'title': \"The best stats you've ever seen | Hans Rosling\", 'site_name': 'YouTube', 'description': 'http://www.ted.com With the drama and urgency of a sportscaster, statistics guru Hans Rosling uses an amazing new presentation tool, Gapminder, to present da...', 'url': 'https://www.youtube.com/watch?v=hVimVzgtD6w', 'image': 'https://i.ytimg.com/vi/hVimVzgtD6w/hqdefault.jpg', 'video:url': 'http://www.youtube.com/v/hVimVzgtD6w?version=3&autohide=1', 'video:secure_url': 'https://www.youtube.com/v/hVimVzgtD6w?version=3&autohide=1', 'video:type': 'application/x-shockwave-flash', 'video:width': '480', 'video:height': '360', 'video:tag': 'child health'}\n"
     ]
    },
    {
     "name": "stderr",
     "output_type": "stream",
     "text": [
      "/home/rasmuserik/anaconda3/lib/python3.6/site-packages/bs4/__init__.py:181: UserWarning: No parser was explicitly specified, so I'm using the best available HTML parser for this system (\"lxml\"). This usually isn't a problem, but if you run this code on another system, or in a different virtual environment, it may use a different parser and behave differently.\n",
      "\n",
      "The code that caused this warning is on line 193 of the file /home/rasmuserik/anaconda3/lib/python3.6/runpy.py. To get rid of this warning, change code that looks like this:\n",
      "\n",
      " BeautifulSoup(YOUR_MARKUP})\n",
      "\n",
      "to this:\n",
      "\n",
      " BeautifulSoup(YOUR_MARKUP, \"lxml\")\n",
      "\n",
      "  markup_type=markup_type))\n"
     ]
    }
   ],
   "source": [
    "youtube = OpenGraph(\"https://www.youtube.com/watch?v=hVimVzgtD6w\")\n",
    "print(youtube.title)\n",
    "print(youtube.description)\n",
    "print(youtube)"
   ]
  },
  {
   "cell_type": "markdown",
   "metadata": {},
   "source": [
    "## RSS"
   ]
  },
  {
   "cell_type": "code",
   "execution_count": 171,
   "metadata": {},
   "outputs": [
    {
     "name": "stdout",
     "output_type": "stream",
     "text": [
      "Requirement already satisfied: feedparser in /home/rasmuserik/anaconda3/lib/python3.6/site-packages\r\n"
     ]
    }
   ],
   "source": [
    "!pip install feedparser\n",
    "import feedparser"
   ]
  },
  {
   "cell_type": "code",
   "execution_count": 184,
   "metadata": {},
   "outputs": [
    {
     "data": {
      "text/plain": [
       "{'bozo': 0,\n",
       " 'encoding': 'utf-8',\n",
       " 'entries': [{'dr_channeldisplayname': 'Kroppen',\n",
       "   'dr_channelname': 'Kroppen',\n",
       "   'dr_imageuri620x349': 'http://www.dr.dk/images/other/2018/02/16/bakterier.jpg',\n",
       "   'dr_postingguid': '3cf7503d-2c91-48d9-a63f-9870ad21d1d0',\n",
       "   'dr_xmlimagearticle': '',\n",
       "   'guidislink': False,\n",
       "   'id': '3cf7503d-2c91-48d9-a63f-9870ad21d1d0',\n",
       "   'link': 'http://www.dr.dk/nyheder/viden/kroppen/forskere-ultraviolette-lamper-kan-draebe-influenza-i-luften',\n",
       "   'links': [{'href': 'http://www.dr.dk/nyheder/viden/kroppen/forskere-ultraviolette-lamper-kan-draebe-influenza-i-luften',\n",
       "     'rel': 'alternate',\n",
       "     'type': 'text/html'}],\n",
       "   'published': 'Sun, 18 Feb 2018 18:01:00 +0100',\n",
       "   'published_parsed': time.struct_time(tm_year=2018, tm_mon=2, tm_mday=18, tm_hour=17, tm_min=1, tm_sec=0, tm_wday=6, tm_yday=49, tm_isdst=0),\n",
       "   'summary': 'Sundhedsfremmende lamper kan måske være fremtidens middel mod influenza-epidemier, viser ny forskning',\n",
       "   'summary_detail': {'base': '',\n",
       "    'language': None,\n",
       "    'type': 'text/html',\n",
       "    'value': 'Sundhedsfremmende lamper kan måske være fremtidens middel mod influenza-epidemier, viser ny forskning'},\n",
       "   'title': 'Forskere: Ultraviolette lamper kan dræbe influenza i luften',\n",
       "   'title_detail': {'base': '',\n",
       "    'language': None,\n",
       "    'type': 'text/plain',\n",
       "    'value': 'Forskere: Ultraviolette lamper kan dræbe influenza i luften'}},\n",
       "  {'dr_channeldisplayname': 'Udland',\n",
       "   'dr_channelname': 'Udland',\n",
       "   'dr_postingguid': 'adbc66f3-9d86-4942-af43-066897bc3f6b',\n",
       "   'dr_xmlimagearticle': '',\n",
       "   'guidislink': False,\n",
       "   'id': 'adbc66f3-9d86-4942-af43-066897bc3f6b',\n",
       "   'link': 'http://www.dr.dk/nyheder/udland/lavine-rammer-schweiziske-alper-ti-mennesker-er-savnede',\n",
       "   'links': [{'href': 'http://www.dr.dk/nyheder/udland/lavine-rammer-schweiziske-alper-ti-mennesker-er-savnede',\n",
       "     'rel': 'alternate',\n",
       "     'type': 'text/html'}],\n",
       "   'published': 'Sun, 18 Feb 2018 17:46:00 +0100',\n",
       "   'published_parsed': time.struct_time(tm_year=2018, tm_mon=2, tm_mday=18, tm_hour=16, tm_min=46, tm_sec=0, tm_wday=6, tm_yday=49, tm_isdst=0),\n",
       "   'summary': 'Det er endnu uklart, hvor store skader og hvor mange ofre en lavine, der ramte søndag, kan have forårsaget.',\n",
       "   'summary_detail': {'base': '',\n",
       "    'language': None,\n",
       "    'type': 'text/html',\n",
       "    'value': 'Det er endnu uklart, hvor store skader og hvor mange ofre en lavine, der ramte søndag, kan have forårsaget.'},\n",
       "   'title': 'Lavine rammer schweiziske alper: Ti mennesker er savnede',\n",
       "   'title_detail': {'base': '',\n",
       "    'language': None,\n",
       "    'type': 'text/plain',\n",
       "    'value': 'Lavine rammer schweiziske alper: Ti mennesker er savnede'}},\n",
       "  {'dr_channeldisplayname': 'Indland',\n",
       "   'dr_channelname': 'Indland',\n",
       "   'dr_imageuri620x349': 'http://www.dr.dk/images/other/2018/02/18/scanpix-20171012-105434-2_0.jpg',\n",
       "   'dr_postingguid': '2f1f3b01-7c9d-43f1-af6c-7cc5914d08af',\n",
       "   'dr_xmlimagearticle': '',\n",
       "   'guidislink': False,\n",
       "   'id': '2f1f3b01-7c9d-43f1-af6c-7cc5914d08af',\n",
       "   'link': 'http://www.dr.dk/nyheder/indland/misbrugsekspert-mdma-er-farligt-er-en-sandhed-med-modifikationer',\n",
       "   'links': [{'href': 'http://www.dr.dk/nyheder/indland/misbrugsekspert-mdma-er-farligt-er-en-sandhed-med-modifikationer',\n",
       "     'rel': 'alternate',\n",
       "     'type': 'text/html'}],\n",
       "   'published': 'Sun, 18 Feb 2018 17:20:00 +0100',\n",
       "   'published_parsed': time.struct_time(tm_year=2018, tm_mon=2, tm_mday=18, tm_hour=16, tm_min=20, tm_sec=0, tm_wday=6, tm_yday=49, tm_isdst=0),\n",
       "   'summary': 'Stoffet MDMA er i sig selv ikke farligt, og politiet taler forbi de unge, når de siger det, siger Henrik Rindom.',\n",
       "   'summary_detail': {'base': '',\n",
       "    'language': None,\n",
       "    'type': 'text/html',\n",
       "    'value': 'Stoffet MDMA er i sig selv ikke farligt, og politiet taler forbi de unge, når de siger det, siger Henrik Rindom.'},\n",
       "   'title': 'Misbrugsekspert: At MDMA er farligt er en sandhed med modifikationer',\n",
       "   'title_detail': {'base': '',\n",
       "    'language': None,\n",
       "    'type': 'text/plain',\n",
       "    'value': 'Misbrugsekspert: At MDMA er farligt er en sandhed med modifikationer'}},\n",
       "  {'dr_channeldisplayname': 'Prins Henrik',\n",
       "   'dr_channelname': 'Prins Henrik',\n",
       "   'dr_imageuri620x349': 'https://www.dr.dk/images/crop/2018/02/16/1518793988_scanpix-20160611-153357-2.jpg',\n",
       "   'dr_postingguid': '8adb0792-3170-4208-be75-4a6a89a66670',\n",
       "   'dr_xmlimagearticle': '',\n",
       "   'guidislink': False,\n",
       "   'id': '8adb0792-3170-4208-be75-4a6a89a66670',\n",
       "   'link': 'http://www.dr.dk/nyheder/mind/prins-henrik/test-dig-selv-har-prins-henrik-sagt-det',\n",
       "   'links': [{'href': 'http://www.dr.dk/nyheder/mind/prins-henrik/test-dig-selv-har-prins-henrik-sagt-det',\n",
       "     'rel': 'alternate',\n",
       "     'type': 'text/html'}],\n",
       "   'published': 'Sun, 18 Feb 2018 16:10:00 +0100',\n",
       "   'published_parsed': time.struct_time(tm_year=2018, tm_mon=2, tm_mday=18, tm_hour=15, tm_min=10, tm_sec=0, tm_wday=6, tm_yday=49, tm_isdst=0),\n",
       "   'summary': 'Prins Henrik var ikke bange for at sige sin mening. Men kan du gætte, hvad han har sagt?',\n",
       "   'summary_detail': {'base': '',\n",
       "    'language': None,\n",
       "    'type': 'text/html',\n",
       "    'value': 'Prins Henrik var ikke bange for at sige sin mening. Men kan du gætte, hvad han har sagt?'},\n",
       "   'title': 'Test dig selv: Har prins Henrik sagt det?',\n",
       "   'title_detail': {'base': '',\n",
       "    'language': None,\n",
       "    'type': 'text/plain',\n",
       "    'value': 'Test dig selv: Har prins Henrik sagt det?'}},\n",
       "  {'dr_channeldisplayname': 'Udland',\n",
       "   'dr_channelname': 'Udland',\n",
       "   'dr_imageuri620x349': 'http://mu.net.dr.dk/admin/ProgramCard/Get/urn%3adr%3amu%3aprogramcard%3a5a8994dca11f9f1a7c6c9526',\n",
       "   'dr_postingguid': '515f4175-95f5-4ea6-b4bd-382ce5275374',\n",
       "   'dr_xmlimagearticle': '',\n",
       "   'guidislink': False,\n",
       "   'id': '515f4175-95f5-4ea6-b4bd-382ce5275374',\n",
       "   'link': 'http://www.dr.dk/nyheder/udland/tyraner-i-teheran-og-tegneseriecirkus-haarde-ord-mellem-israel-og-iran',\n",
       "   'links': [{'href': 'http://www.dr.dk/nyheder/udland/tyraner-i-teheran-og-tegneseriecirkus-haarde-ord-mellem-israel-og-iran',\n",
       "     'rel': 'alternate',\n",
       "     'type': 'text/html'}],\n",
       "   'published': 'Sun, 18 Feb 2018 15:56:00 +0100',\n",
       "   'published_parsed': time.struct_time(tm_year=2018, tm_mon=2, tm_mday=18, tm_hour=14, tm_min=56, tm_sec=0, tm_wday=6, tm_yday=49, tm_isdst=0),\n",
       "   'summary': 'De to ærkefjender sendte hårde, verbale angreb mod hinanden på sikkerhedskonferencen i Munchen.',\n",
       "   'summary_detail': {'base': '',\n",
       "    'language': None,\n",
       "    'type': 'text/html',\n",
       "    'value': 'De to ærkefjender sendte hårde, verbale angreb mod hinanden på sikkerhedskonferencen i Munchen.'},\n",
       "   'title': '\"Tyraner i Teheran\" og \"tegneseriecirkus\": Hårde ord mellem Israel og Iran',\n",
       "   'title_detail': {'base': '',\n",
       "    'language': None,\n",
       "    'type': 'text/plain',\n",
       "    'value': '\"Tyraner i Teheran\" og \"tegneseriecirkus\": Hårde ord mellem Israel og Iran'}},\n",
       "  {'dr_channeldisplayname': 'Udland',\n",
       "   'dr_channelname': 'Udland',\n",
       "   'dr_imageuri620x349': 'http://mu.net.dr.dk/admin/ProgramCard/Get/urn%3adr%3amu%3aprogramcard%3a5a897acda11f9f1a7c6c94f1',\n",
       "   'dr_postingguid': '499696bb-1b98-4434-87d4-4bb0f422c6af',\n",
       "   'dr_xmlimagearticle': '',\n",
       "   'guidislink': False,\n",
       "   'id': '499696bb-1b98-4434-87d4-4bb0f422c6af',\n",
       "   'link': 'http://www.dr.dk/nyheder/udland/nordens-eneste-pandaer-lukkes-ud-i-sneen',\n",
       "   'links': [{'href': 'http://www.dr.dk/nyheder/udland/nordens-eneste-pandaer-lukkes-ud-i-sneen',\n",
       "     'rel': 'alternate',\n",
       "     'type': 'text/html'}],\n",
       "   'published': 'Sun, 18 Feb 2018 15:33:00 +0100',\n",
       "   'published_parsed': time.struct_time(tm_year=2018, tm_mon=2, tm_mday=18, tm_hour=14, tm_min=33, tm_sec=0, tm_wday=6, tm_yday=49, tm_isdst=0),\n",
       "   'summary': 'Kina har udlånt to store pandaer til zoologisk have i Finland.',\n",
       "   'summary_detail': {'base': '',\n",
       "    'language': None,\n",
       "    'type': 'text/html',\n",
       "    'value': 'Kina har udlånt to store pandaer til zoologisk have i Finland.'},\n",
       "   'title': 'Nordens eneste pandaer lukkes ud i sneen',\n",
       "   'title_detail': {'base': '',\n",
       "    'language': None,\n",
       "    'type': 'text/plain',\n",
       "    'value': 'Nordens eneste pandaer lukkes ud i sneen'}},\n",
       "  {'dr_channeldisplayname': 'Prins Henrik',\n",
       "   'dr_channelname': 'Prins Henrik',\n",
       "   'dr_imageuri620x349': 'http://mu.net.dr.dk/admin/ProgramCard/Get/urn%3adr%3amu%3aprogramcard%3a5a8998cca11f9f1a7c6c954a',\n",
       "   'dr_postingguid': '1d776697-5288-4f07-9b20-4a6423c68df9',\n",
       "   'dr_xmlimagearticle': '',\n",
       "   'guidislink': False,\n",
       "   'id': '1d776697-5288-4f07-9b20-4a6423c68df9',\n",
       "   'link': 'http://www.dr.dk/nyheder/mind/prins-henrik/castrum-doloris-danskere-tager-afsked-med-prins-henrik',\n",
       "   'links': [{'href': 'http://www.dr.dk/nyheder/mind/prins-henrik/castrum-doloris-danskere-tager-afsked-med-prins-henrik',\n",
       "     'rel': 'alternate',\n",
       "     'type': 'text/html'}],\n",
       "   'published': 'Sun, 18 Feb 2018 15:15:00 +0100',\n",
       "   'published_parsed': time.struct_time(tm_year=2018, tm_mon=2, tm_mday=18, tm_hour=14, tm_min=15, tm_sec=0, tm_wday=6, tm_yday=49, tm_isdst=0),\n",
       "   'summary': 'Igen i dag er der en flere hundrede meter lang kø ved Christiansborg Slotskirke.',\n",
       "   'summary_detail': {'base': '',\n",
       "    'language': None,\n",
       "    'type': 'text/html',\n",
       "    'value': 'Igen i dag er der en flere hundrede meter lang kø ved Christiansborg Slotskirke.'},\n",
       "   'title': 'Castrum doloris: Danskere tager afsked med prins Henrik',\n",
       "   'title_detail': {'base': '',\n",
       "    'language': None,\n",
       "    'type': 'text/plain',\n",
       "    'value': 'Castrum doloris: Danskere tager afsked med prins Henrik'}},\n",
       "  {'dr_channeldisplayname': 'Teknologi',\n",
       "   'dr_channelname': 'Teknologi',\n",
       "   'dr_imageuri620x349': 'http://www.dr.dk/images/crop/2018/02/15/1518705440_scanpix-20130821-130420-4.jpg',\n",
       "   'dr_postingguid': '1e0768ef-ff55-4da6-bf5b-c277b76855a8',\n",
       "   'dr_xmlimagearticle': '',\n",
       "   'guidislink': False,\n",
       "   'id': '1e0768ef-ff55-4da6-bf5b-c277b76855a8',\n",
       "   'link': 'http://www.dr.dk/nyheder/viden/teknologi/er-ipaden-godt-legetoej-eller-digital-narko-smaaboern',\n",
       "   'links': [{'href': 'http://www.dr.dk/nyheder/viden/teknologi/er-ipaden-godt-legetoej-eller-digital-narko-smaaboern',\n",
       "     'rel': 'alternate',\n",
       "     'type': 'text/html'}],\n",
       "   'published': 'Sun, 18 Feb 2018 14:42:00 +0100',\n",
       "   'published_parsed': time.struct_time(tm_year=2018, tm_mon=2, tm_mday=18, tm_hour=13, tm_min=42, tm_sec=0, tm_wday=6, tm_yday=49, tm_isdst=0),\n",
       "   'summary': 'Hvordan skal vi forældre forholde os til børns brug af moderne teknologi? Vi har spurgt en lang række af landet førende forskere.',\n",
       "   'summary_detail': {'base': '',\n",
       "    'language': None,\n",
       "    'type': 'text/html',\n",
       "    'value': 'Hvordan skal vi forældre forholde os til børns brug af moderne teknologi? Vi har spurgt en lang række af landet førende forskere.'},\n",
       "   'title': 'Er iPad\\'en godt legetøj eller \"digital narko\" for småbørn?',\n",
       "   'title_detail': {'base': '',\n",
       "    'language': None,\n",
       "    'type': 'text/plain',\n",
       "    'value': 'Er iPad\\'en godt legetøj eller \"digital narko\" for småbørn?'}},\n",
       "  {'dr_channeldisplayname': 'Klima',\n",
       "   'dr_channelname': 'Klima',\n",
       "   'dr_imageuri620x349': 'http://www.dr.dk/images/other/2018/02/15/topbillede_d5.jpg',\n",
       "   'dr_postingguid': '41aec9f8-9c8b-4e8e-a504-5a48a29daa26',\n",
       "   'dr_xmlimagearticle': '',\n",
       "   'guidislink': False,\n",
       "   'id': '41aec9f8-9c8b-4e8e-a504-5a48a29daa26',\n",
       "   'link': 'http://www.dr.dk/nyheder/viden/klima/danske-forskere-bomber-maaske-skyld-i-tilfaelde-af-lungekraeft-paa-tropeoe',\n",
       "   'links': [{'href': 'http://www.dr.dk/nyheder/viden/klima/danske-forskere-bomber-maaske-skyld-i-tilfaelde-af-lungekraeft-paa-tropeoe',\n",
       "     'rel': 'alternate',\n",
       "     'type': 'text/html'}],\n",
       "   'published': 'Sun, 18 Feb 2018 14:02:00 +0100',\n",
       "   'published_parsed': time.struct_time(tm_year=2018, tm_mon=2, tm_mday=18, tm_hour=13, tm_min=2, tm_sec=0, tm_wday=6, tm_yday=49, tm_isdst=0),\n",
       "   'summary': 'I flere år har syge beboere på øen Vieques været et omstridt emne i USA. Danske forskere har nu fundet bevis for en sammenhæng mellem krigsøvelser og lungekræft på øen',\n",
       "   'summary_detail': {'base': '',\n",
       "    'language': None,\n",
       "    'type': 'text/html',\n",
       "    'value': 'I flere år har syge beboere på øen Vieques været et omstridt emne i USA. Danske forskere har nu fundet bevis for en sammenhæng mellem krigsøvelser og lungekræft på øen'},\n",
       "   'title': 'Danske forskere: Bomber måske skyld i tilfælde af lungekræft på tropeø',\n",
       "   'title_detail': {'base': '',\n",
       "    'language': None,\n",
       "    'type': 'text/plain',\n",
       "    'value': 'Danske forskere: Bomber måske skyld i tilfælde af lungekræft på tropeø'}},\n",
       "  {'dr_channeldisplayname': 'Politik',\n",
       "   'dr_channelname': 'Politik',\n",
       "   'dr_imageuri620x349': 'https://www.dr.dk/images/crop/2018/02/18/1518956655_9741296_nisn_indland_ok_fagforeninger_hq-00.14.16.23.jpg',\n",
       "   'dr_postingguid': 'd8142f10-a474-4594-b6e8-2a613240bcd1',\n",
       "   'dr_xmlimagearticle': '',\n",
       "   'guidislink': False,\n",
       "   'id': 'd8142f10-a474-4594-b6e8-2a613240bcd1',\n",
       "   'link': 'http://www.dr.dk/nyheder/politik/uret-tikker-i-overenskomstforhandlinger-det-er-lidt-op-ad-bakke',\n",
       "   'links': [{'href': 'http://www.dr.dk/nyheder/politik/uret-tikker-i-overenskomstforhandlinger-det-er-lidt-op-ad-bakke',\n",
       "     'rel': 'alternate',\n",
       "     'type': 'text/html'}],\n",
       "   'published': 'Sun, 18 Feb 2018 13:46:00 +0100',\n",
       "   'published_parsed': time.struct_time(tm_year=2018, tm_mon=2, tm_mday=18, tm_hour=12, tm_min=46, tm_sec=0, tm_wday=6, tm_yday=49, tm_isdst=0),\n",
       "   'summary': 'Forhandlingerne i staten og om lærernes arbejdstid fortsætter, men knasterne er store.',\n",
       "   'summary_detail': {'base': '',\n",
       "    'language': None,\n",
       "    'type': 'text/html',\n",
       "    'value': 'Forhandlingerne i staten og om lærernes arbejdstid fortsætter, men knasterne er store.'},\n",
       "   'title': 'Uret tikker i overenskomstforhandlinger: ”Det er lidt op ad bakke”',\n",
       "   'title_detail': {'base': '',\n",
       "    'language': None,\n",
       "    'type': 'text/plain',\n",
       "    'value': 'Uret tikker i overenskomstforhandlinger: ”Det er lidt op ad bakke”'}},\n",
       "  {'dr_channeldisplayname': 'Indland',\n",
       "   'dr_channelname': 'Indland',\n",
       "   'dr_imageuri620x349': 'http://www.dr.dk/images/crop/2018/02/15/1518695358_scanpix-20060510-202855-4.jpg',\n",
       "   'dr_postingguid': 'd2819dce-fa19-4850-acf4-d1ba25722265',\n",
       "   'dr_xmlimagearticle': '',\n",
       "   'guidislink': False,\n",
       "   'id': 'd2819dce-fa19-4850-acf4-d1ba25722265',\n",
       "   'link': 'http://www.dr.dk/nyheder/indland/kriminalforsorgen-kan-ikke-rekruttere-nok-faengselsbetjente-overarbejder-paa-livet',\n",
       "   'links': [{'href': 'http://www.dr.dk/nyheder/indland/kriminalforsorgen-kan-ikke-rekruttere-nok-faengselsbetjente-overarbejder-paa-livet',\n",
       "     'rel': 'alternate',\n",
       "     'type': 'text/html'}],\n",
       "   'published': 'Sun, 18 Feb 2018 13:15:00 +0100',\n",
       "   'published_parsed': time.struct_time(tm_year=2018, tm_mon=2, tm_mday=18, tm_hour=12, tm_min=15, tm_sec=0, tm_wday=6, tm_yday=49, tm_isdst=0),\n",
       "   'summary': 'Overarbejde og trusler fra indsatte får ifølge Fængselsforbundet sygefraværet til at skyde i vejret.',\n",
       "   'summary_detail': {'base': '',\n",
       "    'language': None,\n",
       "    'type': 'text/html',\n",
       "    'value': 'Overarbejde og trusler fra indsatte får ifølge Fængselsforbundet sygefraværet til at skyde i vejret.'},\n",
       "   'title': 'Kriminalforsorgen kan ikke rekruttere nok: Fængselsbetjente overarbejder på livet løs',\n",
       "   'title_detail': {'base': '',\n",
       "    'language': None,\n",
       "    'type': 'text/plain',\n",
       "    'value': 'Kriminalforsorgen kan ikke rekruttere nok: Fængselsbetjente overarbejder på livet løs'}},\n",
       "  {'dr_channeldisplayname': 'Indland',\n",
       "   'dr_channelname': 'Indland',\n",
       "   'dr_imageuri620x349': 'http://mu.net.dr.dk/admin/ProgramCard/Get/urn%3adr%3amu%3aprogramcard%3a5a8987416187a415a0de1de3',\n",
       "   'dr_postingguid': 'a26ebc77-f38a-4fae-813c-72f56ba91d90',\n",
       "   'dr_xmlimagearticle': '',\n",
       "   'guidislink': False,\n",
       "   'id': 'a26ebc77-f38a-4fae-813c-72f56ba91d90',\n",
       "   'link': 'http://www.dr.dk/nyheder/indland/mistaenkt-okseoverfald-blev-losladt-ti-dage-siden',\n",
       "   'links': [{'href': 'http://www.dr.dk/nyheder/indland/mistaenkt-okseoverfald-blev-losladt-ti-dage-siden',\n",
       "     'rel': 'alternate',\n",
       "     'type': 'text/html'}],\n",
       "   'published': 'Sun, 18 Feb 2018 13:04:00 +0100',\n",
       "   'published_parsed': time.struct_time(tm_year=2018, tm_mon=2, tm_mday=18, tm_hour=12, tm_min=4, tm_sec=0, tm_wday=6, tm_yday=49, tm_isdst=0),\n",
       "   'summary': 'Faren til mistænkt for økseoverfald fortæller, at sønnen for nylig har afsonet en dom for røveri.',\n",
       "   'summary_detail': {'base': '',\n",
       "    'language': None,\n",
       "    'type': 'text/html',\n",
       "    'value': 'Faren til mistænkt for økseoverfald fortæller, at sønnen for nylig har afsonet en dom for røveri.'},\n",
       "   'title': 'Mistænkt for økseoverfald blev løsladt for ti dage siden',\n",
       "   'title_detail': {'base': '',\n",
       "    'language': None,\n",
       "    'type': 'text/plain',\n",
       "    'value': 'Mistænkt for økseoverfald blev løsladt for ti dage siden'}},\n",
       "  {'dr_channeldisplayname': 'Anbefalinger',\n",
       "   'dr_channelname': 'Anbefalinger',\n",
       "   'dr_imageuri620x349': 'http://www.dr.dk/images/other/2018/02/16/topbillede.jpg',\n",
       "   'dr_postingguid': '6e46fc55-4644-4028-ae71-b4790c9d1a40',\n",
       "   'dr_xmlimagearticle': '',\n",
       "   'guidislink': False,\n",
       "   'id': '6e46fc55-4644-4028-ae71-b4790c9d1a40',\n",
       "   'link': 'http://www.dr.dk/nyheder/kultur/anbefalinger/vaagn-op-michelin-3-danske-restauranter-der-fortjener-en-stjerne',\n",
       "   'links': [{'href': 'http://www.dr.dk/nyheder/kultur/anbefalinger/vaagn-op-michelin-3-danske-restauranter-der-fortjener-en-stjerne',\n",
       "     'rel': 'alternate',\n",
       "     'type': 'text/html'}],\n",
       "   'published': 'Sun, 18 Feb 2018 13:00:00 +0100',\n",
       "   'published_parsed': time.struct_time(tm_year=2018, tm_mon=2, tm_mday=18, tm_hour=12, tm_min=0, tm_sec=0, tm_wday=6, tm_yday=49, tm_isdst=0),\n",
       "   'summary': 'Disse restauranter skaber gastronomi i verdensklasse, mener madekspert, der krydser fingre for mandagens afsløring.',\n",
       "   'summary_detail': {'base': '',\n",
       "    'language': None,\n",
       "    'type': 'text/html',\n",
       "    'value': 'Disse restauranter skaber gastronomi i verdensklasse, mener madekspert, der krydser fingre for mandagens afsløring.'},\n",
       "   'title': 'Vågn op, Michelin! 3 danske restauranter der fortjener en stjerne',\n",
       "   'title_detail': {'base': '',\n",
       "    'language': None,\n",
       "    'type': 'text/plain',\n",
       "    'value': 'Vågn op, Michelin! 3 danske restauranter der fortjener en stjerne'}},\n",
       "  {'dr_channeldisplayname': 'Prins Henrik',\n",
       "   'dr_channelname': 'Prins Henrik',\n",
       "   'dr_imageuri620x349': 'https://www.dr.dk/images/other/2018/02/18/img_1025.jpg',\n",
       "   'dr_postingguid': '05c6946c-1dda-42ae-b138-0b5425589dc6',\n",
       "   'dr_xmlimagearticle': '',\n",
       "   'guidislink': False,\n",
       "   'id': '05c6946c-1dda-42ae-b138-0b5425589dc6',\n",
       "   'link': 'http://www.dr.dk/nyheder/mind/prins-henrik/udsigt-til-endnu-en-folkevandring-prins-henrik',\n",
       "   'links': [{'href': 'http://www.dr.dk/nyheder/mind/prins-henrik/udsigt-til-endnu-en-folkevandring-prins-henrik',\n",
       "     'rel': 'alternate',\n",
       "     'type': 'text/html'}],\n",
       "   'published': 'Sun, 18 Feb 2018 12:59:00 +0100',\n",
       "   'published_parsed': time.struct_time(tm_year=2018, tm_mon=2, tm_mday=18, tm_hour=11, tm_min=59, tm_sec=0, tm_wday=6, tm_yday=49, tm_isdst=0),\n",
       "   'summary': 'Køen for at tage afsked med prinsen er allerede over 700 meter.',\n",
       "   'summary_detail': {'base': '',\n",
       "    'language': None,\n",
       "    'type': 'text/html',\n",
       "    'value': 'Køen for at tage afsked med prinsen er allerede over 700 meter.'},\n",
       "   'title': 'Udsigt til endnu en folkevandring for prins Henrik',\n",
       "   'title_detail': {'base': '',\n",
       "    'language': None,\n",
       "    'type': 'text/plain',\n",
       "    'value': 'Udsigt til endnu en folkevandring for prins Henrik'}},\n",
       "  {'dr_channeldisplayname': 'Prins Henrik',\n",
       "   'dr_channelname': 'Prins Henrik',\n",
       "   'dr_imageuri620x349': 'http://www.dr.dk/images/crop/2018/02/17/1518865351_scanpix-20091026-195012-6.jpg',\n",
       "   'dr_postingguid': 'a9662b0c-a054-40ac-ab09-5ff7ab05809f',\n",
       "   'dr_xmlimagearticle': '',\n",
       "   'guidislink': False,\n",
       "   'id': 'a9662b0c-a054-40ac-ab09-5ff7ab05809f',\n",
       "   'link': 'http://www.dr.dk/nyheder/mind/prins-henrik/bodil-cath-efter-legendarisk-interview-med-prins-henrik-jeg-gik-direkte-i',\n",
       "   'links': [{'href': 'http://www.dr.dk/nyheder/mind/prins-henrik/bodil-cath-efter-legendarisk-interview-med-prins-henrik-jeg-gik-direkte-i',\n",
       "     'rel': 'alternate',\n",
       "     'type': 'text/html'}],\n",
       "   'published': 'Sun, 18 Feb 2018 12:10:00 +0100',\n",
       "   'published_parsed': time.struct_time(tm_year=2018, tm_mon=2, tm_mday=18, tm_hour=11, tm_min=10, tm_sec=0, tm_wday=6, tm_yday=49, tm_isdst=0),\n",
       "   'summary': 'Tidligere hofreporter for BT Bodil Cath drikker ellers aldrig. Men den dag bestilte hun en gin og tonic.',\n",
       "   'summary_detail': {'base': '',\n",
       "    'language': None,\n",
       "    'type': 'text/html',\n",
       "    'value': 'Tidligere hofreporter for BT Bodil Cath drikker ellers aldrig. Men den dag bestilte hun en gin og tonic.'},\n",
       "   'title': 'Bodil Cath efter legendarisk interview med prins Henrik: Jeg gik direkte i hotelbaren',\n",
       "   'title_detail': {'base': '',\n",
       "    'language': None,\n",
       "    'type': 'text/plain',\n",
       "    'value': 'Bodil Cath efter legendarisk interview med prins Henrik: Jeg gik direkte i hotelbaren'}},\n",
       "  {'dr_channeldisplayname': 'Indland',\n",
       "   'dr_channelname': 'Indland',\n",
       "   'dr_imageuri620x349': 'http://www.dr.dk/images/crop/2018/02/16/1518785163_nicolai_0.jpg',\n",
       "   'dr_postingguid': '7bb68da5-ffc8-4c3f-b1ff-512bac9fdda4',\n",
       "   'dr_xmlimagearticle': '',\n",
       "   'guidislink': False,\n",
       "   'id': '7bb68da5-ffc8-4c3f-b1ff-512bac9fdda4',\n",
       "   'link': 'http://www.dr.dk/nyheder/indland/krigsveteran-med-diagnose-jeg-foeler-mig-smidt-ud-som-gammelt-affald',\n",
       "   'links': [{'href': 'http://www.dr.dk/nyheder/indland/krigsveteran-med-diagnose-jeg-foeler-mig-smidt-ud-som-gammelt-affald',\n",
       "     'rel': 'alternate',\n",
       "     'type': 'text/html'}],\n",
       "   'published': 'Sun, 18 Feb 2018 11:57:00 +0100',\n",
       "   'published_parsed': time.struct_time(tm_year=2018, tm_mon=2, tm_mday=18, tm_hour=10, tm_min=57, tm_sec=0, tm_wday=6, tm_yday=49, tm_isdst=0),\n",
       "   'summary': 'To krigsveteraner var udsendt samme sted og lider i dag begge af PTSD, men kun en af dem har fået erstatning.',\n",
       "   'summary_detail': {'base': '',\n",
       "    'language': None,\n",
       "    'type': 'text/html',\n",
       "    'value': 'To krigsveteraner var udsendt samme sted og lider i dag begge af PTSD, men kun en af dem har fået erstatning.'},\n",
       "   'title': 'Krigsveteran med diagnose: Jeg føler mig smidt ud som gammelt affald',\n",
       "   'title_detail': {'base': '',\n",
       "    'language': None,\n",
       "    'type': 'text/plain',\n",
       "    'value': 'Krigsveteran med diagnose: Jeg føler mig smidt ud som gammelt affald'}},\n",
       "  {'dr_channeldisplayname': 'Indland',\n",
       "   'dr_channelname': 'Indland',\n",
       "   'dr_imageuri620x349': 'https://www.dr.dk/images/other/2018/02/18/scanpix-20180212-153630-3.jpg',\n",
       "   'dr_postingguid': '44e2e9b6-5940-4f3a-8bda-85354e120cf4',\n",
       "   'dr_xmlimagearticle': '',\n",
       "   'guidislink': False,\n",
       "   'id': '44e2e9b6-5940-4f3a-8bda-85354e120cf4',\n",
       "   'link': 'http://www.dr.dk/nyheder/indland/flere-danske-maend-gifter-sig-med-thailandske-kvinder',\n",
       "   'links': [{'href': 'http://www.dr.dk/nyheder/indland/flere-danske-maend-gifter-sig-med-thailandske-kvinder',\n",
       "     'rel': 'alternate',\n",
       "     'type': 'text/html'}],\n",
       "   'published': 'Sun, 18 Feb 2018 11:15:00 +0100',\n",
       "   'published_parsed': time.struct_time(tm_year=2018, tm_mon=2, tm_mday=18, tm_hour=10, tm_min=15, tm_sec=0, tm_wday=6, tm_yday=49, tm_isdst=0),\n",
       "   'summary': 'Nye tal fra Danmarks Statistik viser, at danske mænd kigger mod øst, når de søger en udenlandsk kone.',\n",
       "   'summary_detail': {'base': '',\n",
       "    'language': None,\n",
       "    'type': 'text/html',\n",
       "    'value': 'Nye tal fra Danmarks Statistik viser, at danske mænd kigger mod øst, når de søger en udenlandsk kone.'},\n",
       "   'title': 'Flere danske mænd gifter sig med thailandske kvinder',\n",
       "   'title_detail': {'base': '',\n",
       "    'language': None,\n",
       "    'type': 'text/plain',\n",
       "    'value': 'Flere danske mænd gifter sig med thailandske kvinder'}},\n",
       "  {'dr_channeldisplayname': 'Prins Henrik',\n",
       "   'dr_channelname': 'Prins Henrik',\n",
       "   'dr_imageuri620x349': 'http://mu.net.dr.dk/admin/ProgramCard/Get/urn%3adr%3amu%3aprogramcard%3a5a8946db6187a415a0de1d36',\n",
       "   'dr_postingguid': '5e7b5a16-d8a8-4027-8baa-d12d48c065e9',\n",
       "   'dr_xmlimagearticle': '',\n",
       "   'guidislink': False,\n",
       "   'id': '5e7b5a16-d8a8-4027-8baa-d12d48c065e9',\n",
       "   'link': 'http://www.dr.dk/nyheder/mind/prins-henrik/tusindvis-har-besoegt-prinsens-kiste-det-er-once-lifetime',\n",
       "   'links': [{'href': 'http://www.dr.dk/nyheder/mind/prins-henrik/tusindvis-har-besoegt-prinsens-kiste-det-er-once-lifetime',\n",
       "     'rel': 'alternate',\n",
       "     'type': 'text/html'}],\n",
       "   'published': 'Sun, 18 Feb 2018 11:14:00 +0100',\n",
       "   'published_parsed': time.struct_time(tm_year=2018, tm_mon=2, tm_mday=18, tm_hour=10, tm_min=14, tm_sec=0, tm_wday=6, tm_yday=49, tm_isdst=0),\n",
       "   'summary': 'Mange stod i kø i mere end halvanden time for at tage afsked med prins Henrik.',\n",
       "   'summary_detail': {'base': '',\n",
       "    'language': None,\n",
       "    'type': 'text/html',\n",
       "    'value': 'Mange stod i kø i mere end halvanden time for at tage afsked med prins Henrik.'},\n",
       "   'title': 'Tusindvis har besøgt prinsens kiste: Det er ’once in a lifetime’',\n",
       "   'title_detail': {'base': '',\n",
       "    'language': None,\n",
       "    'type': 'text/plain',\n",
       "    'value': 'Tusindvis har besøgt prinsens kiste: Det er ’once in a lifetime’'}},\n",
       "  {'dr_channeldisplayname': 'Indland',\n",
       "   'dr_channelname': 'Indland',\n",
       "   'dr_imageuri620x349': 'http://www.dr.dk/images/other/2018/02/18/scanpix-20160608-161832-l.jpg',\n",
       "   'dr_postingguid': 'b583e7c4-e007-4e46-808d-2c40f8193e1d',\n",
       "   'dr_xmlimagearticle': '',\n",
       "   'guidislink': False,\n",
       "   'id': 'b583e7c4-e007-4e46-808d-2c40f8193e1d',\n",
       "   'link': 'http://www.dr.dk/nyheder/indland/efter-afsonet-faengselsdom-boghandleren-fra-broenshoej-skal-blive-i-faengsel',\n",
       "   'links': [{'href': 'http://www.dr.dk/nyheder/indland/efter-afsonet-faengselsdom-boghandleren-fra-broenshoej-skal-blive-i-faengsel',\n",
       "     'rel': 'alternate',\n",
       "     'type': 'text/html'}],\n",
       "   'published': 'Sun, 18 Feb 2018 11:05:00 +0100',\n",
       "   'published_parsed': time.struct_time(tm_year=2018, tm_mon=2, tm_mday=18, tm_hour=10, tm_min=5, tm_sec=0, tm_wday=6, tm_yday=49, tm_isdst=0),\n",
       "   'summary': 'Sam Mansour er to gange dømt for at opfordre til terror og har mistet sit statsborgerskab.',\n",
       "   'summary_detail': {'base': '',\n",
       "    'language': None,\n",
       "    'type': 'text/html',\n",
       "    'value': 'Sam Mansour er to gange dømt for at opfordre til terror og har mistet sit statsborgerskab.'},\n",
       "   'title': 'Efter afsonet fængselsdom: Boghandleren fra Brønshøj skal blive i fængsel',\n",
       "   'title_detail': {'base': '',\n",
       "    'language': None,\n",
       "    'type': 'text/plain',\n",
       "    'value': 'Efter afsonet fængselsdom: Boghandleren fra Brønshøj skal blive i fængsel'}},\n",
       "  {'dr_channeldisplayname': 'Nyheder',\n",
       "   'dr_channelname': 'Nyheder',\n",
       "   'dr_imageuri620x349': 'http://www.dr.dk/images/other/2018/02/17/oliver-ny.jpg',\n",
       "   'dr_postingguid': '4ec1354a-ebc6-4203-aab7-afbeb6a0b156',\n",
       "   'dr_xmlimagearticle': '',\n",
       "   'guidislink': False,\n",
       "   'id': '4ec1354a-ebc6-4203-aab7-afbeb6a0b156',\n",
       "   'link': 'http://www.dr.dk/event/xfactor/nyheder/farvel-far-og-mor-oliver-paa-15-er-flyttet-hjemmefra-x-factor',\n",
       "   'links': [{'href': 'http://www.dr.dk/event/xfactor/nyheder/farvel-far-og-mor-oliver-paa-15-er-flyttet-hjemmefra-x-factor',\n",
       "     'rel': 'alternate',\n",
       "     'type': 'text/html'}],\n",
       "   'published': 'Sun, 18 Feb 2018 10:55:00 +0100',\n",
       "   'published_parsed': time.struct_time(tm_year=2018, tm_mon=2, tm_mday=18, tm_hour=9, tm_min=55, tm_sec=0, tm_wday=6, tm_yday=49, tm_isdst=0),\n",
       "   'summary': 'X Factors yngste deltager bor normalt i Sabro i Aarhus. Men nu er han flyttet 300 kilometer væk for at være med i de store liveshows på DR1.',\n",
       "   'summary_detail': {'base': '',\n",
       "    'language': None,\n",
       "    'type': 'text/html',\n",
       "    'value': 'X Factors yngste deltager bor normalt i Sabro i Aarhus. Men nu er han flyttet 300 kilometer væk for at være med i de store liveshows på DR1.'},\n",
       "   'title': 'Farvel, far og mor! Oliver på 15 er flyttet hjemmefra for X Factor',\n",
       "   'title_detail': {'base': '',\n",
       "    'language': None,\n",
       "    'type': 'text/plain',\n",
       "    'value': 'Farvel, far og mor! Oliver på 15 er flyttet hjemmefra for X Factor'}},\n",
       "  {'dr_channeldisplayname': 'Nordjylland',\n",
       "   'dr_channelname': 'Nordjylland',\n",
       "   'dr_imageuri620x349': 'https://www.dr.dk/images/other/2018/02/18/scanpix-20170913-131208-l.jpg',\n",
       "   'dr_postingguid': 'c6a694ba-c15b-4143-a002-0b9b81fd8b5b',\n",
       "   'dr_xmlimagearticle': '',\n",
       "   'guidislink': False,\n",
       "   'id': 'c6a694ba-c15b-4143-a002-0b9b81fd8b5b',\n",
       "   'link': 'http://www.dr.dk/nyheder/regionale/nordjylland/nitrat-oeger-risiko-tyktarmskraeft-private-vandboringer-kan-udgoere',\n",
       "   'links': [{'href': 'http://www.dr.dk/nyheder/regionale/nordjylland/nitrat-oeger-risiko-tyktarmskraeft-private-vandboringer-kan-udgoere',\n",
       "     'rel': 'alternate',\n",
       "     'type': 'text/html'}],\n",
       "   'published': 'Sun, 18 Feb 2018 10:42:00 +0100',\n",
       "   'published_parsed': time.struct_time(tm_year=2018, tm_mon=2, tm_mday=18, tm_hour=9, tm_min=42, tm_sec=0, tm_wday=6, tm_yday=49, tm_isdst=0),\n",
       "   'summary': 'Private vandindvindere skal ikke tjekke nitrat i vandet. En ommer, siger konsulent',\n",
       "   'summary_detail': {'base': '',\n",
       "    'language': None,\n",
       "    'type': 'text/html',\n",
       "    'value': 'Private vandindvindere skal ikke tjekke nitrat i vandet. En ommer, siger konsulent'},\n",
       "   'title': 'Nitrat øger risiko for tyktarmskræft: Private vandboringer kan udgøre sundhedsrisiko',\n",
       "   'title_detail': {'base': '',\n",
       "    'language': None,\n",
       "    'type': 'text/plain',\n",
       "    'value': 'Nitrat øger risiko for tyktarmskræft: Private vandboringer kan udgøre sundhedsrisiko'}},\n",
       "  {'dr_channeldisplayname': 'Midt- og Vestjylland',\n",
       "   'dr_channelname': 'Midt- og Vestjylland',\n",
       "   'dr_imageuri620x349': 'http://www.dr.dk/images/other/2018/02/08/dorthe_ulrich_teaser.png',\n",
       "   'dr_postingguid': 'a8d53df8-a4c7-43ee-80bb-fef83de05191',\n",
       "   'dr_xmlimagearticle': '',\n",
       "   'guidislink': False,\n",
       "   'id': 'a8d53df8-a4c7-43ee-80bb-fef83de05191',\n",
       "   'link': 'http://www.dr.dk/nyheder/regionale/midtvest/dorthe-og-ulrich-udlever-droem-om-fjumre-rundt-som-de-unge-tager-timeout',\n",
       "   'links': [{'href': 'http://www.dr.dk/nyheder/regionale/midtvest/dorthe-og-ulrich-udlever-droem-om-fjumre-rundt-som-de-unge-tager-timeout',\n",
       "     'rel': 'alternate',\n",
       "     'type': 'text/html'}],\n",
       "   'published': 'Sun, 18 Feb 2018 10:30:00 +0100',\n",
       "   'published_parsed': time.struct_time(tm_year=2018, tm_mon=2, tm_mday=18, tm_hour=9, tm_min=30, tm_sec=0, tm_wday=6, tm_yday=49, tm_isdst=0),\n",
       "   'summary': \"PORTRÆT: Ægtepar i 50'erne hiver 3,5 måned ud af kalenderen for at give hverdagen et spark bagi.\",\n",
       "   'summary_detail': {'base': '',\n",
       "    'language': None,\n",
       "    'type': 'text/html',\n",
       "    'value': \"PORTRÆT: Ægtepar i 50'erne hiver 3,5 måned ud af kalenderen for at give hverdagen et spark bagi.\"},\n",
       "   'title': 'Dorthe og Ulrich udlever drøm om at fjumre rundt som de unge: Tager timeout som skiværter i Østrig',\n",
       "   'title_detail': {'base': '',\n",
       "    'language': None,\n",
       "    'type': 'text/plain',\n",
       "    'value': 'Dorthe og Ulrich udlever drøm om at fjumre rundt som de unge: Tager timeout som skiværter i Østrig'}},\n",
       "  {'dr_channeldisplayname': 'Politik',\n",
       "   'dr_channelname': 'Politik',\n",
       "   'dr_imageuri620x349': 'https://www.dr.dk/images/other/2018/02/17/scanpix-20171009-085626-l.jpg',\n",
       "   'dr_postingguid': '09b98dcd-0467-41e5-83ac-9db85157972e',\n",
       "   'dr_xmlimagearticle': '',\n",
       "   'guidislink': False,\n",
       "   'id': '09b98dcd-0467-41e5-83ac-9db85157972e',\n",
       "   'link': 'http://www.dr.dk/nyheder/politik/kaere-mette-jeg-er-meget-enig-med-dig-df-inviterer-s-top-til-kaffe-og-asylsnak',\n",
       "   'links': [{'href': 'http://www.dr.dk/nyheder/politik/kaere-mette-jeg-er-meget-enig-med-dig-df-inviterer-s-top-til-kaffe-og-asylsnak',\n",
       "     'rel': 'alternate',\n",
       "     'type': 'text/html'}],\n",
       "   'published': 'Sun, 18 Feb 2018 10:14:00 +0100',\n",
       "   'published_parsed': time.struct_time(tm_year=2018, tm_mon=2, tm_mday=18, tm_hour=9, tm_min=14, tm_sec=0, tm_wday=6, tm_yday=49, tm_isdst=0),\n",
       "   'summary': 'DF-formand inviterer Mette Frederiksen til \"kander med kaffe\" for at drøfte udlændingestramninger. S takker ja.',\n",
       "   'summary_detail': {'base': '',\n",
       "    'language': None,\n",
       "    'type': 'text/html',\n",
       "    'value': 'DF-formand inviterer Mette Frederiksen til \"kander med kaffe\" for at drøfte udlændingestramninger. S takker ja.'},\n",
       "   'title': \"'Kære Mette. Jeg er meget enig med dig': DF inviterer S-top til kaffe og asylsnak\",\n",
       "   'title_detail': {'base': '',\n",
       "    'language': None,\n",
       "    'type': 'text/plain',\n",
       "    'value': \"'Kære Mette. Jeg er meget enig med dig': DF inviterer S-top til kaffe og asylsnak\"}},\n",
       "  {'dr_channeldisplayname': 'Film og TV',\n",
       "   'dr_channelname': 'Film og TV',\n",
       "   'dr_imageuri620x349': 'http://www.dr.dk/images/other/2018/02/17/bastiancover.jpg',\n",
       "   'dr_postingguid': '34021fb2-3a95-4e72-b52e-53000e2b815c',\n",
       "   'dr_xmlimagearticle': '',\n",
       "   'guidislink': False,\n",
       "   'id': '34021fb2-3a95-4e72-b52e-53000e2b815c',\n",
       "   'link': 'http://www.dr.dk/nyheder/kultur/film/bastian-paa-13-vandt-mgp-et-aar-senere-er-han-tv-stjerne',\n",
       "   'links': [{'href': 'http://www.dr.dk/nyheder/kultur/film/bastian-paa-13-vandt-mgp-et-aar-senere-er-han-tv-stjerne',\n",
       "     'rel': 'alternate',\n",
       "     'type': 'text/html'}],\n",
       "   'published': 'Sun, 18 Feb 2018 09:58:00 +0100',\n",
       "   'published_parsed': time.struct_time(tm_year=2018, tm_mon=2, tm_mday=18, tm_hour=8, tm_min=58, tm_sec=0, tm_wday=6, tm_yday=49, tm_isdst=0),\n",
       "   'summary': 'For knap et år siden vandt Bastian børnenes MGP. Nu er han klar til på ny at indtage tv-skærmen.',\n",
       "   'summary_detail': {'base': '',\n",
       "    'language': None,\n",
       "    'type': 'text/html',\n",
       "    'value': 'For knap et år siden vandt Bastian børnenes MGP. Nu er han klar til på ny at indtage tv-skærmen.'},\n",
       "   'title': 'Bastian på 13 vandt MGP: Et år senere er han tv-stjerne',\n",
       "   'title_detail': {'base': '',\n",
       "    'language': None,\n",
       "    'type': 'text/plain',\n",
       "    'value': 'Bastian på 13 vandt MGP: Et år senere er han tv-stjerne'}},\n",
       "  {'dr_channeldisplayname': 'Udland',\n",
       "   'dr_channelname': 'Udland',\n",
       "   'dr_imageuri620x349': 'https://www.dr.dk/images/crop/2018/02/18/1518942890_atr_atr-72-500_atr-72-212a_iran_aseman_airlines_an1629114.jpg',\n",
       "   'dr_postingguid': '337962d6-e475-4eb5-8cee-7045edf752a5',\n",
       "   'dr_xmlimagearticle': '',\n",
       "   'guidislink': False,\n",
       "   'id': '337962d6-e475-4eb5-8cee-7045edf752a5',\n",
       "   'link': 'http://www.dr.dk/nyheder/udland/fly-styrter-ned-i-iran-med-over-60-om-bord',\n",
       "   'links': [{'href': 'http://www.dr.dk/nyheder/udland/fly-styrter-ned-i-iran-med-over-60-om-bord',\n",
       "     'rel': 'alternate',\n",
       "     'type': 'text/html'}],\n",
       "   'published': 'Sun, 18 Feb 2018 09:32:00 +0100',\n",
       "   'published_parsed': time.struct_time(tm_year=2018, tm_mon=2, tm_mday=18, tm_hour=8, tm_min=32, tm_sec=0, tm_wday=6, tm_yday=49, tm_isdst=0),\n",
       "   'summary': 'Et passagerfly er styrtet ned i det sydlige Iran med 66 passagerer om bord.',\n",
       "   'summary_detail': {'base': '',\n",
       "    'language': None,\n",
       "    'type': 'text/html',\n",
       "    'value': 'Et passagerfly er styrtet ned i det sydlige Iran med 66 passagerer om bord.'},\n",
       "   'title': 'Fly styrter ned i Iran med over 60 om bord',\n",
       "   'title_detail': {'base': '',\n",
       "    'language': None,\n",
       "    'type': 'text/plain',\n",
       "    'value': 'Fly styrter ned i Iran med over 60 om bord'}}],\n",
       " 'feed': {'dr_year': '2018',\n",
       "  'language': 'da',\n",
       "  'link': 'https://www.dr.dk',\n",
       "  'links': [{'href': 'https://www.dr.dk',\n",
       "    'rel': 'alternate',\n",
       "    'type': 'text/html'}],\n",
       "  'subtitle': '',\n",
       "  'subtitle_detail': {'base': '',\n",
       "   'language': None,\n",
       "   'type': 'text/html',\n",
       "   'value': ''},\n",
       "  'title': 'Alle nyheder',\n",
       "  'title_detail': {'base': '',\n",
       "   'language': None,\n",
       "   'type': 'text/plain',\n",
       "   'value': 'Alle nyheder'}},\n",
       " 'namespaces': {'DR': 'http://dr.dk/channel/2.0/modules/dr/'},\n",
       " 'version': 'rss20'}"
      ]
     },
     "execution_count": 184,
     "metadata": {},
     "output_type": "execute_result"
    }
   ],
   "source": [
    "response = requests.get('https://www.dr.dk/nyheder/service/feeds/allenyheder')\n",
    "feedparser.parse(response.text)"
   ]
  },
  {
   "cell_type": "markdown",
   "metadata": {},
   "source": [
    "## creative commons search (incl. flickr)"
   ]
  },
  {
   "cell_type": "code",
   "execution_count": 191,
   "metadata": {},
   "outputs": [
    {
     "data": {
      "text/plain": [
       "'\\n<!doctype html>\\n<meta name=\"viewport\" content=\"width=device-width, initial-scale=1\">\\n<meta charset=\"UTF-8\"><script type=\"text/javascript\">window.NREUM||(NREUM={}),__nr_require=function(e,t,n){functio'"
      ]
     },
     "execution_count": 191,
     "metadata": {},
     "output_type": "execute_result"
    }
   ],
   "source": [
    "query = 'cat'\n",
    "html = requests.get(\n",
    "    \"https://ccsearch.creativecommons.org/\",\n",
    "    params = {\n",
    "        \"search\": query,\n",
    "        \"page\": 1,\n",
    "        \"search_fields\": [\"title\", \"creator\", \"tags\"],\n",
    "        \"per_page\": 20,\n",
    "        \"licenses\": ['ALL-$', 'ALL-MOD'],\n",
    "        \"work_types\": [\"photos\", \"cultural\"],\n",
    "        \"providers\": [\"500px\", \"flickr\", \"europeana\", \"met\", \"nypl\", \"rijksmuseum\"]        \n",
    "    },\n",
    "    headers = {\n",
    "        'User-Agent': 'Mozilla/5.0 Data Science Workshop at inf.ku.dk'\n",
    "    }).text\n",
    "html[0:200]"
   ]
  },
  {
   "cell_type": "code",
   "execution_count": 193,
   "metadata": {},
   "outputs": [
    {
     "data": {
      "text/plain": [
       "[{'data-created_on': '2016-11-16T16:05:57.498240+00:00',\n",
       "  'data-creator': 'Cat Wendt',\n",
       "  'data-creator_url': 'https://www.flickr.com/people/catwendt/',\n",
       "  'data-foreign_landing_url': 'https://www.flickr.com/photos/catwendt/15589191923',\n",
       "  'data-identifier': 'DkKgzQ0SUf8DA6waC0vn2w==',\n",
       "  'data-license': 'by',\n",
       "  'data-license_version': '2.0',\n",
       "  'data-provider': 'flickr',\n",
       "  'data-provider_name': 'Flickr',\n",
       "  'data-provider_url': 'https://flickr.com',\n",
       "  'data-source': 'openimages',\n",
       "  'data-tags': \"['vertebrate', 'carnivoran', 'cat', 'british semi longhair', 'norwegian forest cat', 'mammal', 'domestic long haired cat', 'cat like mammal', 'animal', 'nose', 'european shorthair', 'close up', 'domestic short haired cat', 'small to medium sized cats', 'whiskers', 'pet', 'nebelung', 'maine coon', 'siberian', 'carnivoran']\",\n",
       "  'data-title': 'Cat Selfie (Buffy)',\n",
       "  'data-url': 'https://farm8.staticflickr.com/7464/15589191923_e8ba97bf6c_o.jpg',\n",
       "  'src': 'https://c8.staticflickr.com/8/7464/15589191923_99889a9f83_z.jpg'},\n",
       " {'data-created_on': '2016-12-08T18:42:27.166949+00:00',\n",
       "  'data-creator': 'AkamFatah',\n",
       "  'data-foreign_landing_url': 'https://500px.com//photo/181389055/cat-by-af-by-akam-fatah',\n",
       "  'data-identifier': '6rXjtG5Tbk93ktp9FDeOnw==',\n",
       "  'data-license': 'pdm',\n",
       "  'data-license_version': '3.0',\n",
       "  'data-provider': '500px',\n",
       "  'data-provider_name': '500px',\n",
       "  'data-provider_url': 'https://500px.com/',\n",
       "  'data-source': '500px',\n",
       "  'data-title': 'Cat by AF',\n",
       "  'data-url': 'https://drscdn.500px.org/photo/181389055/m%3D1080_k%3D1_a%3D1/d25ca12354b75300475736d05077d328',\n",
       "  'src': 'https://drscdn.500px.org/photo/181389055/w%3D280_h%3D280/2e3585bca7136c6f3f6aeb6c881f228a?v=3'},\n",
       " {'data-created_on': '2017-01-19T17:51:29.426004+00:00',\n",
       "  'data-creator': 'genrichserra',\n",
       "  'data-foreign_landing_url': 'https://500px.com//photo/193774181/cat-in-a-box-by-guillermo-enrich',\n",
       "  'data-identifier': 'jEwgmz4T9LAxrvLD7LZQGA==',\n",
       "  'data-license': 'pdm',\n",
       "  'data-license_version': '3.0',\n",
       "  'data-provider': '500px',\n",
       "  'data-provider_name': '500px',\n",
       "  'data-provider_url': 'https://500px.com/',\n",
       "  'data-source': '500px',\n",
       "  'data-title': 'Cat-in-a-box',\n",
       "  'data-url': 'https://drscdn.500px.org/photo/193774181/m%3D1080_k%3D1_a%3D1/86897f0324bda0f20d74c4143dcdea62',\n",
       "  'src': 'https://drscdn.500px.org/photo/193774181/w%3D280_h%3D280/c40708d4df655976fc4a410230fa780f?v=3'},\n",
       " {'data-created_on': '2017-01-19T17:51:29.426108+00:00',\n",
       "  'data-creator': 'genrichserra',\n",
       "  'data-foreign_landing_url': 'https://500px.com//photo/193774183/mika-the-lady-cat-by-guillermo-enrich',\n",
       "  'data-identifier': 'JHu5Vfl4TeJNpK-j-lZqnQ==',\n",
       "  'data-license': 'pdm',\n",
       "  'data-license_version': '3.0',\n",
       "  'data-provider': '500px',\n",
       "  'data-provider_name': '500px',\n",
       "  'data-provider_url': 'https://500px.com/',\n",
       "  'data-source': '500px',\n",
       "  'data-title': 'Mika the Lady Cat',\n",
       "  'data-url': 'https://drscdn.500px.org/photo/193774183/m%3D1080_k%3D1_a%3D1/0a38a6e420d0474315fa0040817de029',\n",
       "  'src': 'https://drscdn.500px.org/photo/193774183/w%3D280_h%3D280/eb40e9c35f698be7f86540e9e8bf129f?v=3'},\n",
       " {'data-created_on': '2017-03-15T18:43:44.383722+00:00',\n",
       "  'data-creator': 'Henriquez, Benoit Louis',\n",
       "  'data-foreign_landing_url': 'http://www.europeana.eu/portal/record/92062/BibliographicResource_1000126175822.html?utm_source=api&utm_medium=api&utm_campaign=fjqyYDAFX',\n",
       "  'data-identifier': 'sqlja9Zyzavdxc7qu-s8Ow==',\n",
       "  'data-license': 'PDM',\n",
       "  'data-license_version': '1.0',\n",
       "  'data-provider': 'europeana',\n",
       "  'data-provider_name': 'Europeana',\n",
       "  'data-provider_url': 'http://www.europeana.eu/portal/en',\n",
       "  'data-source': 'europeana',\n",
       "  'data-tags': \"['Portrait']\",\n",
       "  'data-title': 'Le Cat, Claude Nicolas',\n",
       "  'data-url': 'http://www.bildarchivaustria.at/Preview/9294335.jpg',\n",
       "  'src': 'https://www.europeana.eu/api/v2/thumbnail-by-url.json?size=w200&type=IMAGE&uri=http%3A%2F%2Fwww.bildarchivaustria.at%2FPreview%2F9294335.jpg'},\n",
       " {'data-created_on': '2017-03-15T18:43:44.384251+00:00',\n",
       "  'data-foreign_landing_url': 'http://www.europeana.eu/portal/record/92062/BibliographicResource_1000126175817.html?utm_source=api&utm_medium=api&utm_campaign=fjqyYDAFX',\n",
       "  'data-identifier': 'Xs93MoaHa7L-Dql47ZdbNA==',\n",
       "  'data-license': 'PDM',\n",
       "  'data-license_version': '1.0',\n",
       "  'data-provider': 'europeana',\n",
       "  'data-provider_name': 'Europeana',\n",
       "  'data-provider_url': 'http://www.europeana.eu/portal/en',\n",
       "  'data-source': 'europeana',\n",
       "  'data-tags': \"['Portrait']\",\n",
       "  'data-title': 'Le Cat, Claude Nicolas',\n",
       "  'data-url': 'http://www.bildarchivaustria.at/Preview/9294356.jpg',\n",
       "  'src': 'https://www.europeana.eu/api/v2/thumbnail-by-url.json?size=w200&type=IMAGE&uri=http%3A%2F%2Fwww.bildarchivaustria.at%2FPreview%2F9294356.jpg'},\n",
       " {'data-created_on': '2017-03-15T18:43:44.384355+00:00',\n",
       "  'data-foreign_landing_url': 'http://www.europeana.eu/portal/record/92062/BibliographicResource_1000126175816.html?utm_source=api&utm_medium=api&utm_campaign=fjqyYDAFX',\n",
       "  'data-identifier': 'IpCRct6YCEuDbj_O6EhYSQ==',\n",
       "  'data-license': 'PDM',\n",
       "  'data-license_version': '1.0',\n",
       "  'data-provider': 'europeana',\n",
       "  'data-provider_name': 'Europeana',\n",
       "  'data-provider_url': 'http://www.europeana.eu/portal/en',\n",
       "  'data-source': 'europeana',\n",
       "  'data-tags': \"['Portrait']\",\n",
       "  'data-title': 'Le Cat, Claude Nicolas',\n",
       "  'data-url': 'http://www.bildarchivaustria.at/Preview/9294342.jpg',\n",
       "  'src': 'https://www.europeana.eu/api/v2/thumbnail-by-url.json?size=w200&type=IMAGE&uri=http%3A%2F%2Fwww.bildarchivaustria.at%2FPreview%2F9294342.jpg'},\n",
       " {'data-created_on': '2017-03-15T18:43:44.383827+00:00',\n",
       "  'data-foreign_landing_url': 'http://www.europeana.eu/portal/record/92062/BibliographicResource_1000126175821.html?utm_source=api&utm_medium=api&utm_campaign=fjqyYDAFX',\n",
       "  'data-identifier': 'IVh0R2GpvyO2Z5F_tJVChA==',\n",
       "  'data-license': 'PDM',\n",
       "  'data-license_version': '1.0',\n",
       "  'data-provider': 'europeana',\n",
       "  'data-provider_name': 'Europeana',\n",
       "  'data-provider_url': 'http://www.europeana.eu/portal/en',\n",
       "  'data-source': 'europeana',\n",
       "  'data-tags': \"['Portrait']\",\n",
       "  'data-title': 'Le Cat, Claude Nicolas',\n",
       "  'data-url': 'http://www.bildarchivaustria.at/Preview/9294363.jpg',\n",
       "  'src': 'https://www.europeana.eu/api/v2/thumbnail-by-url.json?size=w200&type=IMAGE&uri=http%3A%2F%2Fwww.bildarchivaustria.at%2FPreview%2F9294363.jpg'},\n",
       " {'data-created_on': '2017-03-15T18:43:44.383935+00:00',\n",
       "  'data-foreign_landing_url': 'http://www.europeana.eu/portal/record/92062/BibliographicResource_1000126175820.html?utm_source=api&utm_medium=api&utm_campaign=fjqyYDAFX',\n",
       "  'data-identifier': '66cT4Mudnjf-qLikcm0_xw==',\n",
       "  'data-license': 'PDM',\n",
       "  'data-license_version': '1.0',\n",
       "  'data-provider': 'europeana',\n",
       "  'data-provider_name': 'Europeana',\n",
       "  'data-provider_url': 'http://www.europeana.eu/portal/en',\n",
       "  'data-source': 'europeana',\n",
       "  'data-tags': \"['Portrait']\",\n",
       "  'data-title': 'Le Cat, Claude Nicolas',\n",
       "  'data-url': 'http://www.bildarchivaustria.at/Preview/9294314.jpg',\n",
       "  'src': 'https://www.europeana.eu/api/v2/thumbnail-by-url.json?size=w200&type=IMAGE&uri=http%3A%2F%2Fwww.bildarchivaustria.at%2FPreview%2F9294314.jpg'},\n",
       " {'data-created_on': '2017-03-15T18:43:44.384040+00:00',\n",
       "  'data-creator': 'Henriquez, Benoit Louis',\n",
       "  'data-foreign_landing_url': 'http://www.europeana.eu/portal/record/92062/BibliographicResource_1000126175819.html?utm_source=api&utm_medium=api&utm_campaign=fjqyYDAFX',\n",
       "  'data-identifier': 'RZcdCC2ycLlKupy1cds4RA==',\n",
       "  'data-license': 'PDM',\n",
       "  'data-license_version': '1.0',\n",
       "  'data-provider': 'europeana',\n",
       "  'data-provider_name': 'Europeana',\n",
       "  'data-provider_url': 'http://www.europeana.eu/portal/en',\n",
       "  'data-source': 'europeana',\n",
       "  'data-tags': \"['Portrait']\",\n",
       "  'data-title': 'Le Cat, Claude Nicolas',\n",
       "  'data-url': 'http://www.bildarchivaustria.at/Preview/9294321.jpg',\n",
       "  'src': 'https://www.europeana.eu/api/v2/thumbnail-by-url.json?size=w200&type=IMAGE&uri=http%3A%2F%2Fwww.bildarchivaustria.at%2FPreview%2F9294321.jpg'},\n",
       " {'data-created_on': '2017-03-15T18:43:44.384459+00:00',\n",
       "  'data-creator': 'Henriquez, Benoit Louis',\n",
       "  'data-foreign_landing_url': 'http://www.europeana.eu/portal/record/92062/BibliographicResource_1000126175815.html?utm_source=api&utm_medium=api&utm_campaign=fjqyYDAFX',\n",
       "  'data-identifier': 'CVmFv7ijtodNo74OsvVeIQ==',\n",
       "  'data-license': 'PDM',\n",
       "  'data-license_version': '1.0',\n",
       "  'data-provider': 'europeana',\n",
       "  'data-provider_name': 'Europeana',\n",
       "  'data-provider_url': 'http://www.europeana.eu/portal/en',\n",
       "  'data-source': 'europeana',\n",
       "  'data-tags': \"['Portrait']\",\n",
       "  'data-title': 'Le Cat, Claude Nicolas',\n",
       "  'data-url': 'http://www.bildarchivaustria.at/Preview/9294349.jpg',\n",
       "  'src': 'https://www.europeana.eu/api/v2/thumbnail-by-url.json?size=w200&type=IMAGE&uri=http%3A%2F%2Fwww.bildarchivaustria.at%2FPreview%2F9294349.jpg'},\n",
       " {'data-created_on': '2017-03-15T18:43:44.384564+00:00',\n",
       "  'data-foreign_landing_url': 'http://www.europeana.eu/portal/record/92062/BibliographicResource_1000126175814.html?utm_source=api&utm_medium=api&utm_campaign=fjqyYDAFX',\n",
       "  'data-identifier': 'J_wQB3E1M1f4Y8yryQiFGg==',\n",
       "  'data-license': 'PDM',\n",
       "  'data-license_version': '1.0',\n",
       "  'data-provider': 'europeana',\n",
       "  'data-provider_name': 'Europeana',\n",
       "  'data-provider_url': 'http://www.europeana.eu/portal/en',\n",
       "  'data-source': 'europeana',\n",
       "  'data-tags': \"['Portrait']\",\n",
       "  'data-title': 'Le Cat, Claude Nicolas',\n",
       "  'data-url': 'http://www.bildarchivaustria.at/Preview/9294328.jpg',\n",
       "  'src': 'https://www.europeana.eu/api/v2/thumbnail-by-url.json?size=w200&type=IMAGE&uri=http%3A%2F%2Fwww.bildarchivaustria.at%2FPreview%2F9294328.jpg'},\n",
       " {'data-created_on': '2017-01-25T22:47:55.971014+00:00',\n",
       "  'data-creator': 'Style of Whieldon type, British, Staffordshire',\n",
       "  'data-foreign_landing_url': 'http://www.metmuseum.org/art/collection/search/199447',\n",
       "  'data-identifier': 'az3urgE_YXKnNFn6PtxSrA==',\n",
       "  'data-license': 'cc0',\n",
       "  'data-license_version': '1.0',\n",
       "  'data-provider': 'met',\n",
       "  'data-provider_name': 'Metropolitan Museum of Art',\n",
       "  'data-provider_url': 'http://www.metmuseum.org/',\n",
       "  'data-source': 'met',\n",
       "  'data-title': 'Cat',\n",
       "  'data-url': 'http://images.metmuseum.org/crdimages/es/web-large/ES4212.jpg',\n",
       "  'src': 'http://images.metmuseum.org/crdimages/es/web-thumb/ES4212.jpg'},\n",
       " {'data-created_on': '2017-01-26T23:27:43.824992+00:00',\n",
       "  'data-creator': 'John Astbury (active 1687–1743), British, Staffordshire',\n",
       "  'data-foreign_landing_url': 'http://www.metmuseum.org/art/collection/search/199446',\n",
       "  'data-identifier': 'CVZPSeZQ-6UqS133cFLHUg==',\n",
       "  'data-license': 'cc0',\n",
       "  'data-license_version': '1.0',\n",
       "  'data-provider': 'met',\n",
       "  'data-provider_name': 'Metropolitan Museum of Art',\n",
       "  'data-provider_url': 'http://www.metmuseum.org/',\n",
       "  'data-source': 'met',\n",
       "  'data-title': 'Cat',\n",
       "  'data-url': 'http://images.metmuseum.org/crdimages/es/web-large/132687.jpg',\n",
       "  'src': 'http://images.metmuseum.org/crdimages/es/web-thumb/132687.jpg'},\n",
       " {'data-created_on': '2017-01-27T00:34:23.923188+00:00',\n",
       "  'data-foreign_landing_url': 'http://www.metmuseum.org/art/collection/search/570737',\n",
       "  'data-identifier': 'arkU8E1jRL1DpbQyKOXqPg==',\n",
       "  'data-license': 'cc0',\n",
       "  'data-license_version': '1.0',\n",
       "  'data-provider': 'met',\n",
       "  'data-provider_name': 'Metropolitan Museum of Art',\n",
       "  'data-provider_url': 'http://www.metmuseum.org/',\n",
       "  'data-source': 'met',\n",
       "  'data-title': 'Cat',\n",
       "  'data-url': 'http://images.metmuseum.org/crdimages/eg/web-large/04.2.812_EGDP014436.jpg',\n",
       "  'src': 'http://images.metmuseum.org/crdimages/eg/web-thumb/04.2.812_EGDP014436.jpg'},\n",
       " {'data-created_on': '2016-12-08T17:57:28.950083+00:00',\n",
       "  'data-creator': 'pheritage',\n",
       "  'data-foreign_landing_url': 'https://500px.com//photo/186709437/cat-on-the-hunt-by-peter-heritage',\n",
       "  'data-identifier': 't3myQXFs2RxYpRT2a2k9wg==',\n",
       "  'data-license': 'pdm',\n",
       "  'data-license_version': '3.0',\n",
       "  'data-provider': '500px',\n",
       "  'data-provider_name': '500px',\n",
       "  'data-provider_url': 'https://500px.com/',\n",
       "  'data-source': '500px',\n",
       "  'data-title': 'Cat on the hunt',\n",
       "  'data-url': 'https://drscdn.500px.org/photo/186709437/m%3D1080_k%3D1_a%3D1/5667039c67825129fc94e5cbb6892798',\n",
       "  'src': 'https://drscdn.500px.org/photo/186709437/w%3D280_h%3D280/d29ed746434e07359585b1cd6b7cdb13?v=3'},\n",
       " {'data-created_on': '2017-01-26T00:14:55.922344+00:00',\n",
       "  'data-creator': 'British, Staffordshire',\n",
       "  'data-foreign_landing_url': 'http://www.metmuseum.org/art/collection/search/197494',\n",
       "  'data-identifier': '3EXkrvNRTodMff7MIVPf5Q==',\n",
       "  'data-license': 'cc0',\n",
       "  'data-license_version': '1.0',\n",
       "  'data-provider': 'met',\n",
       "  'data-provider_name': 'Metropolitan Museum of Art',\n",
       "  'data-provider_url': 'http://www.metmuseum.org/',\n",
       "  'data-source': 'met',\n",
       "  'data-title': 'Cat',\n",
       "  'data-url': 'http://images.metmuseum.org/crdimages/es/web-large/DP-1143-004.jpg',\n",
       "  'src': 'http://images.metmuseum.org/crdimages/es/web-thumb/DP-1143-004.jpg'},\n",
       " {'data-created_on': '2017-01-26T16:05:57.107873+00:00',\n",
       "  'data-creator': 'British, Staffordshire',\n",
       "  'data-foreign_landing_url': 'http://www.metmuseum.org/art/collection/search/197495',\n",
       "  'data-identifier': 'Cqo2NLjHn6Zg-je_f2NL2g==',\n",
       "  'data-license': 'cc0',\n",
       "  'data-license_version': '1.0',\n",
       "  'data-provider': 'met',\n",
       "  'data-provider_name': 'Metropolitan Museum of Art',\n",
       "  'data-provider_url': 'http://www.metmuseum.org/',\n",
       "  'data-source': 'met',\n",
       "  'data-title': 'Cat',\n",
       "  'data-url': 'http://images.metmuseum.org/crdimages/es/web-large/DP-1143-006.jpg',\n",
       "  'src': 'http://images.metmuseum.org/crdimages/es/web-thumb/DP-1143-006.jpg'},\n",
       " {'data-created_on': '2017-01-26T16:23:06.260146+00:00',\n",
       "  'data-foreign_landing_url': 'http://www.metmuseum.org/art/collection/search/552042',\n",
       "  'data-identifier': 'WyYMEx0gtdzpIr__EUtINQ==',\n",
       "  'data-license': 'cc0',\n",
       "  'data-license_version': '1.0',\n",
       "  'data-provider': 'met',\n",
       "  'data-provider_name': 'Metropolitan Museum of Art',\n",
       "  'data-provider_url': 'http://www.metmuseum.org/',\n",
       "  'data-source': 'met',\n",
       "  'data-title': 'Cat',\n",
       "  'data-url': 'http://images.metmuseum.org/crdimages/eg/web-large/17.120.146_EGDP014420.jpg',\n",
       "  'src': 'http://images.metmuseum.org/crdimages/eg/web-thumb/17.120.146_EGDP014420.jpg'},\n",
       " {'data-created_on': '2017-01-27T00:36:10.139184+00:00',\n",
       "  'data-creator': 'British, Staffordshire',\n",
       "  'data-foreign_landing_url': 'http://www.metmuseum.org/art/collection/search/197496',\n",
       "  'data-identifier': 'Ty7TUrx75jYgOsPbSWOKBQ==',\n",
       "  'data-license': 'cc0',\n",
       "  'data-license_version': '1.0',\n",
       "  'data-provider': 'met',\n",
       "  'data-provider_name': 'Metropolitan Museum of Art',\n",
       "  'data-provider_url': 'http://www.metmuseum.org/',\n",
       "  'data-source': 'met',\n",
       "  'data-title': 'Cat',\n",
       "  'data-url': 'http://images.metmuseum.org/crdimages/es/web-large/ES4213.jpg',\n",
       "  'src': 'http://images.metmuseum.org/crdimages/es/web-thumb/ES4213.jpg'}]"
      ]
     },
     "execution_count": 193,
     "metadata": {},
     "output_type": "execute_result"
    }
   ],
   "source": [
    "from bs4 import BeautifulSoup\n",
    "soup = BeautifulSoup(html, 'html.parser')\n",
    "images = [img.attrs for img in soup.find_all('img') if img.attrs.get('data-title', False)]\n",
    "images"
   ]
  },
  {
   "cell_type": "markdown",
   "metadata": {},
   "source": [
    "## openplatform.dbc.dk bibliographical data"
   ]
  },
  {
   "cell_type": "code",
   "execution_count": 224,
   "metadata": {},
   "outputs": [
    {
     "data": {
      "text/plain": [
       "{'data': [{'coverUrlFull': ['https://moreinfo.addi.dk/2.10/more_info_get.php?lokalid=24504174&attachment_type=forside_stor&bibliotek=870970&source_id=870970&key=a52ae868ff3640506430'],\n",
       "   'creator': ['Haruki Murakami'],\n",
       "   'pid': ['870970-basis:24504174'],\n",
       "   'title': ['Sønden for grænsen og vesten for solen']},\n",
       "  {'coverUrlFull': ['https://moreinfo.addi.dk/2.10/more_info_get.php?lokalid=25254996&attachment_type=forside_stor&bibliotek=870970&source_id=870970&key=8c0c2971c0d40aeb6696'],\n",
       "   'creator': ['Haruki Murakami'],\n",
       "   'pid': ['870970-basis:25254996'],\n",
       "   'title': ['Sputnik min elskede']},\n",
       "  {'coverUrlFull': ['https://moreinfo.addi.dk/2.10/more_info_get.php?lokalid=26742943&attachment_type=forside_stor&bibliotek=870970&source_id=870970&key=aa1d1283c9e5444cf7b0'],\n",
       "   'creator': ['Haruki Murakami'],\n",
       "   'pid': ['870970-basis:26742943'],\n",
       "   'title': ['Kafka på stranden']},\n",
       "  {'creator': ['Haruki Murakami'],\n",
       "   'pid': ['870970-basis:22497464'],\n",
       "   'title': ['Dans, dans, dans']},\n",
       "  {'coverUrlFull': ['https://moreinfo.addi.dk/2.10/more_info_get.php?lokalid=26001897&attachment_type=forside_stor&bibliotek=870970&source_id=870970&key=e992927d46a1b6c1438d'],\n",
       "   'creator': ['Haruki Murakami'],\n",
       "   'pid': ['870970-basis:26001897'],\n",
       "   'title': ['Norwegian wood']},\n",
       "  {'coverUrlFull': ['https://moreinfo.addi.dk/2.10/more_info_get.php?lokalid=29662177&attachment_type=forside_stor&bibliotek=870970&source_id=870970&key=93f93665946d36af30c3'],\n",
       "   'creator': ['Haruki Murakami'],\n",
       "   'pid': ['870970-basis:29662177'],\n",
       "   'title': ['En vild fårejagt']},\n",
       "  {'coverUrlFull': ['https://moreinfo.addi.dk/2.10/more_info_get.php?lokalid=27434665&attachment_type=forside_stor&bibliotek=870970&source_id=870970&key=73f5b0e06cf3c99a6f5c'],\n",
       "   'creator': ['Haruki Murakami'],\n",
       "   'pid': ['870970-basis:27434665'],\n",
       "   'title': ['Efter midnat']},\n",
       "  {'creator': ['Haruki Murakami'],\n",
       "   'pid': ['874310-katalog:DBB0416292'],\n",
       "   'title': ['Fødselsdagshistorier']},\n",
       "  {'coverUrlFull': ['https://moreinfo.addi.dk/2.10/more_info_get.php?lokalid=23645564&attachment_type=forside_stor&bibliotek=870970&source_id=870970&key=23ea45f4989b88cf17ba'],\n",
       "   'creator': ['Haruki Murakami'],\n",
       "   'pid': ['870970-basis:23645564'],\n",
       "   'title': ['Trækopfuglens krønike']},\n",
       "  {'coverUrlFull': ['https://moreinfo.addi.dk/2.10/more_info_get.php?lokalid=27259820&attachment_type=forside_stor&bibliotek=870970&source_id=870970&key=a7cd73b90925babbf065'],\n",
       "   'creator': ['Haruki Murakami'],\n",
       "   'pid': ['870970-basis:27259820'],\n",
       "   'title': ['Efter skælvet']}],\n",
       " 'statusCode': 200}"
      ]
     },
     "execution_count": 224,
     "metadata": {},
     "output_type": "execute_result"
    }
   ],
   "source": [
    "search_results = json.loads(requests.get(\n",
    "    'https://openplatform.dbc.dk/v2/search', \n",
    "    params = {\n",
    "        \"access_token\": \"fa2dfc00a4697058b43b8f8c52a03af60e889339\",\n",
    "        \"q\": 'fo=\"Haruki Murakami\"',\n",
    "        \"fields\": [\"title\", \"creator\", \"pid\", \"coverUrlFull\"],\n",
    "        \"limit\": 10\n",
    "    }).text)\n",
    "search_results"
   ]
  },
  {
   "cell_type": "code",
   "execution_count": 214,
   "metadata": {},
   "outputs": [
    {
     "data": {
      "text/plain": [
       "{'data': [{'abstract': ['Aomame er en 30-årig smart pige, uddannet kampsportsinstruktør, men arbejder p.t. som lejemorder. Tengo er matematiklærer med forfatterdrømme. Han skal omskrive en sær 17-årig piges sære historie. Begge hovedfigurer oplever, at deres virkelighed forvrides let, hvad påvirker deres virkelighed?'],\n",
       "   'acIdentifier': ['28934297|870970'],\n",
       "   'acSource': ['Bibliotekskatalog'],\n",
       "   'accessType': ['physical'],\n",
       "   'alternative': ['1984'],\n",
       "   'audience': ['voksenmaterialer'],\n",
       "   'contributorTrl': ['Mette Holm'],\n",
       "   'creator': ['Haruki Murakami'],\n",
       "   'creatorAut': ['Haruki Murakami'],\n",
       "   'creatorSort': ['Murakami, Haruki'],\n",
       "   'date': ['2011'],\n",
       "   'dcLanguage': ['Dansk'],\n",
       "   'dcTitle': ['1Q84'],\n",
       "   'dcTitleFull': ['1Q84. Bog 1'],\n",
       "   'extent': ['403 sider', '3 bind'],\n",
       "   'fedoraPid': ['870970-basis:28934297'],\n",
       "   'hasCreatorDescription': ['870971-forfweb:89734541'],\n",
       "   'hasReview': ['870971-anmeld:34803048',\n",
       "    '870971-anmeld:34803501',\n",
       "    '870971-anmeld:34803013',\n",
       "    '870971-anmeld:35135340',\n",
       "    '870971-anmeld:34801029',\n",
       "    '870976-anmeld:30958357',\n",
       "    '870971-anmeld:34803498',\n",
       "    '870971-anmeld:35585338',\n",
       "    '870971-anmeld:34804206'],\n",
       "   'identifierISBN': ['9788779559202'],\n",
       "   'language': ['Dansk'],\n",
       "   'languageISO6392': ['dan'],\n",
       "   'pid': ['870970-basis:28934297'],\n",
       "   'publisher': ['Klim'],\n",
       "   'source': ['1Q84'],\n",
       "   'spatialDBCS': ['Japan'],\n",
       "   'subjectDBCS': ['kultur',\n",
       "    'kærlighed',\n",
       "    'magisk realisme',\n",
       "    'magt',\n",
       "    'parallelle verdener',\n",
       "    'skrivekunst'],\n",
       "   'subjectDK5': ['sk'],\n",
       "   'subjectDK5Text': ['Skønlitteratur'],\n",
       "   'temporalDBCP': ['1980-1989'],\n",
       "   'title': ['1Q84'],\n",
       "   'titleFull': ['1Q84'],\n",
       "   'type': ['Bog (bind 1)'],\n",
       "   'typeBibDKType': ['Bog'],\n",
       "   'undefined': ['_BASEURL_url_ctx_fmt=info:ofi/fmt:kev:mtx:ctx&ctx_ver=Z39.88-2004&rft_val_fmt=info:ofi/fmt:kev:mtx:book&rft.btitle=1Q84&rft.aulast=Murakami&rft.aufirst=Haruki&rft.auinit=H&rft.date=2011&rft.isbn=9788779559202&rft.pub=Klim&rft.edition=1.+udgave,+1.+oplag+%282011%29&rft.genre=book',\n",
       "    '_BASEURL_url_ctx_fmt=info:ofi/fmt:kev:mtx:ctx&ctx_ver=Z39.88-2004&rft_val_fmt=info:ofi/fmt:kev:mtx:book&rft.btitle=1Q84&rft.aulast=Murakami&rft.aufirst=Haruki&rft.auinit=H&rft.date=2011&rft.isbn=9788779559202&rft.pub=Klim&rft.edition=1.+udgave,+1.+oplag&rft.genre=book',\n",
       "    '_BASEURL_url_ctx_fmt=info:ofi/fmt:kev:mtx:ctx&ctx_ver=Z39.88-2004&rft_val_fmt=info:ofi/fmt:kev:mtx:book&rft.btitle=1Q84&rft.aulast=Murakami&rft.aufirst=Haruki&rft.auinit=H&rft.date=2013&rft.isbn=9788779559202&rft.pub=Klim&rft.edition=1.+udgave&rft.genre=book&rfr_id=info:sid/dbc.dk:820010-katalog'],\n",
       "   'version': ['1. udgave, 1. oplag (2011)'],\n",
       "   'workType': ['book']}],\n",
       " 'statusCode': 200}"
      ]
     },
     "execution_count": 214,
     "metadata": {},
     "output_type": "execute_result"
    }
   ],
   "source": [
    "json.loads(requests.get(\n",
    "    'https://openplatform.dbc.dk/v2/work', \n",
    "    params = {\n",
    "        \"access_token\": \"fa2dfc00a4697058b43b8f8c52a03af60e889339\",\n",
    "        \"pids\": '[\"870970-basis:28934297\"]'\n",
    "    }).text)"
   ]
  }
 ],
 "metadata": {
  "kernelspec": {
   "display_name": "Python 3",
   "language": "python",
   "name": "python3"
  },
  "language_info": {
   "codemirror_mode": {
    "name": "ipython",
    "version": 3
   },
   "file_extension": ".py",
   "mimetype": "text/x-python",
   "name": "python",
   "nbconvert_exporter": "python",
   "pygments_lexer": "ipython3",
   "version": "3.6.3"
  }
 },
 "nbformat": 4,
 "nbformat_minor": 2
}
