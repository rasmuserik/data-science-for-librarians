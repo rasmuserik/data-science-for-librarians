{
 "cells": [
  {
   "cell_type": "markdown",
   "metadata": {},
   "source": [
    "# I gang med Jupyter"
   ]
  },
  {
   "cell_type": "markdown",
   "metadata": {},
   "source": [
    "**TODO**\n",
    "\n",
    "Guide to jupyter after install"
   ]
  },
  {
   "cell_type": "markdown",
   "metadata": {},
   "source": [
    "## Opsætning\n",
    "\n",
    "Jupyter Notebook er det værktøj, som vi vil bruge til at eksperimentere me data science.\n",
    "Dette kan enten installeres lokalt på din egen computer, eller du kan køre det i skyen. Begge dele beskrives herunder."
   ]
  },
  {
   "cell_type": "markdown",
   "metadata": {},
   "source": [
    "### Lokal installation\n",
    "\n",
    "Den letteste måde at installere Jupyter Notebook lokalt på din maskine er via af værktøjet Anaconda:\n",
    "\n",
    "- Åbn <https://www.anaconda.com/download> i din webbrowser.\n",
    "- Download og kør installationsprogrammet for `Python 3.?` versionen af Anaconda, som passer til din computer (Linux/Windows/Mac, 32bit/64bit). Følg eventuelt vejledningen på websiden.\n",
    "- Start *Anaconda Navigator*, som nu er installeret, og vælg derefter at starte / \"Launch\" Jupyter Notebook.\n",
    "\n",
    "Dette starter Jupyter, og åbner en webbrowser, hvor du kan se filerne på din maskine, og redigere/køre Notebooks. Næste trin er at hente eksemplerne, så du selv kan lege med dem:\n",
    "\n",
    "- Åbn <https://github.com/solsort/data-science-for-librarians/releases> i din webbrowser.\n",
    "- Klik på / download *Source code (zip)* for den nyeste release, og udpak denne på din computer.\n",
    "\n",
    "Når filerne er pakket ud, kan du igen vende tilbage til Jupyter Notebook i din webbrowser. Her kan du vælge den mappe hvor du har pakket `data-science-for-librarians` ud, og begynde at køre Notebooks."
   ]
  },
  {
   "cell_type": "markdown",
   "metadata": {},
   "source": [
    "### Kørsel i skyen\n",
    "\n",
    "Azure giver mulighed for at køre Jupyter Notebooks gratis i skyen. For at kunne køre eksemplerne, skal du gøre følgende:\n",
    "\n",
    "- Åbn <https://notebooks.azure.com> i din webbrowser.\n",
    "- Klik på `Sign In`, opret bruger og log ind.\n",
    "- Klik på `Libraries`, og derefter `New Library`\n",
    "    - Vælg `From GitHub`\n",
    "    - Skriv `solsort/data-science-for-librarians` der hvor der står *Git repo (required)*.\n",
    "    - Find på et navn/id til projektet (*Friendly Name* / *Unique id ...*), - dette kan være hvad som helst\n",
    "    - Klik på import (først muligt når repository, name og id er udfyldt)\n",
    "\n",
    "Herefter vil eksemplerne blive loadet. Du har nu et kørende Jypyter Notebook environment, og kan åbne de enkelte notebooks ved at klikke på dem.\n",
    "\n",
    "Næste gang du logger ind, kan du bare klikke på dit igangværende projekt, og behøver ikke at vælge `New Library` etc."
   ]
  }
 ],
 "metadata": {
  "kernelspec": {
   "display_name": "Python 3",
   "language": "python",
   "name": "python3"
  },
  "language_info": {
   "codemirror_mode": {
    "name": "ipython",
    "version": 3
   },
   "file_extension": ".py",
   "mimetype": "text/x-python",
   "name": "python",
   "nbconvert_exporter": "python",
   "pygments_lexer": "ipython3",
   "version": "3.6.3"
  }
 },
 "nbformat": 4,
 "nbformat_minor": 2
}
