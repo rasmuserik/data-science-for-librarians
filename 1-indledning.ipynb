{
 "cells": [
  {
   "cell_type": "markdown",
   "metadata": {},
   "source": [
    "# Indledning"
   ]
  },
  {
   "cell_type": "markdown",
   "metadata": {
    "collapsed": true
   },
   "source": [
    "**TODO**\n",
    "\n",
    "- expand"
   ]
  },
  {
   "cell_type": "markdown",
   "metadata": {},
   "source": [
    "Formålet med dette skrift, er at give en smagsprøve på hvad data science er, og en fornemmelse af hvordan man leger med data.\n",
    "\n",
    "\n",
    "Vi starter med en \n",
    "\n",
    "\n",
    "## Læringsmål\n",
    "\n",
    "\n",
    "\n",
    "Du bliver i stand til at\n",
    "\n",
    "- køre python *notebooks*, og lave små ændringer / eksperimenter i disse\n",
    "- kende supervised / unsupervised\n"
   ]
  }
 ],
 "metadata": {
  "kernelspec": {
   "display_name": "Python 3",
   "language": "python",
   "name": "python3"
  },
  "language_info": {
   "codemirror_mode": {
    "name": "ipython",
    "version": 3
   },
   "file_extension": ".py",
   "mimetype": "text/x-python",
   "name": "python",
   "nbconvert_exporter": "python",
   "pygments_lexer": "ipython3",
   "version": "3.6.3"
  }
 },
 "nbformat": 4,
 "nbformat_minor": 2
}
