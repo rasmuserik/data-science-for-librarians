{
 "cells": [
  {
   "cell_type": "code",
   "execution_count": null,
   "metadata": {},
   "outputs": [],
   "source": [
    "%matplotlib inline\n",
    "!pip install wordcloud"
   ]
  },
  {
   "cell_type": "code",
   "execution_count": null,
   "metadata": {
    "collapsed": true
   },
   "outputs": [],
   "source": [
    "from wordcloud import WordCloud\n"
   ]
  },
  {
   "cell_type": "code",
   "execution_count": null,
   "metadata": {
    "collapsed": true
   },
   "outputs": [],
   "source": [
    "import requests\n",
    "url = \"https://www.gutenberg.org/files/2981/2981-0.txt\" # casanova\n",
    "url = \"https://www.gutenberg.org/files/1524/1524-0.txt\" # hamlet\n",
    "text = requests.get(url).text\n"
   ]
  },
  {
   "cell_type": "code",
   "execution_count": null,
   "metadata": {},
   "outputs": [],
   "source": [
    "\n",
    "wordcloud = WordCloud(\n",
    "    width=1000,\n",
    "    height=600,\n",
    "    max_words=4000,\n",
    "    stopwords=[\"Project\", \"Gutenberg\"],\n",
    "    background_color= 'white', \n",
    "    max_font_size=100\n",
    ").generate(text)\n",
    "# .generate_from_frequencies(frequencies)\n",
    "wordcloud.to_image()"
   ]
  },
  {
   "cell_type": "code",
   "execution_count": null,
   "metadata": {
    "scrolled": false
   },
   "outputs": [],
   "source": [
    "import json\n",
    "import requests\n",
    "title = \"The Beatles\"\n",
    "title = \"Yoko Ono\"\n",
    "title = \"Alan Watts\"\n",
    "title = \"Carl Jung\"\n",
    "title = \"Tao\"\n",
    "result = json.loads(requests.get(\n",
    "    'https://en.wikipedia.org/w/api.php', \n",
    "    params = {\n",
    "        \"action\": \"query\",\n",
    "        \"titles\": title,\n",
    "        \"prop\": \"links\",\n",
    "        \"format\": \"json\",\n",
    "        \"plnamespace\": [0],\n",
    "        \"pllimit\": 500\n",
    "    }).text)\n",
    "links = [link[\"title\"] for link in list(result[\"query\"][\"pages\"].values())[0][\"links\"]]\n",
    "\n",
    "titles = []\n",
    "for i in range(len(links)):\n",
    "    print(i, len(links), title)\n",
    "    title = links[i]\n",
    "    result = json.loads(requests.get(\n",
    "        'https://en.wikipedia.org/w/api.php', \n",
    "        params = {\n",
    "            \"action\": \"query\",\n",
    "            \"titles\": title,\n",
    "            \"prop\": \"links\",\n",
    "            \"format\": \"json\",\n",
    "            \"plnamespace\": [0],\n",
    "            \"pllimit\": 500\n",
    "        }).text)\n",
    "    titles = titles + [link[\"title\"] for link in list(result[\"query\"][\"pages\"].values())[0].get(\"links\", [])]\n",
    "    \n",
    "    "
   ]
  },
  {
   "cell_type": "code",
   "execution_count": null,
   "metadata": {},
   "outputs": [],
   "source": [
    "from collections import Counter\n",
    "frequencies = dict(Counter(titles).most_common())\n",
    "frequencies.pop('International Standard Book Number', None)\n",
    "frequencies.pop('Digital object identifier', None)\n",
    "frequencies.pop('National Diet Library', None)\n",
    "frequencies.pop('Système universitaire de documentation', None)\n",
    "frequencies.pop('Bibliothèque nationale de France', None)\n",
    "frequencies.pop('International Standard Name Identifier', None)\n",
    "frequencies.pop('Record label', None)\n",
    "frequencies.pop('Virtual International Authority File', None)\n",
    "frequencies.pop('Library of Congress Control Number', None)\n",
    "frequencies.pop('Music genre', None)\n",
    "frequencies.pop('Integrated Authority File', None)\n",
    "frequencies.pop('Record producer', None)\n",
    "wordcloud = WordCloud(\n",
    "    width=640,\n",
    "    height=800,\n",
    "    max_words=4000,\n",
    "    background_color= 'white'\n",
    "    , max_font_size=90\n",
    ").generate_from_frequencies(frequencies)\n",
    "wordcloud.to_image()"
   ]
  },
  {
   "cell_type": "code",
   "execution_count": null,
   "metadata": {},
   "outputs": [],
   "source": [
    "print(frequencies)"
   ]
  }
 ],
 "metadata": {
  "kernelspec": {
   "display_name": "Python 3",
   "language": "python",
   "name": "python3"
  },
  "language_info": {
   "codemirror_mode": {
    "name": "ipython",
    "version": 3
   },
   "file_extension": ".py",
   "mimetype": "text/x-python",
   "name": "python",
   "nbconvert_exporter": "python",
   "pygments_lexer": "ipython3",
   "version": "3.6.3"
  }
 },
 "nbformat": 4,
 "nbformat_minor": 2
}
