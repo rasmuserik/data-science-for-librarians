{
 "cells": [
  {
   "cell_type": "markdown",
   "metadata": {},
   "source": [
    "# Hvad er data science"
   ]
  },
  {
   "cell_type": "markdown",
   "metadata": {},
   "source": [
    "Data science handler om, at finde indsigt og viden ud fra data, gennem en videnskabelig tilgang.\n",
    "Det er en blanding af forskellige faglige felter, her iblandt:\n",
    "\n",
    "- Programmering og datalogi: Hvordan vi instruerer computeren i at finde viden fra data.\n",
    "- Informationsvidenskab: Hvordan vi strukturerer og formidler den viden vi får ud af data.\n",
    "- Statistik og matematik: Hvordan vi konceptuelt finder viden i data.\n",
    "\n",
    "Der er også en del overlap med de dele af datalogien, som hedder maskinlæring og data mining, som handler om hvordan man kan få computeren til (selv) at finde mønstre i data."
   ]
  },
  {
   "cell_type": "markdown",
   "metadata": {},
   "source": [
    "Data er alt hvad vi kan skrive ned.\n",
    "Eksempler på data er: 1) observationer, såsom en note hver gang en bog bliver udlånt, 2) tekst, såsom de fleste felter i metadata.\n",
    "\n",
    "Kvalitative data er data der kræver menneskelig fortolkning, - det kan være interviews, beskrivelse af bøger, etc.\n",
    "\n",
    "Kvantitative data er data som en computer direkte kan arbejde med, - det kan være statistiske data, lister af hændelser med tidspunkt, etc."
   ]
  }
 ],
 "metadata": {
  "kernelspec": {
   "display_name": "Python 3",
   "language": "python",
   "name": "python3"
  },
  "language_info": {
   "codemirror_mode": {
    "name": "ipython",
    "version": 3
   },
   "file_extension": ".py",
   "mimetype": "text/x-python",
   "name": "python",
   "nbconvert_exporter": "python",
   "pygments_lexer": "ipython3",
   "version": "3.6.3"
  }
 },
 "nbformat": 4,
 "nbformat_minor": 2
}
