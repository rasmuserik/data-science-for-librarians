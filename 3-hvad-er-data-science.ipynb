{
 "cells": [
  {
   "cell_type": "markdown",
   "metadata": {},
   "source": [
    "# Hvad er data science"
   ]
  },
  {
   "cell_type": "markdown",
   "metadata": {},
   "source": [
    "**TODO**\n",
    "\n",
    "- restructure/rewrite"
   ]
  },
  {
   "cell_type": "markdown",
   "metadata": {},
   "source": [
    "Data science handler om, at finde indsigt og viden ud fra data, gennem en videnskabelig tilgang.\n",
    "Det er en blanding af forskellige faglige felter, her iblandt:\n",
    "\n",
    "- Programmering og datalogi: Hvordan vi instruerer computeren i at finde viden fra data.\n",
    "- Informationsvidenskab: Hvordan vi strukturerer og formidler den viden vi får ud af data.\n",
    "- Statistik og matematik: Hvordan vi konceptuelt finder viden i data.\n",
    "\n",
    "Der er også en del overlap med de dele af datalogien, som hedder maskinlæring og data mining, som handler om hvordan man kan få computeren til (selv) at finde mønstre i data."
   ]
  },
  {
   "cell_type": "markdown",
   "metadata": {},
   "source": [
    "## Struturerede data\n",
    "\n",
    "Data er alt hvad vi kan skrive ned.\n",
    "Eksempler på data er: 1) observationer, såsom en note hver gang en bog bliver udlånt, 2) tekst, såsom de fleste felter i metadata.\n",
    "Kvalitative data er data der kræver menneskelig fortolkning, - det kan være interviews, beskrivelse af bøger, etc.\n",
    "Kvantitaive data er data som en computer direkte kan arbejde med, - det kan være statistiske data, lister af hændelser med tidspunkt, etc.\n",
    "\n",
    "Vi vil arbejde med forskellige _typer_ af data:\n",
    "\n",
    "- Tal, som både kan være heltal (... `-2`, `-1`, `0`, `1`, `2`, ...), eller kommatal (i.e. `-17.42`, `0.12345`, `1001.37`).\n",
    "- Tekststrenge eller strenge, som er kortere eller længere stykke tekst. Ordet streng kommer af at tekst er en række/sekvens/tråd/streng af enkelte bogstaver. Vi vil ofte skrive eksempler på tekststreng i anførselstegne, i.e. `\"dette er en streng\"`.\n",
    "- Sandhedsværdier eller logiske værdier, som har blot to mulige værdier: _sandt_ (`true`) eller _falskt_ (`false`).\n",
    "- Lister af data, som kan indeholder strenge, tal, sandhedsværdier, og også selv indeholde lister og ordbøger. Vi vil ofte skrive lister med firkantede paranteser, eksempel: `[\"Høeg\", \"Murakami\", \"Blixen\"]`.\n",
    "- Opslagsværker eller ordbøger/dictionaries, som giver mulighed for at slå en tekststreng op og få data tilbage. Et eksempel på en ordbog kan være metadata for en bøger, hvor man eksempelvis kan slå \"forfatter\" og \"titel\" op, og måske får \"A. A. Milne\" og \"Peter Plys\" tilbage. Ordet/strengen, som man slår op i ordbogen kaldes ofte nøglen, og de data man får tilbage kaldes værdien. Ordbøger skrives ofte med krøllede paranteser, så ordbogen med metadata kunne skrives som: `{\"titel\": \"Peter Plys\", \"forfatter\": \"A. A. Milne\"}`.\n",
    "\n",
    "Ud fra disse datatyper, kan vi nu strukturere data, eller lave _datastrukturer_. Her er et eksempel på metadata for nogle bøger:\n",
    "\n",
    "```json\n",
    "[{\"titel\": \"Peter Plys\",\n",
    "  \"forfatter\": \"A. A. Milne\",\n",
    "  \"nøgleord\": [\"børnebog\"],\n",
    "  \"tilgængelige\": true,\n",
    "  \"udlån\": 4312},\n",
    " {\"titel\": \"Turen går til Berlin\",\n",
    "  \"forfatter\": \"Kirstine Therkelsen\",\n",
    "  \"nøgleord\": [\"Berlin\", \"rejsefører\"],\n",
    "  \"tilgængelige\": false,\n",
    "  \"udlån\": 329}]\n",
    "```\n",
    "\n",
    "Denne måde at skrive data kaldes _JSON_, og er en af de mest almindelige måde at skrive strukturerede data. Eksemplet indeholder en liste af ordbøger, som igen kan indeholde andre datatyper. Bemærk også data, skrevet herover som JSON, faktisk er tekst, hvilket igen kunne repræsenteres som en tekststreng.\n"
   ]
  },
  {
   "cell_type": "markdown",
   "metadata": {},
   "source": [
    "## Regnemaskiner og tal\n",
    "\n",
    "Computere er kun regnemaskiner. Data er kun tal. Dette lyder måske svært at tro, men det er sandt.\n",
    "\n",
    "Bogstaver i computeren er tal: `A` er `65`, `B` er `66`, `C` er `67`, `D` er `68`, `E` er `69`, `F` er `70`, `G` er `71`, `H` er `72`, `I` er `73`, `J` er `74`, `K` er `75`, `L` er `76`, `M` er `77`,\n",
    "og så videre, og mellemrum, \" \" er `32`. Hvad tror du, at disse tal betyder: `72 69 74 32 77 69 68 32 68 73 71`.\n",
    "\n",
    "Husk fra foregående afsnit, at data og datastrukturer kan skrive som en tekststreng. Vi har nu set at bogstaver, og derved tekst, kan skrives som tal. Alle data kan derfor skrives som tal.\n"
   ]
  }
 ],
 "metadata": {
  "kernelspec": {
   "display_name": "Python 3",
   "language": "python",
   "name": "python3"
  },
  "language_info": {
   "codemirror_mode": {
    "name": "ipython",
    "version": 3
   },
   "file_extension": ".py",
   "mimetype": "text/x-python",
   "name": "python",
   "nbconvert_exporter": "python",
   "pygments_lexer": "ipython3",
   "version": "3.6.3"
  }
 },
 "nbformat": 4,
 "nbformat_minor": 2
}
