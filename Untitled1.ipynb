{
 "cells": [
  {
   "cell_type": "code",
   "execution_count": 1,
   "metadata": {},
   "outputs": [
    {
     "name": "stdout",
     "output_type": "stream",
     "text": [
      "Collecting bibdata\n",
      "  Downloading bibdata-0.0.1.tar.gz (8.5MB)\n",
      "\u001b[K    100% |████████████████████████████████| 8.5MB 144kB/s ta 0:00:011   27% |████████▉                       | 2.3MB 6.5MB/s eta 0:00:01\n",
      "\u001b[?25hBuilding wheels for collected packages: bibdata\n",
      "  Running setup.py bdist_wheel for bibdata ... \u001b[?25ldone\n",
      "\u001b[?25h  Stored in directory: /home/rasmuserik/.cache/pip/wheels/7a/6b/00/6e460c970cfed1d541a1c9f810a4db490cc3d2fd673799063f\n",
      "Successfully built bibdata\n",
      "Installing collected packages: bibdata\n",
      "Successfully installed bibdata-0.0.1\n"
     ]
    }
   ],
   "source": [
    "!pip install bibdata"
   ]
  },
  {
   "cell_type": "code",
   "execution_count": 4,
   "metadata": {},
   "outputs": [
    {
     "data": {
      "text/plain": [
       "array([-0.04243805,  0.03116799, -0.03634354,  0.02238094, -0.05451244,\n",
       "        0.03447609, -0.0199687 ,  0.0780076 , -0.05994757,  0.03465452,\n",
       "       -0.05834355,  0.01301661, -0.04704772,  0.11583011, -0.01909442,\n",
       "        0.02686566, -0.1316305 ,  0.02182091, -0.05025541,  0.01052229,\n",
       "       -0.06160374,  0.0811837 , -0.00138461,  0.09219474, -0.01150383,\n",
       "        0.01544951, -0.05944671,  0.059112  , -0.00506133,  0.00261993,\n",
       "       -0.01823182,  0.00424381, -0.0736195 ,  0.02573831, -0.02359465,\n",
       "        0.02554642, -0.00391879,  0.01307394, -0.06141676,  0.02956043,\n",
       "       -0.25188361,  0.12393798, -0.01116396,  0.03297156, -0.01134275,\n",
       "        0.06219507, -0.0260002 ,  0.01339445, -0.03959204,  0.20886747,\n",
       "       -0.08412226,  0.04961809, -0.17858907,  0.08678175, -0.0901635 ,\n",
       "        0.19124855, -0.06958424,  0.14282804, -0.09168883,  0.10758369,\n",
       "       -0.29775319,  0.15784846, -0.00894117,  0.11171852, -0.12306307,\n",
       "        0.14232908, -0.11912219,  0.18066518, -0.03786341,  0.00963193,\n",
       "       -0.00768767,  0.06848326, -0.08163645,  0.32512638, -0.07867036,\n",
       "        0.00624365, -0.04636129,  0.04415282, -0.13088842,  0.0476786 ,\n",
       "       -0.07567247,  0.05313686, -0.1128428 ,  0.34252979, -0.04138966,\n",
       "        0.02878053, -0.09489903,  0.13127228, -0.1227258 ,  0.08043302,\n",
       "       -0.11108595,  0.08544227, -0.11514972,  0.03141301, -0.0151841 ,\n",
       "        0.02659507, -0.05453089,  0.09927709, -0.06362367,  0.18471997])"
      ]
     },
     "execution_count": 4,
     "metadata": {},
     "output_type": "execute_result"
    }
   ],
   "source": [
    "import bibdata\n",
    "bibdata.genres[0]"
   ]
  }
 ],
 "metadata": {
  "kernelspec": {
   "display_name": "Python 3",
   "language": "python",
   "name": "python3"
  },
  "language_info": {
   "codemirror_mode": {
    "name": "ipython",
    "version": 3
   },
   "file_extension": ".py",
   "mimetype": "text/x-python",
   "name": "python",
   "nbconvert_exporter": "python",
   "pygments_lexer": "ipython3",
   "version": "3.6.3"
  }
 },
 "nbformat": 4,
 "nbformat_minor": 2
}
