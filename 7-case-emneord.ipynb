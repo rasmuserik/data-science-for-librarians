{
 "cells": [
  {
   "cell_type": "markdown",
   "metadata": {},
   "source": [
    "# Case: Emneord"
   ]
  },
  {
   "cell_type": "markdown",
   "metadata": {},
   "source": [
    "**TODO**\n",
    "- text"
   ]
  },
  {
   "cell_type": "markdown",
   "metadata": {},
   "source": [
    "Et andet spørgsmål er om vi kan bruge genrerummet til at forbedre metadata. En hypotese er emneord ligge i klumper i genrerummet. I så fald kan vi bruge dette til at have et mål for hvor typisk et materiale er for et emne.\n",
    "\n",
    "Lad os først kigge på hvorledes metadata ser ud:"
   ]
  },
  {
   "cell_type": "code",
   "execution_count": 1,
   "metadata": {},
   "outputs": [
    {
     "data": {
      "text/plain": [
       "{'_id': '870970-basis:51363035',\n",
       " 'creator': 'Jakob Martin Strid',\n",
       " 'idx': 1234,\n",
       " 'language': 'Dansk',\n",
       " 'subject-term': ['årstider',\n",
       "  'for 5 år',\n",
       "  'sk',\n",
       "  'sjove bøger',\n",
       "  'Skønlitteratur',\n",
       "  'for 4 år',\n",
       "  'for 6 år',\n",
       "  'for 3 år',\n",
       "  'venner',\n",
       "  'vejret',\n",
       "  'dyrefortællinger'],\n",
       " 'title': 'Mimbo Jimbo og den lange vinter',\n",
       " 'type': 'book'}"
      ]
     },
     "execution_count": 1,
     "metadata": {},
     "output_type": "execute_result"
    }
   ],
   "source": [
    "import bibdata\n",
    "from collections import Counter\n",
    "import numpy\n",
    "bibdata.meta[1234]"
   ]
  },
  {
   "cell_type": "markdown",
   "metadata": {},
   "source": [
    "Som vi kan se er der, for hvert materiale et antal emneord `subject-term`.\n",
    "\n",
    "Lad os fokusere på de mest populære emneord. Vi kan finde disse ved at lave en liste af alle anvendte emneord `subjects`, og derefter finde de mest hyppige af disse. Listen af alle emneord finder vi ved at gennemløbe alle bibliografiske poster `bib` og for hver af disse tilføje samtlige emneord `subject` til listen af alle emneord `subjects`. Herefter kan den indbyggede `Counter` i Python finde de hyppigst brugte emneord:"
   ]
  },
  {
   "cell_type": "code",
   "execution_count": 2,
   "metadata": {},
   "outputs": [
    {
     "data": {
      "text/plain": [
       "[('sk', 7036),\n",
       " ('Skønlitteratur', 6445),\n",
       " ('for 6 år', 1109),\n",
       " ('krimi', 1100),\n",
       " ('for 5 år', 1097),\n",
       " ('for 7 år', 1063),\n",
       " ('let at læse', 1047),\n",
       " ('for 4 år', 999),\n",
       " ('for 8 år', 932),\n",
       " ('Spillefilm', 904),\n",
       " ('Danmark', 867),\n",
       " ('kærlighed', 817),\n",
       " ('÷', 794),\n",
       " ('for 10 år', 791),\n",
       " ('for 9 år', 791),\n",
       " ('for 3 år', 769),\n",
       " ('2000-2009', 746),\n",
       " ('77.7', 721),\n",
       " ('for begynderlæsere', 673),\n",
       " ('for 11 år', 662),\n",
       " ('USA', 648),\n",
       " ('for børn', 632),\n",
       " ('for 12 år', 615),\n",
       " ('familien', 553),\n",
       " ('spænding', 548),\n",
       " ('romaner', 525),\n",
       " ('kvinder', 507),\n",
       " ('spændende bøger', 473),\n",
       " ('England', 456),\n",
       " ('Sverige', 429),\n",
       " ('Dansk', 423),\n",
       " ('2010-2019', 398),\n",
       " ('opskrifter', 377),\n",
       " ('venskab', 371),\n",
       " ('for 13 år', 369),\n",
       " ('for 2 år', 357),\n",
       " ('historie', 348),\n",
       " ('Biografier af enkelte personer', 335),\n",
       " ('humor', 330),\n",
       " ('Børnefilm', 326),\n",
       " ('77.74', 325),\n",
       " ('sjove bøger', 324),\n",
       " ('for folkeskolen', 312),\n",
       " ('for 14 år', 309),\n",
       " ('fantasy', 305),\n",
       " ('politiromaner', 304),\n",
       " ('erindringer', 296),\n",
       " ('1990-1999', 282),\n",
       " ('rejseførere', 282),\n",
       " ('piger', 259),\n",
       " ('Computerspil', 251),\n",
       " ('79.41', 251),\n",
       " ('1940-1949', 239),\n",
       " ('computerspil', 238),\n",
       " ('drama', 231),\n",
       " ('børn', 226),\n",
       " ('Frilæs/0.-2. kl.', 219),\n",
       " ('Norge', 217),\n",
       " ('1980-1989', 212),\n",
       " ('1970-1979', 211),\n",
       " ('for 15 år', 202),\n",
       " ('København', 198),\n",
       " ('drenge', 196),\n",
       " ('Billedbøger sk', 194),\n",
       " ('Folkeskolen', 189),\n",
       " ('Del af serie', 183),\n",
       " ('1960-1969', 179),\n",
       " ('bk', 178),\n",
       " ('unge', 172),\n",
       " ('Læs let', 172),\n",
       " ('amerikanske film', 165),\n",
       " ('1900-1999', 160),\n",
       " ('parforhold', 160),\n",
       " ('eventyr', 158),\n",
       " ('veninder', 155),\n",
       " ('Fantasy', 154),\n",
       " ('ægteskab', 153),\n",
       " ('dameromaner', 151),\n",
       " ('1950-1959', 150),\n",
       " ('Frankrig', 147),\n",
       " ('seriemordere', 147),\n",
       " ('Tyskland', 145),\n",
       " ('gå på opdagelse', 145),\n",
       " ('Oplæsning 0.- 2. kl.', 141),\n",
       " ('den 2. verdenskrig', 139),\n",
       " ('far-søn forholdet', 138),\n",
       " ('strikning', 138),\n",
       " ('1930-1939', 137),\n",
       " ('forelskelse', 136),\n",
       " ('identitet', 135),\n",
       " ('Strikning', 135),\n",
       " ('64.64', 135),\n",
       " ('kogebøger', 135),\n",
       " ('godt anmeldt', 132),\n",
       " ('godtanmeldt', 132),\n",
       " ('for 16 år', 132),\n",
       " ('Letlæst 1-2 kl', 132),\n",
       " ('komedier', 129),\n",
       " ('strikkeopskrifter', 128),\n",
       " ('Frilæs/3.-5. kl.', 127),\n",
       " ('Lettest rød', 126),\n",
       " ('billedbøger', 125),\n",
       " ('Skbs', 125),\n",
       " ('for 0-2. klassetrin', 125),\n",
       " ('venner', 121),\n",
       " ('slægtsromaner', 119),\n",
       " ('fodbold', 119),\n",
       " ('gys', 119),\n",
       " ('mænd', 118),\n",
       " ('London', 118),\n",
       " ('Letlæst 2-3 kl', 118),\n",
       " ('psykologisk thriller', 116),\n",
       " ('0.-2. klasse', 116),\n",
       " ('Billedbog', 115),\n",
       " ('Dingo', 115),\n",
       " ('Italien', 112),\n",
       " ('Læselet bøger', 112),\n",
       " ('SerieM', 111),\n",
       " ('Let læst for børn', 111),\n",
       " ('hunde', 109),\n",
       " ('bi sk', 106),\n",
       " ('biografier', 106),\n",
       " ('følelser', 105),\n",
       " ('Indskoling', 104),\n",
       " ('chick lit', 102),\n",
       " ('frilæsning', 102),\n",
       " ('samfundsforhold', 101),\n",
       " ('Klassesæt', 101),\n",
       " ('God læsestart', 99),\n",
       " ('eventyrlige fortællinger', 98),\n",
       " ('New York', 98),\n",
       " ('søskende', 96),\n",
       " ('Enkelte lokaliteter', 96),\n",
       " ('katte', 96),\n",
       " ('hævn', 95),\n",
       " ('3.-5. klasse', 95),\n",
       " ('Spanien', 94),\n",
       " ('heste', 94),\n",
       " ('science fiction', 93),\n",
       " ('terrorisme', 89),\n",
       " ('Tegneserier sk', 89),\n",
       " ('Lettal 14', 88),\n",
       " ('sex', 87),\n",
       " ('vokal', 87),\n",
       " ('Begynderlæsning', 87),\n",
       " ('mord', 86),\n",
       " ('dyr', 82),\n",
       " ('for 2-4 år', 80),\n",
       " ('Tegneserie', 79),\n",
       " ('pegebøger', 79),\n",
       " ('1920-1929', 78),\n",
       " ('for højtlæsning', 78),\n",
       " ('sorg', 77),\n",
       " ('vold', 77),\n",
       " ('Lettal 15', 77),\n",
       " ('Sjove bøger', 76),\n",
       " ('1910-1919', 75),\n",
       " ('spioner', 75),\n",
       " ('bortførelse', 74),\n",
       " ('Fantastisk fortæl.', 74),\n",
       " ('indvandrere', 72),\n",
       " ('Legetek', 72),\n",
       " ('mor-datter forholdet', 71),\n",
       " ('skolen', 71),\n",
       " ('landliv', 70),\n",
       " ('Oplæsning 3.- 5. kl.', 70),\n",
       " ('rim', 70),\n",
       " ('actionspil', 70),\n",
       " ('magi', 69),\n",
       " ('mobning', 69),\n",
       " ('Venskab', 68),\n",
       " ('vampyrer', 68),\n",
       " ('for 6-7 år', 68),\n",
       " ('Humor', 67),\n",
       " ('Højtlæsning', 67),\n",
       " ('ernæring', 67),\n",
       " ('1800-1899', 66),\n",
       " ('Fodbold', 66),\n",
       " ('for 3-6 år', 66),\n",
       " ('-Folkeskolen', 66),\n",
       " ('forfattere', 65),\n",
       " ('Stockholm', 65),\n",
       " ('middelalderen', 65),\n",
       " ('biografiske romaner', 65),\n",
       " ('64.1', 65),\n",
       " ('Madlavning', 65),\n",
       " ('Anbefales: 1. klasse', 65),\n",
       " ('Lix 6-10', 65),\n",
       " ('Paris', 64),\n",
       " ('politik', 64),\n",
       " ('journalister', 64),\n",
       " ('skilsmisse', 64),\n",
       " ('erotik', 63),\n",
       " ('Irland', 63),\n",
       " ('mandebøger', 62),\n",
       " ('underholdningsromaner', 62),\n",
       " ('tv-serier', 62),\n",
       " ('Lettal 13', 62),\n",
       " ('actionfilm', 62),\n",
       " ('for folkeskolenfor 0-2. klassetrinfor begynderlæsere', 62)]"
      ]
     },
     "execution_count": 2,
     "metadata": {},
     "output_type": "execute_result"
    }
   ],
   "source": [
    "subjects = []\n",
    "for bib in bibdata.meta:\n",
    "    for subject in bib.get('subject-term', []):\n",
    "        subjects.append(subject)\n",
    "Counter(subjects).most_common(200)"
   ]
  },
  {
   "cell_type": "markdown",
   "metadata": {},
   "source": [
    "Gad vide hvad `'other'` dækker over:"
   ]
  },
  {
   "cell_type": "code",
   "execution_count": 3,
   "metadata": {},
   "outputs": [
    {
     "data": {
      "text/plain": [
       "['Alt for damerne', 'Illustreret videnskab', 'Femina', 'Bo bedre', 'I form']"
      ]
     },
     "execution_count": 3,
     "metadata": {},
     "output_type": "execute_result"
    }
   ],
   "source": [
    "[bib['title'] for bib in bibdata.meta if bib.get('type') == 'other'][:5]"
   ]
  },
  {
   "cell_type": "markdown",
   "metadata": {},
   "source": [
    "Vi er i stand til at finde bøgerne med et givent emneord, ved at gennemløbe alle bøgerne (`book_id`), og kun beholde dem der har det pågældende emneord. Hvis vi eksempelvis vil finde børnefilmene kan vi gøre det således:"
   ]
  },
  {
   "cell_type": "code",
   "execution_count": 4,
   "metadata": {},
   "outputs": [],
   "source": [
    "films = [book_id for book_id in range(len(bibdata.meta))\n",
    "         if 'Børnefilm' in bibdata.meta[book_id].get('subject-term', [])]"
   ]
  },
  {
   "cell_type": "markdown",
   "metadata": {},
   "source": [
    "I koden herover er `len(bibdata.meta)` antallet af materialer, og `range(n)` returnere en liste med `n` tal, i.e. `[0,1,2,...]`. Når vi bruger `.get('subject-term', [])` får vi enten en liste af emneord, eller en tom liste hvis metadata mangler, - ellers ville koden fejle hvis vi manglede metadata.\n",
    "\n",
    "Nu da vi har listen af børnefilm kan vi finde punkterne i genrerummet for disse:"
   ]
  },
  {
   "cell_type": "markdown",
   "metadata": {},
   "source": [
    "Vi kan herefter udskrive de først 10 film:"
   ]
  },
  {
   "cell_type": "code",
   "execution_count": 5,
   "metadata": {},
   "outputs": [
    {
     "name": "stdout",
     "output_type": "stream",
     "text": [
      "['Bamses billedbog dvd - Katrine Hauch-Fausbøll (movie)', 'Kaj og Andrea - Fausbøll Katrine Hauch- (movie)', 'Ninjago - masters of spinjitzu - Sørensen Thomas inv (movie)', 'Pippi - Hellbom Olle (movie)', 'Filmhits for børn -  (movie)', 'Legends of Chima - Andreasen Tommy inv (movie)', 'Op. Med bonus features disc - Docter Pete (movie)', 'Far til fire - på japansk - Glud Thomas (movie)', 'Ratatouille - Walt Disney firma (movie)', 'Alice i Eventyrland - Walt Disney firma (movie)']\n"
     ]
    }
   ],
   "source": [
    "print([bibdata.title_creator(film) for film in films[:10]])"
   ]
  },
  {
   "cell_type": "markdown",
   "metadata": {},
   "source": [
    "Hver af disse film svare til et punkt(vektor) i genrerummet, som vi kan finde således:"
   ]
  },
  {
   "cell_type": "code",
   "execution_count": 6,
   "metadata": {},
   "outputs": [],
   "source": [
    "vectors = [bibdata.genres[film] for film in films]"
   ]
  },
  {
   "cell_type": "markdown",
   "metadata": {},
   "source": [
    "Vi forestiller os at materialerne med samme emneord, ligger i en klump i nærheden af hinanden i genrerummet. I så fald er midten af klumpen gennemsnits-punktet(`mean`), og størrelsen af klumpen den statistiske spredning(`std` = standard deviation), hvilket let findes i Python:"
   ]
  },
  {
   "cell_type": "code",
   "execution_count": 7,
   "metadata": {},
   "outputs": [],
   "source": [
    "mean = numpy.mean(vectors, axis=0)\n",
    "std = numpy.std(vectors, axis=0)"
   ]
  },
  {
   "cell_type": "markdown",
   "metadata": {},
   "source": [
    "Vi kan herefter finde ud af hvor tæt et materiale ligger på klumpen, ved at tage afstanden i genrerummet, vægtet med klumpens størrelse (spredning). I.e. vi tager punktet for materialet(`bibdata.genres[book_id]`), trækker gennemsnitspunktet fra klumpen fra(`mean`), dividere med størrelsen(`std`) og tager længden af dette `numpy.linalg.norm(...)`. Så for alice i eventyrland, cirkeline(616) og turen går til berlin(149) er deres børnefilms-agtighed (jo lavere jo bedre):"
   ]
  },
  {
   "cell_type": "code",
   "execution_count": 8,
   "metadata": {},
   "outputs": [
    {
     "name": "stdout",
     "output_type": "stream",
     "text": [
      "alice i eventyrland(film) 11.79158192\n",
      "cirkeline 19.9179050997\n",
      "berlin 38.8215720144\n"
     ]
    }
   ],
   "source": [
    "print('alice i eventyrland(film)', numpy.linalg.norm((bibdata.genres[810] - mean) / std))\n",
    "print('cirkeline', numpy.linalg.norm((bibdata.genres[616] - mean) / std))\n",
    "print('berlin', numpy.linalg.norm((bibdata.genres[149] - mean) / std))"
   ]
  },
  {
   "cell_type": "markdown",
   "metadata": {},
   "source": [
    "Vi kan nu lave en liste af biblioteksmaterialer, kombineret med hvor meget de minder om børnefilm. Hvis vi derefter sorterer disse, finder vi de mest børnefilms-agtige materialer:"
   ]
  },
  {
   "cell_type": "code",
   "execution_count": 9,
   "metadata": {},
   "outputs": [
    {
     "name": "stdout",
     "output_type": "stream",
     "text": [
      "[(6.4345398281629294, 3801), (6.6494780896369434, 738), (6.6877823144785085, 3216), (6.7020911867051352, 5598), (6.7608479969260493, 2992), (6.7826793078348446, 3866), (6.8973703018034787, 1742), (6.9213674230626134, 3148), (6.9241092655234002, 2211), (6.9706191223710414, 2931)]\n"
     ]
    }
   ],
   "source": [
    "weighted_books = [(numpy.linalg.norm((bibdata.genres[book_id]-mean)/std), book_id)\n",
    "       for book_id in range(len(bibdata.meta))]\n",
    "weighted_books.sort()\n",
    "print(weighted_books[:10])"
   ]
  },
  {
   "cell_type": "markdown",
   "metadata": {},
   "source": [
    "&dash; hvilket er følgende materialer:"
   ]
  },
  {
   "cell_type": "code",
   "execution_count": 10,
   "metadata": {},
   "outputs": [
    {
     "data": {
      "text/plain": [
       "['Shrek - Elliott Ted aus (movie)',\n",
       " 'Ratatouille - Walt Disney firma (movie)',\n",
       " 'Ice age 2 : på tynd is - Carlos Saldanha (movie)',\n",
       " 'Lilo & Stitch - Walt Disney firma (movie)',\n",
       " 'Find Nemo - Reynolds David (movie)',\n",
       " 'Shrek 2 - Vernon Conrad drt (movie)',\n",
       " 'Toy story 2 - Walt Disney firma (movie)',\n",
       " 'Junglebogen - Walt Disney firma (movie)',\n",
       " 'Happy feet - Miller George f. 1945 (movie)',\n",
       " 'Madagascar - Darnell Eric (movie)']"
      ]
     },
     "execution_count": 10,
     "metadata": {},
     "output_type": "execute_result"
    }
   ],
   "source": [
    "[bibdata.title_creator(book_id) for (weight, book_id) in weighted_books][0:10]"
   ]
  },
  {
   "cell_type": "markdown",
   "metadata": {},
   "source": [
    "Nu har vi sorteret biblioteksmaterialerne efter børnefilms-agtighed, - dette kunne være praktisk at kunne, for hvilket som helst emneord. Derfor definere vi en ny funktion, som samler denne funktionalitet:"
   ]
  },
  {
   "cell_type": "code",
   "execution_count": 11,
   "metadata": {
    "collapsed": true
   },
   "outputs": [],
   "source": [
    "def books_by_subject(subject):\n",
    "    books = [book_id for book_id in range(len(bibdata.meta)) if subject in bibdata.meta[book_id].get('subject-term', [])]\n",
    "    vectors = [bibdata.genres[book] for book in books]\n",
    "    mean = numpy.mean(vectors, axis=0)\n",
    "    std = numpy.std(vectors, axis=0)\n",
    "    weighted_books = [(numpy.linalg.norm((bibdata.genres[book_id]-mean)/std), book_id) for book_id in range(10000)]\n",
    "    sorted_books = [book_id for (weight, book_id) in sorted(weighted_books)]\n",
    "    return sorted_books"
   ]
  },
  {
   "cell_type": "markdown",
   "metadata": {},
   "source": [
    "Hvis vi tager de første materialer fra listen, som ikke har emneordet `Børnefilm` blandt dets emneord(`subject-term`), kan det være at vi finder nogle bibliografiske poster, som kunne beriges med disse metadata:"
   ]
  },
  {
   "cell_type": "code",
   "execution_count": 12,
   "metadata": {},
   "outputs": [
    {
     "data": {
      "text/plain": [
       "['Shrek - Elliott Ted aus (movie)',\n",
       " 'Shrek 2 - Vernon Conrad drt (movie)',\n",
       " 'Bee movie - det store honningkomplot - Hickner Steve (movie)',\n",
       " 'Shrek den tredje - Miller Chris instruktør (movie)',\n",
       " 'Robin Hood - Walt Disney firma (movie)',\n",
       " 'Koslænget - Oedekerk Steve (movie)',\n",
       " 'Pinocchio - Walt Disney firma (movie)',\n",
       " 'Oliver & Company - Walt Disney firma (movie)',\n",
       " 'Dumbo - Walt Disney firma (movie)',\n",
       " 'Boog & Elliot 2 - vilde venner mod husdyrene - Carls John (movie)']"
      ]
     },
     "execution_count": 12,
     "metadata": {},
     "output_type": "execute_result"
    }
   ],
   "source": [
    "[bibdata.title_creator(book_id)\n",
    "  for (weight, book_id) in weighted_books\n",
    "  if not 'Børnefilm' in bibdata.meta[book_id].get('subject-term', [])][:10]"
   ]
  },
  {
   "cell_type": "markdown",
   "metadata": {},
   "source": [
    "Konklusionen fra dette ekperiment er vist, at genrerummet godt kan bruges til at finde kandidater til berigelse af metadata.\n",
    "\n",
    "Tilsvarende kan vi også finde de Børnefilm, der er mindst børnefilms-agtige:"
   ]
  },
  {
   "cell_type": "code",
   "execution_count": 13,
   "metadata": {},
   "outputs": [
    {
     "data": {
      "text/plain": [
       "['Star wars - the clone wars - Murphy Scott aus (movie)',\n",
       " 'Kidnappet - Muasya Vibeke (movie)',\n",
       " 'Star wars - the clone wars. Sæson 1 - Lucas George (movie)',\n",
       " 'Inside out - Walt Disney firma (movie)',\n",
       " 'Eragon - Hugh Johnson (movie)']"
      ]
     },
     "execution_count": 13,
     "metadata": {},
     "output_type": "execute_result"
    }
   ],
   "source": [
    "[bibdata.title_creator(book_id)\n",
    "  for (weight, book_id) in reversed(weighted_books)\n",
    "  if 'Børnefilm' in bibdata.meta[book_id].get('subject-term', [])][0:5]"
   ]
  },
  {
   "cell_type": "markdown",
   "metadata": {},
   "source": [
    "Hvilket stadigt er børnefilm, så med dette konkrete eksperiment fandt vi ikke nogle underlige materialer i forhold til emnet.\n",
    "\n",
    "Det kunne dog være interessant, at lave lignende eksperimenter med andre emneord end \"børnefilm\", så lad os omskrive koden til en funktion så vi lettere kan ekspementere med det:"
   ]
  },
  {
   "cell_type": "code",
   "execution_count": 14,
   "metadata": {},
   "outputs": [
    {
     "data": {
      "text/plain": [
       "'sk; Skønlitteratur; for 6 år; krimi; for 5 år; for 7 år; let at læse; for 4 år; for 8 år; Spillefilm; Danmark; kærlighed; ÷; for 10 år; for 9 år; for 3 år; 2000-2009; 77.7; for begynderlæsere; for 11 år; USA; for børn; for 12 år; familien; spænding; romaner; kvinder; spændende bøger; England; Sverige; Dansk; 2010-2019; opskrifter; venskab; for 13 år; for 2 år; historie; Biografier af enkelte personer; humor; Børnefilm; 77.74; sjove bøger; for folkeskolen; for 14 år; fantasy; politiromaner; erindringer; 1990-1999; rejseførere; piger; Computerspil; 79.41; 1940-1949; computerspil; drama; børn; Frilæs/0.-2. kl.; Norge; 1980-1989; 1970-1979; for 15 år; København; drenge; Billedbøger sk; Folkeskolen; Del af serie; 1960-1969; bk; unge; Læs let; amerikanske film; 1900-1999; parforhold; eventyr; veninder; Fantasy; ægteskab; dameromaner; 1950-1959; Frankrig; seriemordere; Tyskland; gå på opdagelse; Oplæsning 0.- 2. kl.; den 2. verdenskrig; far-søn forholdet; strikning; 1930-1939; forelskelse; identitet; Strikning; 64.64; kogebøger; godt anmeldt; godtanmeldt; for 16 år; Letlæst 1-2 kl; komedier; strikkeopskrifter; Frilæs/3.-5. kl.; Lettest rød; billedbøger; Skbs; for 0-2. klassetrin; venner; slægtsromaner; fodbold; gys; mænd; London; Letlæst 2-3 kl; psykologisk thriller; 0.-2. klasse; Billedbog; Dingo; Italien; Læselet bøger; SerieM; Let læst for børn; hunde; bi sk; biografier; følelser; Indskoling; chick lit; frilæsning; samfundsforhold; Klassesæt; God læsestart; eventyrlige fortællinger; New York; søskende; Enkelte lokaliteter; katte; hævn; 3.-5. klasse; Spanien; heste; science fiction; terrorisme; Tegneserier sk; Lettal 14; sex; vokal; Begynderlæsning; mord; dyr; for 2-4 år; Tegneserie; pegebøger'"
      ]
     },
     "execution_count": 14,
     "metadata": {},
     "output_type": "execute_result"
    }
   ],
   "source": [
    "\"; \".join([subject for (subject, count) in Counter(subjects).most_common(150)])"
   ]
  },
  {
   "cell_type": "code",
   "execution_count": 15,
   "metadata": {},
   "outputs": [
    {
     "name": "stdout",
     "output_type": "stream",
     "text": [
      "Blottet for dig - Sylvia Day (book)\n",
      "Spejlet i dig - Sylvia Day (book)\n",
      "Bundet til dig - Sylvia Day (book)\n",
      "Stolthed og lyst - Sylvia Day (book)\n",
      "Syv års længsel - Sylvia Day (book)\n",
      "---- subject:sex ----\n",
      "Totte og Malene - Gunilla Wolde (book)\n",
      "Bollevenner - Gluck Will (movie)\n",
      "Emma 12 år - snart 13 - Kirsten Ahlburg (book)\n",
      "Nymphomaniac - Claro Manuel cng (movie)\n",
      "Linas aftenbog - Emma Hamberg (book)\n"
     ]
    }
   ],
   "source": [
    "subject = 'Biografier af enkelte personer'\n",
    "subject = 'computerspil'\n",
    "subject = 'sex'\n",
    "print('\\n'.join([bibdata.title_creator(book_id) for book_id in books_by_subject(subject) \n",
    " if not subject in bibdata.meta[book_id].get('subject-term', [])][:5]))\n",
    "print('---- subject:' + subject + ' ----')\n",
    "print('\\n'.join([bibdata.title_creator(book_id) for book_id in reversed(books_by_subject(subject))\n",
    " if subject in bibdata.meta[book_id].get('subject-term', [])][:5]))"
   ]
  },
  {
   "cell_type": "code",
   "execution_count": 16,
   "metadata": {},
   "outputs": [
    {
     "data": {
      "text/plain": [
       "{'_id': '870970-basis:50673103',\n",
       " 'creator': 'Dowsett Elizabeth edt',\n",
       " 'idx': 9953,\n",
       " 'language': 'Dansk',\n",
       " 'subject-term': ['!',\n",
       "  'for 12 år',\n",
       "  'for 11 år',\n",
       "  'Biografier af enkelte personer',\n",
       "  'for 9 år',\n",
       "  'Dave Filoni',\n",
       "  'Star wars - the clone wars',\n",
       "  '99.4 Filoni, Dave',\n",
       "  'Legetøj',\n",
       "  '79.31',\n",
       "  'figurer',\n",
       "  'Dave',\n",
       "  'for 10 år',\n",
       "  'Filoni, Dave',\n",
       "  'Filoni'],\n",
       " 'title': 'Star wars - clone wars figurleksikon',\n",
       " 'type': 'book'}"
      ]
     },
     "execution_count": 16,
     "metadata": {},
     "output_type": "execute_result"
    }
   ],
   "source": [
    "bibdata.meta[9953]"
   ]
  },
  {
   "cell_type": "code",
   "execution_count": 17,
   "metadata": {
    "scrolled": false
   },
   "outputs": [
    {
     "data": {
      "text/plain": [
       "[('Jorden - Leonie Pratt (book)',\n",
       "  'Anbefales: Basis,for 9 år,Planeter. Måner,for 8 år,÷,for 7 år,Jorden,52.43,Lette fagbøger'),\n",
       " ('Rumfart - Troels Gollander (book)',\n",
       "  'Rummet,Første Fakta,Sagprosa sm,for 9 år,Faglig læsning,Tværfagligt materiale,for 8 år,for folkeskolen,62.98,Faglig letlæsning,for 7 år,Lette fagbøger,Astronautik,rumfart'),\n",
       " ('Kom frem, Bella! - Otto Dickmeiss (book)',\n",
       "  'for 6-7 år,bange,sk,Skønlitteratur,for 7 år,for 6 år,hunde'),\n",
       " ('Aladdin og den magiske lampe - Katie Daynes (book)',\n",
       "  'for børn,Iran,39.12,eventyr,for 9 år,iranske eventyr,sk,for 8 år,Skønlitteratur,romaner,÷,for 10 år,persiske eventyr,Eventyr, historier og fabler,Anbefales: 2. klasse'),\n",
       " ('Alle elsker Sigge - Benedikte Biørn (audiobook)',\n",
       "  'heste,for 9 år,veninder,sk,for 8 år,Skønlitteratur,for 10 år,piger'),\n",
       " ('Pony & co. - Kirsten Sonne Harild (audiobook)',\n",
       "  'for 11 år,heste,for 9 år,veninder,sk,Skønlitteratur,for 10 år,piger'),\n",
       " ('Gode venner og et straffespark - Christian Bieniek (book)',\n",
       "  'fodbold,for 12 år,for 11 år,SerieM1,for 9 år,sk,Skønlitteratur,venskab,for 10 år,drenge'),\n",
       " ('Torsdage med Sigge - Benedikte Biørn (audiobook)',\n",
       "  'heste,for 9 år,veninder,sk,for 8 år,Skønlitteratur,for 10 år,piger'),\n",
       " ('Teddy til salg - Margareta Nordqvist (book)',\n",
       "  'for højtlæsning,heste,for 9 år,sk,for 8 år,Skønlitteratur,for 7 år,for 6 år,piger'),\n",
       " ('Firkløveret - Christina Nordstrøm (book)',\n",
       "  'Ridning,for 11 år,for 9-11 år,heste,for 9 år,pigeliv,sk,Heste,Skønlitteratur,for 10 år,ridning,Rideskole,piger')]"
      ]
     },
     "execution_count": 17,
     "metadata": {},
     "output_type": "execute_result"
    }
   ],
   "source": [
    "subject = 'let at læse'\n",
    "# books = [book_id for book_id in range(len(bibdata.meta)) if subject in bibdata.meta[book_id]['subject-term']]\n",
    "books = [book_id for book_id in range(len(bibdata.meta)) if subject in bibdata.meta[book_id].get('subject-term', [])]\n",
    "vectors = [bibdata.genres[book] for book in books]\n",
    "mean = numpy.mean(vectors, axis=0)\n",
    "std = numpy.std(vectors, axis=0)\n",
    "\n",
    "subject_books = sorted(\n",
    "    [(numpy.linalg.norm((bibdata.genres[book_id]-mean)/std, ord=1), book_id) for book_id in range(10000)])\n",
    "[(bibdata.title_creator(book_id), \",\".join(bibdata.meta[book_id].get('subject-term',[]))) for (weight, book_id) in subject_books if not book_id in books][:10]\n"
   ]
  },
  {
   "cell_type": "markdown",
   "metadata": {
    "collapsed": true
   },
   "source": [
    "## Øvelser\n",
    "\n",
    "- Find listen af de 100 eller 200 mest populære emneord, i stedet for blot de 10 mest populære.\n",
    "- Find ud af hvilke \"`sex`\"ede bøger, \"`børnefilm`\", \"`Biografier af enkelte personer`\", etc. som er outliers, enten fordi de ligner dette emne og ikke har emneorder, - eller har emneordet og ikke ligner de andre indenfor emnet. Kunne det give mening at fjerne/tilføje emneordet for disse?"
   ]
  }
 ],
 "metadata": {
  "kernelspec": {
   "display_name": "Python 3",
   "language": "python",
   "name": "python3"
  },
  "language_info": {
   "codemirror_mode": {
    "name": "ipython",
    "version": 3
   },
   "file_extension": ".py",
   "mimetype": "text/x-python",
   "name": "python",
   "nbconvert_exporter": "python",
   "pygments_lexer": "ipython3",
   "version": "3.6.3"
  }
 },
 "nbformat": 4,
 "nbformat_minor": 2
}
