{
 "cells": [
  {
   "cell_type": "markdown",
   "metadata": {},
   "source": [
    "# Case: Emneord"
   ]
  },
  {
   "cell_type": "markdown",
   "metadata": {},
   "source": [
    "**TODO**\n",
    "- text"
   ]
  },
  {
   "cell_type": "markdown",
   "metadata": {},
   "source": [
    "Et andet spørgsmål er om vi kan bruge genrerummet til at forbedre metadata. En hypotese er emneord ligge i klumper i genrerummet. I så fald kan vi bruge dette til at have et mål for hvor typisk et materiale er for et emne.\n",
    "\n",
    "Lad os først kigge på hvorledes metadata ser ud:"
   ]
  },
  {
   "cell_type": "code",
   "execution_count": 1,
   "metadata": {},
   "outputs": [
    {
     "data": {
      "text/plain": [
       "{'_id': '870970-basis:51363035',\n",
       " 'creator': 'Jakob Martin Strid',\n",
       " 'idx': 1234,\n",
       " 'language': 'Dansk',\n",
       " 'subject-term': ['årstider',\n",
       "  'for 5 år',\n",
       "  'sk',\n",
       "  'sjove bøger',\n",
       "  'Skønlitteratur',\n",
       "  'for 4 år',\n",
       "  'for 6 år',\n",
       "  'for 3 år',\n",
       "  'venner',\n",
       "  'vejret',\n",
       "  'dyrefortællinger'],\n",
       " 'title': 'Mimbo Jimbo og den lange vinter',\n",
       " 'type': 'book'}"
      ]
     },
     "execution_count": 1,
     "metadata": {},
     "output_type": "execute_result"
    }
   ],
   "source": [
    "import bibdata\n",
    "from collections import Counter\n",
    "import numpy\n",
    "bibdata.meta[1234]"
   ]
  },
  {
   "cell_type": "markdown",
   "metadata": {},
   "source": [
    "Som vi kan se er der, for hvert materiale et antal emneord `subject-term`.\n",
    "\n",
    "Lad os fokusere på de mest populære emneord. Vi kan finde disse ved at lave en liste af alle anvendte emneord `subjects`, og derefter finde de mest hyppige af disse. Listen af alle emneord finder vi ved at gennemløbe alle bibliografiske poster `bib` og for hver af disse tilføje samtlige emneord `subject` til listen af alle emneord `subjects`. Herefter kan den indbyggede `Counter` i Python finde de hyppigst brugte emneord:"
   ]
  },
  {
   "cell_type": "code",
   "execution_count": 2,
   "metadata": {},
   "outputs": [
    {
     "data": {
      "text/plain": [
       "[('sk', 7036),\n",
       " ('Skønlitteratur', 6445),\n",
       " ('for 6 år', 1109),\n",
       " ('krimi', 1100),\n",
       " ('for 5 år', 1097),\n",
       " ('for 7 år', 1063),\n",
       " ('let at læse', 1047),\n",
       " ('for 4 år', 999),\n",
       " ('for 8 år', 932),\n",
       " ('Spillefilm', 904)]"
      ]
     },
     "execution_count": 2,
     "metadata": {},
     "output_type": "execute_result"
    }
   ],
   "source": [
    "subjects = []\n",
    "for bib in bibdata.meta:\n",
    "    for subject in bib.get('subject-term', []):\n",
    "        subjects.append(subject)\n",
    "Counter(subjects).most_common(10)"
   ]
  },
  {
   "cell_type": "markdown",
   "metadata": {},
   "source": [
    "Vi er i stand til at finde bøgerne med et givent emneord, ved at gennemløbe alle bøgerne (`book_id`), og kun beholde dem der har det pågældende emneord. Hvis vi eksempelvis vil finde børnefilmene kan vi gøre det således:"
   ]
  },
  {
   "cell_type": "code",
   "execution_count": 3,
   "metadata": {
    "collapsed": true
   },
   "outputs": [],
   "source": [
    "films = [book_id for book_id in range(len(bibdata.meta))\n",
    "         if 'Børnefilm' in bibdata.meta[book_id].get('subject-term', [])]"
   ]
  },
  {
   "cell_type": "markdown",
   "metadata": {},
   "source": [
    "I koden herover er `len(bibdata.meta)` antallet af materialer, og `range(n)` returnere en liste med `n` tal, i.e. `[0,1,2,...]`. Når vi bruger `.get('subject-term', [])` får vi enten en liste af emneord, eller en tom liste hvis metadata mangler, - ellers ville koden fejle hvis vi manglede metadata.\n",
    "\n",
    "Nu da vi har listen af børnefilm kan vi finde punkterne i genrerummet for disse:"
   ]
  },
  {
   "cell_type": "markdown",
   "metadata": {},
   "source": [
    "Vi kan herefter udskrive de først 10 film:"
   ]
  },
  {
   "cell_type": "code",
   "execution_count": 4,
   "metadata": {},
   "outputs": [
    {
     "name": "stdout",
     "output_type": "stream",
     "text": [
      "['Bamses billedbog dvd - Katrine Hauch-Fausbøll (movie)', 'Kaj og Andrea - Fausbøll Katrine Hauch- (movie)', 'Ninjago - masters of spinjitzu - Sørensen Thomas inv (movie)', 'Pippi - Hellbom Olle (movie)', 'Filmhits for børn -  (movie)', 'Legends of Chima - Andreasen Tommy inv (movie)', 'Op. Med bonus features disc - Docter Pete (movie)', 'Far til fire - på japansk - Glud Thomas (movie)', 'Ratatouille - Walt Disney firma (movie)', 'Alice i Eventyrland - Walt Disney firma (movie)']\n"
     ]
    }
   ],
   "source": [
    "print([bibdata.title_creator(film) for film in films[:10]])"
   ]
  },
  {
   "cell_type": "markdown",
   "metadata": {},
   "source": [
    "Hver af disse film svare til et punkt(vektor) i genrerummet, som vi kan finde således:"
   ]
  },
  {
   "cell_type": "code",
   "execution_count": 5,
   "metadata": {
    "collapsed": true
   },
   "outputs": [],
   "source": [
    "vectors = [bibdata.genres[film] for film in films]"
   ]
  },
  {
   "cell_type": "markdown",
   "metadata": {},
   "source": [
    "Vi forestiller os at materialerne med samme emneord, ligger i en klump i nærheden af hinanden i genrerummet. I så fald er midten af klumpen gennemsnits-punktet(`mean`), og størrelsen af klumpen den statistiske spredning(`std` = standard deviation), hvilket let findes i Python:"
   ]
  },
  {
   "cell_type": "code",
   "execution_count": 6,
   "metadata": {
    "collapsed": true
   },
   "outputs": [],
   "source": [
    "mean = numpy.mean(vectors, axis=0)\n",
    "std = numpy.std(vectors, axis=0)"
   ]
  },
  {
   "cell_type": "markdown",
   "metadata": {},
   "source": [
    "Vi kan herefter finde ud af hvor tæt et materiale ligger på klumpen, ved at tage afstanden i genrerummet, vægtet med klumpens størrelse (spredning). I.e. vi tager punktet for materialet(`bibdata.genres[book_id]`), trækker gennemsnitspunktet fra klumpen fra(`mean`), dividere med størrelsen(`std`) og tager længden af dette `numpy.linalg.norm(...)`. Så for alice i eventyrland, cirkeline(616) og turen går til berlin(149) er deres børnefilms-agtighed (jo lavere jo bedre):"
   ]
  },
  {
   "cell_type": "code",
   "execution_count": 7,
   "metadata": {},
   "outputs": [
    {
     "name": "stdout",
     "output_type": "stream",
     "text": [
      "alice i eventyrland(film) 11.79158192\n",
      "cirkeline 19.9179050997\n",
      "berlin 38.8215720144\n"
     ]
    }
   ],
   "source": [
    "print('alice i eventyrland(film)', numpy.linalg.norm((bibdata.genres[810] - mean) / std))\n",
    "print('cirkeline', numpy.linalg.norm((bibdata.genres[616] - mean) / std))\n",
    "print('berlin', numpy.linalg.norm((bibdata.genres[149] - mean) / std))"
   ]
  },
  {
   "cell_type": "markdown",
   "metadata": {},
   "source": [
    "Vi kan nu lave en liste af biblioteksmaterialer, kombineret med hvor meget de minder om børnefilm. Hvis vi derefter sorterer disse, finder vi de mest børnefilms-agtige materialer:"
   ]
  },
  {
   "cell_type": "code",
   "execution_count": 8,
   "metadata": {},
   "outputs": [
    {
     "name": "stdout",
     "output_type": "stream",
     "text": [
      "[(6.4345398281629294, 3801), (6.6494780896369434, 738), (6.6877823144785085, 3216), (6.7020911867051352, 5598), (6.7608479969260493, 2992), (6.7826793078348446, 3866), (6.8973703018034787, 1742), (6.9213674230626134, 3148), (6.9241092655234002, 2211), (6.9706191223710414, 2931)]\n"
     ]
    }
   ],
   "source": [
    "weighted_books = [(numpy.linalg.norm((bibdata.genres[book_id]-mean)/std), book_id)\n",
    "       for book_id in range(len(bibdata.meta))]\n",
    "weighted_books.sort()\n",
    "print(weighted_books[:10])"
   ]
  },
  {
   "cell_type": "markdown",
   "metadata": {},
   "source": [
    "&dash; hvilket er følgende materialer:"
   ]
  },
  {
   "cell_type": "code",
   "execution_count": 9,
   "metadata": {},
   "outputs": [
    {
     "data": {
      "text/plain": [
       "['Shrek - Elliott Ted aus (movie)',\n",
       " 'Ratatouille - Walt Disney firma (movie)',\n",
       " 'Ice age 2 : på tynd is - Carlos Saldanha (movie)',\n",
       " 'Lilo & Stitch - Walt Disney firma (movie)',\n",
       " 'Find Nemo - Reynolds David (movie)',\n",
       " 'Shrek 2 - Vernon Conrad drt (movie)',\n",
       " 'Toy story 2 - Walt Disney firma (movie)',\n",
       " 'Junglebogen - Walt Disney firma (movie)',\n",
       " 'Happy feet - Miller George f. 1945 (movie)',\n",
       " 'Madagascar - Darnell Eric (movie)']"
      ]
     },
     "execution_count": 9,
     "metadata": {},
     "output_type": "execute_result"
    }
   ],
   "source": [
    "[bibdata.title_creator(book_id) for (weight, book_id) in weighted_books][0:10]"
   ]
  },
  {
   "cell_type": "markdown",
   "metadata": {},
   "source": [
    "Nu har vi sorteret biblioteksmaterialerne efter børnefilms-agtighed, - dette kunne være praktisk at kunne, for hvilket som helst emneord. Derfor definere vi en ny funktion, som samler denne funktionalitet:"
   ]
  },
  {
   "cell_type": "code",
   "execution_count": 10,
   "metadata": {
    "collapsed": true
   },
   "outputs": [],
   "source": [
    "def books_by_subject(subject):\n",
    "    books = [book_id for book_id in range(len(bibdata.meta)) if subject in bibdata.meta[book_id].get('subject-term', [])]\n",
    "    vectors = [bibdata.genres[book] for book in books]\n",
    "    mean = numpy.mean(vectors, axis=0)\n",
    "    std = numpy.std(vectors, axis=0)\n",
    "    weighted_books = [(numpy.linalg.norm((bibdata.genres[book_id]-mean)/std), book_id) for book_id in range(10000)]\n",
    "    sorted_books = [book_id for (weight, book_id) in sorted(weighted_books)]\n",
    "    return sorted_books"
   ]
  },
  {
   "cell_type": "markdown",
   "metadata": {},
   "source": [
    "Hvis vi tager de første materialer fra listen, som ikke har emneordet `Børnefilm` blandt dets emneord(`subject-term`), kan det være at vi finder nogle bibliografiske poster, som kunne beriges med disse metadata:"
   ]
  },
  {
   "cell_type": "code",
   "execution_count": 11,
   "metadata": {},
   "outputs": [
    {
     "data": {
      "text/plain": [
       "['Shrek - Elliott Ted aus (movie)',\n",
       " 'Shrek 2 - Vernon Conrad drt (movie)',\n",
       " 'Bee movie - det store honningkomplot - Hickner Steve (movie)',\n",
       " 'Shrek den tredje - Miller Chris instruktør (movie)',\n",
       " 'Robin Hood - Walt Disney firma (movie)',\n",
       " 'Koslænget - Oedekerk Steve (movie)',\n",
       " 'Pinocchio - Walt Disney firma (movie)',\n",
       " 'Oliver & Company - Walt Disney firma (movie)',\n",
       " 'Dumbo - Walt Disney firma (movie)',\n",
       " 'Boog & Elliot 2 - vilde venner mod husdyrene - Carls John (movie)']"
      ]
     },
     "execution_count": 11,
     "metadata": {},
     "output_type": "execute_result"
    }
   ],
   "source": [
    "[bibdata.title_creator(book_id)\n",
    "  for (weight, book_id) in weighted_books\n",
    "  if not 'Børnefilm' in bibdata.meta[book_id].get('subject-term', [])][:10]"
   ]
  },
  {
   "cell_type": "markdown",
   "metadata": {},
   "source": [
    "Konklusionen fra dette ekperiment er vist, at genrerummet godt kan bruges til at finde kandidater til berigelse af metadata.\n",
    "\n",
    "Tilsvarende kan vi også finde de Børnefilm, der er mindst børnefilms-agtige:"
   ]
  },
  {
   "cell_type": "code",
   "execution_count": 12,
   "metadata": {},
   "outputs": [
    {
     "data": {
      "text/plain": [
       "['Star wars - the clone wars - Murphy Scott aus (movie)',\n",
       " 'Kidnappet - Muasya Vibeke (movie)',\n",
       " 'Star wars - the clone wars. Sæson 1 - Lucas George (movie)',\n",
       " 'Inside out - Walt Disney firma (movie)',\n",
       " 'Eragon - Hugh Johnson (movie)']"
      ]
     },
     "execution_count": 12,
     "metadata": {},
     "output_type": "execute_result"
    }
   ],
   "source": [
    "[bibdata.title_creator(book_id)\n",
    "  for (weight, book_id) in reversed(weighted_books)\n",
    "  if 'Børnefilm' in bibdata.meta[book_id].get('subject-term', [])][0:5]"
   ]
  },
  {
   "cell_type": "markdown",
   "metadata": {},
   "source": [
    "Hvilket stadigt er børnefilm, så med dette konkrete eksperiment fandt vi ikke nogle underlige materialer i forhold til emnet.\n",
    "\n",
    "Det kunne dog være interessant, at lave lignende eksperimenter med andre emneord end \"børnefilm\", så lad os omskrive koden til en funktion så vi lettere kan ekspementere med det. Her er en funktion, som givet et emneord finder 1) de materialer, som ikke har emneordet, men minder mest om det i genrerummet, og 2) de materialer, som har emneordet, men minder mindst om det:"
   ]
  },
  {
   "cell_type": "code",
   "execution_count": 13,
   "metadata": {},
   "outputs": [
    {
     "name": "stdout",
     "output_type": "stream",
     "text": [
      "Without subject \"eventyr\":\n",
      "  Sjov med feer og alfer - Daniela Dogliani (book)\n",
      "  Alfer - Moffett Patricia (book)\n",
      "  Tommelise - Josef Paleček (book)\n",
      "  Snehvide - Pikka (book)\n",
      "  Alice i Eventyrland - Walt Disney firma (book)\n",
      "With subject \"eventyr\":\n",
      "  Et sted i nærheden - Cecelia Ahern (book)\n",
      "  Dragens dom - Bodil Bang Heinemeier (book)\n",
      "  Aktive fortællinger, rim og remser : dialogisk læsning med børn - Lotte Salling (book)\n",
      "  Eventyret om Gammelpot og den forheksede tepotte - Thom Roep (book)\n",
      "  Eventyret om Gammelpot og den sorte kimono - Thom Roep (book)\n"
     ]
    }
   ],
   "source": [
    "def subject_outliers(subject):\n",
    "    print('Without subject \"' + subject + '\":')\n",
    "    print('\\n'.join(['  ' + bibdata.title_creator(book_id) for book_id in books_by_subject(subject) \n",
    "                   if not subject in bibdata.meta[book_id].get('subject-term', [])][:5]))\n",
    "    print('With subject \"' + subject + '\":')\n",
    "    print('\\n'.join(['  ' + bibdata.title_creator(book_id) for book_id in reversed(books_by_subject(subject))\n",
    "                   if subject in bibdata.meta[book_id].get('subject-term', [])][:5]))\n",
    "\n",
    "subject_outliers('eventyr')"
   ]
  },
  {
   "cell_type": "markdown",
   "metadata": {},
   "source": [
    "Hvis vi skal gå videre på opdagelse i materialer, med givne emneord, kan det være praktisk med en liste med de mest almindelige emneord, hvliket findes således:"
   ]
  },
  {
   "cell_type": "code",
   "execution_count": 14,
   "metadata": {},
   "outputs": [
    {
     "data": {
      "text/plain": [
       "'sk; Skønlitteratur; for 6 år; krimi; for 5 år; for 7 år; let at læse; for 4 år; for 8 år; Spillefilm; Danmark; kærlighed; ÷; for 10 år; for 9 år; for 3 år; 2000-2009; 77.7; for begynderlæsere; for 11 år; USA; for børn; for 12 år; familien; spænding; romaner; kvinder; spændende bøger; England; Sverige; Dansk; 2010-2019; opskrifter; venskab; for 13 år; for 2 år; historie; Biografier af enkelte personer; humor; Børnefilm; 77.74; sjove bøger; for folkeskolen; for 14 år; fantasy; politiromaner; erindringer; 1990-1999; rejseførere; piger; Computerspil; 79.41; 1940-1949; computerspil; drama; børn; Frilæs/0.-2. kl.; Norge; 1980-1989; 1970-1979; for 15 år; København; drenge; Billedbøger sk; Folkeskolen; Del af serie; 1960-1969; bk; unge; Læs let; amerikanske film; 1900-1999; parforhold; eventyr; veninder; Fantasy; ægteskab; dameromaner; 1950-1959; Frankrig; seriemordere; Tyskland; gå på opdagelse; Oplæsning 0.- 2. kl.; den 2. verdenskrig; far-søn forholdet; strikning; 1930-1939; forelskelse; identitet; Strikning; 64.64; kogebøger; godt anmeldt; godtanmeldt; for 16 år; Letlæst 1-2 kl; komedier; strikkeopskrifter; Frilæs/3.-5. kl.; Lettest rød; billedbøger; Skbs; for 0-2. klassetrin; venner; slægtsromaner; fodbold; gys; mænd; London; Letlæst 2-3 kl; psykologisk thriller; 0.-2. klasse; Billedbog; Dingo; Italien; Læselet bøger; SerieM; Let læst for børn; hunde; bi sk; biografier; følelser; Indskoling; chick lit; frilæsning; samfundsforhold; Klassesæt; God læsestart; eventyrlige fortællinger; New York; søskende; Enkelte lokaliteter; katte; hævn; 3.-5. klasse; Spanien; heste; science fiction; terrorisme; Tegneserier sk; Lettal 14; sex; vokal; Begynderlæsning; mord; dyr; for 2-4 år; Tegneserie; pegebøger; 1920-1929; for højtlæsning; sorg; vold; Lettal 15; Sjove bøger; 1910-1919; spioner; bortførelse; Fantastisk fortæl.; indvandrere; Legetek; mor-datter forholdet; skolen; landliv; Oplæsning 3.- 5. kl.; rim; actionspil; magi; mobning; Venskab; vampyrer; for 6-7 år; Humor; Højtlæsning; ernæring; 1800-1899; Fodbold; for 3-6 år; -Folkeskolen; forfattere; Stockholm; middelalderen; biografiske romaner; 64.1; Madlavning; Anbefales: 1. klasse; Lix 6-10; Paris; politik; journalister; skilsmisse; erotik; Irland; mandebøger; underholdningsromaner; tv-serier; Lettal 13; actionfilm; for folkeskolenfor 0-2. klassetrinfor begynderlæsere'"
      ]
     },
     "execution_count": 14,
     "metadata": {},
     "output_type": "execute_result"
    }
   ],
   "source": [
    "\"; \".join([subject for (subject, count) in Counter(subjects).most_common(200)])"
   ]
  },
  {
   "cell_type": "markdown",
   "metadata": {},
   "source": [
    "## Forslag til metadata for materiale\n",
    "\n",
    "Nu har vi set hvorledes, vi kan finde materialer, der ligger tæt ved, eller langt fra, et givent emneord. Det kunne også være sjovt at vende det om, og se hvilket emneord, der ligger tæt på et materiale ud fra hvor det ligger i genre rummet."
   ]
  },
  {
   "cell_type": "markdown",
   "metadata": {},
   "source": [
    "Første trin er at lave en statistisk model for populære emneord, eksempelvis emneord, der er tildelt til mere end 10 materialer. Lad os allerførst lave en liste over alle emneord, og hvilke materialer der har dem:"
   ]
  },
  {
   "cell_type": "code",
   "execution_count": 15,
   "metadata": {},
   "outputs": [],
   "source": [
    "subject_dict = {}\n",
    "\n",
    "for book in bibdata.meta:\n",
    "    for subject in book.get('subject-term', []):\n",
    "        subject_dict[subject] = subject_dict.get(subject, []) + [book.get('idx')]\n",
    "\n",
    "subject_dict = {subject: book_ids for subject, book_ids in subject_dict.items() if len(book_ids) >= 10}"
   ]
  },
  {
   "cell_type": "markdown",
   "metadata": {},
   "source": [
    "Vi kan herefter lave finde gennemsnittet og spredningen, for hvert emne."
   ]
  },
  {
   "cell_type": "code",
   "execution_count": 16,
   "metadata": {
    "collapsed": true
   },
   "outputs": [],
   "source": [
    "subjects = []\n",
    "for subject, book_ids in subject_dict.items():\n",
    "    vectors = [bibdata.genres[book_id] for book_id in book_ids]\n",
    "    mean = numpy.mean(vectors, axis=0)\n",
    "    std = numpy.std(vectors, axis=0)\n",
    "    std = std / numpy.linalg.norm(std)\n",
    "    subjects.append({\"name\": subject, \"mean\": mean, \"std\": std})"
   ]
  },
  {
   "cell_type": "markdown",
   "metadata": {},
   "source": [
    "Givet et `book_id` kan vi herefter sortere emnerne efter hvor godt de passer til en given bog. Herunder tager vi 10 tilfældige bøger, og udskriver hvilke emner der passer bedst til dem i genrerummet, samt viser hvad det er for en bog, og hvilke metadata den har fået tildelt.\n",
    "\n",
    "Vi finder tilfældige bøger via `random`, og `random.seed(1)` sikre at vi får de samme bøger hver gang vi kører koden. Afstanden mellem bøger og emner bliver fundet på samme vis som tidligere herover. Denne gang er det dog emnerne, og ikke bøgerne, vi sorterer."
   ]
  },
  {
   "cell_type": "code",
   "execution_count": 17,
   "metadata": {
    "scrolled": false
   },
   "outputs": [
    {
     "name": "stdout",
     "output_type": "stream",
     "text": [
      "2201 Den uendelige historie - Michael Ende (audiobook)\n",
      "metadata: ['sk', 'Eventyrromaner', 'Skønlitteratur']\n",
      "genrerum: ['Oplæsning 6.- 7. kl.', 'fantastiske fortællinger', 'Fantastisk fortælling', 'Fantastisk fortæl.', 'Ungdomsbog', 'Seriebøger', '6.-7. klasse', 'Mellemskoling', 'parallelle verdener', 'Oplæsning 3.- 5. kl.']\n",
      "\n",
      "9325 Magia og den forsvundne baby - Rose Impey (book)\n",
      "metadata: ['for 0-2. klassetrin', 'Lettal 13', 'for folkeskolenfor 0-2. klassetrin', 'for 9 år', 'for 7 år', 'frilæsning', 'Let 13', 'sk', 'for 8 år', 'trylleri', 'Skønlitteratur', 'Folkeskolen', '÷', 'let at læse', 'søskende', 'for folkeskolen', 'Frilæs/0.-2. kl.', 'romaner']\n",
      "genrerum: ['Læse let blå 2', 'Fril. 0.-2.kl. 95 a', '1. klasse', 'Hekse', 'for 7-8 år', 'hekse', 'Lettal 16', 'Frilæs/0.-2. kl.', 'for 0-2. klassetrin', 'frilæsning']\n",
      "\n",
      "1033 Min store Peter Pedal findebog - Margret (book)\n",
      "metadata: ['aber', 'gå på opdagelse', 'for 5 år', 'sk', 'sjove bøger', 'Skønlitteratur', 'for 4 år', 'for 6 år', 'for 3 år']\n",
      "genrerum: ['gå på opdagelse', 'tal', 'for 3-6 år', 'hulbøger', 'for 5 år', 'bogstaver', 'alfabetet', 'for 6 år', 'for 4 år', 'sjove bøger']\n",
      "\n",
      "4179 Mellem sommerens længsel og vinterens kulde : en roman om en forbrydelse - Leif G. W. Persson (book)\n",
      "metadata: ['Sverige', 'politiromaner', 'sk', 'Skønlitteratur', 'Stockholm', '÷', '1980-1989', 'krimi']\n",
      "genrerum: ['Stockholm', 'politiromaner', 'økonomisk kriminalitet', 'Sverige', 'narkokriminalitet', 'Oslo', 'Frankrig', 'krimi', 'Holland', 'korruption']\n",
      "\n",
      "1931 Iris og Ruby - Rosie Thomas (book)\n",
      "metadata: ['kærlighed', 'mor-datter forholdet', 'Skønlitteratur', 'Cairo', 'den 2. verdenskrig', '1900-1999', 'Egypten', 'sk', 'kvinder', 'underholdningsromaner', 'dameromaner', 'familien', 'bk']\n",
      "genrerum: ['underholdningsromaner', 'dameromaner', 'Australien', 'bk', 'Irland', 'England', 'mor-datter forholdet', 'kærlighed', 'familien', 'barnløshed']\n",
      "\n",
      "8117 Esben - Benni Bødker (book)\n",
      "metadata: ['mystik', 'for 12 år', 'for 11 år', 'Kreta', 'spændende bøger', 'spænding', 'SerieM', 'sk', 'Skønlitteratur', '÷', 'let at læse', 'for 10 år', 'labyrinter', 'for 10-12 år']\n",
      "genrerum: ['SerieM1', 'SerieM', 'mystik', 'for 10 år', 'Anbefales: 3. klasse', 'helte', 'for 11 år', 'for 9 år', 'dæmoner', 'for 9-12 år']\n",
      "\n",
      "7364 Morgans run - Colleen McCullough (book)\n",
      "metadata: ['mænd', 'Norfolk Island', 'Australien', 'sk', 'Skønlitteratur', 'fængsler', '1700-1799', 'sociale forhold']\n",
      "genrerum: ['Australien', 'Egypten', 'historie', 'indianere', 'England', 'Sydamerika', 'Amerika', '1880-1889', 'indvandrere', 'samfundsforhold']\n",
      "\n",
      "7737 Guds fjende - Bernard Cornwell (book)\n",
      "metadata: ['England', 'legender', 'sagn', 'sk', 'Skønlitteratur', '400-499', 'riddere']\n",
      "genrerum: ['vikinger', '1200-1299', 'vikingetiden', 'sagn', 'middelalderen', 'krig', '1100-1199', 'tempelriddere', 'krige', 'oldtiden']\n",
      "\n",
      "6219 Lille Nørd - Dyr - Falck Anders (movie)\n",
      "metadata: ['77.7', '58', 'Spillefilm', 'Zoologi', 'for 5 år', 'dyr', 'for 4 år', 'for 6 år', 'for 3 år']\n",
      "genrerum: ['77.74', 'Børnefilm', 'venskab', 'tv-musik', 'superstærk', 'drenge', 'eventyr', 'feer', 'cirkus', 'dyr']\n",
      "\n",
      "3439 Bjørnen Bjørns ordbog - Tove Krebs Lange (book)\n",
      "metadata: ['begrebsindlæring', 'for 2 år', 'sk', 'Legetek', 'for 4 år', 'Skønlitteratur', 'for 3 år']\n",
      "genrerum: ['sange', 'Legetek', 'for 2-5 år', 'begrebsindlæring', '78.69', 'Vokalmusik for børn', 'børnesange', 'hulbøger', 'billedordbøger', 'tal']\n",
      "\n"
     ]
    }
   ],
   "source": [
    "import random; random.seed(1) \n",
    "\n",
    "for book_id in [random.randint(0,10000) for i in range(10)]:\n",
    "    sorted_subjects = sorted([(\n",
    "        numpy.linalg.norm((bibdata.genres[book_id]-subject.get('mean'))/subject.get('std')), \n",
    "        subject.get(\"name\")) for subject in subjects])\n",
    "    \n",
    "    print(book_id, bibdata.title_creator(book_id))\n",
    "    print('metadata:', bibdata.meta[book_id].get('subject-term'))\n",
    "    print('genrerum:', [name for weight, name in sorted_subjects[:10]])\n",
    "    print()"
   ]
  },
  {
   "cell_type": "markdown",
   "metadata": {},
   "source": [
    "Dette eksperiment, giver os både mere indsigt i metadata såvel som genrerum. Når vi ser på det første par bøger, rammer genrerummet ret godt plet:\n",
    "\n",
    "- \"Den Uendelige Historie\" - her rammer genrerummets emneord plet, og mere specifikt end de eksisterende metadata. Jeg vil give maskinen ret i at dette er en fantastisk fortælling om parallelle verdener for 6-7 klasse. Vi finder også her at der er forskellige emneord for \"fantastiske fortællinger\", hvilket kunne give mening at normalisere.\n",
    "- \"Magia\" - her er det lidt interessant at metadata er \"søskende\" og \"trylleri\", hvor det er \"hekse\" i genrerummet. Dette minder om at genrerummet afspejler hvad der ellers lånes, hvilket indikere at bogens lånere går efter andre hekse-bøger. En søgning efter bogen, viser en heks på forsiden af bogen.\n",
    "\n",
    "Det er at bemærke at den også skyder forkert. Eksempelvis: når der er geografi/tidsangivelser/etc. har betydning i metadata, kan dette også dukke op i genrerummet, men ofte skudt forkert, - i.e.: forkerte lande, vikinger omkring år 1200 i stedet for legender om riddere omkring år 400, etc.\n",
    "\n",
    "Konklusionen er at genrerummet godt kan bruges til inspiration om metadata, men ofte også tager fejl, så man kan ikke automatisk udtrække emneord for materialet."
   ]
  },
  {
   "cell_type": "markdown",
   "metadata": {},
   "source": [
    "## Anbefalinger af emneord\n",
    "\n",
    "Dette leder også til overvejelser at vi kan få anbefalinger til andre emneord ud fra et givent emneord. Afstanden mellem emnerord findes på samme vis som afstandend mellem emneord og bøger, dog med den tilføjelse at der normaliseres med begge emneords spredning."
   ]
  },
  {
   "cell_type": "code",
   "execution_count": 18,
   "metadata": {},
   "outputs": [
    {
     "data": {
      "text/plain": [
       "[(0.0, 'fantastiske fortællinger'),\n",
       " (0.21470806644596802, 'Fantastisk fortælling'),\n",
       " (0.23239969311156525, 'Fantastisk fortæl.'),\n",
       " (0.25459516388851389, 'Oplæsning 3.- 5. kl.'),\n",
       " (0.30572068889035597, 'Oplæsning 6.- 7. kl.'),\n",
       " (0.33748602850109216, 'Fantastiske fortæll.'),\n",
       " (0.34742996438457907, 'Fantastiske fortællinger'),\n",
       " (0.38532761683371447, 'Oplæsning 3.-5. kl.'),\n",
       " (0.3872408465208988, 'Seriebøger'),\n",
       " (0.38991802857842311, 'Oplæsning 3.- 5. kl'),\n",
       " (0.39393714563427235, 'Mellemskoling'),\n",
       " (0.40394883331337555, 'parallelle verdener'),\n",
       " (0.4077176021685438, 'Mellemskolingen'),\n",
       " (0.43056790566084047, 'Magi'),\n",
       " (0.45655598215088733, '6.-7. klasse'),\n",
       " (0.46311855902428201, 'Læs højt'),\n",
       " (0.46547550631549539, 'Lydbånd'),\n",
       " (0.46857549532470033, 'Fantasy'),\n",
       " (0.47136447797838282, 'Lydbog'),\n",
       " (0.49900325035367676, 'Eventyr')]"
      ]
     },
     "execution_count": 18,
     "metadata": {},
     "output_type": "execute_result"
    }
   ],
   "source": [
    "subject_name = 'fantastiske fortællinger'\n",
    "subject1 = [subject for subject in subjects if subject.get('name') == subject_name][0]\n",
    "sorted_subjects = sorted([(\n",
    "        numpy.linalg.norm((subject1.get('mean') - subject2.get('mean'))\n",
    "                          / (subject1.get('std') / subject2.get('std'))\n",
    "                         ), \n",
    "        subject2.get(\"name\")) for subject2 in subjects])\n",
    "sorted_subjects[:20]"
   ]
  },
  {
   "cell_type": "markdown",
   "metadata": {},
   "source": [
    "Konklusionen af stikprøven herover viser, at genrerummet også kan bruges til at finde relaterede emneord."
   ]
  },
  {
   "cell_type": "markdown",
   "metadata": {
    "collapsed": true
   },
   "source": [
    "## Øvelser\n",
    "\n",
    "- Find listen af de 100 eller 200 mest populære emneord, i stedet for blot de 10 mest populære.\n",
    "- Find ud af hvilke andre outliers der er, eksempelvis for emneord som \"`sex`\"ede bøger, \"`tv-serier`\", \"`Fodbold`\", \"`Biografier af enkelte personer`\", etc. som er outliers, enten fordi de ligner dette emne og ikke har emneorder, - eller har emneordet og ikke ligner de andre indenfor emnet. Kunne det give mening at fjerne/tilføje emneordet for disse?"
   ]
  }
 ],
 "metadata": {
  "kernelspec": {
   "display_name": "Python 3",
   "language": "python",
   "name": "python3"
  },
  "language_info": {
   "codemirror_mode": {
    "name": "ipython",
    "version": 3
   },
   "file_extension": ".py",
   "mimetype": "text/x-python",
   "name": "python",
   "nbconvert_exporter": "python",
   "pygments_lexer": "ipython3",
   "version": "3.6.3"
  }
 },
 "nbformat": 4,
 "nbformat_minor": 2
}
