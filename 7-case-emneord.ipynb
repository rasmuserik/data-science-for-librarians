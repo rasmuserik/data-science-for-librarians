{
 "cells": [
  {
   "cell_type": "markdown",
   "metadata": {},
   "source": [
    "# Eksperiment: Emneord"
   ]
  },
  {
   "cell_type": "code",
   "execution_count": 1,
   "metadata": {
    "collapsed": true
   },
   "outputs": [],
   "source": [
    "import bibdata\n",
    "from collections import Counter\n",
    "import numpy"
   ]
  },
  {
   "cell_type": "code",
   "execution_count": 2,
   "metadata": {},
   "outputs": [
    {
     "data": {
      "text/plain": [
       "{'_id': '870970-basis:51363035',\n",
       " 'creator': 'Jakob Martin Strid',\n",
       " 'idx': 1234,\n",
       " 'language': 'Dansk',\n",
       " 'subject-term': ['årstider',\n",
       "  'for 5 år',\n",
       "  'sk',\n",
       "  'sjove bøger',\n",
       "  'Skønlitteratur',\n",
       "  'for 4 år',\n",
       "  'for 6 år',\n",
       "  'for 3 år',\n",
       "  'venner',\n",
       "  'vejret',\n",
       "  'dyrefortællinger'],\n",
       " 'title': 'Mimbo Jimbo og den lange vinter',\n",
       " 'type': 'book'}"
      ]
     },
     "execution_count": 2,
     "metadata": {},
     "output_type": "execute_result"
    }
   ],
   "source": [
    "bibdata.meta[1234]"
   ]
  },
  {
   "cell_type": "code",
   "execution_count": 3,
   "metadata": {},
   "outputs": [
    {
     "data": {
      "text/plain": [
       "[('sk', 7036),\n",
       " ('Skønlitteratur', 6445),\n",
       " ('for 6 år', 1109),\n",
       " ('krimi', 1100),\n",
       " ('for 5 år', 1097),\n",
       " ('for 7 år', 1063),\n",
       " ('let at læse', 1047),\n",
       " ('for 4 år', 999),\n",
       " ('for 8 år', 932),\n",
       " ('Spillefilm', 904)]"
      ]
     },
     "execution_count": 3,
     "metadata": {},
     "output_type": "execute_result"
    }
   ],
   "source": [
    "subjects = []\n",
    "for bib in bibdata.meta:\n",
    "    for subject in bib.get('subject-term', []):\n",
    "        subjects.append(subject)\n",
    "Counter(subjects).most_common(10)"
   ]
  },
  {
   "cell_type": "code",
   "execution_count": 4,
   "metadata": {},
   "outputs": [
    {
     "data": {
      "text/plain": [
       "'sk; Skønlitteratur; for 6 år; krimi; for 5 år; for 7 år; let at læse; for 4 år; for 8 år; Spillefilm; Danmark; kærlighed; ÷; for 10 år; for 9 år; for 3 år; 2000-2009; 77.7; for begynderlæsere; for 11 år; USA; for børn; for 12 år; familien; spænding; romaner; kvinder; spændende bøger; England; Sverige; Dansk; 2010-2019; opskrifter; venskab; for 13 år; for 2 år; historie; Biografier af enkelte personer; humor; Børnefilm; 77.74; sjove bøger; for folkeskolen; for 14 år; fantasy; politiromaner; erindringer; 1990-1999; rejseførere; piger; Computerspil; 79.41; 1940-1949; computerspil; drama; børn; Frilæs/0.-2. kl.; Norge; 1980-1989; 1970-1979; for 15 år; København; drenge; Billedbøger sk; Folkeskolen; Del af serie; 1960-1969; bk; unge; Læs let; amerikanske film; 1900-1999; parforhold; eventyr; veninder; Fantasy; ægteskab; dameromaner; 1950-1959; Frankrig; seriemordere; Tyskland; gå på opdagelse; Oplæsning 0.- 2. kl.; den 2. verdenskrig; far-søn forholdet; strikning; 1930-1939; forelskelse; identitet; Strikning; 64.64; kogebøger; godt anmeldt; godtanmeldt; for 16 år; Letlæst 1-2 kl; komedier; strikkeopskrifter; Frilæs/3.-5. kl.; Lettest rød; billedbøger; Skbs; for 0-2. klassetrin; venner; slægtsromaner; fodbold; gys; mænd; London; Letlæst 2-3 kl; psykologisk thriller; 0.-2. klasse; Billedbog; Dingo; Italien; Læselet bøger; SerieM; Let læst for børn; hunde; bi sk; biografier; følelser; Indskoling; chick lit; frilæsning; samfundsforhold; Klassesæt; God læsestart; eventyrlige fortællinger; New York; søskende; Enkelte lokaliteter; katte; hævn; 3.-5. klasse; Spanien; heste; science fiction; terrorisme; Tegneserier sk; Lettal 14; sex; vokal; Begynderlæsning; mord; dyr; for 2-4 år; Tegneserie; pegebøger'"
      ]
     },
     "execution_count": 4,
     "metadata": {},
     "output_type": "execute_result"
    }
   ],
   "source": [
    "\"; \".join([subject for (subject, count) in Counter(subjects).most_common(150)])"
   ]
  },
  {
   "cell_type": "markdown",
   "metadata": {},
   "source": [
    "Lad os udforske hvilke typer af biblioteksmaterialer der er:"
   ]
  },
  {
   "cell_type": "code",
   "execution_count": 5,
   "metadata": {},
   "outputs": [
    {
     "data": {
      "text/plain": [
       "[('book', 7895),\n",
       " ('movie', 1055),\n",
       " ('audiobook', 608),\n",
       " ('game', 232),\n",
       " ('other', 119)]"
      ]
     },
     "execution_count": 5,
     "metadata": {},
     "output_type": "execute_result"
    }
   ],
   "source": [
    "Counter([bib.get('type') for bib in bibdata.meta]).most_common(5)"
   ]
  },
  {
   "cell_type": "markdown",
   "metadata": {},
   "source": [
    "Gad vide hvad `'other'` dækker over:"
   ]
  },
  {
   "cell_type": "code",
   "execution_count": 6,
   "metadata": {},
   "outputs": [
    {
     "data": {
      "text/plain": [
       "['Alt for damerne', 'Illustreret videnskab', 'Femina', 'Bo bedre', 'I form']"
      ]
     },
     "execution_count": 6,
     "metadata": {},
     "output_type": "execute_result"
    }
   ],
   "source": [
    "[bib['title'] for bib in bibdata.meta if bib.get('type') == 'other'][:5]"
   ]
  },
  {
   "cell_type": "code",
   "execution_count": 7,
   "metadata": {},
   "outputs": [],
   "source": [
    "def books_by_subject(subject):\n",
    "    books = [book_id for book_id in range(len(bibdata.meta)) if subject in bibdata.meta[book_id].get('subject-term', [])]\n",
    "    vectors = [bibdata.genres[book] for book in books]\n",
    "    mean = numpy.mean(vectors, axis=0)\n",
    "    std = numpy.std(vectors, axis=0)\n",
    "    weighted_books = [(numpy.linalg.norm((bibdata.genres[book_id]-mean)/std), book_id) for book_id in range(10000)]\n",
    "    sorted_books = [book_id for (weight, book_id) in sorted(weighted_books)]\n",
    "    return sorted_books"
   ]
  },
  {
   "cell_type": "code",
   "execution_count": 8,
   "metadata": {},
   "outputs": [
    {
     "data": {
      "text/plain": [
       "'sk; Skønlitteratur; for 6 år; krimi; for 5 år; for 7 år; let at læse; for 4 år; for 8 år; Spillefilm; Danmark; kærlighed; ÷; for 10 år; for 9 år; for 3 år; 2000-2009; 77.7; for begynderlæsere; for 11 år; USA; for børn; for 12 år; familien; spænding; romaner; kvinder; spændende bøger; England; Sverige; Dansk; 2010-2019; opskrifter; venskab; for 13 år; for 2 år; historie; Biografier af enkelte personer; humor; Børnefilm; 77.74; sjove bøger; for folkeskolen; for 14 år; fantasy; politiromaner; erindringer; 1990-1999; rejseførere; piger; Computerspil; 79.41; 1940-1949; computerspil; drama; børn; Frilæs/0.-2. kl.; Norge; 1980-1989; 1970-1979; for 15 år; København; drenge; Billedbøger sk; Folkeskolen; Del af serie; 1960-1969; bk; unge; Læs let; amerikanske film; 1900-1999; parforhold; eventyr; veninder; Fantasy; ægteskab; dameromaner; 1950-1959; Frankrig; seriemordere; Tyskland; gå på opdagelse; Oplæsning 0.- 2. kl.; den 2. verdenskrig; far-søn forholdet; strikning; 1930-1939; forelskelse; identitet; Strikning; 64.64; kogebøger; godt anmeldt; godtanmeldt; for 16 år; Letlæst 1-2 kl; komedier; strikkeopskrifter; Frilæs/3.-5. kl.; Lettest rød; billedbøger; Skbs; for 0-2. klassetrin; venner; slægtsromaner; fodbold; gys; mænd; London; Letlæst 2-3 kl; psykologisk thriller; 0.-2. klasse; Billedbog; Dingo; Italien; Læselet bøger; SerieM; Let læst for børn; hunde; bi sk; biografier; følelser; Indskoling; chick lit; frilæsning; samfundsforhold; Klassesæt; God læsestart; eventyrlige fortællinger; New York; søskende; Enkelte lokaliteter; katte; hævn; 3.-5. klasse; Spanien; heste; science fiction; terrorisme; Tegneserier sk; Lettal 14; sex; vokal; Begynderlæsning; mord; dyr; for 2-4 år; Tegneserie; pegebøger'"
      ]
     },
     "execution_count": 8,
     "metadata": {},
     "output_type": "execute_result"
    }
   ],
   "source": [
    "\"; \".join([subject for (subject, count) in Counter(subjects).most_common(150)])"
   ]
  },
  {
   "cell_type": "code",
   "execution_count": 9,
   "metadata": {},
   "outputs": [
    {
     "name": "stdout",
     "output_type": "stream",
     "text": [
      "Surf's up - Ubi Soft (game)\n",
      "Spider-man 3 -  (game)\n",
      "Asterix at the Olympic Games - René Goscinny (game)\n",
      "Rayman - raving rabbids - Ubi Soft (game)\n",
      "Brave : the search for Spirit Dancer - Mark Hughes (game)\n",
      "---- subject:computerspil ----\n",
      "Det 13. spil : roman - Morten Sabroe (book)\n",
      "Ripper : krimi - Isabel Allende (book)\n",
      "Tron - legacy - Walt Disney firma (movie)\n",
      "De ukendte - Jan Solheim (book)\n",
      "Minecraft : byggehåndbogen - Mojang (book)\n"
     ]
    }
   ],
   "source": [
    "subject = 'Biografier af enkelte personer'\n",
    "subject = 'computerspil'\n",
    "print('\\n'.join([bibdata.title_creator(book_id) for book_id in books_by_subject(subject) \n",
    " if not subject in bibdata.meta[book_id].get('subject-term', [])][:5]))\n",
    "print('---- subject:' + subject + ' ----')\n",
    "print('\\n'.join([bibdata.title_creator(book_id) for book_id in reversed(books_by_subject(subject))\n",
    " if subject in bibdata.meta[book_id].get('subject-term', [])][:5]))"
   ]
  },
  {
   "cell_type": "code",
   "execution_count": 10,
   "metadata": {},
   "outputs": [
    {
     "data": {
      "text/plain": [
       "{'_id': '870970-basis:50673103',\n",
       " 'creator': 'Dowsett Elizabeth edt',\n",
       " 'idx': 9953,\n",
       " 'language': 'Dansk',\n",
       " 'subject-term': ['!',\n",
       "  'for 12 år',\n",
       "  'for 11 år',\n",
       "  'Biografier af enkelte personer',\n",
       "  'for 9 år',\n",
       "  'Dave Filoni',\n",
       "  'Star wars - the clone wars',\n",
       "  '99.4 Filoni, Dave',\n",
       "  'Legetøj',\n",
       "  '79.31',\n",
       "  'figurer',\n",
       "  'Dave',\n",
       "  'for 10 år',\n",
       "  'Filoni, Dave',\n",
       "  'Filoni'],\n",
       " 'title': 'Star wars - clone wars figurleksikon',\n",
       " 'type': 'book'}"
      ]
     },
     "execution_count": 10,
     "metadata": {},
     "output_type": "execute_result"
    }
   ],
   "source": [
    "bibdata.meta[9953]"
   ]
  },
  {
   "cell_type": "code",
   "execution_count": 11,
   "metadata": {
    "scrolled": false
   },
   "outputs": [
    {
     "data": {
      "text/plain": [
       "[('Jorden - Leonie Pratt (book)',\n",
       "  'Anbefales: Basis,for 9 år,Planeter. Måner,for 8 år,÷,for 7 år,Jorden,52.43,Lette fagbøger'),\n",
       " ('Rumfart - Troels Gollander (book)',\n",
       "  'Rummet,Første Fakta,Sagprosa sm,for 9 år,Faglig læsning,Tværfagligt materiale,for 8 år,for folkeskolen,62.98,Faglig letlæsning,for 7 år,Lette fagbøger,Astronautik,rumfart'),\n",
       " ('Kom frem, Bella! - Otto Dickmeiss (book)',\n",
       "  'for 6-7 år,bange,sk,Skønlitteratur,for 7 år,for 6 år,hunde'),\n",
       " ('Aladdin og den magiske lampe - Katie Daynes (book)',\n",
       "  'for børn,Iran,39.12,eventyr,for 9 år,iranske eventyr,sk,for 8 år,Skønlitteratur,romaner,÷,for 10 år,persiske eventyr,Eventyr, historier og fabler,Anbefales: 2. klasse'),\n",
       " ('Alle elsker Sigge - Benedikte Biørn (audiobook)',\n",
       "  'heste,for 9 år,veninder,sk,for 8 år,Skønlitteratur,for 10 år,piger'),\n",
       " ('Pony & co. - Kirsten Sonne Harild (audiobook)',\n",
       "  'for 11 år,heste,for 9 år,veninder,sk,Skønlitteratur,for 10 år,piger'),\n",
       " ('Gode venner og et straffespark - Christian Bieniek (book)',\n",
       "  'fodbold,for 12 år,for 11 år,SerieM1,for 9 år,sk,Skønlitteratur,venskab,for 10 år,drenge'),\n",
       " ('Torsdage med Sigge - Benedikte Biørn (audiobook)',\n",
       "  'heste,for 9 år,veninder,sk,for 8 år,Skønlitteratur,for 10 år,piger'),\n",
       " ('Teddy til salg - Margareta Nordqvist (book)',\n",
       "  'for højtlæsning,heste,for 9 år,sk,for 8 år,Skønlitteratur,for 7 år,for 6 år,piger'),\n",
       " ('Firkløveret - Christina Nordstrøm (book)',\n",
       "  'Ridning,for 11 år,for 9-11 år,heste,for 9 år,pigeliv,sk,Heste,Skønlitteratur,for 10 år,ridning,Rideskole,piger')]"
      ]
     },
     "execution_count": 11,
     "metadata": {},
     "output_type": "execute_result"
    }
   ],
   "source": [
    "subject = 'let at læse'\n",
    "# books = [book_id for book_id in range(len(bibdata.meta)) if subject in bibdata.meta[book_id]['subject-term']]\n",
    "books = [book_id for book_id in range(len(bibdata.meta)) if subject in bibdata.meta[book_id].get('subject-term', [])]\n",
    "vectors = [bibdata.genres[book] for book in books]\n",
    "mean = numpy.mean(vectors, axis=0)\n",
    "std = numpy.std(vectors, axis=0)\n",
    "\n",
    "subject_books = sorted(\n",
    "    [(numpy.linalg.norm((bibdata.genres[book_id]-mean)/std, ord=1), book_id) for book_id in range(10000)])\n",
    "[(bibdata.title_creator(book_id), \",\".join(bibdata.meta[book_id].get('subject-term',[]))) for (weight, book_id) in subject_books if not book_id in books][:10]\n"
   ]
  },
  {
   "cell_type": "code",
   "execution_count": null,
   "metadata": {
    "collapsed": true
   },
   "outputs": [],
   "source": []
  }
 ],
 "metadata": {
  "kernelspec": {
   "display_name": "Python 3",
   "language": "python",
   "name": "python3"
  },
  "language_info": {
   "codemirror_mode": {
    "name": "ipython",
    "version": 3
   },
   "file_extension": ".py",
   "mimetype": "text/x-python",
   "name": "python",
   "nbconvert_exporter": "python",
   "pygments_lexer": "ipython3",
   "version": "3.6.3"
  }
 },
 "nbformat": 4,
 "nbformat_minor": 2
}
