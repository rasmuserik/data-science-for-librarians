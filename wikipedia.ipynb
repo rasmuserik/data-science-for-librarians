{
 "cells": [
  {
   "cell_type": "code",
   "execution_count": 46,
   "metadata": {},
   "outputs": [
    {
     "data": {
      "text/plain": [
       "{'continue': {'continue': '||', 'plcontinue': '6479315|0|ARIA_Charts'},\n",
       " 'query': {'pages': {'6479315': {'links': [{'ns': 0,\n",
       "      'title': '2010 FIFA World Cup'},\n",
       "     {'ns': 0, 'title': '2014 FIFA World Cup'},\n",
       "     {'ns': 0, 'title': '2014 FIFA World Cup closing ceremony'},\n",
       "     {'ns': 0, 'title': '2014 Radio Disney Music Awards'},\n",
       "     {'ns': 0, 'title': '2016 in film'},\n",
       "     {'ns': 0, 'title': '49th Grammy Awards'},\n",
       "     {'ns': 0, 'title': '65th Golden Globe Awards'},\n",
       "     {'ns': 0, 'title': '7 vidas'},\n",
       "     {'ns': 0, 'title': 'A&E Networks'},\n",
       "     {'ns': 0, 'title': 'ABC News'}],\n",
       "    'ns': 0,\n",
       "    'pageid': 6479315,\n",
       "    'title': 'Shakira'}}}}"
      ]
     },
     "execution_count": 46,
     "metadata": {},
     "output_type": "execute_result"
    }
   ],
   "source": [
    "import requests\n",
    "import json\n",
    "title = \"Shakira\"\n",
    "result = requests.get('https://en.wikipedia.org/w/api.php', params={\n",
    "            \"action\": \"query\",\n",
    "            \"titles\": title,\n",
    "            \"prop\": \"links\",\n",
    "            \"format\": \"json\",\n",
    "            \"pllimit\": 10\n",
    "})\n",
    "result = json.loads(result.text)\n",
    "result"
   ]
  },
  {
   "cell_type": "code",
   "execution_count": 45,
   "metadata": {},
   "outputs": [
    {
     "data": {
      "text/plain": [
       "['2010 FIFA World Cup',\n",
       " '2014 FIFA World Cup',\n",
       " '2014 FIFA World Cup closing ceremony',\n",
       " '2014 Radio Disney Music Awards',\n",
       " '2016 in film',\n",
       " '49th Grammy Awards',\n",
       " '65th Golden Globe Awards',\n",
       " '7 vidas',\n",
       " 'A&E Networks',\n",
       " 'ABC News']"
      ]
     },
     "execution_count": 45,
     "metadata": {},
     "output_type": "execute_result"
    }
   ],
   "source": [
    "result = result[\"query\"][\"pages\"];\n",
    "result = list(result.values())[0]\n",
    "result = [link[\"title\"] for link in result[\"links\"]]\n",
    "result"
   ]
  },
  {
   "cell_type": "code",
   "execution_count": 84,
   "metadata": {
    "scrolled": false
   },
   "outputs": [
    {
     "name": "stdout",
     "output_type": "stream",
     "text": [
      "Philosophy\n",
      "Meta-analysis\n",
      "Multivariate statistics\n",
      "Parametric statistics\n",
      "Statistical dispersion\n",
      "Divergence (statistics)\n",
      "Spearman's rank correlation coefficient\n",
      "Proportional hazards model\n",
      "Central limit theorem\n",
      "Mathematische Zeitschrift\n",
      "German language\n"
     ]
    }
   ],
   "source": [
    "import random\n",
    "title = \"Philosophy\"\n",
    "for i in range(1000):\n",
    "    result = requests.get('https://en.wikipedia.org/w/api.php', params={\n",
    "            \"action\": \"query\",\n",
    "            \"titles\": title,\n",
    "            \"prop\": \"links\",\n",
    "            \"format\": \"json\",\n",
    "            \"plnamespace\": [0],\n",
    "            \"pllimit\": 500\n",
    "        \n",
    "    })\n",
    "    result = json.loads(result.text)\n",
    "    result = result[\"query\"][\"pages\"];\n",
    "    result = list(result.values())[0]\n",
    "    result = result.get(\"links\", False);\n",
    "    if not result:\n",
    "        break\n",
    "    result = [link[\"title\"] for link in result]\n",
    "    print(title)\n",
    "    title = random.choice(result)"
   ]
  },
  {
   "cell_type": "code",
   "execution_count": 1,
   "metadata": {},
   "outputs": [
    {
     "name": "stdout",
     "output_type": "stream",
     "text": [
      "Blues 500\n",
      "List of dance style categories 766\n",
      "Dance improvisation 794\n",
      "List of lindy hop moves 807\n",
      "Lindy exchange 834\n",
      "Blues (disambiguation) 897\n",
      "Close embrace 906\n",
      "List of North American folk music traditions 1186\n",
      "Lindy hop today 1345\n",
      "Talang 2007 1494\n",
      "The Spirit Moves 1523\n",
      "List of street and vernacular dances 1621\n",
      "Butler May 1645\n",
      "Disappearance of Tiffany Daniels 1696\n"
     ]
    }
   ],
   "source": [
    "import urllib\n",
    "import json\n",
    "parents = json.loads(\n",
    "urllib.request.urlopen(\n",
    "    \"https://en.wikipedia.org/w/api.php?\" +\n",
    "    urllib.parse.urlencode({\n",
    "        \"action\": \"query\",\n",
    "        \"lhlimit\": 50,\n",
    "        \"titles\": \"Blues dance\",\n",
    "        \"prop\": \"linkshere\",\n",
    "        \"format\": \"json\",\n",
    "        \"lhnamespace\": 0,\n",
    "        \"lhshow\": \"!redirect\"\n",
    "    })\n",
    ").read())\n",
    "\n",
    "parents = parents[\"query\"][\"pages\"]\n",
    "[_, parents] = parents.popitem()\n",
    "parents = [o[\"title\"] for o in parents[\"linkshere\"]]\n",
    "\"\"\"\n",
    "for o in parents:\n",
    "    print(o[\"title\"])\n",
    "    pages += wikipedia.page(o[\"title\"]).links\n",
    "    \n",
    "print(pages)\n",
    "\"\"\"\n",
    "title = parents[0]\n",
    "peers = []\n",
    "for title in parents:\n",
    "    result = json.loads(urllib.request.urlopen(\n",
    "        \"https://en.wikipedia.org/w/api.php?\" +\n",
    "        urllib.parse.urlencode({\n",
    "            \"action\": \"query\",\n",
    "            \"titles\": title,\n",
    "            \"prop\": \"links\",\n",
    "            \"format\": \"json\",\n",
    "            \"plnamespace\": 0,\n",
    "            \"pllimit\": 500\n",
    "        })\n",
    "    ).read())\n",
    "    peers = peers + [o[\"title\"] for o in result[\"query\"][\"pages\"].popitem()[1][\"links\"]]\n",
    "    print(title, len(peers))\n"
   ]
  },
  {
   "cell_type": "code",
   "execution_count": null,
   "metadata": {
    "collapsed": true
   },
   "outputs": [],
   "source": []
  },
  {
   "cell_type": "code",
   "execution_count": 2,
   "metadata": {},
   "outputs": [
    {
     "data": {
      "text/plain": [
       "[('Blues dance', 14),\n",
       " ('Charleston (dance)', 7),\n",
       " ('Balboa (dance)', 6),\n",
       " ('Lindy Hop', 6),\n",
       " ('International Standard Book Number', 4),\n",
       " ('Salsa (dance)', 4),\n",
       " ('Tap dance', 4),\n",
       " ('West Coast Swing', 4),\n",
       " ('Lindy hop', 4),\n",
       " ('Blues', 4),\n",
       " ('Double bass', 3),\n",
       " ('Funk', 3),\n",
       " ('Capoeira', 3),\n",
       " ('Collegiate Shag', 3),\n",
       " ('East Coast Swing', 3),\n",
       " ('Locking (dance)', 3),\n",
       " ('Partner dance', 3),\n",
       " ('Popping', 3),\n",
       " ('Social dance', 3),\n",
       " ('Swing (dance)', 3),\n",
       " ('Vernacular dance', 3),\n",
       " ('Frankie Manning', 3),\n",
       " ('Swing dance', 3),\n",
       " ('New Orleans', 3),\n",
       " ('Piano', 3),\n",
       " ('Big Apple (dance)', 3),\n",
       " ('African-American', 2),\n",
       " ('African-American culture', 2),\n",
       " ('African American music', 2),\n",
       " ('Alan Lomax', 2),\n",
       " ('American folk music', 2),\n",
       " ('Argentina', 2),\n",
       " ('Banjo', 2),\n",
       " ('Bass guitar', 2),\n",
       " ('Bebop', 2),\n",
       " ('Big band', 2),\n",
       " ('Blue note', 2),\n",
       " ('Bluegrass music', 2),\n",
       " ('Brass band', 2),\n",
       " ('Cajun music', 2),\n",
       " ('Call and response (music)', 2),\n",
       " ('Camp meeting', 2),\n",
       " ('Country music', 2),\n",
       " ('Dance in the United States', 2),\n",
       " ('Delta blues', 2),\n",
       " ('Depression (mood)', 2),\n",
       " ('Diddley bow', 2),\n",
       " ('Dixieland', 2),\n",
       " ('Duke Ellington', 2),\n",
       " ('English language', 2)]"
      ]
     },
     "execution_count": 2,
     "metadata": {},
     "output_type": "execute_result"
    }
   ],
   "source": [
    "from collections import Counter\n",
    "Counter(peers).most_common(50)"
   ]
  }
 ],
 "metadata": {
  "kernelspec": {
   "display_name": "Python 3",
   "language": "python",
   "name": "python3"
  },
  "language_info": {
   "codemirror_mode": {
    "name": "ipython",
    "version": 3
   },
   "file_extension": ".py",
   "mimetype": "text/x-python",
   "name": "python",
   "nbconvert_exporter": "python",
   "pygments_lexer": "ipython3",
   "version": "3.6.3"
  }
 },
 "nbformat": 4,
 "nbformat_minor": 2
}
