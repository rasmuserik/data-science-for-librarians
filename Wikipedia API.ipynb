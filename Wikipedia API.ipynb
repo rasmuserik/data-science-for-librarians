{
 "cells": [
  {
   "cell_type": "code",
   "execution_count": 1,
   "metadata": {},
   "outputs": [
    {
     "name": "stdout",
     "output_type": "stream",
     "text": [
      "Blues 500\n",
      "List of dance style categories 766\n",
      "Dance improvisation 794\n",
      "List of lindy hop moves 807\n",
      "Lindy exchange 834\n",
      "Blues (disambiguation) 897\n",
      "Close embrace 906\n",
      "List of North American folk music traditions 1186\n",
      "Lindy hop today 1345\n",
      "Talang 2007 1494\n",
      "The Spirit Moves 1523\n",
      "List of street and vernacular dances 1621\n",
      "Butler May 1645\n",
      "Disappearance of Tiffany Daniels 1696\n"
     ]
    }
   ],
   "source": [
    "import urllib\n",
    "import json\n",
    "parents = json.loads(\n",
    "urllib.request.urlopen(\n",
    "    \"https://en.wikipedia.org/w/api.php?\" +\n",
    "    urllib.parse.urlencode({\n",
    "        \"action\": \"query\",\n",
    "        \"lhlimit\": 50,\n",
    "        \"titles\": \"Blues dance\",\n",
    "        \"prop\": \"linkshere\",\n",
    "        \"format\": \"json\",\n",
    "        \"lhnamespace\": 0,\n",
    "        \"lhshow\": \"!redirect\"\n",
    "    })\n",
    ").read())\n",
    "\n",
    "parents = parents[\"query\"][\"pages\"]\n",
    "[_, parents] = parents.popitem()\n",
    "parents = [o[\"title\"] for o in parents[\"linkshere\"]]\n",
    "\"\"\"\n",
    "for o in parents:\n",
    "    print(o[\"title\"])\n",
    "    pages += wikipedia.page(o[\"title\"]).links\n",
    "    \n",
    "print(pages)\n",
    "\"\"\"\n",
    "title = parents[0]\n",
    "peers = []\n",
    "for title in parents:\n",
    "    result = json.loads(urllib.request.urlopen(\n",
    "        \"https://en.wikipedia.org/w/api.php?\" +\n",
    "        urllib.parse.urlencode({\n",
    "            \"action\": \"query\",\n",
    "            \"titles\": title,\n",
    "            \"prop\": \"links\",\n",
    "            \"format\": \"json\",\n",
    "            \"plnamespace\": 0,\n",
    "            \"pllimit\": 500\n",
    "        })\n",
    "    ).read())\n",
    "    peers = peers + [o[\"title\"] for o in result[\"query\"][\"pages\"].popitem()[1][\"links\"]]\n",
    "    print(title, len(peers))\n"
   ]
  },
  {
   "cell_type": "code",
   "execution_count": 3,
   "metadata": {},
   "outputs": [
    {
     "data": {
      "text/plain": [
       "[('Blues dance', 14),\n",
       " ('Charleston (dance)', 7),\n",
       " ('Balboa (dance)', 6),\n",
       " ('Lindy Hop', 6),\n",
       " ('International Standard Book Number', 4),\n",
       " ('Salsa (dance)', 4),\n",
       " ('Tap dance', 4),\n",
       " ('West Coast Swing', 4),\n",
       " ('Lindy hop', 4),\n",
       " ('Blues', 4),\n",
       " ('Double bass', 3),\n",
       " ('Funk', 3),\n",
       " ('Capoeira', 3),\n",
       " ('Collegiate Shag', 3),\n",
       " ('East Coast Swing', 3),\n",
       " ('Locking (dance)', 3),\n",
       " ('Partner dance', 3),\n",
       " ('Popping', 3),\n",
       " ('Social dance', 3),\n",
       " ('Swing (dance)', 3)]"
      ]
     },
     "execution_count": 3,
     "metadata": {},
     "output_type": "execute_result"
    }
   ],
   "source": [
    "from collections import Counter\n",
    "Counter(peers).most_common(20)"
   ]
  }
 ],
 "metadata": {
  "kernelspec": {
   "display_name": "Python 3",
   "language": "python",
   "name": "python3"
  },
  "language_info": {
   "codemirror_mode": {
    "name": "ipython",
    "version": 3
   },
   "file_extension": ".py",
   "mimetype": "text/x-python",
   "name": "python",
   "nbconvert_exporter": "python",
   "pygments_lexer": "ipython3",
   "version": "3.6.3"
  }
 },
 "nbformat": 4,
 "nbformat_minor": 2
}
