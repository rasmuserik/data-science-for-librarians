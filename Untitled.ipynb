{
 "cells": [
  {
   "cell_type": "code",
   "execution_count": 1,
   "metadata": {},
   "outputs": [
    {
     "name": "stdout",
     "output_type": "stream",
     "text": [
      "Collecting ipyturtle\n",
      "  Downloading ipyturtle-0.2.0-py2.py3-none-any.whl (81kB)\n",
      "\u001b[K    100% |████████████████████████████████| 81kB 433kB/s ta 0:00:01\n",
      "\u001b[?25hRequirement already satisfied: ipywidgets>=5.1.5 in /home/rasmuserik/anaconda3/lib/python3.6/site-packages (from ipyturtle)\n",
      "Requirement already satisfied: ipykernel>=4.5.1 in /home/rasmuserik/anaconda3/lib/python3.6/site-packages (from ipywidgets>=5.1.5->ipyturtle)\n",
      "Requirement already satisfied: traitlets>=4.3.1 in /home/rasmuserik/anaconda3/lib/python3.6/site-packages (from ipywidgets>=5.1.5->ipyturtle)\n",
      "Requirement already satisfied: nbformat>=4.2.0 in /home/rasmuserik/anaconda3/lib/python3.6/site-packages (from ipywidgets>=5.1.5->ipyturtle)\n",
      "Requirement already satisfied: widgetsnbextension~=3.0.0 in /home/rasmuserik/anaconda3/lib/python3.6/site-packages (from ipywidgets>=5.1.5->ipyturtle)\n",
      "Requirement already satisfied: ipython>=4.0.0 in /home/rasmuserik/anaconda3/lib/python3.6/site-packages (from ipywidgets>=5.1.5->ipyturtle)\n",
      "Requirement already satisfied: jupyter_client in /home/rasmuserik/anaconda3/lib/python3.6/site-packages (from ipykernel>=4.5.1->ipywidgets>=5.1.5->ipyturtle)\n",
      "Requirement already satisfied: tornado>=4.0 in /home/rasmuserik/anaconda3/lib/python3.6/site-packages (from ipykernel>=4.5.1->ipywidgets>=5.1.5->ipyturtle)\n",
      "Requirement already satisfied: ipython_genutils in /home/rasmuserik/anaconda3/lib/python3.6/site-packages (from traitlets>=4.3.1->ipywidgets>=5.1.5->ipyturtle)\n",
      "Requirement already satisfied: six in /home/rasmuserik/anaconda3/lib/python3.6/site-packages (from traitlets>=4.3.1->ipywidgets>=5.1.5->ipyturtle)\n",
      "Requirement already satisfied: decorator in /home/rasmuserik/anaconda3/lib/python3.6/site-packages (from traitlets>=4.3.1->ipywidgets>=5.1.5->ipyturtle)\n",
      "Requirement already satisfied: jsonschema!=2.5.0,>=2.4 in /home/rasmuserik/anaconda3/lib/python3.6/site-packages (from nbformat>=4.2.0->ipywidgets>=5.1.5->ipyturtle)\n",
      "Requirement already satisfied: jupyter_core in /home/rasmuserik/anaconda3/lib/python3.6/site-packages (from nbformat>=4.2.0->ipywidgets>=5.1.5->ipyturtle)\n",
      "Requirement already satisfied: notebook>=4.4.1 in /home/rasmuserik/anaconda3/lib/python3.6/site-packages (from widgetsnbextension~=3.0.0->ipywidgets>=5.1.5->ipyturtle)\n",
      "Requirement already satisfied: setuptools>=18.5 in /home/rasmuserik/anaconda3/lib/python3.6/site-packages (from ipython>=4.0.0->ipywidgets>=5.1.5->ipyturtle)\n",
      "Requirement already satisfied: jedi>=0.10 in /home/rasmuserik/anaconda3/lib/python3.6/site-packages (from ipython>=4.0.0->ipywidgets>=5.1.5->ipyturtle)\n",
      "Requirement already satisfied: pickleshare in /home/rasmuserik/anaconda3/lib/python3.6/site-packages (from ipython>=4.0.0->ipywidgets>=5.1.5->ipyturtle)\n",
      "Requirement already satisfied: simplegeneric>0.8 in /home/rasmuserik/anaconda3/lib/python3.6/site-packages (from ipython>=4.0.0->ipywidgets>=5.1.5->ipyturtle)\n",
      "Requirement already satisfied: prompt_toolkit<2.0.0,>=1.0.4 in /home/rasmuserik/anaconda3/lib/python3.6/site-packages (from ipython>=4.0.0->ipywidgets>=5.1.5->ipyturtle)\n",
      "Requirement already satisfied: pygments in /home/rasmuserik/anaconda3/lib/python3.6/site-packages (from ipython>=4.0.0->ipywidgets>=5.1.5->ipyturtle)\n",
      "Requirement already satisfied: pexpect in /home/rasmuserik/anaconda3/lib/python3.6/site-packages (from ipython>=4.0.0->ipywidgets>=5.1.5->ipyturtle)\n",
      "Requirement already satisfied: pyzmq>=13 in /home/rasmuserik/anaconda3/lib/python3.6/site-packages (from jupyter_client->ipykernel>=4.5.1->ipywidgets>=5.1.5->ipyturtle)\n",
      "Requirement already satisfied: python-dateutil>=2.1 in /home/rasmuserik/anaconda3/lib/python3.6/site-packages (from jupyter_client->ipykernel>=4.5.1->ipywidgets>=5.1.5->ipyturtle)\n",
      "Requirement already satisfied: wcwidth in /home/rasmuserik/anaconda3/lib/python3.6/site-packages (from prompt_toolkit<2.0.0,>=1.0.4->ipython>=4.0.0->ipywidgets>=5.1.5->ipyturtle)\n",
      "Installing collected packages: ipyturtle\n",
      "Successfully installed ipyturtle-0.2.0\n"
     ]
    }
   ],
   "source": [
    "!pip install ipyturtle"
   ]
  },
  {
   "cell_type": "code",
   "execution_count": 7,
   "metadata": {
    "collapsed": true
   },
   "outputs": [],
   "source": [
    "len?"
   ]
  },
  {
   "cell_type": "code",
   "execution_count": 10,
   "metadata": {
    "collapsed": true
   },
   "outputs": [],
   "source": [
    "from ipyturtle import Turtle\n",
    "t = Turtle()\n",
    "t.forward(100);\n",
    "t\n",
    "t??"
   ]
  },
  {
   "cell_type": "code",
   "execution_count": 11,
   "metadata": {},
   "outputs": [
    {
     "name": "stdout",
     "output_type": "stream",
     "text": [
      "<__main__.Shout object at 0x7f20c4d30898>\n"
     ]
    }
   ],
   "source": [
    "class Shout(object):\n",
    "    def __init__(self, text):\n",
    "        self.text = text\n",
    "\n",
    "    def _repr_html_(self):\n",
    "        return \"<h1>\" + self.text + \"</h1>\"\n",
    "\n",
    "h = Shout('hi')\n",
    "print(h)"
   ]
  },
  {
   "cell_type": "code",
   "execution_count": 1,
   "metadata": {
    "collapsed": true
   },
   "outputs": [],
   "source": [
    "import PIL"
   ]
  },
  {
   "cell_type": "code",
   "execution_count": null,
   "metadata": {
    "collapsed": true
   },
   "outputs": [],
   "source": [
    "PIL.Image"
   ]
  }
 ],
 "metadata": {
  "kernelspec": {
   "display_name": "Python 3",
   "language": "python",
   "name": "python3"
  },
  "language_info": {
   "codemirror_mode": {
    "name": "ipython",
    "version": 3
   },
   "file_extension": ".py",
   "mimetype": "text/x-python",
   "name": "python",
   "nbconvert_exporter": "python",
   "pygments_lexer": "ipython3",
   "version": "3.6.3"
  }
 },
 "nbformat": 4,
 "nbformat_minor": 2
}
