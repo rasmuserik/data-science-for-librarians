{
 "cells": [
  {
   "cell_type": "markdown",
   "metadata": {},
   "source": [
    "# Eksperiment: Emneord"
   ]
  },
  {
   "cell_type": "code",
   "execution_count": 1,
   "metadata": {
    "collapsed": true
   },
   "outputs": [],
   "source": [
    "import bibdata\n",
    "from collections import Counter"
   ]
  },
  {
   "cell_type": "code",
   "execution_count": 2,
   "metadata": {},
   "outputs": [
    {
     "data": {
      "text/plain": [
       "{'_id': '870970-basis:51363035',\n",
       " 'creator': 'Jakob Martin Strid',\n",
       " 'idx': 1234,\n",
       " 'language': 'Dansk',\n",
       " 'subject-term': ['årstider',\n",
       "  'for 5 år',\n",
       "  'sk',\n",
       "  'sjove bøger',\n",
       "  'Skønlitteratur',\n",
       "  'for 4 år',\n",
       "  'for 6 år',\n",
       "  'for 3 år',\n",
       "  'venner',\n",
       "  'vejret',\n",
       "  'dyrefortællinger'],\n",
       " 'title': 'Mimbo Jimbo og den lange vinter',\n",
       " 'type': 'book'}"
      ]
     },
     "execution_count": 2,
     "metadata": {},
     "output_type": "execute_result"
    }
   ],
   "source": [
    "bibdata.meta[1234]"
   ]
  },
  {
   "cell_type": "code",
   "execution_count": 3,
   "metadata": {},
   "outputs": [
    {
     "data": {
      "text/plain": [
       "[('sk', 7036),\n",
       " ('Skønlitteratur', 6445),\n",
       " ('for 6 år', 1109),\n",
       " ('krimi', 1100),\n",
       " ('for 5 år', 1097),\n",
       " ('for 7 år', 1063),\n",
       " ('let at læse', 1047),\n",
       " ('for 4 år', 999),\n",
       " ('for 8 år', 932),\n",
       " ('Spillefilm', 904)]"
      ]
     },
     "execution_count": 3,
     "metadata": {},
     "output_type": "execute_result"
    }
   ],
   "source": [
    "subjects = []\n",
    "for bib in bibdata.meta:\n",
    "    for subject in bib.get('subject-term', []):\n",
    "        subjects.append(subject)\n",
    "Counter(subjects).most_common(10)"
   ]
  },
  {
   "cell_type": "code",
   "execution_count": 13,
   "metadata": {},
   "outputs": [
    {
     "data": {
      "text/plain": [
       "'sk; Skønlitteratur; for 6 år; krimi; for 5 år; for 7 år; let at læse; for 4 år; for 8 år; Spillefilm; Danmark; kærlighed; ÷; for 10 år; for 9 år; for 3 år; 2000-2009; 77.7; for begynderlæsere; for 11 år; USA; for børn; for 12 år; familien; spænding; romaner; kvinder; spændende bøger; England; Sverige; Dansk; 2010-2019; opskrifter; venskab; for 13 år; for 2 år; historie; Biografier af enkelte personer; humor; Børnefilm; 77.74; sjove bøger; for folkeskolen; for 14 år; fantasy; politiromaner; erindringer; 1990-1999; rejseførere; piger; Computerspil; 79.41; 1940-1949; computerspil; drama; børn; Frilæs/0.-2. kl.; Norge; 1980-1989; 1970-1979; for 15 år; København; drenge; Billedbøger sk; Folkeskolen; Del af serie; 1960-1969; bk; unge; Læs let; amerikanske film; 1900-1999; parforhold; eventyr; veninder; Fantasy; ægteskab; dameromaner; 1950-1959; Frankrig; seriemordere; Tyskland; gå på opdagelse; Oplæsning 0.- 2. kl.; den 2. verdenskrig; far-søn forholdet; strikning; 1930-1939; forelskelse; identitet; Strikning; 64.64; kogebøger; godt anmeldt; godtanmeldt; for 16 år; Letlæst 1-2 kl; komedier; strikkeopskrifter; Frilæs/3.-5. kl.; Lettest rød; billedbøger; Skbs; for 0-2. klassetrin; venner; slægtsromaner; fodbold; gys; mænd; London; Letlæst 2-3 kl; psykologisk thriller; 0.-2. klasse; Billedbog; Dingo; Italien; Læselet bøger; SerieM; Let læst for børn; hunde; bi sk; biografier; følelser; Indskoling; chick lit; frilæsning; samfundsforhold; Klassesæt; God læsestart; eventyrlige fortællinger; New York; søskende; Enkelte lokaliteter; katte; hævn; 3.-5. klasse; Spanien; heste; science fiction; terrorisme; Tegneserier sk; Lettal 14; sex; vokal; Begynderlæsning; mord; dyr; for 2-4 år; Tegneserie; pegebøger'"
      ]
     },
     "execution_count": 13,
     "metadata": {},
     "output_type": "execute_result"
    }
   ],
   "source": [
    "\"; \".join([subject for (subject, count) in Counter(subjects).most_common(150)])"
   ]
  },
  {
   "cell_type": "markdown",
   "metadata": {},
   "source": [
    "Lad os udforske hvilke typer af biblioteksmaterialer der er:"
   ]
  },
  {
   "cell_type": "code",
   "execution_count": 17,
   "metadata": {},
   "outputs": [
    {
     "data": {
      "text/plain": [
       "[('book', 7895),\n",
       " ('movie', 1055),\n",
       " ('audiobook', 608),\n",
       " ('game', 232),\n",
       " ('other', 119)]"
      ]
     },
     "execution_count": 17,
     "metadata": {},
     "output_type": "execute_result"
    }
   ],
   "source": [
    "Counter([bib.get('type') for bib in bibdata.meta]).most_common(5)"
   ]
  },
  {
   "cell_type": "markdown",
   "metadata": {},
   "source": [
    "Gad vide hvad `'other'` dækker over:"
   ]
  },
  {
   "cell_type": "code",
   "execution_count": 15,
   "metadata": {},
   "outputs": [
    {
     "data": {
      "text/plain": [
       "['Alt for damerne', 'Illustreret videnskab', 'Femina', 'Bo bedre', 'I form']"
      ]
     },
     "execution_count": 15,
     "metadata": {},
     "output_type": "execute_result"
    }
   ],
   "source": [
    "[bib['title'] for bib in bibdata.meta if bib.get('type') == 'other'][:5]"
   ]
  }
 ],
 "metadata": {
  "kernelspec": {
   "display_name": "Python 3",
   "language": "python",
   "name": "python3"
  },
  "language_info": {
   "codemirror_mode": {
    "name": "ipython",
    "version": 3
   },
   "file_extension": ".py",
   "mimetype": "text/x-python",
   "name": "python",
   "nbconvert_exporter": "python",
   "pygments_lexer": "ipython3",
   "version": "3.6.3"
  }
 },
 "nbformat": 4,
 "nbformat_minor": 2
}
