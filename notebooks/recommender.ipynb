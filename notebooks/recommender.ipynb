{
 "cells": [
  {
   "cell_type": "markdown",
   "metadata": {},
   "source": [
    "# Anbefalinger"
   ]
  },
  {
   "cell_type": "code",
   "execution_count": 1,
   "metadata": {
    "collapsed": true
   },
   "outputs": [],
   "source": [
    "import bibdata"
   ]
  },
  {
   "cell_type": "code",
   "execution_count": 2,
   "metadata": {},
   "outputs": [
    {
     "data": {
      "text/plain": [
       "[('Otto er et næsehorn', 216),\n",
       " ('Orla Frø-Snapper', 232),\n",
       " ('Frode - og alle de andre rødder', 257),\n",
       " ('Gummi-Tarzan', 199),\n",
       " ('Lille Virgil', 301),\n",
       " ('Hodja fra Pjort', 231),\n",
       " ('Albert', 325),\n",
       " ('Emil fra Lønneberg', 1232),\n",
       " ('Folk og røvere i Kardemomme by', 393),\n",
       " ('Alle de andre rødder : fortællinger', 1602),\n",
       " ('Mere om Emil fra Lønneberg', 2523),\n",
       " ('Han er her endnu - Emil fra Lønneberg', 2000),\n",
       " ('Per og bette Mads', 568),\n",
       " ('Pippi Langstrømpe går om bord', 6426),\n",
       " ('Klatremus og de andre dyr i Hakkebakkeskoven', 857),\n",
       " ('Pippi Langstrømpe i Sydhavet', 5004),\n",
       " ('Pippi Langstrømpe', 2258),\n",
       " ('Alle historierne om snøvsen / Benny Andersen', 2805),\n",
       " ('Tippe Tophat og andre fortællinger', 1034),\n",
       " ('Bogen om børnene i Bulderby', 4010),\n",
       " ('Lillebror og Karlsson på taget', 4737),\n",
       " ('Bulderbybogen', 5405),\n",
       " ('En flodhest i huset', 824),\n",
       " ('Ronja røverdatter', 335),\n",
       " ('Bogen om Emil fra Lønneberg : samlet udgave med alle historierne om Emil fra Lønneberg',\n",
       "  3122),\n",
       " ('Alle vi børn i Bulderby', 6395),\n",
       " ('Snøvsen og Eigil og katten i sækken', 4922),\n",
       " ('Jungledyret Hugo - på farten igen', 9113),\n",
       " ('Bogen om Pippi Langstrømpe', 1318),\n",
       " ('De Hæslige Slynglers Klub og andre gode historier', 1038),\n",
       " ('Troldepus i Norge', 4209),\n",
       " ('Peter Frödin læser Lille Virgil', 7128),\n",
       " ('Jungledyret Hugo - på eventyr med Rita', 9647),\n",
       " ('Mig og bedstefar - og så Nisse Pok', 3371),\n",
       " ('Peter Frödin læser Otto er et næsehorn', 7287),\n",
       " ('Troldepus fra Troldhøj', 1654),\n",
       " ('Astrid Lindgrens allerbedste historier', 3433),\n",
       " ('Thomas Winding læser Mere om Emil fra Lønneberg', 4538),\n",
       " ('Thomas Winding læser Pippi Langstrømpe går om bord', 9257),\n",
       " ('Peter Frödin læser Hodja fra Pjort', 6961)]"
      ]
     },
     "execution_count": 2,
     "metadata": {},
     "output_type": "execute_result"
    }
   ],
   "source": [
    "m = bibdata.genres\n",
    "v = m[216]\n",
    "search = sorted([(i, v.dot(m[i])) for i in range(10000)], key=lambda x: x[1])\n",
    "search.reverse();\n",
    "[(bibdata.meta[result[0]].get('title', ''), result[0]) for result in search[0:40]]"
   ]
  }
 ],
 "metadata": {
  "kernelspec": {
   "display_name": "Python 3",
   "language": "python",
   "name": "python3"
  },
  "language_info": {
   "codemirror_mode": {
    "name": "ipython",
    "version": 3
   },
   "file_extension": ".py",
   "mimetype": "text/x-python",
   "name": "python",
   "nbconvert_exporter": "python",
   "pygments_lexer": "ipython3",
   "version": "3.6.2"
  }
 },
 "nbformat": 4,
 "nbformat_minor": 2
}
