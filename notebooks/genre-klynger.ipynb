{
 "cells": [
  {
   "cell_type": "markdown",
   "metadata": {
    "collapsed": true
   },
   "source": [
    "# Eksperiment: Genre-klynger\n",
    "\n",
    "Jeg er nysgerrig om hvilke typer / kategorier af biblioteksmaterialer, der er. Særligt i litteratur, som ligger ud over klassifikationssystemer som DK5. Derfor vil jeg lave en mere udforskende / eksplorativ analyse. En tilgang til detter er, at bede computeren, at sortere biblioteksmaterialerne i et antal bunker(klynger), hvor ting, der ligner hinanden, ligger i samme bunke(klynge). \n",
    "\n",
    "Dette kaldes klynge-analyse, og en af de enkleste måder at gøre dette kaldes k-means. Her starter man med at fortælle hvor mange bunker man ønsker. Dette antal kaldes ofter $k$. Algoritmen virker således: vi har et punkt i genrerummet for hver bunke. Hver bog lægges i den bunke, hvor afstanden mellem bunkens punkt og bogen er kortest. Derefter flyttes punktet for hver bunke, til gennemsnits-punktet for alle bøgerne i bunken. Dette gentager man indtil, at punkterne for bunkerne ikke længere flytter sig.\n",
    "\n",
    "Bemærk at vi her beder computeren om, selv at finde en struktur i data. Dette kaldes unsupervised learning indenfor machine learning / data mining. \n",
    "\n",
    "Når vi skal programmere det, findes k-means algoritmen allerede i Python's SciKit-Learn funktionsbibliotek. Så vi behøver blot importere det, fortælle at vi ønsker k-means med $k$ klynger, samt at den skal køre algoritmen på genrerummet:"
   ]
  },
  {
   "cell_type": "code",
   "execution_count": 6,
   "metadata": {},
   "outputs": [
    {
     "data": {
      "text/plain": [
       "KMeans(algorithm='auto', copy_x=True, init='k-means++', max_iter=300,\n",
       "    n_clusters=15, n_init=10, n_jobs=1, precompute_distances='auto',\n",
       "    random_state=None, tol=0.0001, verbose=0)"
      ]
     },
     "execution_count": 6,
     "metadata": {},
     "output_type": "execute_result"
    }
   ],
   "source": [
    "import bibdata\n",
    "import sklearn.cluster\n",
    "k = 15\n",
    "kmeans = sklearn.cluster.KMeans(n_clusters = k)\n",
    "kmeans.fit(bibdata.genres)"
   ]
  },
  {
   "cell_type": "markdown",
   "metadata": {},
   "source": [
    "Nu har computeren fundet nogle klynger, som vi kan kigge på.\n",
    "\n",
    "Vi vil nu se hvad klyngerne indeholder. For hver klynge udskriver vi derfor titel/forfatter for de første bøger i hver klynge. Koden for dette læses lettest bagfra: `cluster_id` er nummeret på klyngen. For hvert `cluster_id` gennemløber alle `10000` bøger, og udvælger dem som faktisk ligger i klyngen. Til dette bruger vi `kmeans.labels_`, som er en liste over hvilken klynge hver bog hører til. Herefter udvælger vi de første `book_count` bøger, som vi returnere, så vi faktisk kan se hvad der er i klyngen:\n"
   ]
  },
  {
   "cell_type": "code",
   "execution_count": 7,
   "metadata": {
    "scrolled": false
   },
   "outputs": [
    {
     "data": {
      "text/plain": [
       "[['Os fra Blomsterkvarteret - Dy Plambeck (book)',\n",
       "  'Troldmandens flyvefedt - Bent T. Lund (f. 1946) (book)',\n",
       "  'Klods-Hans - H. C. Andersen (f. 1805) (audiobook)',\n",
       "  'Hvad kan det være? - Keld Petersen (f. 1955) (book)',\n",
       "  'Kejserens nye klæder - Birte Dietz (book)',\n",
       "  'Den grimme ælling - Svend Otto (book)',\n",
       "  'Læs og gæt gåder - Keld Petersen (f. 1955) (book)'],\n",
       " ['Naboens søn : roman - Jane Ꜳmund (book)',\n",
       "  'Knud, den store : roman - Hanne-Vibeke Holst (book)',\n",
       "  'Zornig - vrede er mit mellemnavn - Lisbeth Zornig Andersen (f. 1968) (book)',\n",
       "  'Vindue uden udsigt - Jane Ꜳmund (book)',\n",
       "  'Vi kan sove i flyvemaskinen - Ulla Terkelsen (audiobook)',\n",
       "  'Hvor solen græder : en fortælling fra Syrien - Puk Damsgård Andersen (book)',\n",
       "  'Onklerne og deres fruer : erindringsroman (mp3) - Jane Aamund (audiobook)'],\n",
       " ['Fifty shades - E. L. James (book)',\n",
       "  'Journal 64 : krimithriller - Jussi Adler-Olsen (book)',\n",
       "  'Marco effekten : krimithriller - Jussi Adler-Olsen (book)',\n",
       "  'Taynikma - Jan Kjær (f. 1971) (book)',\n",
       "  'De glemte piger : krimi - Sara Blædel (book)',\n",
       "  'Den grænseløse : krimithriller - Jussi Adler-Olsen (book)',\n",
       "  'Dødesporet : krimi - Sara Blædel (audiobook)'],\n",
       " ['Vildheks - Lene Kꜳberbøl (book)',\n",
       "  'Harry Potter og De Vises Sten - Joanne K. Rowling (book)',\n",
       "  'Skammerens datter - Lene Kꜳberbøl (book)',\n",
       "  'Harry Potter og Hemmelighedernes Kammer - Joanne K. Rowling (book)',\n",
       "  'Mustafas kiosk - Jakob Martin Strid (book)',\n",
       "  'Wimpy Kid - Jeff Kinney (book)',\n",
       "  'Gummi-Tarzan - Ole Lund Kirkegꜳrd (audiobook)'],\n",
       " ['Vi unge : kun for piger -  (other)',\n",
       "  'Livs liv - Rikke Dyrhave Nissen (book)',\n",
       "  'Pretty little liars - Sara Shepard (book)',\n",
       "  'Knus-klubben - Gitte Løkkegꜳrd (book)',\n",
       "  'Lego Indiana Jones - the original adventures - Glyn Scragg (game)',\n",
       "  'Olivia -  (other)',\n",
       "  'Toy story 3 - Walt Disney (firma) (game)'],\n",
       " ['Stå fast : et opgør med tidens udviklingstvang - Svend Brinkmann (book)',\n",
       "  'Spis maven flad : sådan gør du! : 111 skønne opskrifter - Engell Majbritt L. aut (book)',\n",
       "  'Tarme med charme : alt om et undervurderet organ - Giulia Enders (book)',\n",
       "  'Hvad kan jeg blive? : Politikens erhvervsvejledning - Dueled Knud (book)',\n",
       "  'Verdens bedste kur : vægttab der holder - Bitz Christian aut (book)',\n",
       "  'Dr. Zukaroffs testamente : en bog om menneskehjernen - Peter Lund Madsen (book)',\n",
       "  'Stenalderkost : palæo-opskrifter til det moderne menneske - Thomas Rode Andersen (book)'],\n",
       " ['Min mormors gebis - Jakob Martin Strid (book)',\n",
       "  'Kender du Pippi Langstrømpe? : billedbog - Ingrid Vang Nyman (book)',\n",
       "  'Pippi Langstrømpe på Kurrekurredut-øen - Ingrid Vang Nyman (book)',\n",
       "  'Lille frø - Jakob Martin Strid (book)',\n",
       "  'Da Findus var lille og forsvandt - Sven Nordqvist (book)',\n",
       "  'Fyrtøjet - H. C. Andersen (f. 1805) (book)',\n",
       "  'Da Lille Madsens hus blæste væk - Jakob Martin Strid (book)'],\n",
       " ['Turen går til Hamburg og Nordtyskland - Jytte Flamsholt Christensen (book)',\n",
       "  'Turen går til London - Gunhild Riske (book)',\n",
       "  'Turen går til Rom - Alfredo Tesio (book)',\n",
       "  'Turen går til Mallorca, Menorca & Ibiza - Jytte Flamsholt Christensen (book)',\n",
       "  'Turen går til Tyrkiet - Fenger-Grøndahl Carsten (book)',\n",
       "  'Turen går til Berlin - Therkelsen Kirstine (book)',\n",
       "  'Turen går til Sydspanien - Jørgen Laurvig (book)'],\n",
       " ['Kriminalkommissær Barnaby - Caroline Graham (movie)',\n",
       "  'Avatar - Fiore Mauro cng (movie)',\n",
       "  'Hævnen - Bier Susanne (movie)',\n",
       "  'Dirch - Zandvliet Martin Pieter (movie)',\n",
       "  'The godfather - Willis Gordon (movie)',\n",
       "  'Flammen & Citronen - Andersen Lars K. f. 1960-11-27 (movie)',\n",
       "  'Black swan (blu-ray) - maclaughlin McLaughlin John J. (movie)'],\n",
       " ['Bamses billedbog dvd - Katrine Hauch-Fausbøll (movie)',\n",
       "  'Kaj og Andrea - Fausbøll Katrine Hauch- (movie)',\n",
       "  'Ninjago - masters of spinjitzu - Sørensen Thomas inv (movie)',\n",
       "  'Pippi - Hellbom Olle (movie)',\n",
       "  'Filmhits for børn -  (movie)',\n",
       "  'Legends of Chima - Andreasen Tommy inv (movie)',\n",
       "  'Op. Med bonus features disc - Docter Pete (movie)'],\n",
       " ['Niceville - Kathryn Stockett (book)',\n",
       "  'Jeg skal gøre dig så lykkelig - Anne B. Ragde (audiobook)',\n",
       "  'Den stjålne vej - Anne-Cathrine Riebnitzsky (book)',\n",
       "  'Øen - Victoria Hislop (book)',\n",
       "  'Jordemoderen fra Hope River - Patricia Harman (audiobook)',\n",
       "  'Fra hus til hus : roman - Kristín Marja Baldursdóttir (book)',\n",
       "  'Orkideens hemmelighed - Lucinda Riley (audiobook)'],\n",
       " ['Den gode opgave : opgaveskrivning på videregående uddannelser - Rienecker Lotte (book)',\n",
       "  'Interview : en introduktion til det kvalitative forskningsinterview - Steinar Kvale (book)',\n",
       "  'Læring : aktuel læringsteori i spændingsfeltet mellem Piaget, Freud og Marx - Knud Illeris (book)',\n",
       "  'Kvalitative metoder : en grundbog - Tanggaard Lene edt (book)',\n",
       "  'Klassisk og moderne samfundsteori - Kaspersen Lars Bo edt (book)',\n",
       "  'Helbredets mysterium : at tåle stress og forblive rask - Aaron Antonovsky (book)',\n",
       "  'Modernitet og selvidentitet : selvet og samfundet under sen-moderniteten - Anthony Giddens (book)'],\n",
       " ['Alt om håndarbejdes symagasin -  (other)',\n",
       "  'Alt om håndarbejdes strikkemagasin -  (other)',\n",
       "  'Alt om haven -  (other)',\n",
       "  'Haven - Det Jyske Haveselskab (other)',\n",
       "  'Danmarks store gør det selv leksikon - Nielsen Jørn (book)',\n",
       "  'Burda -  (other)',\n",
       "  'Politikens strikke- og hæklebog - Vivian Høxbro (book)'],\n",
       " ['Giganternes fald - Ken Follett (audiobook)',\n",
       "  'Og bjergene gav genlyd - Khaled Hosseini (book)',\n",
       "  'Det syvende barn - Erik Valeur (audiobook)',\n",
       "  'Den hundredårige der kravlede ud ad vinduet og forsvandt - Jonas Jonasson (book)',\n",
       "  '1Q84 - Haruki Murakami (audiobook)',\n",
       "  'Min kamp : roman - Karl Ove Knausgård (book)',\n",
       "  'Brobyggerne - Jan Guillou (book)'],\n",
       " ['Det blinde punkt : krimi - Julie Hastrup (book)',\n",
       "  'Ensomme hjerters klub : kriminalroman - Lotte Hammer (book)',\n",
       "  'Skrig under vand - Ole Tornbjerg (book)',\n",
       "  'Alting har sin pris : kriminalroman - Lotte Hammer (book)',\n",
       "  'Skindød - Thomas Enger (book)',\n",
       "  'Møgkællinger - Gretelise Holm (f. 1946) (book)',\n",
       "  'Manden der ikke var morder - Hans Rosenfeldt (book)']]"
      ]
     },
     "execution_count": 7,
     "metadata": {},
     "output_type": "execute_result"
    }
   ],
   "source": [
    "book_count = 7\n",
    "[[bibdata.title_creator(book_id)\n",
    "  for book_id in range(10000)\n",
    "  if kmeans.labels_[book_id] == cluster_id][0:book_count]\n",
    " for cluster_id in range(k)]"
   ]
  },
  {
   "cell_type": "markdown",
   "metadata": {},
   "source": [
    "Hvis vi kører klyngeanalysen igen, vil den komme med nogle andre klynger, men strukturen i resultatet vil være det samme, i.e. rejsebøger, børnefilm, forskellige typer krimier, forskellige typer børnebøger, andre forskellige typer romaner, studiebøger, etc.\n",
    "\n",
    "Resultatet er i mine øjne interessant. Blandt andet ser jeg forskellige separate typer af skønlitteratur, hvis opdeling jeg ikke kendte til i forvejen. Det kunne være interessant, at køre dette mere finkornet, på større datasæt, og derefter danne nogle foreslag til emnehierakier for skønlitteratur, for at få mere indblik i denne del af litteraturen."
   ]
  },
  {
   "cell_type": "markdown",
   "metadata": {},
   "source": [
    "## Øvelser\n",
    "\n",
    "- Få computeren til at udføre denne notebook flere gange, og se hvordan de fundne klynger ændre sig, men stadigt har noget af den samme struktur. (Rækkefølgen ændres også, så læg i stedet mærke til karakteristiske klynge, og se at/om de går igen).\n",
    "- Ændr antallet, `k`, af fundne klynger. Prøv eksempelvis med 25 eller flere, hvorved resultatet bliver mere finkornet.\n",
    "- Ændr det maksimale antal af bøger `book_count`, som bliver vist fra hver klynge. Hvis man viser mere end de nuværende 7 materialer, giver det mere indblik i klyngen (men ville også bruge mere papir/skærmplads)."
   ]
  }
 ],
 "metadata": {
  "kernelspec": {
   "display_name": "Python 3",
   "language": "python",
   "name": "python3"
  },
  "language_info": {
   "codemirror_mode": {
    "name": "ipython",
    "version": 3
   },
   "file_extension": ".py",
   "mimetype": "text/x-python",
   "name": "python",
   "nbconvert_exporter": "python",
   "pygments_lexer": "ipython3",
   "version": "3.6.3"
  }
 },
 "nbformat": 4,
 "nbformat_minor": 2
}
