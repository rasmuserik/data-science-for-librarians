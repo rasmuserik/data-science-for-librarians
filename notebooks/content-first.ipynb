{
 "cells": [
  {
   "cell_type": "code",
   "execution_count": 24,
   "metadata": {
    "collapsed": true
   },
   "outputs": [],
   "source": [
    "import bibdata\n",
    "import collections"
   ]
  },
  {
   "cell_type": "code",
   "execution_count": 14,
   "metadata": {},
   "outputs": [],
   "source": [
    "content_first_ids = set([bib['_id'] for bib in bibdata.content_first])\n",
    "meta_ids = set([bib['_id'] for bib in bibdata.meta])\n",
    "common_ids = meta_ids.intersection(content_first_ids)\n",
    "content_first = [bib for bib in bibdata.content_first if bib['_id'] in common_ids]"
   ]
  },
  {
   "cell_type": "code",
   "execution_count": 29,
   "metadata": {},
   "outputs": [
    {
     "data": {
      "text/plain": [
       "[('Krav til læseren - Målgruppe - Voksne', 46),\n",
       " ('Handling - Værkets fokus - Personernes relationer', 39),\n",
       " ('Krav til læseren - Tempo - Fremadskridende', 39),\n",
       " ('Handling - Konflikt - Med andre', 33),\n",
       " ('Handling - Værkets fokus - Personernes udvikling', 33),\n",
       " ('Handling - Konflikt - Med sig selv', 31),\n",
       " ('Ramme - Handlingens tid - Nutid', 30),\n",
       " ('Krav til læseren - Sproglige krav - Ligefremt sprog', 26),\n",
       " ('Krav til læseren - Fortolkningsrum - Bredt fortolkningsrum', 26),\n",
       " ('Handling - Virkelighed - Virkelighedstro', 26),\n",
       " ('Handling - Konflikt - Med samfundet', 25),\n",
       " ('Krav til læseren - Sproglige krav - Almindeligt sprog', 23),\n",
       " ('Handling - Virkelighed - Realistisk', 23),\n",
       " ('Stemning - Realistisk - Karakterdrevet', 22),\n",
       " ('Handling - Konflikt - Med skæbnen', 21),\n",
       " ('Handling - Hovedpersoner - Yngre kvinde', 21),\n",
       " ('Handling - Hovedpersoner - Yngre mand', 21),\n",
       " ('Handling - Værkets fokus - Plot', 21),\n",
       " ('Stemning - Realistisk - Realistisk', 20),\n",
       " ('Stemning - Dramatisk - Medrivende', 19),\n",
       " ('Krav til læseren - Målgruppe - Kvinder', 18),\n",
       " ('Stemning - Charmerende - Underholdende', 17),\n",
       " ('Krav til læseren - Fortolkningsrum - Snævert fortolkningsrum', 17),\n",
       " ('Stemning - Fantasifuld - Stemningsfuld', 16),\n",
       " ('Stemning - Realistisk - Gribende', 16),\n",
       " ('Handling - Hovedpersoner - Ældre mand', 15),\n",
       " ('Krav til læseren - Målgruppe - Unge', 14),\n",
       " ('Krav til læseren - Målgruppe - Ældre', 14),\n",
       " ('Stemning - Trist - Smertefuld', 14),\n",
       " ('Handling - Værkets fokus - Beskrive et sted', 14),\n",
       " ('Stemning - Morsom - Morsom', 13),\n",
       " ('Krav til læseren - Målgruppe - Mænd', 13),\n",
       " ('Ramme - Geografi - Europa', 13),\n",
       " ('Stemning - Dramatisk - Spændende', 13),\n",
       " ('Stemning - Dramatisk - Fascinerende', 13),\n",
       " ('Ramme - Miljø - Skiftende', 13),\n",
       " ('Stemning - Realistisk - Historisk', 13),\n",
       " ('Stemning - Fantasifuld - Original', 12),\n",
       " ('Stemning - Charmerende - Rørende', 12),\n",
       " ('Handling - Værkets fokus - Udfolde et tema', 11),\n",
       " ('Stemning - Dramatisk - Skæbnesvanger', 11),\n",
       " ('Stemning - Dramatisk - Bevægende', 11),\n",
       " ('Stemning - Fantasifuld - Skæv', 10),\n",
       " ('Stemning - Fantasifuld - Fantasifuld', 10),\n",
       " ('Handling - Hovedpersoner - Gruppe/kollektiv', 10),\n",
       " ('Stemning - Kompleks - Psykologisk', 10),\n",
       " ('Stemning - Dramatisk - Emotionel', 10),\n",
       " ('Ramme - Geografi - USA', 10),\n",
       " ('Stemning - Dramatisk - Dramatisk', 10),\n",
       " ('Stemning - Kompleks - Nuanceret', 10)]"
      ]
     },
     "execution_count": 29,
     "metadata": {},
     "output_type": "execute_result"
    }
   ],
   "source": [
    "collections.Counter([tag for bib in content_first for tag in bib['tags'] ]).most_common(50)"
   ]
  }
 ],
 "metadata": {
  "kernelspec": {
   "display_name": "Python 3",
   "language": "python",
   "name": "python3"
  },
  "language_info": {
   "codemirror_mode": {
    "name": "ipython",
    "version": 3
   },
   "file_extension": ".py",
   "mimetype": "text/x-python",
   "name": "python",
   "nbconvert_exporter": "python",
   "pygments_lexer": "ipython3",
   "version": "3.6.2"
  }
 },
 "nbformat": 4,
 "nbformat_minor": 2
}
