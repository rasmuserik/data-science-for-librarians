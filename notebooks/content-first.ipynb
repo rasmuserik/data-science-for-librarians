{
 "cells": [
  {
   "cell_type": "markdown",
   "metadata": {
    "collapsed": true
   },
   "source": [
    "# Eksperiment: Data fra læsekompasset"
   ]
  },
  {
   "cell_type": "code",
   "execution_count": 1,
   "metadata": {
    "collapsed": true
   },
   "outputs": [],
   "source": [
    "import bibdata\n",
    "import collections\n",
    "import numpy\n",
    "import json"
   ]
  },
  {
   "cell_type": "code",
   "execution_count": 2,
   "metadata": {
    "collapsed": true
   },
   "outputs": [],
   "source": [
    "content_first_ids = set([bib['_id'] for bib in bibdata.content_first])\n",
    "meta_ids = set([bib['_id'] for bib in bibdata.meta])\n",
    "common_ids = meta_ids.intersection(content_first_ids)\n",
    "content_first = [bib for bib in bibdata.content_first if bib['_id'] in common_ids]"
   ]
  },
  {
   "cell_type": "code",
   "execution_count": 3,
   "metadata": {},
   "outputs": [
    {
     "data": {
      "text/plain": [
       "[('Krav til læseren - Målgruppe - Voksne', 46),\n",
       " ('Handling - Værkets fokus - Personernes relationer', 39),\n",
       " ('Krav til læseren - Tempo - Fremadskridende', 39),\n",
       " ('Handling - Konflikt - Med andre', 33),\n",
       " ('Handling - Værkets fokus - Personernes udvikling', 33),\n",
       " ('Handling - Konflikt - Med sig selv', 31),\n",
       " ('Ramme - Handlingens tid - Nutid', 30),\n",
       " ('Krav til læseren - Sproglige krav - Ligefremt sprog', 26),\n",
       " ('Krav til læseren - Fortolkningsrum - Bredt fortolkningsrum', 26),\n",
       " ('Handling - Virkelighed - Virkelighedstro', 26),\n",
       " ('Handling - Konflikt - Med samfundet', 25),\n",
       " ('Krav til læseren - Sproglige krav - Almindeligt sprog', 23),\n",
       " ('Handling - Virkelighed - Realistisk', 23),\n",
       " ('Stemning - Realistisk - Karakterdrevet', 22),\n",
       " ('Handling - Konflikt - Med skæbnen', 21),\n",
       " ('Handling - Hovedpersoner - Yngre kvinde', 21),\n",
       " ('Handling - Hovedpersoner - Yngre mand', 21),\n",
       " ('Handling - Værkets fokus - Plot', 21),\n",
       " ('Stemning - Realistisk - Realistisk', 20),\n",
       " ('Stemning - Dramatisk - Medrivende', 19),\n",
       " ('Krav til læseren - Målgruppe - Kvinder', 18),\n",
       " ('Stemning - Charmerende - Underholdende', 17),\n",
       " ('Krav til læseren - Fortolkningsrum - Snævert fortolkningsrum', 17),\n",
       " ('Stemning - Fantasifuld - Stemningsfuld', 16),\n",
       " ('Stemning - Realistisk - Gribende', 16),\n",
       " ('Handling - Hovedpersoner - Ældre mand', 15),\n",
       " ('Krav til læseren - Målgruppe - Unge', 14),\n",
       " ('Krav til læseren - Målgruppe - Ældre', 14),\n",
       " ('Stemning - Trist - Smertefuld', 14),\n",
       " ('Handling - Værkets fokus - Beskrive et sted', 14),\n",
       " ('Stemning - Morsom - Morsom', 13),\n",
       " ('Krav til læseren - Målgruppe - Mænd', 13),\n",
       " ('Ramme - Geografi - Europa', 13),\n",
       " ('Stemning - Dramatisk - Spændende', 13),\n",
       " ('Stemning - Dramatisk - Fascinerende', 13),\n",
       " ('Ramme - Miljø - Skiftende', 13),\n",
       " ('Stemning - Realistisk - Historisk', 13),\n",
       " ('Stemning - Fantasifuld - Original', 12),\n",
       " ('Stemning - Charmerende - Rørende', 12),\n",
       " ('Handling - Værkets fokus - Udfolde et tema', 11),\n",
       " ('Stemning - Dramatisk - Skæbnesvanger', 11),\n",
       " ('Stemning - Dramatisk - Bevægende', 11),\n",
       " ('Stemning - Fantasifuld - Skæv', 10),\n",
       " ('Stemning - Fantasifuld - Fantasifuld', 10),\n",
       " ('Handling - Hovedpersoner - Gruppe/kollektiv', 10),\n",
       " ('Stemning - Kompleks - Psykologisk', 10),\n",
       " ('Stemning - Dramatisk - Emotionel', 10),\n",
       " ('Ramme - Geografi - USA', 10),\n",
       " ('Stemning - Dramatisk - Dramatisk', 10),\n",
       " ('Stemning - Kompleks - Nuanceret', 10),\n",
       " ('Krav til læseren - Tempo - Dvælende', 10),\n",
       " ('Stemning - Charmerende - Sympatisk', 10),\n",
       " ('Stemning - Intellektuel - Intelligent', 10),\n",
       " ('Stemning - Dramatisk - Stærk', 10),\n",
       " ('Stemning - Realistisk - Overbevisende', 10),\n",
       " ('Stemning - Sanselig - Farverig', 10),\n",
       " ('Stemning - Romantisk - Følelsesfuld', 10),\n",
       " ('Stemning - Trist - Mørk', 9),\n",
       " ('Stemning - Dramatisk - Spændingsfuld', 9),\n",
       " ('Stemning - Dramatisk - Stemningsfuld', 9),\n",
       " ('Stemning - Realistisk - Autentisk', 9),\n",
       " ('Stemning - Dramatisk - Overraskende', 9),\n",
       " ('Stemning - Realistisk - Virkelighedsnær', 9),\n",
       " ('Stemning - Charmerende - Charmerende', 9),\n",
       " ('Stemning - Trist - Tragisk', 9),\n",
       " ('Stemning - Charmerende - Engagerende', 9),\n",
       " ('Stemning - Trist - Melankolsk', 9),\n",
       " ('Stemning - Fantasifuld - Eventyrlig', 8),\n",
       " ('Ramme - Miljø - Underklasse', 8),\n",
       " ('Stemning - Optimistisk - Inspirerende', 8),\n",
       " ('Stemning - Sanselig - Sanselig', 8),\n",
       " ('Stemning - Charmerende - Uforglemmelig', 8),\n",
       " ('Ramme - Miljø - Landsbysamfund', 8),\n",
       " ('Stemning - Intellektuel - Reflekteret', 8),\n",
       " ('Stemning - Trist - Grum', 8),\n",
       " ('Handling - Konflikt - Med naturen', 8),\n",
       " ('Handling - Værkets fokus - Beskrive en befolkningsgruppe', 8),\n",
       " ('Stemning - Frygtelig - Blodig', 8),\n",
       " ('Stemning - Trist - Dyster', 8),\n",
       " ('Ramme - Geografi - København', 7),\n",
       " ('Stemning - Morsom - Ironisk', 7),\n",
       " ('Stemning - Trist - Sørgelig', 7),\n",
       " ('Handling - Virkelighed - Historisk korrekt', 7),\n",
       " ('Stemning - Fantasifuld - Beskrivende', 6),\n",
       " ('Handling - Virkelighed - Magisk realistisk', 6),\n",
       " ('Stemning - Kompleks - Fragmenteret', 6),\n",
       " ('Stemning - Morsom - Grotesk', 6),\n",
       " ('Ramme - Geografi - Skiftende', 6),\n",
       " ('Stemning - Romantisk - Romantisk', 6),\n",
       " ('Stemning - Fantasifuld - Magisk', 6),\n",
       " ('Stemning - Kompleks - Ordrig', 6),\n",
       " ('Stemning - Kompleks - Kompleks', 6),\n",
       " ('Handling - Hovedpersoner - Pige', 6),\n",
       " ('Stemning - Dramatisk - Oprivende', 6),\n",
       " ('Stemning - Dramatisk - Omskiftelig', 6),\n",
       " ('Stemning - Realistisk - Detaljeret', 6),\n",
       " ('Stemning - Intellektuel - Observerende', 6),\n",
       " ('Stemning - Trist - Trist', 6),\n",
       " ('Handling - Hovedpersoner - Dreng', 6),\n",
       " ('Ramme - Miljø - Overklasse', 5)]"
      ]
     },
     "execution_count": 3,
     "metadata": {},
     "output_type": "execute_result"
    }
   ],
   "source": [
    "collections.Counter([tag for bib in content_first for tag in bib['tags'] ]).most_common(100)"
   ]
  },
  {
   "cell_type": "code",
   "execution_count": 4,
   "metadata": {
    "scrolled": false
   },
   "outputs": [
    {
     "name": "stdout",
     "output_type": "stream",
     "text": [
      "Vi ses deroppe - Pierre Lemaitre (f. 1951)\n",
      "Smertensbarn - Mette Finderup\n",
      "Korrektioner - Jonathan Franzen\n",
      "Doppler - Erlend Loe\n",
      "Kadaverdoktoren - Lene Kꜳberbøl\n",
      "Maze runner - labyrinten - James Dashner\n",
      "Mænd uden kvinder - Haruki Murakami\n",
      "Butcher's Crossing - John Williams (f. 1922)\n",
      "Trækopfuglens krønike - Haruki Murakami\n",
      "Lejlighedssange - Stine Pilgꜳrd\n"
     ]
    },
    {
     "data": {
      "text/plain": [
       "['Den farveløse Tsukuru Tazakis pilgrimsår - Haruki Murakami',\n",
       " 'Hardboiled wonderland og verdens ende - Haruki Murakami',\n",
       " 'Mænd uden kvinder - Haruki Murakami',\n",
       " 'Den danske borgerkrig 2018-24 : roman - Kaspar Colling Nielsen (f. 1974)',\n",
       " 'Alt bliver oplyst : en roman - Jonathan Safran Foer',\n",
       " 'Opmålingen af verden : roman - Daniel Kehlmann',\n",
       " 'Stoner - John Williams (f. 1922)',\n",
       " 'Kortet og landskabet - Michel Houellebecq',\n",
       " 'Enden på verden som vi kender den : roman - Erlend Loe',\n",
       " 'Doppler : roman - Erlend Loe',\n",
       " 'Mount København : fortællinger - Kaspar Colling Nielsen (f. 1974)',\n",
       " 'Askeblomster : roman - Patrick Modiano',\n",
       " 'F : roman - Daniel Kehlmann',\n",
       " 'Korrektioner - Jonathan Franzen',\n",
       " 'Brun mands byrde - Hassan Preisler',\n",
       " 'Status : roman - Erlend Loe',\n",
       " 'Americanah : roman - Chimamanda Ngozi Adichie',\n",
       " \"Butcher's crossing - John Williams (f. 1922)\",\n",
       " 'Underkastelse - Michel Houellebecq',\n",
       " 'Fvonk : roman - Erlend Loe',\n",
       " 'Rapport fra de indre landskaber - Paul Auster',\n",
       " 'Ulysses. - James Joyce',\n",
       " 'Volvo lastvagnar : roman - Erlend Loe',\n",
       " 'På sporet af den tabte tid - Marcel Proust',\n",
       " 'Purity - Jonathan Franzen',\n",
       " 'Brudzone - Jonathan Franzen',\n",
       " 'Den hemmelige historie - Donna Tartt',\n",
       " 'Stillidsen - Donna Tartt',\n",
       " 'Just kids - Patti Smith',\n",
       " '1Q84 - Haruki Murakami',\n",
       " 'Om mørke : roman - Josefine Klougart',\n",
       " 'Den flammende verden : roman - Siri Hustvedt',\n",
       " 'Griberen i rugen - J. D. Salinger',\n",
       " 'Tæskeholdet banker på - Jennifer Egan',\n",
       " 'Kantslag : noveller - Dorthe Nors',\n",
       " 'Celestine : roman - Olga Ravn',\n",
       " 'Når noget slutter - Julian Barnes',\n",
       " 'Gå / Tomas Espedal - Tomas Espedal',\n",
       " 'Kvinden ved 1000° : Herbjørg Maria Bjørnsson fortæller - Hallgrímur Helgason',\n",
       " '100 års ensomhed - Gabriel García Márquez']"
      ]
     },
     "execution_count": 4,
     "metadata": {},
     "output_type": "execute_result"
    }
   ],
   "source": [
    "\n",
    "tag = 'Handling - Værkets fokus - Personernes udvikling'\n",
    "tag = 'Ramme - Geografi - USA'\n",
    "tag = 'Stemning - Kompleks - Fragmenteret'\n",
    "tag = 'Stemning - Fantasifuld - Eventyrlig'\n",
    "tag = 'Stemning - Intellektuel - Intelligent'\n",
    "[print(bib['title'] + ' - ' + bib['creator']) for bib in content_first if tag in bib['tags']]\n",
    "vectors = [bibdata.genres[idx] for idx in [bib['idx'] for bib in bibdata.meta if bib['_id'] in [bib['_id'] for bib in content_first if tag in bib['tags']]]]\n",
    "mean = numpy.mean(vectors, axis=0)\n",
    "std = numpy.std(vectors, axis=0)\n",
    "#search = sorted([(i, numpy.linalg.norm((mean - bibdata.genres[i]) / std)) for i in range(10000)], key=lambda x: x[1])\n",
    "search = sorted([(i, numpy.linalg.norm((mean - bibdata.genres[i]))) for i in range(10000)], key=lambda x: x[1])\n",
    "[bibdata.meta[result[0]].get('title','') + ' - ' + bibdata.meta[result[0]].get('creator','')\n",
    "   for result in search[0:40]]"
   ]
  },
  {
   "cell_type": "code",
   "execution_count": null,
   "metadata": {
    "collapsed": true
   },
   "outputs": [],
   "source": []
  }
 ],
 "metadata": {
  "kernelspec": {
   "display_name": "Python 3",
   "language": "python",
   "name": "python3"
  },
  "language_info": {
   "codemirror_mode": {
    "name": "ipython",
    "version": 3
   },
   "file_extension": ".py",
   "mimetype": "text/x-python",
   "name": "python",
   "nbconvert_exporter": "python",
   "pygments_lexer": "ipython3",
   "version": "3.6.3"
  }
 },
 "nbformat": 4,
 "nbformat_minor": 2
}
