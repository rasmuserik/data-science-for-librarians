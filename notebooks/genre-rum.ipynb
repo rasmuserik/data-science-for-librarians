{
 "cells": [
  {
   "cell_type": "markdown",
   "metadata": {},
   "source": [
    "# Eksperiment: Genre-rum\n",
    "\n",
    "Vi har en idé om hvad *afstanden* er mellem to punkter.\n",
    "Hvis vi har to prikker på et stykke papir, véd vi hvordan måler afstanden mellem dem.\n",
    "Hvis vi har to steder i vores dagligstue, har vi også en idé om hvad deres afstand er.\n",
    "\n",
    "Hvordan kan vi tale om afstand mellem to bøger? Vi vil nok forvente, at bøger indenfor samme genre ligger tæt på hinanden, eksempler:\n",
    "\n",
    "- Afstanden mellem \"Peter Plys\" og \"Frøken Smillas fornemmelse for sne\" er nok større end afstanden mellem \"Cirkeline\" og \"Cykelmyggen Egon\".\n",
    "- En rejsebog om Berlin er nok tættere på en rejsebog om Paris, end på en håndarbejdsbog.\n",
    "- Bøger af samme forfatter ligger nok i nærheden af hinanden.\n",
    "\n",
    "Forestil dig at vi har et genre-rum, hvor der er et punkt for hver eneste bog, og vi kan måle afstanden mellem dem. Dette vil give nye muligheder for at gå på opdagelse i litteraturen. Anbefalinger dukker op ved, at finde de nærmeste nabopunkter. Genre består af punkter i nærheden af hinanden. Dette gør at vi kan bruge computeren til at udforske litteraturen.\n",
    "\n",
    "På papir, i vores dagligstue, såvel som i genrerummet, kan afstand defineres matematisk således: Hvis vi har to punkter, $a$ og $b$, så er afstanden mellem dem $\\sqrt{(a-b)^2}$.\n",
    "I én dimension er det afstanden mellem to tal. Eksempel: afstanden mellem $1$ og $3$ er $2$, hvilket kan udregnes som $\\sqrt{(1 - 3)^2} = \\sqrt{(-2)^2} = \\sqrt{4} = 2$.\n",
    "I to dimensioner er det afstand mellem to prikker på et stykke papir, også kaldet den \"Euklidiske afstand\", $\\sqrt{(x_a - x_b)^2 + (y_a - y_b)^2}$. Eksempel: afstanden mellem koordinaterne $(1,2)$ og $(4,6)$ er $5$ hvilket vi kan udregne som $\\sqrt{(1-4)^2 + (2-6)^2} = \\sqrt{3^2 + 4^2} = \\sqrt{9 + 16} = \\sqrt{25} = 5$.\n",
    "I tre dimensioner er det afstanden mellem to punkter i rummet, i.e. $\\sqrt{(x_a - x_b)^2 + (y_a - y_b)^2 + (z_a - z_b)^2}$, - og det fortsætter på samme måde i fire, fem, seks, ... dimensioner. \n",
    "\n",
    "I matematik, kalder vi ofte koordinaterne for *vektorer*. Eksempelvis er en 5-dimensionel vektor, blot en liste af fem tal, og en 100-dimensionel vektor er en liste af hundrede tal.\n",
    "\n",
    "Hvordan skaber vi et sådan genrerum? Vi har en masse statistik om lån på bibliotekerne. Hvis vi antager at man ofte låner indenfor samme genre, så kan computeren ud fra disse data udregne et genrerum.\n",
    "\n",
    "Jeg har udregnet et sådan genrerum for 10.000 biblioteksmaterialer, og i det følgende vil vi undersøge, om afstanden mellem bøger i genrerummet giver mening."
   ]
  },
  {
   "cell_type": "markdown",
   "metadata": {},
   "source": [
    "## Eksperimenter med afstand mellem bøger"
   ]
  },
  {
   "cell_type": "markdown",
   "metadata": {},
   "source": [
    "Når vi laver et program, må vi først fortælle computeren, hvilken funktionalitet vi har brug for: `bibdata` indeholder bibliografiske data, og genrerummet, som jeg har beregnet. `numpy` indeholder matematikfunktionalitet:"
   ]
  },
  {
   "cell_type": "code",
   "execution_count": 1,
   "metadata": {
    "collapsed": true
   },
   "outputs": [],
   "source": [
    "import bibdata\n",
    "import numpy"
   ]
  },
  {
   "cell_type": "markdown",
   "metadata": {},
   "source": [
    "Eksempelvis er der en funktion, som returnere titel/forfatter, hvis vi kommer med nummeret på et biblioteksmateriale."
   ]
  },
  {
   "cell_type": "code",
   "execution_count": 2,
   "metadata": {},
   "outputs": [
    {
     "data": {
      "text/plain": [
       "'Peter Plys : komplet samling fortællinger og digte - A. A. Milne'"
      ]
     },
     "execution_count": 2,
     "metadata": {},
     "output_type": "execute_result"
    }
   ],
   "source": [
    "bibdata.title_creator(8955)"
   ]
  },
  {
   "cell_type": "markdown",
   "metadata": {},
   "source": [
    "Herover ser vi at bog nummer $8955$ er \"Peter Plys\". Ligeledes kan vi se de øvrige bøger, som vi vil eksperimentere med herunder:"
   ]
  },
  {
   "cell_type": "code",
   "execution_count": 3,
   "metadata": {},
   "outputs": [
    {
     "data": {
      "text/plain": [
       "[(8955, 'Peter Plys : komplet samling fortællinger og digte - A. A. Milne'),\n",
       " (8214, 'Frøken Smillas fornemmelse for sne : roman - Peter Høeg'),\n",
       " (616, 'Cirkeline bliver til - Hanne Hastrup'),\n",
       " (580, 'Cykelmyggen Egon - Flemming Quist Møller'),\n",
       " (149, 'Turen går til Berlin - Therkelsen Kirstine'),\n",
       " (278, 'Turen går til Paris - Aske Munck'),\n",
       " (126, 'Alt om håndarbejdes strikkemagasin - '),\n",
       " (29, '1Q84 - Haruki Murakami'),\n",
       " (688, 'Kafka på stranden - Haruki Murakami')]"
      ]
     },
     "execution_count": 3,
     "metadata": {},
     "output_type": "execute_result"
    }
   ],
   "source": [
    "[(book_number, bibdata.title_creator(book_number))\n",
    "   for book_number in [8955, 8214, 616, 580, 149, 278, 126, 29, 688]]"
   ]
  },
  {
   "cell_type": "markdown",
   "metadata": {},
   "source": [
    "Vi kan finde punktet i genrerummet for en bog via `bibdata.genres`. Selve genrerummet er 100-dimensionelt, så vektoren består af 100 tal. I programmering kalde man ofte vektorer for *arrays*."
   ]
  },
  {
   "cell_type": "code",
   "execution_count": 4,
   "metadata": {},
   "outputs": [
    {
     "data": {
      "text/plain": [
       "array([-0.00555056,  0.02921515,  0.02892058, -0.00930832,  0.0100181 ,\n",
       "        0.02586022,  0.07639047,  0.0186474 , -0.00086742,  0.06219033,\n",
       "        0.00679732,  0.11657441,  0.10813324, -0.02801489,  0.09085855,\n",
       "        0.17314938,  0.01396204,  0.00813998,  0.02280807, -0.070943  ,\n",
       "        0.10048762,  0.19593475,  0.07772335, -0.02303249, -0.02877597,\n",
       "        0.0482331 ,  0.2106633 ,  0.10839563, -0.06060356,  0.04430847,\n",
       "        0.00402697,  0.08289498,  0.13924087, -0.27573585,  0.2362854 ,\n",
       "       -0.06875856,  0.16701048, -0.12419402, -0.092553  , -0.2432362 ,\n",
       "       -0.04190033,  0.0515306 , -0.13153618,  0.02286854,  0.17851359,\n",
       "        0.04017429, -0.11496432, -0.19422885, -0.29368186, -0.23722212,\n",
       "       -0.05779668,  0.11127474, -0.00292388,  0.11682518, -0.04726336,\n",
       "        0.24068264,  0.11335513, -0.00626563, -0.06929475, -0.06640247,\n",
       "       -0.02567991, -0.0427829 ,  0.04892466, -0.00911773, -0.04064843,\n",
       "        0.04555216,  0.02176529,  0.01931233,  0.05836495, -0.05277547,\n",
       "        0.06144368, -0.05780331, -0.09876966, -0.01271217, -0.03567164,\n",
       "       -0.01191766,  0.07763795,  0.06327907,  0.05489877,  0.0089579 ,\n",
       "        0.18206413,  0.07300671,  0.00060291, -0.0095353 , -0.00836633,\n",
       "       -0.04015189,  0.02045897, -0.05925296, -0.02297055, -0.03071   ,\n",
       "        0.0417429 ,  0.00575653, -0.08316413, -0.01834758,  0.04315409,\n",
       "       -0.13101666, -0.01981491, -0.02141316, -0.18829995,  0.07193003])"
      ]
     },
     "execution_count": 4,
     "metadata": {},
     "output_type": "execute_result"
    }
   ],
   "source": [
    "bibdata.genres[8955]"
   ]
  },
  {
   "cell_type": "markdown",
   "metadata": {},
   "source": [
    "Som det næste vil vi definere en funktion, `distance`, som udregner afstanden mellem to punkter/vektorer. Denne bruger funktionen `numpy.linalg.norm(v)`, der udregner $\\sqrt{v^2}$. Navnet `linalg` står for \"linær algebra\", som er den del af matematikken der blandt andet handler om at regne med vektorer. "
   ]
  },
  {
   "cell_type": "code",
   "execution_count": 5,
   "metadata": {
    "collapsed": true
   },
   "outputs": [],
   "source": [
    "def distance(a, b):\n",
    "    return numpy.linalg.norm(a - b)"
   ]
  },
  {
   "cell_type": "markdown",
   "metadata": {},
   "source": [
    "Vi afprøver derefter funktionen ved, at finde afstanden mellem $(1, 2)$ og $(4, 6)$. Dette skal være $5$, ligesom vi udregnede tidligere. Her bruger vi `numpy.array`, som laver en liste af tal om til en vektor, så computeren kan regne på den."
   ]
  },
  {
   "cell_type": "code",
   "execution_count": 6,
   "metadata": {},
   "outputs": [
    {
     "data": {
      "text/plain": [
       "5.0"
      ]
     },
     "execution_count": 6,
     "metadata": {},
     "output_type": "execute_result"
    }
   ],
   "source": [
    "distance(numpy.array([1, 2]), numpy.array([4, 6]))"
   ]
  },
  {
   "cell_type": "markdown",
   "metadata": {},
   "source": [
    "Afstanden mellem \"Peter Plys\" og \"Frøken Smilla\" er:"
   ]
  },
  {
   "cell_type": "code",
   "execution_count": 7,
   "metadata": {},
   "outputs": [
    {
     "data": {
      "text/plain": [
       "1.3247944045025537"
      ]
     },
     "execution_count": 7,
     "metadata": {},
     "output_type": "execute_result"
    }
   ],
   "source": [
    "distance(bibdata.genres[8955], bibdata.genres[8214])"
   ]
  },
  {
   "cell_type": "markdown",
   "metadata": {},
   "source": [
    "Afstanden mellem \"Cirkeline\" og \"Cykelmyggen Egon\" er:"
   ]
  },
  {
   "cell_type": "code",
   "execution_count": 8,
   "metadata": {},
   "outputs": [
    {
     "data": {
      "text/plain": [
       "1.0181284635824785"
      ]
     },
     "execution_count": 8,
     "metadata": {},
     "output_type": "execute_result"
    }
   ],
   "source": [
    "distance(bibdata.genres[616], bibdata.genres[580])"
   ]
  },
  {
   "cell_type": "markdown",
   "metadata": {},
   "source": [
    "Afstanden mellem rejsebøger om \"Berlin\" og \"Paris\" er:"
   ]
  },
  {
   "cell_type": "code",
   "execution_count": 9,
   "metadata": {},
   "outputs": [
    {
     "data": {
      "text/plain": [
       "0.25173324294787786"
      ]
     },
     "execution_count": 9,
     "metadata": {},
     "output_type": "execute_result"
    }
   ],
   "source": [
    "distance(bibdata.genres[149], bibdata.genres[278])"
   ]
  },
  {
   "cell_type": "markdown",
   "metadata": {},
   "source": [
    "Afstanden mellem rejsebog om \"Berlin\" og en håndarbejdsbog er:"
   ]
  },
  {
   "cell_type": "code",
   "execution_count": 10,
   "metadata": {},
   "outputs": [
    {
     "data": {
      "text/plain": [
       "1.3969369158183382"
      ]
     },
     "execution_count": 10,
     "metadata": {},
     "output_type": "execute_result"
    }
   ],
   "source": [
    "distance(bibdata.genres[149], bibdata.genres[126])"
   ]
  },
  {
   "cell_type": "markdown",
   "metadata": {},
   "source": [
    "Afstanden mellem to bøger af \"Haruki Murakami\" er:"
   ]
  },
  {
   "cell_type": "code",
   "execution_count": 11,
   "metadata": {},
   "outputs": [
    {
     "data": {
      "text/plain": [
       "0.4369157294393759"
      ]
     },
     "execution_count": 11,
     "metadata": {},
     "output_type": "execute_result"
    }
   ],
   "source": [
    "distance(bibdata.genres[29], bibdata.genres[688])"
   ]
  },
  {
   "cell_type": "markdown",
   "metadata": {},
   "source": [
    "Konklusionen er: at afstanden mellem bøger i genrerummet faktisk giver mening. De tre forventninger jeg formulerede i starten af kapitlet holdt. \n",
    "\n",
    "Vi kan observere, at rejsebøgerne ligger tættere på hinanden end Murakami-bøgerne, og at afstanden mellem Cirkeline og Cykelmyggen Egon er relativt stor. Dette ville jeg ikke have forudset, men den slags udsving er forventelige.\n",
    "\n",
    "Bemærk også, at forventningerne blev formuleret før eksperimenterne blev programmeret og kørt. Når man laver data science / videnskabelige eksperimenter, gælder det om først at formulere hypotese, og hvorledes man kan teste den, - og derefter, at udføre testen for, at se om hypotesen faktisk holder."
   ]
  },
  {
   "cell_type": "markdown",
   "metadata": {},
   "source": [
    "## Afstand mellem flere materialer\n",
    "\n",
    "TODO"
   ]
  }
 ],
 "metadata": {
  "kernelspec": {
   "display_name": "Python 3",
   "language": "python",
   "name": "python3"
  },
  "language_info": {
   "codemirror_mode": {
    "name": "ipython",
    "version": 3
   },
   "file_extension": ".py",
   "mimetype": "text/x-python",
   "name": "python",
   "nbconvert_exporter": "python",
   "pygments_lexer": "ipython3",
   "version": "3.6.2"
  }
 },
 "nbformat": 4,
 "nbformat_minor": 2
}
