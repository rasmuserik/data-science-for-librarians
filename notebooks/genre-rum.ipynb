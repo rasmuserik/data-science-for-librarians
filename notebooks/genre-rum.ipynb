{
 "cells": [
  {
   "cell_type": "markdown",
   "metadata": {},
   "source": [
    "# Eksperiment: Genre-rum\n",
    "\n",
    "Vi har en idé om, hvad *afstanden* er mellem to punkter.\n",
    "Hvis vi har to prikker på et stykke papir, så véd vi, hvordan vi måler afstanden mellem dem.\n",
    "Hvis vi har to steder i vores dagligstue, så har vi også en idé om deres afstand.\n",
    "\n",
    "Hvordan kan vi tale om afstand mellem to bøger? Vi vil nok forvente, at bøger indenfor samme genre ligger tæt på hinanden, eksempler:\n",
    "\n",
    "- Afstanden mellem \"Peter Plys\" og \"Frøken Smillas fornemmelse for sne\" er nok større end afstanden mellem \"Cirkeline\" og \"Cykelmyggen Egon\".\n",
    "- En rejsebog om Berlin er nok tættere på en rejsebog om Paris, end på en håndarbejdsbog.\n",
    "- Bøger af samme forfatter befinder sig nok i nærheden af hinanden.\n",
    "\n",
    "Forestil dig, at vi har et genre-rum, hvor der er et punkt for hver eneste bog, og vi kan måle afstanden mellem dem. Dette vil give nye muligheder for at gå på opdagelse i litteraturen. Anbefalinger skabes ved at finde de nærmeste nabopunkter. En genre består af punkter i nærheden af hinanden. Dette gør, at vi kan bruge computeren til at udforske litteraturen.\n",
    "\n",
    "På papir, i vores dagligstue såvel som i genrerummet, kan afstand defineres matematisk således: Hvis vi har to punkter, $a$ og $b$, så er afstanden mellem dem $\\sqrt{(a-b)^2}$.\n",
    "I én dimension er det afstanden mellem to tal. Eksempel: afstanden mellem $1$ og $3$ er $2$, hvilket kan udregnes som $\\sqrt{(1 - 3)^2} = \\sqrt{(-2)^2} = \\sqrt{4} = 2$.\n",
    "I to dimensioner er det afstanden mellem to prikker på et stykke papir, også kaldet den \"Euklidiske afstand\", $\\sqrt{(x_a - x_b)^2 + (y_a - y_b)^2}$. Eksempel: afstanden mellem koordinaterne $(1,2)$ og $(4,6)$ er $5$ hvilket vi kan udregne som $\\sqrt{(1-4)^2 + (2-6)^2} = \\sqrt{3^2 + 4^2} = \\sqrt{9 + 16} = \\sqrt{25} = 5$.\n",
    "I tre dimensioner er det afstanden mellem to punkter i rummet, i.e. $\\sqrt{(x_a - x_b)^2 + (y_a - y_b)^2 + (z_a - z_b)^2}$, - og det fortsætter på samme måde i fire, fem, seks, ... dimensioner. \n",
    "\n",
    "I matematik kalder vi ofte koordinaterne for *vektorer*. Eksempelvis er en 5-dimensionel vektor, blot en liste af fem tal, og en 100-dimensionel vektor er en liste af hundrede tal.\n",
    "\n",
    "Hvordan skaber vi et sådan genrerum? Vi har en masse statistik om lån på bibliotekerne. Hvis vi antager, at man ofte låner indenfor samme genre, så kan computeren ud fra disse data udregne et genrerum.\n",
    "\n",
    "Jeg har udregnet et sådan genrerum for 10.000 biblioteksmaterialer, og i det følgende vil vi undersøge, om afstanden mellem bøger i genrerummet giver mening."
   ]
  },
  {
   "cell_type": "markdown",
   "metadata": {},
   "source": [
    "## Eksperimenter med afstand mellem bøger"
   ]
  },
  {
   "cell_type": "markdown",
   "metadata": {},
   "source": [
    "Når vi laver et program, må vi først fortælle computeren, hvilken funktionalitet vi har brug for: `bibdata` indeholder bibliografiske data, og genrerummet, som jeg har beregnet. `numpy` indeholder matematikfunktionalitet:"
   ]
  },
  {
   "cell_type": "code",
   "execution_count": 1,
   "metadata": {
    "collapsed": true
   },
   "outputs": [],
   "source": [
    "import bibdata\n",
    "import numpy"
   ]
  },
  {
   "cell_type": "markdown",
   "metadata": {},
   "source": [
    "I `bibdata` er der en funktion, som returnerer titel/forfatter, hvis vi kommer med nummeret på et biblioteksmateriale:"
   ]
  },
  {
   "cell_type": "code",
   "execution_count": 2,
   "metadata": {},
   "outputs": [
    {
     "data": {
      "text/plain": [
       "'Peter Plys : komplet samling fortællinger og digte - A. A. Milne (book)'"
      ]
     },
     "execution_count": 2,
     "metadata": {},
     "output_type": "execute_result"
    }
   ],
   "source": [
    "bibdata.title_creator(8955)"
   ]
  },
  {
   "cell_type": "markdown",
   "metadata": {},
   "source": [
    "Herover ser vi at bog nummer $8955$ er \"Peter Plys\". Ligeledes kan vi se de øvrige bøger, som vi vil eksperimentere med herunder:"
   ]
  },
  {
   "cell_type": "code",
   "execution_count": 3,
   "metadata": {},
   "outputs": [
    {
     "data": {
      "text/plain": [
       "[(8955,\n",
       "  'Peter Plys : komplet samling fortællinger og digte - A. A. Milne (book)'),\n",
       " (8214, 'Frøken Smillas fornemmelse for sne : roman - Peter Høeg (book)'),\n",
       " (616, 'Cirkeline bliver til - Hanne Hastrup (book)'),\n",
       " (580, 'Cykelmyggen Egon - Flemming Quist Møller (book)'),\n",
       " (149, 'Turen går til Berlin - Therkelsen Kirstine (book)'),\n",
       " (278, 'Turen går til Paris - Aske Munck (book)'),\n",
       " (126, 'Alt om håndarbejdes strikkemagasin -  (other)'),\n",
       " (29, '1Q84 - Haruki Murakami (audiobook)'),\n",
       " (688, 'Kafka på stranden - Haruki Murakami (book)')]"
      ]
     },
     "execution_count": 3,
     "metadata": {},
     "output_type": "execute_result"
    }
   ],
   "source": [
    "[(book_number, bibdata.title_creator(book_number))\n",
    "   for book_number in [8955, 8214, 616, 580, 149, 278, 126, 29, 688]]"
   ]
  },
  {
   "cell_type": "markdown",
   "metadata": {},
   "source": [
    "Disse kan derefter navngives, så de er lettere at arbejde med."
   ]
  },
  {
   "cell_type": "code",
   "execution_count": 4,
   "metadata": {
    "collapsed": true
   },
   "outputs": [],
   "source": [
    "peter_plys = 8944\n",
    "smilla = 8214\n",
    "cirkeline = 616\n",
    "cykelmyggen = 580\n",
    "berlin = 149\n",
    "paris = 278\n",
    "strikning = 126\n",
    "q84 = 29\n",
    "kafka = 688"
   ]
  },
  {
   "cell_type": "markdown",
   "metadata": {},
   "source": [
    "Vi kan finde punktet i genrerummet for en bog via `bibdata.genres`. Selve genrerummet er 100-dimensionelt, så vektoren består af 100 tal. I programmering kaldes vektorer ofte for *arrays*."
   ]
  },
  {
   "cell_type": "code",
   "execution_count": 5,
   "metadata": {},
   "outputs": [
    {
     "data": {
      "text/plain": [
       "array([ 0.00908454, -0.04033043, -0.01284507,  0.00788709,  0.01718174,\n",
       "        0.00128158, -0.07500522, -0.01639324,  0.06427721, -0.0099812 ,\n",
       "        0.00083797,  0.01363433, -0.00866813,  0.01482092,  0.10160233,\n",
       "        0.08134543, -0.04255533, -0.00833438,  0.02536649,  0.02128514,\n",
       "        0.00554724, -0.00080702,  0.01274936, -0.03601923,  0.01916139,\n",
       "        0.02077907, -0.04609259, -0.08917641,  0.07050021,  0.01678492,\n",
       "        0.01278447,  0.00108154,  0.01457724,  0.04591186, -0.01287235,\n",
       "        0.0202236 ,  0.00102133,  0.14692573,  0.18963774,  0.08172592,\n",
       "       -0.01773496,  0.11990478, -0.12269035, -0.33739865,  0.23169368,\n",
       "        0.01569639, -0.06665396,  0.00139089,  0.07659317,  0.00650507,\n",
       "       -0.01185874,  0.01587052,  0.07172235,  0.00525925,  0.11984863,\n",
       "        0.10747883,  0.25288281,  0.07708268, -0.2325371 , -0.10132218,\n",
       "        0.07604308,  0.05801751,  0.02945208, -0.03336021, -0.08060202,\n",
       "        0.03639616,  0.02639744, -0.02000082, -0.02184357,  0.02158996,\n",
       "        0.04069334,  0.00409769, -0.15620241, -0.14288074, -0.04555338,\n",
       "       -0.0875617 , -0.50226035,  0.18508342,  0.19686877,  0.11195053,\n",
       "       -0.18041552,  0.09638708,  0.02675614,  0.04779613,  0.06875322,\n",
       "       -0.08385483, -0.03366541, -0.01312519,  0.14200541, -0.06419092,\n",
       "       -0.03430816,  0.07344945, -0.01200862,  0.01030531,  0.01404084,\n",
       "        0.01365915,  0.04134672,  0.03988478, -0.03000684,  0.01141376])"
      ]
     },
     "execution_count": 5,
     "metadata": {},
     "output_type": "execute_result"
    }
   ],
   "source": [
    "bibdata.genres[peter_plys]"
   ]
  },
  {
   "cell_type": "markdown",
   "metadata": {},
   "source": [
    "Som det næste vil vi definere en funktion, `distance`, som udregner afstanden mellem to punkter/vektorer. Denne bruger funktionen `numpy.linalg.norm(v)`, der udregner $\\sqrt{v^2}$. Navnet `linalg` står for \"linær algebra\", som er den del af matematikken, der blandt andet handler om at regne med vektorer. "
   ]
  },
  {
   "cell_type": "code",
   "execution_count": 6,
   "metadata": {
    "collapsed": true
   },
   "outputs": [],
   "source": [
    "def distance(a, b):\n",
    "    return numpy.linalg.norm(a - b)"
   ]
  },
  {
   "cell_type": "markdown",
   "metadata": {},
   "source": [
    "Vi afprøver derefter funktionen ved at finde afstanden mellem $(1, 2)$ og $(4, 6)$. Dette skal være $5$, ligesom vi udregnede tidligere. Her bruger vi `numpy.array`, som laver en liste af tal om til en vektor, så computeren kan regne på den."
   ]
  },
  {
   "cell_type": "code",
   "execution_count": 7,
   "metadata": {},
   "outputs": [
    {
     "data": {
      "text/plain": [
       "5.0"
      ]
     },
     "execution_count": 7,
     "metadata": {},
     "output_type": "execute_result"
    }
   ],
   "source": [
    "distance(numpy.array([1, 2]), numpy.array([4, 6]))"
   ]
  },
  {
   "cell_type": "markdown",
   "metadata": {},
   "source": [
    "Afstanden mellem \"Peter Plys\" og \"Frøken Smilla\" er:"
   ]
  },
  {
   "cell_type": "code",
   "execution_count": 8,
   "metadata": {},
   "outputs": [
    {
     "data": {
      "text/plain": [
       "1.3939129763199098"
      ]
     },
     "execution_count": 8,
     "metadata": {},
     "output_type": "execute_result"
    }
   ],
   "source": [
    "distance(bibdata.genres[peter_plys], bibdata.genres[smilla])"
   ]
  },
  {
   "cell_type": "markdown",
   "metadata": {},
   "source": [
    "Afstanden mellem \"Cirkeline\" og \"Cykelmyggen Egon\" er:"
   ]
  },
  {
   "cell_type": "code",
   "execution_count": 22,
   "metadata": {},
   "outputs": [
    {
     "data": {
      "text/plain": [
       "1.0181284635824785"
      ]
     },
     "execution_count": 22,
     "metadata": {},
     "output_type": "execute_result"
    }
   ],
   "source": [
    "distance(bibdata.genres[cirkeline], bibdata.genres[cykelmyggen])"
   ]
  },
  {
   "cell_type": "markdown",
   "metadata": {},
   "source": [
    "Afstanden mellem rejsebøger om \"Berlin\" og \"Paris\" er:"
   ]
  },
  {
   "cell_type": "code",
   "execution_count": 23,
   "metadata": {},
   "outputs": [
    {
     "data": {
      "text/plain": [
       "0.25173324294787786"
      ]
     },
     "execution_count": 23,
     "metadata": {},
     "output_type": "execute_result"
    }
   ],
   "source": [
    "distance(bibdata.genres[berlin], bibdata.genres[paris])"
   ]
  },
  {
   "cell_type": "markdown",
   "metadata": {},
   "source": [
    "Afstanden mellem rejsebog om \"Berlin\" og en håndarbejdsbog er:"
   ]
  },
  {
   "cell_type": "code",
   "execution_count": 24,
   "metadata": {},
   "outputs": [
    {
     "data": {
      "text/plain": [
       "1.3969369158183382"
      ]
     },
     "execution_count": 24,
     "metadata": {},
     "output_type": "execute_result"
    }
   ],
   "source": [
    "distance(bibdata.genres[berlin], bibdata.genres[strikning])"
   ]
  },
  {
   "cell_type": "markdown",
   "metadata": {},
   "source": [
    "Afstanden mellem to bøger af \"Haruki Murakami\" er:"
   ]
  },
  {
   "cell_type": "code",
   "execution_count": 25,
   "metadata": {},
   "outputs": [
    {
     "data": {
      "text/plain": [
       "0.4369157294393759"
      ]
     },
     "execution_count": 25,
     "metadata": {},
     "output_type": "execute_result"
    }
   ],
   "source": [
    "distance(bibdata.genres[q84], bibdata.genres[kafka])"
   ]
  },
  {
   "cell_type": "markdown",
   "metadata": {},
   "source": [
    "Konklusionen er, at afstanden mellem bøger i genrerummet faktisk giver mening. De tre forventninger, som jeg formulerede i starten af kapitlet, holder. \n",
    "\n",
    "Bemærk at forventningerne blev formuleret, før eksperimenterne blev programmeret og kørt. Når man laver data science / videnskabelige eksperimenter, gælder det om først at formulere hypotese, og hvorledes man kan teste den, - og derefter, at udføre testen for, at se om hypotesen faktisk holder."
   ]
  },
  {
   "cell_type": "markdown",
   "metadata": {},
   "source": [
    "# Litterære anbefalinger\n",
    "\n",
    "Genrerummet bør også kunne bruges til, at finde litterære anbefalinger.\n",
    "\n",
    "Lad os vælge en bog og derefter finde afstanden fra denne til alle andre bøger. Vi inkluderer titel/forfatter for at gøre resultatet mere læsbart. Når vi skriver `[:10]` betyder det, at vi kun viser de første 10 resultater i stedet for hele listen."
   ]
  },
  {
   "cell_type": "code",
   "execution_count": 26,
   "metadata": {},
   "outputs": [
    {
     "data": {
      "text/plain": [
       "[(1.4011684494447065, 'Fifty shades - E. L. James (book)'),\n",
       " (1.4332511957653991, 'Journal 64 : krimithriller - Jussi Adler-Olsen (book)'),\n",
       " (1.4319693083341756,\n",
       "  'Marco effekten : krimithriller - Jussi Adler-Olsen (book)'),\n",
       " (1.4377953467714748, 'Taynikma - Jan Kjær (f. 1971) (book)'),\n",
       " (1.4561631856697466, 'De glemte piger : krimi - Sara Blædel (book)'),\n",
       " (1.4390826249649267,\n",
       "  'Den grænseløse : krimithriller - Jussi Adler-Olsen (book)'),\n",
       " (1.2877310264792368, 'Vildheks - Lene Kꜳberbøl (book)'),\n",
       " (1.4363966653595654, 'Dødesporet : krimi - Sara Blædel (audiobook)'),\n",
       " (1.4501109638315552, 'Dødsenglen : krimi - Sara Blædel (book)'),\n",
       " (1.4287816916279745,\n",
       "  'Flaskepost fra P : krimithriller - Jussi Adler-Olsen (book)')]"
      ]
     },
     "execution_count": 26,
     "metadata": {},
     "output_type": "execute_result"
    }
   ],
   "source": [
    "distances_from_peter_plys = [\n",
    "    (distance(bibdata.genres[peter_plys], bibdata.genres[other_book]), \n",
    "        bibdata.title_creator(other_book)) \n",
    "    for other_book in range(0, 10000)\n",
    "]\n",
    "distances_from_peter_plys[:10]"
   ]
  },
  {
   "cell_type": "markdown",
   "metadata": {},
   "source": [
    "Hvis vi nu sorterer listen af bøger efter afstanden til den valgte bog, så får vi en liste af anbefalinger."
   ]
  },
  {
   "cell_type": "code",
   "execution_count": 14,
   "metadata": {},
   "outputs": [
    {
     "data": {
      "text/plain": [
       "[(0.0,\n",
       "  'Peter Plys : komplet samling fortællinger og digte - A. A. Milne (book)'),\n",
       " (0.53454719612995338,\n",
       "  'Bogen om Emil fra Lønneberg : samlet udgave med alle historierne om Emil fra Lønneberg - Astrid Lindgren (book)'),\n",
       " (0.53718166508329679,\n",
       "  'Astrid Lindgrens allerbedste historier - Ingrid Vang Nyman (book)'),\n",
       " (0.54053996866025411,\n",
       "  'Mumitrolden : de samlede striber - Tove Jansson (book)'),\n",
       " (0.5654914190345337,\n",
       "  'Klatremus og de andre dyr i Hakkebakkeskoven - Thorbjørn Egner (book)'),\n",
       " (0.57263271765819757,\n",
       "  'Pippi Langstrømpe går om bord - Astrid Lindgren (audiobook)'),\n",
       " (0.57288576301783933, 'Bogen om Pippi Langstrømpe - Astrid Lindgren (book)'),\n",
       " (0.58822503022521333,\n",
       "  'Anne Marie Helger læser Vinden i piletræerne - Anne Marie Helger (audiobook)'),\n",
       " (0.60406738110296454,\n",
       "  'Pippi Langstrømpe i Sydhavet - Astrid Lindgren (audiobook)'),\n",
       " (0.61582753873808027,\n",
       "  'Han er her endnu - Emil fra Lønneberg - Astrid Lindgren (book)')]"
      ]
     },
     "execution_count": 14,
     "metadata": {},
     "output_type": "execute_result"
    }
   ],
   "source": [
    "sorted(distances_from_peter_plys)[:10]"
   ]
  },
  {
   "cell_type": "markdown",
   "metadata": {},
   "source": [
    "Vi kan nu definere dette i en funktion, hvor vi kun returnerer titlerne. Hvis man i programmering har et par data: `rec = (afstand, titel)` kan man få fat i `titel` ved at skrive `rec[1]` (og få fat i `afstand` ved at skrive `rec[0]`). "
   ]
  },
  {
   "cell_type": "code",
   "execution_count": 15,
   "metadata": {
    "collapsed": true
   },
   "outputs": [],
   "source": [
    "def recommendations(book):\n",
    "    return [recommendation[1] for recommendation in\n",
    "        sorted([\n",
    "            (distance(bibdata.genres[book], bibdata.genres[other_book]), \n",
    "                bibdata.title_creator(other_book)) \n",
    "            for other_book in range(0, 10000)])]"
   ]
  },
  {
   "cell_type": "markdown",
   "metadata": {},
   "source": [
    "Med denne funktion kan vi så udforske anbefalingerne til forskellige bøger:"
   ]
  },
  {
   "cell_type": "code",
   "execution_count": 27,
   "metadata": {},
   "outputs": [
    {
     "data": {
      "text/plain": [
       "['Frøken Smillas fornemmelse for sne : roman - Peter Høeg (book)',\n",
       " 'Den kroniske uskyld - Klaus Rifbjerg (audiobook)',\n",
       " 'Vinter-Eventyr - Karen Blixen (book)',\n",
       " 'Kongens Fald - Johannes V. Jensen (f. 1873) (book)',\n",
       " 'Ved Vejen - Herman Bang (book)',\n",
       " 'Rend mig i traditionerne - Leif Panduro (audiobook)',\n",
       " 'Kronprinsessen : roman - Hanne-Vibeke Holst (book)',\n",
       " 'Det forsømte forår - Hans Scherfig (book)',\n",
       " 'Drageløberen - Khaled Hosseini (book)',\n",
       " 'Pelle Erobreren : barndom - Martin Andersen Nexø (book)']"
      ]
     },
     "execution_count": 27,
     "metadata": {},
     "output_type": "execute_result"
    }
   ],
   "source": [
    "recommendations(smilla)[:10]"
   ]
  },
  {
   "cell_type": "code",
   "execution_count": 28,
   "metadata": {},
   "outputs": [
    {
     "data": {
      "text/plain": [
       "['Cirkeline bliver til - Hanne Hastrup (book)',\n",
       " 'Godmorgen Cirkeline - Hanne Hastrup (book)',\n",
       " 'Cirkeline - tæl til 10 - Hanne Hastrup (book)',\n",
       " 'Godnat Cirkeline - Hanne Hastrup (book)',\n",
       " 'Cirkeline på opdagelse - Ulla Raben (book)',\n",
       " 'Cirkeline godnat - Hanne Hastrup (book)',\n",
       " 'Den store bog om Cirkeline - Hanne Hastrup (book)',\n",
       " 'Cirkeline flytter til byen - Hanne Hastrup (book)',\n",
       " 'Kender du Pippi Langstrømpe? : billedbog - Ingrid Vang Nyman (book)',\n",
       " 'Cirkeline - Hanne Hastrup (book)']"
      ]
     },
     "execution_count": 28,
     "metadata": {},
     "output_type": "execute_result"
    }
   ],
   "source": [
    "recommendations(cirkeline)[:10]"
   ]
  },
  {
   "cell_type": "code",
   "execution_count": 35,
   "metadata": {},
   "outputs": [
    {
     "data": {
      "text/plain": [
       "['Cykelmyggen Egon - Flemming Quist Møller (book)',\n",
       " 'Den store bog om den glade løve - Louise Fatio (book)',\n",
       " 'Bennys badekar - Flemming Quist Møller (book)',\n",
       " 'Pandekagekagen - Sven Nordqvist (book)',\n",
       " 'Stakkels Peddersen - Sven Nordqvist (book)',\n",
       " 'Gok-gok i køkkenhaven - Sven Nordqvist (book)',\n",
       " 'Findus flytter hjemmefra - Sven Nordqvist (book)',\n",
       " 'Og hanen gol - Sven Nordqvist (book)',\n",
       " 'Paddington - Michael Bond (book)',\n",
       " 'Rasmus får besøg - Jørgen Clevin (book)']"
      ]
     },
     "execution_count": 35,
     "metadata": {},
     "output_type": "execute_result"
    }
   ],
   "source": [
    "recommendations(cykelmyggen)[:10]"
   ]
  },
  {
   "cell_type": "code",
   "execution_count": 30,
   "metadata": {},
   "outputs": [
    {
     "data": {
      "text/plain": [
       "['Turen går til Berlin - Therkelsen Kirstine (book)',\n",
       " 'Politikens visuelle guide - Berlin - Søndervang Allan edt (book)',\n",
       " 'Top 10 Berlin - Jürgen Scheunemann (book)',\n",
       " 'Turen går til Amsterdam - Anette Jorsal (book)',\n",
       " 'Turen går til Prag - Hans Kragh-Jacobsen (book)',\n",
       " 'Turen går til Hamburg og Nordtyskland - Jytte Flamsholt Christensen (book)',\n",
       " 'Turen går til Californien & det vestlige USA - Preben Hansen (f. 1956) (book)',\n",
       " 'Turen går til London - Gunhild Riske (book)',\n",
       " 'Politikens Kort og godt om Berlin - Charmetant Jim (book)',\n",
       " 'Politikens visuelle guide - Prag - Vladimír Soukup (book)']"
      ]
     },
     "execution_count": 30,
     "metadata": {},
     "output_type": "execute_result"
    }
   ],
   "source": [
    "recommendations(berlin)[:10]"
   ]
  },
  {
   "cell_type": "code",
   "execution_count": 31,
   "metadata": {},
   "outputs": [
    {
     "data": {
      "text/plain": [
       "['Alt om håndarbejdes strikkemagasin -  (other)',\n",
       " 'Kreativ strik -  (other)',\n",
       " \"Ingelise's strikkemagasin -  (other)\",\n",
       " 'DROPS : strikkdesign - Garnstudio (periodica)',\n",
       " 'Alt om håndarbejdes symagasin -  (other)',\n",
       " 'Maries ideer : håndarbejde, strik, sy, hækl, bolig, inspiration -  (other)',\n",
       " 'Burda style -  (other)',\n",
       " 'Burda -  (other)',\n",
       " 'Burda modemagasin : verdensberømt mode -  (other)',\n",
       " \"Ingelise's symagasin -  (other)\"]"
      ]
     },
     "execution_count": 31,
     "metadata": {},
     "output_type": "execute_result"
    }
   ],
   "source": [
    "recommendations(strikning)[:10]"
   ]
  },
  {
   "cell_type": "code",
   "execution_count": 33,
   "metadata": {},
   "outputs": [
    {
     "data": {
      "text/plain": [
       "['Kafka på stranden - Haruki Murakami (book)',\n",
       " 'Trækopfuglens krønike - Haruki Murakami (book)',\n",
       " 'Norwegian wood - Haruki Murakami (book)',\n",
       " 'Sønden for grænsen og vesten for solen - Haruki Murakami (book)',\n",
       " 'Efter midnat - Haruki Murakami (book)',\n",
       " 'Sputnik min elskede - Haruki Murakami (book)',\n",
       " 'Hvad jeg taler om når jeg taler om at løbe - Haruki Murakami (book)',\n",
       " 'Brooklyn dårskab : roman - Paul Auster (book)',\n",
       " '1Q84 - Haruki Murakami (audiobook)',\n",
       " 'Efter skælvet - Haruki Murakami (book)']"
      ]
     },
     "execution_count": 33,
     "metadata": {},
     "output_type": "execute_result"
    }
   ],
   "source": [
    "recommendations(kafka)[:10]"
   ]
  },
  {
   "cell_type": "markdown",
   "metadata": {},
   "source": [
    "Vi har hermed lavet koden for en lille anbefalingsservice.\n",
    "\n",
    "For perspektivering, sammenlign eksempelvis resultaterne med anbefalingerne på bibliotekernes hjemmesider. Bemærk at vi her kun kigger på et lille udvalg af materialebestanden. På bibliotek.dk kan anbefalinger findes ved, at fremsøge en bog, og derefter klikke på \"Inspiration\", og \"Andre der har lånt...\". Genrerummet som vi benytter her, er faktisk udregnet fra (en lille delmængde af) de \"Andre der har lånt\"-data, som DBC havde med på Hack4DK."
   ]
  },
  {
   "cell_type": "markdown",
   "metadata": {},
   "source": [
    "Bemærk at bøgerne, som vi finder anbefalinger for, er valgt på forhånd (og derved uafhængigt af hvordan anbefalingerne bliver). Derfor må kvaliteten af anbefalinger forventes at være repræsentativ."
   ]
  },
  {
   "cell_type": "markdown",
   "metadata": {},
   "source": [
    "## Øvelser\n",
    "\n",
    "\n",
    "- Ændr antallet af resultater der vises for nogle af de ovenstående bøger.\n",
    "- Udforsk anbefalingerne for andre bøger end de ovenstående."
   ]
  }
 ],
 "metadata": {
  "kernelspec": {
   "display_name": "Python 3",
   "language": "python",
   "name": "python3"
  },
  "language_info": {
   "codemirror_mode": {
    "name": "ipython",
    "version": 3
   },
   "file_extension": ".py",
   "mimetype": "text/x-python",
   "name": "python",
   "nbconvert_exporter": "python",
   "pygments_lexer": "ipython3",
   "version": "3.6.3"
  }
 },
 "nbformat": 4,
 "nbformat_minor": 2
}
