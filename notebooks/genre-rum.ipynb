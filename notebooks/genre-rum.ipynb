{
 "cells": [
  {
   "cell_type": "markdown",
   "metadata": {},
   "source": [
    "# Eksperiment: Genre-rum\n",
    "\n",
    "Vi har en idé om, hvad *afstanden* er mellem to punkter.\n",
    "Hvis vi har to prikker på et stykke papir, så véd vi, hvordan vi måler afstanden mellem dem.\n",
    "Hvis vi har to steder i vores dagligstue, så har vi også en idé om deres afstand.\n",
    "\n",
    "Hvordan kan vi tale om afstand mellem to bøger? Vi vil nok forvente, at bøger indenfor samme genre ligger tæt på hinanden, eksempler:\n",
    "\n",
    "- Afstanden mellem \"Peter Plys\" og \"Frøken Smillas fornemmelse for sne\" er nok større end afstanden mellem \"Cirkeline\" og \"Cykelmyggen Egon\".\n",
    "- En rejsebog om Berlin er nok tættere på en rejsebog om Paris, end på en håndarbejdsbog.\n",
    "- Bøger af samme forfatter befinder sig nok i nærheden af hinanden.\n",
    "\n",
    "Forestil dig, at vi har et genre-rum, hvor der er et punkt for hver eneste bog, og vi kan måle afstanden mellem dem. Dette vil give nye muligheder for at gå på opdagelse i litteraturen. Anbefalinger skabes ved at finde de nærmeste nabopunkter. En genre består af punkter i nærheden af hinanden. Dette gør, at vi kan bruge computeren til at udforske litteraturen.\n",
    "\n",
    "På papir, i vores dagligstue såvel som i genrerummet, kan afstand defineres matematisk således: Hvis vi har to punkter, $a$ og $b$, så er afstanden mellem dem $\\sqrt{(a-b)^2}$.\n",
    "I én dimension er det afstanden mellem to tal. Eksempel: afstanden mellem $1$ og $3$ er $2$, hvilket kan udregnes som $\\sqrt{(1 - 3)^2} = \\sqrt{(-2)^2} = \\sqrt{4} = 2$.\n",
    "I to dimensioner er det afstanden mellem to prikker på et stykke papir, også kaldet den \"Euklidiske afstand\", $\\sqrt{(x_a - x_b)^2 + (y_a - y_b)^2}$. Eksempel: afstanden mellem koordinaterne $(1,2)$ og $(4,6)$ er $5$ hvilket vi kan udregne som $\\sqrt{(1-4)^2 + (2-6)^2} = \\sqrt{3^2 + 4^2} = \\sqrt{9 + 16} = \\sqrt{25} = 5$.\n",
    "I tre dimensioner er det afstanden mellem to punkter i rummet, i.e. $\\sqrt{(x_a - x_b)^2 + (y_a - y_b)^2 + (z_a - z_b)^2}$, - og det fortsætter på samme måde i fire, fem, seks, ... dimensioner. \n",
    "\n",
    "I matematik kalder vi ofte koordinaterne for *vektorer*. Eksempelvis er en 5-dimensionel vektor, blot en liste af fem tal, og en 100-dimensionel vektor er en liste af hundrede tal.\n",
    "\n",
    "Hvordan skaber vi et sådan genrerum? Vi har en masse statistik om lån på bibliotekerne. Hvis vi antager, at man ofte låner indenfor samme genre, så kan computeren ud fra disse data udregne et genrerum.\n",
    "\n",
    "Jeg har udregnet et sådan genrerum for 10.000 biblioteksmaterialer, og i det følgende vil vi undersøge, om afstanden mellem bøger i genrerummet giver mening."
   ]
  },
  {
   "cell_type": "markdown",
   "metadata": {},
   "source": [
    "## Eksperimenter med afstand mellem bøger"
   ]
  },
  {
   "cell_type": "markdown",
   "metadata": {},
   "source": [
    "Når vi laver et program, må vi først fortælle computeren, hvilken funktionalitet vi har brug for: `bibdata` indeholder bibliografiske data, og genrerummet, som jeg har beregnet. `numpy` indeholder matematikfunktionalitet:"
   ]
  },
  {
   "cell_type": "code",
   "execution_count": 1,
   "metadata": {
    "collapsed": true
   },
   "outputs": [],
   "source": [
    "import bibdata\n",
    "import numpy"
   ]
  },
  {
   "cell_type": "markdown",
   "metadata": {},
   "source": [
    "I `bibdata` er der en funktion, som returnerer titel/forfatter, hvis vi kommer med nummeret på et biblioteksmateriale:"
   ]
  },
  {
   "cell_type": "code",
   "execution_count": 2,
   "metadata": {},
   "outputs": [
    {
     "data": {
      "text/plain": [
       "'Peter Plys : komplet samling fortællinger og digte - A. A. Milne'"
      ]
     },
     "execution_count": 2,
     "metadata": {},
     "output_type": "execute_result"
    }
   ],
   "source": [
    "bibdata.title_creator(8955)"
   ]
  },
  {
   "cell_type": "markdown",
   "metadata": {},
   "source": [
    "Herover ser vi at bog nummer $8955$ er \"Peter Plys\". Ligeledes kan vi se de øvrige bøger, som vi vil eksperimentere med herunder:"
   ]
  },
  {
   "cell_type": "code",
   "execution_count": 3,
   "metadata": {},
   "outputs": [
    {
     "data": {
      "text/plain": [
       "[(8955, 'Peter Plys : komplet samling fortællinger og digte - A. A. Milne'),\n",
       " (8214, 'Frøken Smillas fornemmelse for sne : roman - Peter Høeg'),\n",
       " (616, 'Cirkeline bliver til - Hanne Hastrup'),\n",
       " (580, 'Cykelmyggen Egon - Flemming Quist Møller'),\n",
       " (149, 'Turen går til Berlin - Therkelsen Kirstine'),\n",
       " (278, 'Turen går til Paris - Aske Munck'),\n",
       " (126, 'Alt om håndarbejdes strikkemagasin - '),\n",
       " (29, '1Q84 - Haruki Murakami'),\n",
       " (688, 'Kafka på stranden - Haruki Murakami')]"
      ]
     },
     "execution_count": 3,
     "metadata": {},
     "output_type": "execute_result"
    }
   ],
   "source": [
    "[(book_number, bibdata.title_creator(book_number))\n",
    "   for book_number in [8955, 8214, 616, 580, 149, 278, 126, 29, 688]]"
   ]
  },
  {
   "cell_type": "markdown",
   "metadata": {},
   "source": [
    "Vi kan finde punktet i genrerummet for en bog via `bibdata.genres`. Selve genrerummet er 100-dimensionelt, så vektoren består af 100 tal. I programmering kaldes vektorer ofte for *arrays*."
   ]
  },
  {
   "cell_type": "code",
   "execution_count": 4,
   "metadata": {},
   "outputs": [
    {
     "data": {
      "text/plain": [
       "array([-0.00555056,  0.02921515,  0.02892058, -0.00930832,  0.0100181 ,\n",
       "        0.02586022,  0.07639047,  0.0186474 , -0.00086742,  0.06219033,\n",
       "        0.00679732,  0.11657441,  0.10813324, -0.02801489,  0.09085855,\n",
       "        0.17314938,  0.01396204,  0.00813998,  0.02280807, -0.070943  ,\n",
       "        0.10048762,  0.19593475,  0.07772335, -0.02303249, -0.02877597,\n",
       "        0.0482331 ,  0.2106633 ,  0.10839563, -0.06060356,  0.04430847,\n",
       "        0.00402697,  0.08289498,  0.13924087, -0.27573585,  0.2362854 ,\n",
       "       -0.06875856,  0.16701048, -0.12419402, -0.092553  , -0.2432362 ,\n",
       "       -0.04190033,  0.0515306 , -0.13153618,  0.02286854,  0.17851359,\n",
       "        0.04017429, -0.11496432, -0.19422885, -0.29368186, -0.23722212,\n",
       "       -0.05779668,  0.11127474, -0.00292388,  0.11682518, -0.04726336,\n",
       "        0.24068264,  0.11335513, -0.00626563, -0.06929475, -0.06640247,\n",
       "       -0.02567991, -0.0427829 ,  0.04892466, -0.00911773, -0.04064843,\n",
       "        0.04555216,  0.02176529,  0.01931233,  0.05836495, -0.05277547,\n",
       "        0.06144368, -0.05780331, -0.09876966, -0.01271217, -0.03567164,\n",
       "       -0.01191766,  0.07763795,  0.06327907,  0.05489877,  0.0089579 ,\n",
       "        0.18206413,  0.07300671,  0.00060291, -0.0095353 , -0.00836633,\n",
       "       -0.04015189,  0.02045897, -0.05925296, -0.02297055, -0.03071   ,\n",
       "        0.0417429 ,  0.00575653, -0.08316413, -0.01834758,  0.04315409,\n",
       "       -0.13101666, -0.01981491, -0.02141316, -0.18829995,  0.07193003])"
      ]
     },
     "execution_count": 4,
     "metadata": {},
     "output_type": "execute_result"
    }
   ],
   "source": [
    "bibdata.genres[8955]"
   ]
  },
  {
   "cell_type": "markdown",
   "metadata": {},
   "source": [
    "Som det næste vil vi definere en funktion, `distance`, som udregner afstanden mellem to punkter/vektorer. Denne bruger funktionen `numpy.linalg.norm(v)`, der udregner $\\sqrt{v^2}$. Navnet `linalg` står for \"linær algebra\", som er den del af matematikken, der blandt andet handler om at regne med vektorer. "
   ]
  },
  {
   "cell_type": "code",
   "execution_count": 5,
   "metadata": {
    "collapsed": true
   },
   "outputs": [],
   "source": [
    "def distance(a, b):\n",
    "    return numpy.linalg.norm(a - b)"
   ]
  },
  {
   "cell_type": "markdown",
   "metadata": {},
   "source": [
    "Vi afprøver derefter funktionen ved at finde afstanden mellem $(1, 2)$ og $(4, 6)$. Dette skal være $5$, ligesom vi udregnede tidligere. Her bruger vi `numpy.array`, som laver en liste af tal om til en vektor, så computeren kan regne på den."
   ]
  },
  {
   "cell_type": "code",
   "execution_count": 6,
   "metadata": {},
   "outputs": [
    {
     "data": {
      "text/plain": [
       "5.0"
      ]
     },
     "execution_count": 6,
     "metadata": {},
     "output_type": "execute_result"
    }
   ],
   "source": [
    "distance(numpy.array([1, 2]), numpy.array([4, 6]))"
   ]
  },
  {
   "cell_type": "markdown",
   "metadata": {},
   "source": [
    "Afstanden mellem \"Peter Plys\" og \"Frøken Smilla\" er:"
   ]
  },
  {
   "cell_type": "code",
   "execution_count": 7,
   "metadata": {},
   "outputs": [
    {
     "data": {
      "text/plain": [
       "1.3247944045025537"
      ]
     },
     "execution_count": 7,
     "metadata": {},
     "output_type": "execute_result"
    }
   ],
   "source": [
    "distance(bibdata.genres[8955], bibdata.genres[8214])"
   ]
  },
  {
   "cell_type": "markdown",
   "metadata": {},
   "source": [
    "Afstanden mellem \"Cirkeline\" og \"Cykelmyggen Egon\" er:"
   ]
  },
  {
   "cell_type": "code",
   "execution_count": 8,
   "metadata": {},
   "outputs": [
    {
     "data": {
      "text/plain": [
       "1.0181284635824785"
      ]
     },
     "execution_count": 8,
     "metadata": {},
     "output_type": "execute_result"
    }
   ],
   "source": [
    "distance(bibdata.genres[616], bibdata.genres[580])"
   ]
  },
  {
   "cell_type": "markdown",
   "metadata": {},
   "source": [
    "Afstanden mellem rejsebøger om \"Berlin\" og \"Paris\" er:"
   ]
  },
  {
   "cell_type": "code",
   "execution_count": 9,
   "metadata": {},
   "outputs": [
    {
     "data": {
      "text/plain": [
       "0.25173324294787786"
      ]
     },
     "execution_count": 9,
     "metadata": {},
     "output_type": "execute_result"
    }
   ],
   "source": [
    "distance(bibdata.genres[149], bibdata.genres[278])"
   ]
  },
  {
   "cell_type": "markdown",
   "metadata": {},
   "source": [
    "Afstanden mellem rejsebog om \"Berlin\" og en håndarbejdsbog er:"
   ]
  },
  {
   "cell_type": "code",
   "execution_count": 10,
   "metadata": {},
   "outputs": [
    {
     "data": {
      "text/plain": [
       "1.3969369158183382"
      ]
     },
     "execution_count": 10,
     "metadata": {},
     "output_type": "execute_result"
    }
   ],
   "source": [
    "distance(bibdata.genres[149], bibdata.genres[126])"
   ]
  },
  {
   "cell_type": "markdown",
   "metadata": {},
   "source": [
    "Afstanden mellem to bøger af \"Haruki Murakami\" er:"
   ]
  },
  {
   "cell_type": "code",
   "execution_count": 11,
   "metadata": {},
   "outputs": [
    {
     "data": {
      "text/plain": [
       "0.4369157294393759"
      ]
     },
     "execution_count": 11,
     "metadata": {},
     "output_type": "execute_result"
    }
   ],
   "source": [
    "distance(bibdata.genres[29], bibdata.genres[688])"
   ]
  },
  {
   "cell_type": "markdown",
   "metadata": {},
   "source": [
    "Konklusionen er, at afstanden mellem bøger i genrerummet faktisk giver mening. De tre forventninger, som jeg formulerede i starten af kapitlet, holder. \n",
    "\n",
    "Bemærk at forventningerne blev formuleret, før eksperimenterne blev programmeret og kørt. Når man laver data science / videnskabelige eksperimenter, gælder det om først at formulere hypotese, og hvorledes man kan teste den, - og derefter, at udføre testen for, at se om hypotesen faktisk holder."
   ]
  },
  {
   "cell_type": "markdown",
   "metadata": {},
   "source": [
    "## Litterære anbefalinger\n",
    "\n",
    "Genrerummet bør også kunne bruges til, at finde litterære anbefalinger.\n",
    "\n",
    "Lad os vælge en bog og derefter finde afstanden fra denne til alle andre bøger. Vi inkluderer titel/forfatter for at gøre resultatet mere læsbart. Når vi skriver `[:10]` betyder det, at vi kun viser de første 10 resultater i stedet for hele listen."
   ]
  },
  {
   "cell_type": "code",
   "execution_count": 12,
   "metadata": {},
   "outputs": [
    {
     "data": {
      "text/plain": [
       "[(1.4011684494447065, 'Fifty shades - E. L. James'),\n",
       " (1.4332511957653991, 'Journal 64 : krimithriller - Jussi Adler-Olsen'),\n",
       " (1.4319693083341756, 'Marco effekten : krimithriller - Jussi Adler-Olsen'),\n",
       " (1.4377953467714748, 'Taynikma - Jan Kjær (f. 1971)'),\n",
       " (1.4561631856697466, 'De glemte piger : krimi - Sara Blædel'),\n",
       " (1.4390826249649267, 'Den grænseløse : krimithriller - Jussi Adler-Olsen'),\n",
       " (1.2877310264792368, 'Vildheks - Lene Kꜳberbøl'),\n",
       " (1.4363966653595654, 'Dødesporet : krimi - Sara Blædel'),\n",
       " (1.4501109638315552, 'Dødsenglen : krimi - Sara Blædel'),\n",
       " (1.4287816916279745, 'Flaskepost fra P : krimithriller - Jussi Adler-Olsen')]"
      ]
     },
     "execution_count": 12,
     "metadata": {},
     "output_type": "execute_result"
    }
   ],
   "source": [
    "peter_plys = 8955\n",
    "distances_from_peter_plys = [\n",
    "    (distance(bibdata.genres[peter_plys], bibdata.genres[other_book]), \n",
    "        bibdata.title_creator(other_book)) \n",
    "    for other_book in range(0, 10000)\n",
    "]\n",
    "distances_from_peter_plys[:10]"
   ]
  },
  {
   "cell_type": "markdown",
   "metadata": {},
   "source": [
    "Hvis vi nu sorterer listen af bøger efter afstanden til den valgte bog, så får vi en liste af anbefalinger."
   ]
  },
  {
   "cell_type": "code",
   "execution_count": 13,
   "metadata": {},
   "outputs": [
    {
     "data": {
      "text/plain": [
       "[(0.0, 'Peter Plys : komplet samling fortællinger og digte - A. A. Milne'),\n",
       " (0.53454719612995338,\n",
       "  'Bogen om Emil fra Lønneberg : samlet udgave med alle historierne om Emil fra Lønneberg - Astrid Lindgren'),\n",
       " (0.53718166508329679,\n",
       "  'Astrid Lindgrens allerbedste historier - Ingrid Vang Nyman'),\n",
       " (0.54053996866025411, 'Mumitrolden : de samlede striber - Tove Jansson'),\n",
       " (0.5654914190345337,\n",
       "  'Klatremus og de andre dyr i Hakkebakkeskoven - Thorbjørn Egner'),\n",
       " (0.57263271765819757, 'Pippi Langstrømpe går om bord - Astrid Lindgren'),\n",
       " (0.57288576301783933, 'Bogen om Pippi Langstrømpe - Astrid Lindgren'),\n",
       " (0.58822503022521333,\n",
       "  'Anne Marie Helger læser Vinden i piletræerne - Anne Marie Helger'),\n",
       " (0.60406738110296454, 'Pippi Langstrømpe i Sydhavet - Astrid Lindgren'),\n",
       " (0.61582753873808027,\n",
       "  'Han er her endnu - Emil fra Lønneberg - Astrid Lindgren')]"
      ]
     },
     "execution_count": 13,
     "metadata": {},
     "output_type": "execute_result"
    }
   ],
   "source": [
    "sorted(distances_from_peter_plys)[:10]"
   ]
  },
  {
   "cell_type": "markdown",
   "metadata": {},
   "source": [
    "Vi kan nu definere dette i en funktion, hvor vi kun returnerer titlerne. Hvis man i programmering har et par data: `rec = (afstand, titel)` kan man få fat i `titel` ved at skrive `rec[1]` (og få fat i `afstand` ved at skrive `rec[0]`). "
   ]
  },
  {
   "cell_type": "code",
   "execution_count": 14,
   "metadata": {
    "collapsed": true
   },
   "outputs": [],
   "source": [
    "def recommendations(book):\n",
    "    return [recommendation[1] for recommendation in\n",
    "        sorted([\n",
    "            (distance(bibdata.genres[book], bibdata.genres[other_book]), \n",
    "                bibdata.title_creator(other_book)) \n",
    "            for other_book in range(0, 10000)])]"
   ]
  },
  {
   "cell_type": "markdown",
   "metadata": {},
   "source": [
    "Med denne funktion kan vi så udforske anbefalingerne til forskellige bøger:"
   ]
  },
  {
   "cell_type": "code",
   "execution_count": 15,
   "metadata": {},
   "outputs": [
    {
     "data": {
      "text/plain": [
       "['Frøken Smillas fornemmelse for sne : roman - Peter Høeg',\n",
       " 'Den kroniske uskyld - Klaus Rifbjerg',\n",
       " 'Vinter-Eventyr - Karen Blixen',\n",
       " 'Kongens Fald - Johannes V. Jensen (f. 1873)',\n",
       " 'Ved Vejen - Herman Bang',\n",
       " 'Rend mig i traditionerne - Leif Panduro',\n",
       " 'Kronprinsessen : roman - Hanne-Vibeke Holst',\n",
       " 'Det forsømte forår - Hans Scherfig',\n",
       " 'Drageløberen - Khaled Hosseini',\n",
       " 'Pelle Erobreren : barndom - Martin Andersen Nexø',\n",
       " 'Løgneren - Martin A. Hansen, f. 1909',\n",
       " 'Livlægens besøg : roman - Per Olov Enquist',\n",
       " 'Kunsten at græde i kor : roman - Erling Jepsen (f. 1956)',\n",
       " 'Den som blinker er bange for døden : roman - Knud Romer',\n",
       " 'Åndernes hus - Chili Turèll',\n",
       " 'Den gamle mand og havet - Ernest Hemingway',\n",
       " 'De Elendige - Victor Hugo',\n",
       " 'Fiskerne - Hans Kirk (f. 1898)',\n",
       " 'Syv fantastiske fortællinger - Karen Blixen',\n",
       " 'Thereses tilstand : roman - Hanne-Vibeke Holst']"
      ]
     },
     "execution_count": 15,
     "metadata": {},
     "output_type": "execute_result"
    }
   ],
   "source": [
    "recommendations(8214)[:20]"
   ]
  },
  {
   "cell_type": "code",
   "execution_count": 16,
   "metadata": {},
   "outputs": [
    {
     "data": {
      "text/plain": [
       "['Cirkeline bliver til - Hanne Hastrup',\n",
       " 'Godmorgen Cirkeline - Hanne Hastrup',\n",
       " 'Cirkeline - tæl til 10 - Hanne Hastrup',\n",
       " 'Godnat Cirkeline - Hanne Hastrup',\n",
       " 'Cirkeline på opdagelse - Ulla Raben',\n",
       " 'Cirkeline godnat - Hanne Hastrup',\n",
       " 'Den store bog om Cirkeline - Hanne Hastrup',\n",
       " 'Cirkeline flytter til byen - Hanne Hastrup',\n",
       " 'Kender du Pippi Langstrømpe? : billedbog - Ingrid Vang Nyman',\n",
       " 'Cirkeline - Hanne Hastrup',\n",
       " 'Mumitrolden i sneen - Sami Kaarla',\n",
       " \"Mumi's første vinterdag - Jansson Tove ant\",\n",
       " 'Alle Bamses ting - Anna Gellert Abelin',\n",
       " 'Mumitrolden farer vild - Sami Kaarla',\n",
       " 'Peter Plys - nye eventyr i Hundredemeterskoven - Shepard Ernest H. dkfig',\n",
       " 'Bamses allergoeste gave - Anna Gellert Abelin',\n",
       " \"Mumi's måneskinseventyr - Jansson Tove ant\",\n",
       " 'Bamse danser bamlet - Katrine Hauch-Fausbøll',\n",
       " 'Pippi Langstrømpe i Humlegården : billedbog - Ingrid Vang Nyman',\n",
       " 'En dag med Barbapapa - Annette Tison']"
      ]
     },
     "execution_count": 16,
     "metadata": {},
     "output_type": "execute_result"
    }
   ],
   "source": [
    "recommendations(616)[:20]"
   ]
  },
  {
   "cell_type": "code",
   "execution_count": 17,
   "metadata": {},
   "outputs": [
    {
     "data": {
      "text/plain": [
       "['Cykelmyggen Egon - Flemming Quist Møller',\n",
       " 'Den store bog om den glade løve - Louise Fatio',\n",
       " 'Bennys badekar - Flemming Quist Møller',\n",
       " 'Pandekagekagen - Sven Nordqvist',\n",
       " 'Stakkels Peddersen - Sven Nordqvist',\n",
       " 'Gok-gok i køkkenhaven - Sven Nordqvist',\n",
       " 'Findus flytter hjemmefra - Sven Nordqvist',\n",
       " 'Og hanen gol - Sven Nordqvist',\n",
       " 'Paddington - Michael Bond',\n",
       " 'Rasmus får besøg - Jørgen Clevin',\n",
       " 'Onkel Karfunkel - Ib Spang Olsen',\n",
       " 'Rævejagten - Sven Nordqvist',\n",
       " 'Da Findus var lille og forsvandt - Sven Nordqvist',\n",
       " 'Ud i det blå med Peddersen - Sven Nordqvist',\n",
       " 'Tante Andante - Ib Spang Olsen',\n",
       " 'Cykelmyggen og dansemyggen - Flemming Quist Møller',\n",
       " 'Hvordan elefanten fik sin lange snabel - Jan Mogensen (f. 1945)',\n",
       " 'Da Emil hældte dej over sin far - Björn Berg',\n",
       " 'Hattejagten - Sven Nordqvist',\n",
       " 'Hokus Pokus og andre børnerim - Ib Spang Olsen']"
      ]
     },
     "execution_count": 17,
     "metadata": {},
     "output_type": "execute_result"
    }
   ],
   "source": [
    "recommendations(580)[:20]"
   ]
  },
  {
   "cell_type": "code",
   "execution_count": 18,
   "metadata": {},
   "outputs": [
    {
     "data": {
      "text/plain": [
       "['Turen går til Berlin - Therkelsen Kirstine',\n",
       " 'Politikens visuelle guide - Berlin - Søndervang Allan edt',\n",
       " 'Top 10 Berlin - Jürgen Scheunemann',\n",
       " 'Turen går til Amsterdam - Anette Jorsal',\n",
       " 'Turen går til Prag - Hans Kragh-Jacobsen',\n",
       " 'Turen går til Hamburg og Nordtyskland - Jytte Flamsholt Christensen',\n",
       " 'Turen går til Californien & det vestlige USA - Preben Hansen (f. 1956)',\n",
       " 'Turen går til London - Gunhild Riske',\n",
       " 'Politikens Kort og godt om Berlin - Charmetant Jim',\n",
       " 'Politikens visuelle guide - Prag - Vladimír Soukup',\n",
       " 'Turen går til Barcelona og Costa Brava - Ole Loumann',\n",
       " 'Top 10 London - Roger Williams',\n",
       " 'Top 10 Prag - Theodore Schwinke',\n",
       " 'Berlin - Wieland Giebel',\n",
       " 'Top 10 Barcelona - Sorensen Annelise',\n",
       " 'Turen går til Paris - Aske Munck',\n",
       " 'Turen går til USA - Preben Hansen (f. 1956)',\n",
       " 'Politikens visuelle guide - Barcelona & Catalonien - Allan Søndervang',\n",
       " 'Turen går til Polen - Hannibal Lise aut',\n",
       " 'Turen går til Rom - Alfredo Tesio']"
      ]
     },
     "execution_count": 18,
     "metadata": {},
     "output_type": "execute_result"
    }
   ],
   "source": [
    "recommendations(149)[:20]"
   ]
  },
  {
   "cell_type": "code",
   "execution_count": 19,
   "metadata": {},
   "outputs": [
    {
     "data": {
      "text/plain": [
       "['Alt om håndarbejdes strikkemagasin - ',\n",
       " 'Kreativ strik - ',\n",
       " \"Ingelise's strikkemagasin - \",\n",
       " 'DROPS : strikkdesign - Garnstudio',\n",
       " 'Alt om håndarbejdes symagasin - ',\n",
       " 'Maries ideer : håndarbejde, strik, sy, hækl, bolig, inspiration - ',\n",
       " 'Burda style - ',\n",
       " 'Burda - ',\n",
       " 'Burda modemagasin : verdensberømt mode - ',\n",
       " \"Ingelise's symagasin - \",\n",
       " 'Hobby-nyt : dit kreative univers - ',\n",
       " 'Ingelise : dit kreative magasin : alt om mode, sy, strik, hækling, idéer, bolig, trend - ',\n",
       " '1/2-times strik : hvad kan du strikke på en halv time eller mindre? - Carol Meldrum',\n",
       " 'Strikketips - Sys Fredens',\n",
       " 'Strikkedukker - Nerjordet Arne aut ill',\n",
       " 'Aschehougs strikkebog - Claire Crompton',\n",
       " 'Strømper & sokker - Sys Fredens',\n",
       " 'Strik og krymp : filt i vaskemaskinen - Birte Ꜳrtun',\n",
       " 'Ottobre design : woman European sizes 34-52 - ',\n",
       " 'Strik - huer, vanter, strømper og pandebånd - Rachel Søgꜳrd']"
      ]
     },
     "execution_count": 19,
     "metadata": {},
     "output_type": "execute_result"
    }
   ],
   "source": [
    "recommendations(126)[:20]"
   ]
  },
  {
   "cell_type": "code",
   "execution_count": 20,
   "metadata": {},
   "outputs": [
    {
     "data": {
      "text/plain": [
       "['1Q84 - Haruki Murakami',\n",
       " 'Trækopfuglens krønike - Haruki Murakami',\n",
       " 'Efter midnat - Haruki Murakami',\n",
       " 'En vild fårejagt - Haruki Murakami',\n",
       " 'Sputnik min elskede - Haruki Murakami',\n",
       " 'Dans, dans, dans - Haruki Murakami',\n",
       " 'Efter skælvet - Haruki Murakami',\n",
       " 'Kafka på stranden - Haruki Murakami',\n",
       " 'Min kamp : roman - Karl Ove Knausgård',\n",
       " 'New York trilogien - Paul Auster',\n",
       " 'Norwegian wood - Haruki Murakami',\n",
       " 'Sønden for grænsen og vesten for solen - Haruki Murakami',\n",
       " '100 års ensomhed - Gabriel García Márquez',\n",
       " 'Alt bliver oplyst : en roman - Jonathan Safran Foer',\n",
       " 'Hvad jeg taler om når jeg taler om at løbe - Haruki Murakami',\n",
       " 'Korrektioner - Jonathan Franzen',\n",
       " 'Frihed - Jonathan Franzen',\n",
       " 'Nattog til Lissabon : roman - Pascal Mercier',\n",
       " 'Idioten - F. M. Dostojevskij',\n",
       " 'Usynlig : roman - Paul Auster']"
      ]
     },
     "execution_count": 20,
     "metadata": {},
     "output_type": "execute_result"
    }
   ],
   "source": [
    "recommendations(29)[:20]"
   ]
  },
  {
   "cell_type": "markdown",
   "metadata": {},
   "source": [
    "Vi har hermed lavet koden for en lille anbefalingsservice.\n",
    "\n",
    "For perspektivering, sammenlign eksempelvis resultaterne med anbefalingerne på bibliotekernes hjemmesider. Bemærk at vi her kun kigger på et lille udvalg af materialebestanden. På bibliotek.dk kan anbefalinger findes ved, at fremsøge en bog, og derefter klikke på \"Inspiration\", og \"Andre der har lånt...\". Genrerummet som vi benytter her, er faktisk udregnet fra (en lille delmængde af) de \"Andre der har lånt\"-data, som DBC havde med på Hack4DK."
   ]
  },
  {
   "cell_type": "markdown",
   "metadata": {},
   "source": [
    "Bemærk at bøgerne, som vi finder anbefalinger for, er valgt på forhånd (og derved uafhængigt af hvordan anbefalingerne bliver). Derfor må kvaliteten af anbefalinger forventes at være repræsentativ."
   ]
  }
 ],
 "metadata": {
  "kernelspec": {
   "display_name": "Python 3",
   "language": "python",
   "name": "python3"
  },
  "language_info": {
   "codemirror_mode": {
    "name": "ipython",
    "version": 3
   },
   "file_extension": ".py",
   "mimetype": "text/x-python",
   "name": "python",
   "nbconvert_exporter": "python",
   "pygments_lexer": "ipython3",
   "version": "3.6.2"
  }
 },
 "nbformat": 4,
 "nbformat_minor": 2
}
