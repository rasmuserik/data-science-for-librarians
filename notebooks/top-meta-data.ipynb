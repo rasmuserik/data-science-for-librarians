{
 "cells": [
  {
   "cell_type": "code",
   "execution_count": 1,
   "metadata": {
    "collapsed": true
   },
   "outputs": [],
   "source": [
    "import bibdata\n",
    "from collections import Counter"
   ]
  },
  {
   "cell_type": "code",
   "execution_count": 2,
   "metadata": {},
   "outputs": [
    {
     "data": {
      "text/plain": [
       "{'_id': '870970-basis:51363035',\n",
       " 'creator': 'Jakob Martin Strid',\n",
       " 'idx': 1234,\n",
       " 'language': 'Dansk',\n",
       " 'subject-term': ['årstider',\n",
       "  'for 5 år',\n",
       "  'sk',\n",
       "  'sjove bøger',\n",
       "  'Skønlitteratur',\n",
       "  'for 4 år',\n",
       "  'for 6 år',\n",
       "  'for 3 år',\n",
       "  'venner',\n",
       "  'vejret',\n",
       "  'dyrefortællinger'],\n",
       " 'title': 'Mimbo Jimbo og den lange vinter',\n",
       " 'type': 'book'}"
      ]
     },
     "execution_count": 2,
     "metadata": {},
     "output_type": "execute_result"
    }
   ],
   "source": [
    "bibdata.meta[1234]"
   ]
  },
  {
   "cell_type": "code",
   "execution_count": 3,
   "metadata": {},
   "outputs": [
    {
     "data": {
      "text/plain": [
       "[('sk', 7036),\n",
       " ('Skønlitteratur', 6445),\n",
       " ('for 6 år', 1109),\n",
       " ('krimi', 1100),\n",
       " ('for 5 år', 1097),\n",
       " ('for 7 år', 1063),\n",
       " ('let at læse', 1047),\n",
       " ('for 4 år', 999),\n",
       " ('for 8 år', 932),\n",
       " ('Spillefilm', 904)]"
      ]
     },
     "execution_count": 3,
     "metadata": {},
     "output_type": "execute_result"
    }
   ],
   "source": [
    "subjects = []\n",
    "for bib in bibdata.meta:\n",
    "    for subject in bib.get('subject-term', []):\n",
    "        subjects.append(subject)\n",
    "Counter(subjects).most_common(10)"
   ]
  },
  {
   "cell_type": "code",
   "execution_count": 4,
   "metadata": {},
   "outputs": [
    {
     "data": {
      "text/plain": [
       "[('book', 7895),\n",
       " ('movie', 1055),\n",
       " ('audiobook', 608),\n",
       " ('game', 232),\n",
       " ('other', 119)]"
      ]
     },
     "execution_count": 4,
     "metadata": {},
     "output_type": "execute_result"
    }
   ],
   "source": [
    "Counter([bib.get('type') for bib in bibdata.meta]).most_common(5)"
   ]
  },
  {
   "cell_type": "code",
   "execution_count": 5,
   "metadata": {},
   "outputs": [
    {
     "data": {
      "text/plain": [
       "['Alt for damerne', 'Illustreret videnskab', 'Femina', 'Bo bedre', 'I form']"
      ]
     },
     "execution_count": 5,
     "metadata": {},
     "output_type": "execute_result"
    }
   ],
   "source": [
    "[bib['title'] for bib in bibdata.meta if bib.get('type') == 'other'][:5]"
   ]
  }
 ],
 "metadata": {
  "kernelspec": {
   "display_name": "Python 3",
   "language": "python",
   "name": "python3"
  },
  "language_info": {
   "codemirror_mode": {
    "name": "ipython",
    "version": 3
   },
   "file_extension": ".py",
   "mimetype": "text/x-python",
   "name": "python",
   "nbconvert_exporter": "python",
   "pygments_lexer": "ipython3",
   "version": "3.6.2"
  }
 },
 "nbformat": 4,
 "nbformat_minor": 2
}
