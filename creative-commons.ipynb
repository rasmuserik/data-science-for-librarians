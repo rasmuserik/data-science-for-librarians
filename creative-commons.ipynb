{
 "cells": [
  {
   "cell_type": "code",
   "execution_count": null,
   "metadata": {
    "collapsed": true
   },
   "outputs": [],
   "source": [
    "from bs4 import BeautifulSoup\n",
    "import urllib\n",
    "from IPython.display import Image, display"
   ]
  },
  {
   "cell_type": "code",
   "execution_count": null,
   "metadata": {
    "collapsed": true
   },
   "outputs": [],
   "source": [
    "query = 'cat'\n",
    "req = urllib.request.Request(\n",
    "    \"https://ccsearch.creativecommons.org/?\" +\n",
    "    urllib.parse.urlencode({\n",
    "        \"search\": query,\n",
    "        \"page\": 1,\n",
    "        \"search_fields\": [\"title\", \"creator\", \"tags\"],\n",
    "        \"per_page\": 20,\n",
    "        \"licenses\": ['ALL-$', 'ALL-MOD'],\n",
    "        \"work_types\": [\"photos\", \"cultural\"],\n",
    "        \"providers\": [\"500px\", \"flickr\", \"europeana\", \"met\", \"nypl\", \"rijksmuseum\"]        \n",
    "    }, doseq=True),\n",
    "    data=None,\n",
    "        headers={\n",
    "        'User-Agent': 'Mozilla/5.0 Data Science Course Example'\n",
    "    });\n",
    "html = urllib.request.urlopen(req).read()\n",
    "html"
   ]
  },
  {
   "cell_type": "code",
   "execution_count": null,
   "metadata": {
    "collapsed": true
   },
   "outputs": [],
   "source": [
    "soup = BeautifulSoup(html, 'html.parser')\n",
    "imgs = [img.attrs for img in soup.find_all('img') if img.attrs.get('data-title', False)]\n",
    "for img in imgs:\n",
    "    display(Image(img[\"src\"], format=\"jpg\"))\n",
    "    print(img)\n"
   ]
  }
 ],
 "metadata": {
  "kernelspec": {
   "display_name": "Python 3",
   "language": "python",
   "name": "python3"
  },
  "language_info": {
   "codemirror_mode": {
    "name": "ipython",
    "version": 3
   },
   "file_extension": ".py",
   "mimetype": "text/x-python",
   "name": "python",
   "nbconvert_exporter": "python",
   "pygments_lexer": "ipython3",
   "version": "3.6.3"
  }
 },
 "nbformat": 4,
 "nbformat_minor": 2
}
