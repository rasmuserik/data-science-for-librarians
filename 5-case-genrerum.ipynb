{
 "cells": [
  {
   "cell_type": "markdown",
   "metadata": {},
   "source": [
    "# Case: Genre-rum"
   ]
  },
  {
   "cell_type": "markdown",
   "metadata": {},
   "source": [
    "**TODO**\n",
    "\n",
    "- øvelser"
   ]
  },
  {
   "cell_type": "markdown",
   "metadata": {},
   "source": [
    "Vi har en idé om, hvad *afstanden* er mellem to punkter.\n",
    "Hvis vi har to prikker på et stykke papir, så véd vi, hvordan vi måler afstanden mellem dem.\n",
    "Hvis vi har to steder i vores dagligstue, så har vi også en idé om deres afstand.\n",
    "\n",
    "Hvordan kan vi tale om afstand mellem to bøger? Vi vil nok forvente, at bøger indenfor samme genre ligger tæt på hinanden, eksempler:\n",
    "\n",
    "- Afstanden mellem \"Peter Plys\" og \"Frøken Smillas fornemmelse for sne\" er nok større end afstanden mellem \"Cirkeline\" og \"Cykelmyggen Egon\".\n",
    "- En rejsebog om Berlin er nok tættere på en rejsebog om Paris, end på en håndarbejdsbog.\n",
    "- Bøger af samme forfatter befinder sig nok i nærheden af hinanden.\n",
    "\n",
    "Forestil dig, at vi har et genre-rum, hvor der er et punkt for hver eneste bog, og vi kan måle afstanden mellem dem. Dette vil give nye muligheder for at gå på opdagelse i litteraturen. Anbefalinger skabes ved at finde de nærmeste nabopunkter. En genre består af punkter i nærheden af hinanden. Dette gør, at vi kan bruge computeren til at udforske litteraturen.\n",
    "\n",
    "På papir, i vores dagligstue såvel som i genrerummet, kan afstand defineres matematisk således: Hvis vi har to punkter, $a$ og $b$, så er afstanden mellem dem $\\sqrt{(a-b)^2}$.\n",
    "I én dimension er det afstanden mellem to tal. Eksempel: afstanden mellem $1$ og $3$ er $2$, hvilket kan udregnes som $\\sqrt{(1 - 3)^2} = \\sqrt{(-2)^2} = \\sqrt{4} = 2$.\n",
    "I to dimensioner er det afstanden mellem to prikker på et stykke papir, også kaldet den \"Euklidiske afstand\", $\\sqrt{(x_a - x_b)^2 + (y_a - y_b)^2}$. Eksempel: afstanden mellem koordinaterne $(1,2)$ og $(4,6)$ er $5$ hvilket vi kan udregne som $\\sqrt{(1-4)^2 + (2-6)^2} = \\sqrt{3^2 + 4^2} = \\sqrt{9 + 16} = \\sqrt{25} = 5$.\n",
    "I tre dimensioner er det afstanden mellem to punkter i rummet, i.e. $\\sqrt{(x_a - x_b)^2 + (y_a - y_b)^2 + (z_a - z_b)^2}$, - og det fortsætter på samme måde i fire, fem, seks, ... dimensioner. \n",
    "\n",
    "I matematik kalder vi ofte koordinaterne for *vektorer*. Eksempelvis er en 5-dimensionel vektor, blot en liste af fem tal, og en 100-dimensionel vektor er en liste af hundrede tal.\n",
    "\n",
    "Hvordan skaber vi et sådan genrerum? Vi har en masse statistik om lån på bibliotekerne. Hvis vi antager, at man ofte låner indenfor samme genre, så kan computeren ud fra disse data udregne et genrerum.\n",
    "\n",
    "Jeg har udregnet et sådan genrerum for 10.000 biblioteksmaterialer, og i det følgende vil vi undersøge, om afstanden mellem bøger i genrerummet giver mening."
   ]
  },
  {
   "cell_type": "markdown",
   "metadata": {},
   "source": [
    "## Eksperimenter med afstand mellem bøger"
   ]
  },
  {
   "cell_type": "markdown",
   "metadata": {},
   "source": [
    "Når vi laver et program, må vi først fortælle computeren, hvilken funktionalitet vi har brug for: `bibdata` indeholder bibliografiske data, og genrerummet, som jeg har beregnet. `numpy` indeholder matematikfunktionalitet:"
   ]
  },
  {
   "cell_type": "code",
   "execution_count": 1,
   "metadata": {
    "collapsed": true
   },
   "outputs": [],
   "source": [
    "import bibdata\n",
    "import numpy"
   ]
  },
  {
   "cell_type": "markdown",
   "metadata": {},
   "source": [
    "I `bibdata` er der en funktion, som returnerer titel/forfatter, hvis vi kommer med nummeret på et biblioteksmateriale:"
   ]
  },
  {
   "cell_type": "code",
   "execution_count": 2,
   "metadata": {},
   "outputs": [
    {
     "data": {
      "text/plain": [
       "'Peter Plys : komplet samling fortællinger og digte - A. A. Milne (book)'"
      ]
     },
     "execution_count": 2,
     "metadata": {},
     "output_type": "execute_result"
    }
   ],
   "source": [
    "bibdata.title_creator(8955)"
   ]
  },
  {
   "cell_type": "markdown",
   "metadata": {},
   "source": [
    "Herover ser vi at bog nummer $8955$ er \"Peter Plys\". Ligeledes kan vi se de øvrige bøger, som vi vil eksperimentere med herunder:"
   ]
  },
  {
   "cell_type": "code",
   "execution_count": 3,
   "metadata": {},
   "outputs": [
    {
     "data": {
      "text/plain": [
       "[(8955,\n",
       "  'Peter Plys : komplet samling fortællinger og digte - A. A. Milne (book)'),\n",
       " (8214, 'Frøken Smillas fornemmelse for sne : roman - Peter Høeg (book)'),\n",
       " (616, 'Cirkeline bliver til - Hanne Hastrup (book)'),\n",
       " (580, 'Cykelmyggen Egon - Flemming Quist Møller (book)'),\n",
       " (149, 'Turen går til Berlin - Therkelsen Kirstine (book)'),\n",
       " (278, 'Turen går til Paris - Aske Munck (book)'),\n",
       " (126, 'Alt om håndarbejdes strikkemagasin -  (other)'),\n",
       " (29, '1Q84 - Haruki Murakami (audiobook)'),\n",
       " (688, 'Kafka på stranden - Haruki Murakami (book)')]"
      ]
     },
     "execution_count": 3,
     "metadata": {},
     "output_type": "execute_result"
    }
   ],
   "source": [
    "[(book_number, bibdata.title_creator(book_number))\n",
    "   for book_number in [8955, 8214, 616, 580, 149, 278, 126, 29, 688]]"
   ]
  },
  {
   "cell_type": "markdown",
   "metadata": {},
   "source": [
    "Disse kan derefter navngives, så de er lettere at arbejde med."
   ]
  },
  {
   "cell_type": "code",
   "execution_count": 4,
   "metadata": {
    "collapsed": true
   },
   "outputs": [],
   "source": [
    "peter_plys = 8944\n",
    "smilla = 8214\n",
    "cirkeline = 616\n",
    "cykelmyggen = 580\n",
    "berlin = 149\n",
    "paris = 278\n",
    "strikning = 126\n",
    "q84 = 29\n",
    "kafka = 688"
   ]
  },
  {
   "cell_type": "markdown",
   "metadata": {},
   "source": [
    "Vi kan finde punktet i genrerummet for en bog via `bibdata.genres`. Selve genrerummet er 100-dimensionelt, så vektoren består af 100 tal. I programmering kaldes vektorer ofte for *arrays*."
   ]
  },
  {
   "cell_type": "code",
   "execution_count": 5,
   "metadata": {},
   "outputs": [
    {
     "data": {
      "text/plain": [
       "array([ 0.00908454, -0.04033043, -0.01284507,  0.00788709,  0.01718174,\n",
       "        0.00128158, -0.07500522, -0.01639324,  0.06427721, -0.0099812 ,\n",
       "        0.00083797,  0.01363433, -0.00866813,  0.01482092,  0.10160233,\n",
       "        0.08134543, -0.04255533, -0.00833438,  0.02536649,  0.02128514,\n",
       "        0.00554724, -0.00080702,  0.01274936, -0.03601923,  0.01916139,\n",
       "        0.02077907, -0.04609259, -0.08917641,  0.07050021,  0.01678492,\n",
       "        0.01278447,  0.00108154,  0.01457724,  0.04591186, -0.01287235,\n",
       "        0.0202236 ,  0.00102133,  0.14692573,  0.18963774,  0.08172592,\n",
       "       -0.01773496,  0.11990478, -0.12269035, -0.33739865,  0.23169368,\n",
       "        0.01569639, -0.06665396,  0.00139089,  0.07659317,  0.00650507,\n",
       "       -0.01185874,  0.01587052,  0.07172235,  0.00525925,  0.11984863,\n",
       "        0.10747883,  0.25288281,  0.07708268, -0.2325371 , -0.10132218,\n",
       "        0.07604308,  0.05801751,  0.02945208, -0.03336021, -0.08060202,\n",
       "        0.03639616,  0.02639744, -0.02000082, -0.02184357,  0.02158996,\n",
       "        0.04069334,  0.00409769, -0.15620241, -0.14288074, -0.04555338,\n",
       "       -0.0875617 , -0.50226035,  0.18508342,  0.19686877,  0.11195053,\n",
       "       -0.18041552,  0.09638708,  0.02675614,  0.04779613,  0.06875322,\n",
       "       -0.08385483, -0.03366541, -0.01312519,  0.14200541, -0.06419092,\n",
       "       -0.03430816,  0.07344945, -0.01200862,  0.01030531,  0.01404084,\n",
       "        0.01365915,  0.04134672,  0.03988478, -0.03000684,  0.01141376])"
      ]
     },
     "execution_count": 5,
     "metadata": {},
     "output_type": "execute_result"
    }
   ],
   "source": [
    "bibdata.genres[peter_plys]"
   ]
  },
  {
   "cell_type": "markdown",
   "metadata": {},
   "source": [
    "Som det næste vil vi definere en funktion, `distance`, som udregner afstanden mellem to punkter/vektorer. Denne bruger funktionen `numpy.linalg.norm(v)`, der udregner $\\sqrt{v^2}$. Navnet `linalg` står for \"linær algebra\", som er den del af matematikken, der blandt andet handler om at regne med vektorer. "
   ]
  },
  {
   "cell_type": "code",
   "execution_count": 6,
   "metadata": {
    "collapsed": true
   },
   "outputs": [],
   "source": [
    "def distance(a, b):\n",
    "    return numpy.linalg.norm(a - b)"
   ]
  },
  {
   "cell_type": "markdown",
   "metadata": {},
   "source": [
    "Vi afprøver derefter funktionen ved at finde afstanden mellem $(1, 2)$ og $(4, 6)$. Dette skal være $5$, ligesom vi udregnede tidligere. Her bruger vi `numpy.array`, som laver en liste af tal om til en vektor, så computeren kan regne på den."
   ]
  },
  {
   "cell_type": "code",
   "execution_count": 7,
   "metadata": {},
   "outputs": [
    {
     "data": {
      "text/plain": [
       "5.0"
      ]
     },
     "execution_count": 7,
     "metadata": {},
     "output_type": "execute_result"
    }
   ],
   "source": [
    "distance(numpy.array([1, 2]), numpy.array([4, 6]))"
   ]
  },
  {
   "cell_type": "markdown",
   "metadata": {},
   "source": [
    "Afstanden mellem \"Peter Plys\" og \"Frøken Smilla\" er:"
   ]
  },
  {
   "cell_type": "code",
   "execution_count": 8,
   "metadata": {},
   "outputs": [
    {
     "data": {
      "text/plain": [
       "1.3939129763199098"
      ]
     },
     "execution_count": 8,
     "metadata": {},
     "output_type": "execute_result"
    }
   ],
   "source": [
    "distance(bibdata.genres[peter_plys], bibdata.genres[smilla])"
   ]
  },
  {
   "cell_type": "markdown",
   "metadata": {},
   "source": [
    "Afstanden mellem \"Cirkeline\" og \"Cykelmyggen Egon\" er:"
   ]
  },
  {
   "cell_type": "code",
   "execution_count": 22,
   "metadata": {},
   "outputs": [
    {
     "data": {
      "text/plain": [
       "1.0181284635824785"
      ]
     },
     "execution_count": 22,
     "metadata": {},
     "output_type": "execute_result"
    }
   ],
   "source": [
    "distance(bibdata.genres[cirkeline], bibdata.genres[cykelmyggen])"
   ]
  },
  {
   "cell_type": "markdown",
   "metadata": {},
   "source": [
    "Afstanden mellem rejsebøger om \"Berlin\" og \"Paris\" er:"
   ]
  },
  {
   "cell_type": "code",
   "execution_count": 23,
   "metadata": {},
   "outputs": [
    {
     "data": {
      "text/plain": [
       "0.25173324294787786"
      ]
     },
     "execution_count": 23,
     "metadata": {},
     "output_type": "execute_result"
    }
   ],
   "source": [
    "distance(bibdata.genres[berlin], bibdata.genres[paris])"
   ]
  },
  {
   "cell_type": "markdown",
   "metadata": {},
   "source": [
    "Afstanden mellem rejsebog om \"Berlin\" og en håndarbejdsbog er:"
   ]
  },
  {
   "cell_type": "code",
   "execution_count": 24,
   "metadata": {},
   "outputs": [
    {
     "data": {
      "text/plain": [
       "1.3969369158183382"
      ]
     },
     "execution_count": 24,
     "metadata": {},
     "output_type": "execute_result"
    }
   ],
   "source": [
    "distance(bibdata.genres[berlin], bibdata.genres[strikning])"
   ]
  },
  {
   "cell_type": "markdown",
   "metadata": {},
   "source": [
    "Afstanden mellem to bøger af \"Haruki Murakami\" er:"
   ]
  },
  {
   "cell_type": "code",
   "execution_count": 25,
   "metadata": {},
   "outputs": [
    {
     "data": {
      "text/plain": [
       "0.4369157294393759"
      ]
     },
     "execution_count": 25,
     "metadata": {},
     "output_type": "execute_result"
    }
   ],
   "source": [
    "distance(bibdata.genres[q84], bibdata.genres[kafka])"
   ]
  },
  {
   "cell_type": "markdown",
   "metadata": {},
   "source": [
    "Konklusionen er, at afstanden mellem bøger i genrerummet faktisk giver mening. De tre forventninger, som jeg formulerede i starten af kapitlet, holder. \n",
    "\n",
    "Bemærk at forventningerne blev formuleret, før eksperimenterne blev programmeret og kørt. Når man laver data science / videnskabelige eksperimenter, gælder det om først at formulere hypotese, og hvorledes man kan teste den, - og derefter, at udføre testen for, at se om hypotesen faktisk holder."
   ]
  }
 ],
 "metadata": {
  "kernelspec": {
   "display_name": "Python 3",
   "language": "python",
   "name": "python3"
  },
  "language_info": {
   "codemirror_mode": {
    "name": "ipython",
    "version": 3
   },
   "file_extension": ".py",
   "mimetype": "text/x-python",
   "name": "python",
   "nbconvert_exporter": "python",
   "pygments_lexer": "ipython3",
   "version": "3.6.3"
  }
 },
 "nbformat": 4,
 "nbformat_minor": 2
}
