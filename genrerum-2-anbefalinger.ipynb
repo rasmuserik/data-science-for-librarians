{
 "cells": [
  {
   "cell_type": "markdown",
   "metadata": {},
   "source": [
    "# Case: Anbefalinger"
   ]
  },
  {
   "cell_type": "code",
   "execution_count": 1,
   "metadata": {
    "collapsed": true
   },
   "outputs": [],
   "source": [
    "import bibdata\n",
    "import numpy"
   ]
  },
  {
   "cell_type": "code",
   "execution_count": 2,
   "metadata": {
    "collapsed": true
   },
   "outputs": [],
   "source": [
    "[peter_plys, smilla, cirkeline, cykelmyggen, berlin, paris, strikning, \n",
    "   q84, kafka] = [8955, 8214, 616, 580, 149, 278, 126, 29, 688]"
   ]
  },
  {
   "cell_type": "code",
   "execution_count": 3,
   "metadata": {
    "collapsed": true
   },
   "outputs": [],
   "source": [
    "def distance(a, b):\n",
    "    return numpy.linalg.norm(a - b)"
   ]
  },
  {
   "cell_type": "markdown",
   "metadata": {},
   "source": [
    "Genrerummet bør også kunne bruges til, at finde litterære anbefalinger.\n",
    "\n",
    "Lad os vælge en bog og derefter finde afstanden fra denne til alle andre bøger. Vi inkluderer titel/forfatter for at gøre resultatet mere læsbart. Når vi skriver `[:10]` betyder det, at vi kun viser de første 10 resultater i stedet for hele listen."
   ]
  },
  {
   "cell_type": "code",
   "execution_count": 4,
   "metadata": {},
   "outputs": [
    {
     "data": {
      "text/plain": [
       "[(1.4011684494447065, 'Fifty shades - E. L. James (book)'),\n",
       " (1.4332511957653991, 'Journal 64 : krimithriller - Jussi Adler-Olsen (book)'),\n",
       " (1.4319693083341756,\n",
       "  'Marco effekten : krimithriller - Jussi Adler-Olsen (book)'),\n",
       " (1.4377953467714748, 'Taynikma - Jan Kjær (f. 1971) (book)'),\n",
       " (1.4561631856697466, 'De glemte piger : krimi - Sara Blædel (book)'),\n",
       " (1.4390826249649267,\n",
       "  'Den grænseløse : krimithriller - Jussi Adler-Olsen (book)'),\n",
       " (1.2877310264792368, 'Vildheks - Lene Kꜳberbøl (book)'),\n",
       " (1.4363966653595654, 'Dødesporet : krimi - Sara Blædel (audiobook)'),\n",
       " (1.4501109638315552, 'Dødsenglen : krimi - Sara Blædel (book)'),\n",
       " (1.4287816916279745,\n",
       "  'Flaskepost fra P : krimithriller - Jussi Adler-Olsen (book)')]"
      ]
     },
     "execution_count": 4,
     "metadata": {},
     "output_type": "execute_result"
    }
   ],
   "source": [
    "distances_from_peter_plys = [\n",
    "    (distance(bibdata.genres[peter_plys], bibdata.genres[other_book]), \n",
    "        bibdata.title_creator(other_book)) \n",
    "    for other_book in range(0, 10000)\n",
    "]\n",
    "distances_from_peter_plys[:10]"
   ]
  },
  {
   "cell_type": "markdown",
   "metadata": {},
   "source": [
    "Hvis vi nu sorterer listen af bøger efter afstanden til den valgte bog, så får vi en liste af anbefalinger."
   ]
  },
  {
   "cell_type": "code",
   "execution_count": 5,
   "metadata": {},
   "outputs": [
    {
     "data": {
      "text/plain": [
       "[(0.0,\n",
       "  'Peter Plys : komplet samling fortællinger og digte - A. A. Milne (book)'),\n",
       " (0.53454719612995338,\n",
       "  'Bogen om Emil fra Lønneberg : samlet udgave med alle historierne om Emil fra Lønneberg - Astrid Lindgren (book)'),\n",
       " (0.53718166508329679,\n",
       "  'Astrid Lindgrens allerbedste historier - Ingrid Vang Nyman (book)'),\n",
       " (0.54053996866025411,\n",
       "  'Mumitrolden : de samlede striber - Tove Jansson (book)'),\n",
       " (0.5654914190345337,\n",
       "  'Klatremus og de andre dyr i Hakkebakkeskoven - Thorbjørn Egner (book)'),\n",
       " (0.57263271765819757,\n",
       "  'Pippi Langstrømpe går om bord - Astrid Lindgren (audiobook)'),\n",
       " (0.57288576301783933, 'Bogen om Pippi Langstrømpe - Astrid Lindgren (book)'),\n",
       " (0.58822503022521333,\n",
       "  'Anne Marie Helger læser Vinden i piletræerne - Anne Marie Helger (audiobook)'),\n",
       " (0.60406738110296454,\n",
       "  'Pippi Langstrømpe i Sydhavet - Astrid Lindgren (audiobook)'),\n",
       " (0.61582753873808027,\n",
       "  'Han er her endnu - Emil fra Lønneberg - Astrid Lindgren (book)')]"
      ]
     },
     "execution_count": 5,
     "metadata": {},
     "output_type": "execute_result"
    }
   ],
   "source": [
    "sorted(distances_from_peter_plys)[:10]"
   ]
  },
  {
   "cell_type": "markdown",
   "metadata": {},
   "source": [
    "Vi kan nu definere dette i en funktion, hvor vi kun returnerer titlerne. Hvis man i programmering har et par data: `rec = (afstand, titel)` kan man få fat i `titel` ved at skrive `rec[1]` (og få fat i `afstand` ved at skrive `rec[0]`). "
   ]
  },
  {
   "cell_type": "code",
   "execution_count": 6,
   "metadata": {
    "collapsed": true
   },
   "outputs": [],
   "source": [
    "def recommendations(book):\n",
    "    return [recommendation[1] for recommendation in\n",
    "        sorted([\n",
    "            (distance(bibdata.genres[book], bibdata.genres[other_book]), \n",
    "                bibdata.title_creator(other_book)) \n",
    "            for other_book in range(0, 10000)])]"
   ]
  },
  {
   "cell_type": "markdown",
   "metadata": {},
   "source": [
    "Med denne funktion kan vi så udforske anbefalingerne til forskellige bøger:"
   ]
  },
  {
   "cell_type": "code",
   "execution_count": 7,
   "metadata": {},
   "outputs": [
    {
     "data": {
      "text/plain": [
       "['Frøken Smillas fornemmelse for sne : roman - Peter Høeg (book)',\n",
       " 'Den kroniske uskyld - Klaus Rifbjerg (audiobook)',\n",
       " 'Vinter-Eventyr - Karen Blixen (book)',\n",
       " 'Kongens Fald - Johannes V. Jensen (f. 1873) (book)',\n",
       " 'Ved Vejen - Herman Bang (book)',\n",
       " 'Rend mig i traditionerne - Leif Panduro (audiobook)',\n",
       " 'Kronprinsessen : roman - Hanne-Vibeke Holst (book)',\n",
       " 'Det forsømte forår - Hans Scherfig (book)',\n",
       " 'Drageløberen - Khaled Hosseini (book)',\n",
       " 'Pelle Erobreren : barndom - Martin Andersen Nexø (book)']"
      ]
     },
     "execution_count": 7,
     "metadata": {},
     "output_type": "execute_result"
    }
   ],
   "source": [
    "recommendations(smilla)[:10]"
   ]
  },
  {
   "cell_type": "code",
   "execution_count": 8,
   "metadata": {},
   "outputs": [
    {
     "data": {
      "text/plain": [
       "['Cirkeline bliver til - Hanne Hastrup (book)',\n",
       " 'Godmorgen Cirkeline - Hanne Hastrup (book)',\n",
       " 'Cirkeline - tæl til 10 - Hanne Hastrup (book)',\n",
       " 'Godnat Cirkeline - Hanne Hastrup (book)',\n",
       " 'Cirkeline på opdagelse - Ulla Raben (book)',\n",
       " 'Cirkeline godnat - Hanne Hastrup (book)',\n",
       " 'Den store bog om Cirkeline - Hanne Hastrup (book)',\n",
       " 'Cirkeline flytter til byen - Hanne Hastrup (book)',\n",
       " 'Kender du Pippi Langstrømpe? : billedbog - Ingrid Vang Nyman (book)',\n",
       " 'Cirkeline - Hanne Hastrup (book)']"
      ]
     },
     "execution_count": 8,
     "metadata": {},
     "output_type": "execute_result"
    }
   ],
   "source": [
    "recommendations(cirkeline)[:10]"
   ]
  },
  {
   "cell_type": "code",
   "execution_count": 9,
   "metadata": {},
   "outputs": [
    {
     "data": {
      "text/plain": [
       "['Cykelmyggen Egon - Flemming Quist Møller (book)',\n",
       " 'Den store bog om den glade løve - Louise Fatio (book)',\n",
       " 'Bennys badekar - Flemming Quist Møller (book)',\n",
       " 'Pandekagekagen - Sven Nordqvist (book)',\n",
       " 'Stakkels Peddersen - Sven Nordqvist (book)',\n",
       " 'Gok-gok i køkkenhaven - Sven Nordqvist (book)',\n",
       " 'Findus flytter hjemmefra - Sven Nordqvist (book)',\n",
       " 'Og hanen gol - Sven Nordqvist (book)',\n",
       " 'Paddington - Michael Bond (book)',\n",
       " 'Rasmus får besøg - Jørgen Clevin (book)']"
      ]
     },
     "execution_count": 9,
     "metadata": {},
     "output_type": "execute_result"
    }
   ],
   "source": [
    "recommendations(cykelmyggen)[:10]"
   ]
  },
  {
   "cell_type": "code",
   "execution_count": 10,
   "metadata": {},
   "outputs": [
    {
     "data": {
      "text/plain": [
       "['Turen går til Berlin - Therkelsen Kirstine (book)',\n",
       " 'Politikens visuelle guide - Berlin - Søndervang Allan edt (book)',\n",
       " 'Top 10 Berlin - Jürgen Scheunemann (book)',\n",
       " 'Turen går til Amsterdam - Anette Jorsal (book)',\n",
       " 'Turen går til Prag - Hans Kragh-Jacobsen (book)',\n",
       " 'Turen går til Hamburg og Nordtyskland - Jytte Flamsholt Christensen (book)',\n",
       " 'Turen går til Californien & det vestlige USA - Preben Hansen (f. 1956) (book)',\n",
       " 'Turen går til London - Gunhild Riske (book)',\n",
       " 'Politikens Kort og godt om Berlin - Charmetant Jim (book)',\n",
       " 'Politikens visuelle guide - Prag - Vladimír Soukup (book)']"
      ]
     },
     "execution_count": 10,
     "metadata": {},
     "output_type": "execute_result"
    }
   ],
   "source": [
    "recommendations(berlin)[:10]"
   ]
  },
  {
   "cell_type": "code",
   "execution_count": 11,
   "metadata": {},
   "outputs": [
    {
     "data": {
      "text/plain": [
       "['Alt om håndarbejdes strikkemagasin -  (other)',\n",
       " 'Kreativ strik -  (other)',\n",
       " \"Ingelise's strikkemagasin -  (other)\",\n",
       " 'DROPS : strikkdesign - Garnstudio (periodica)',\n",
       " 'Alt om håndarbejdes symagasin -  (other)',\n",
       " 'Maries ideer : håndarbejde, strik, sy, hækl, bolig, inspiration -  (other)',\n",
       " 'Burda style -  (other)',\n",
       " 'Burda -  (other)',\n",
       " 'Burda modemagasin : verdensberømt mode -  (other)',\n",
       " \"Ingelise's symagasin -  (other)\"]"
      ]
     },
     "execution_count": 11,
     "metadata": {},
     "output_type": "execute_result"
    }
   ],
   "source": [
    "recommendations(strikning)[:10]"
   ]
  },
  {
   "cell_type": "code",
   "execution_count": 12,
   "metadata": {},
   "outputs": [
    {
     "data": {
      "text/plain": [
       "['Kafka på stranden - Haruki Murakami (book)',\n",
       " 'Trækopfuglens krønike - Haruki Murakami (book)',\n",
       " 'Norwegian wood - Haruki Murakami (book)',\n",
       " 'Sønden for grænsen og vesten for solen - Haruki Murakami (book)',\n",
       " 'Efter midnat - Haruki Murakami (book)',\n",
       " 'Sputnik min elskede - Haruki Murakami (book)',\n",
       " 'Hvad jeg taler om når jeg taler om at løbe - Haruki Murakami (book)',\n",
       " 'Brooklyn dårskab : roman - Paul Auster (book)',\n",
       " '1Q84 - Haruki Murakami (audiobook)',\n",
       " 'Efter skælvet - Haruki Murakami (book)']"
      ]
     },
     "execution_count": 12,
     "metadata": {},
     "output_type": "execute_result"
    }
   ],
   "source": [
    "recommendations(kafka)[:10]"
   ]
  },
  {
   "cell_type": "markdown",
   "metadata": {},
   "source": [
    "Vi har hermed lavet koden for en lille anbefalingsservice.\n",
    "\n",
    "For perspektivering, sammenlign eksempelvis resultaterne med anbefalingerne på bibliotekernes hjemmesider. Bemærk at vi her kun kigger på et lille udvalg af materialebestanden. På bibliotek.dk kan anbefalinger findes ved, at fremsøge en bog, og derefter klikke på \"Inspiration\", og \"Andre der har lånt...\". Genrerummet som vi benytter her, er faktisk udregnet fra (en lille delmængde af) de \"Andre der har lånt\"-data, som DBC havde med på Hack4DK."
   ]
  },
  {
   "cell_type": "markdown",
   "metadata": {},
   "source": [
    "Bemærk at bøgerne, som vi finder anbefalinger for, er valgt på forhånd (og derved uafhængigt af hvordan anbefalingerne bliver). Derfor må kvaliteten af anbefalinger forventes at være repræsentativ."
   ]
  },
  {
   "cell_type": "markdown",
   "metadata": {},
   "source": [
    "## Øvelser\n",
    "\n",
    "\n",
    "- Ændr antallet af resultater der vises for nogle af de ovenstående bøger.\n",
    "- Udforsk anbefalingerne for andre bøger end de ovenstående."
   ]
  }
 ],
 "metadata": {
  "kernelspec": {
   "display_name": "Python 3",
   "language": "python",
   "name": "python3"
  },
  "language_info": {
   "codemirror_mode": {
    "name": "ipython",
    "version": 3
   },
   "file_extension": ".py",
   "mimetype": "text/x-python",
   "name": "python",
   "nbconvert_exporter": "python",
   "pygments_lexer": "ipython3",
   "version": "3.6.3"
  }
 },
 "nbformat": 4,
 "nbformat_minor": 2
}
