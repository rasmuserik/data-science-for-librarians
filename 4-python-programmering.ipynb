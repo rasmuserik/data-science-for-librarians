{
 "cells": [
  {
   "cell_type": "markdown",
   "metadata": {},
   "source": [
    "# Python Programmering"
   ]
  },
  {
   "cell_type": "markdown",
   "metadata": {},
   "source": [
    "**TODO**\n",
    "\n",
    "What is programming\n",
    "\n",
    "- Recipe, instructions for computer\n",
    "    - computer = forvokset regnemaskine, kan kun gøre hvad den bliver bedt om\n",
    "    - step by step instruction, computer is stupid, only does excatly what told\n",
    "- Example of programming languages easily available\n",
    "    - JavaScript\n",
    "    - Python\n",
    "    - Shell\n",
    "- Getting started with Python/jupyter-notebooks\n",
    "    - running within notebooks.azure.com\n",
    "    - running locally with https://www.anaconda.com/download\n",
    "\n",
    "What is data\n",
    "\n",
    "- Concrete/paper examples: numbers, text, checkmark/questionmark, lists, indexes\n",
    "- Structured data: JSON\n",
    "    - example/exercise bibliographical data\n",
    "- Numbers, Matrices/vectors\n",
    "- Data types\n",
    "    - Numbers\n",
    "    - Strings\n",
    "    - Lists\n",
    "    - Dictionaries\n",
    "    - Matrices/vectors\n",
    "    - ... and many morre\n",
    "- What is data science\n",
    "    - \"datalogi\" - computer science vs. data science\n",
    "    - statistics and machine learning\n",
    "        - unsupervised\n",
    "            - example: k-means\n",
    "        - supervised\n",
    "            - example: statistical\n"
   ]
  }
 ],
 "metadata": {
  "kernelspec": {
   "display_name": "Python 3",
   "language": "python",
   "name": "python3"
  },
  "language_info": {
   "codemirror_mode": {
    "name": "ipython",
    "version": 3
   },
   "file_extension": ".py",
   "mimetype": "text/x-python",
   "name": "python",
   "nbconvert_exporter": "python",
   "pygments_lexer": "ipython3",
   "version": "3.6.3"
  }
 },
 "nbformat": 4,
 "nbformat_minor": 2
}
