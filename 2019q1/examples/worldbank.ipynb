{
 "cells": [
  {
   "cell_type": "code",
   "execution_count": 1,
   "metadata": {
    "collapsed": true
   },
   "outputs": [],
   "source": [
    "import json\n",
    "import requests\n",
    "result = json.loads(requests.get(\n",
    "    'http://api.worldbank.org/v2/countries/DNK/indicators/SP.POP.TOTL', \n",
    "    params = {\n",
    "        \"per_page\": 100,\n",
    "        \"format\": \"json\"\n",
    "    }).text)"
   ]
  },
  {
   "cell_type": "code",
   "execution_count": 2,
   "metadata": {
    "collapsed": true
   },
   "outputs": [],
   "source": [
    "population = dict([(entry[\"date\"], entry.get(\"value\", 0)) for entry in result[1]])\n",
    "population.pop(\"2017\")\n",
    "years = sorted(population.keys())\n",
    "population = [population[year] for year in years]"
   ]
  },
  {
   "cell_type": "code",
   "execution_count": 3,
   "metadata": {},
   "outputs": [
    {
     "data": {
      "text/html": [
       "<script>requirejs.config({paths: { 'plotly': ['https://cdn.plot.ly/plotly-latest.min']},});if(!window.Plotly) {{require(['plotly'],function(plotly) {window.Plotly=plotly;});}}</script>"
      ],
      "text/vnd.plotly.v1+html": [
       "<script>requirejs.config({paths: { 'plotly': ['https://cdn.plot.ly/plotly-latest.min']},});if(!window.Plotly) {{require(['plotly'],function(plotly) {window.Plotly=plotly;});}}</script>"
      ]
     },
     "metadata": {},
     "output_type": "display_data"
    },
    {
     "data": {
      "application/vnd.plotly.v1+json": {
       "data": [
        {
         "type": "bar",
         "x": [
          "1960",
          "1961",
          "1962",
          "1963",
          "1964",
          "1965",
          "1966",
          "1967",
          "1968",
          "1969",
          "1970",
          "1971",
          "1972",
          "1973",
          "1974",
          "1975",
          "1976",
          "1977",
          "1978",
          "1979",
          "1980",
          "1981",
          "1982",
          "1983",
          "1984",
          "1985",
          "1986",
          "1987",
          "1988",
          "1989",
          "1990",
          "1991",
          "1992",
          "1993",
          "1994",
          "1995",
          "1996",
          "1997",
          "1998",
          "1999",
          "2000",
          "2001",
          "2002",
          "2003",
          "2004",
          "2005",
          "2006",
          "2007",
          "2008",
          "2009",
          "2010",
          "2011",
          "2012",
          "2013",
          "2014",
          "2015",
          "2016"
         ],
         "y": [
          4579603,
          4611687,
          4647727,
          4684483,
          4722072,
          4759012,
          4797381,
          4835354,
          4864883,
          4891860,
          4928757,
          4963126,
          4991596,
          5021861,
          5045297,
          5059862,
          5072596,
          5088419,
          5104248,
          5116801,
          5123027,
          5121572,
          5117810,
          5114297,
          5111619,
          5113691,
          5120534,
          5127024,
          5129516,
          5132594,
          5140939,
          5154298,
          5171370,
          5188628,
          5206180,
          5233373,
          5263074,
          5284991,
          5304219,
          5321799,
          5339616,
          5358783,
          5375931,
          5390574,
          5404523,
          5419432,
          5437272,
          5461438,
          5493621,
          5523095,
          5547683,
          5570572,
          5591572,
          5614932,
          5643475,
          5683483,
          5731118
         ]
        }
       ],
       "layout": {}
      },
      "text/html": [
       "<div id=\"da95fc4e-e9ce-4d5b-be05-94f6301a08b9\" style=\"height: 525px; width: 100%;\" class=\"plotly-graph-div\"></div><script type=\"text/javascript\">require([\"plotly\"], function(Plotly) { window.PLOTLYENV=window.PLOTLYENV || {};window.PLOTLYENV.BASE_URL=\"https://plot.ly\";Plotly.newPlot(\"da95fc4e-e9ce-4d5b-be05-94f6301a08b9\", [{\"type\": \"bar\", \"x\": [\"1960\", \"1961\", \"1962\", \"1963\", \"1964\", \"1965\", \"1966\", \"1967\", \"1968\", \"1969\", \"1970\", \"1971\", \"1972\", \"1973\", \"1974\", \"1975\", \"1976\", \"1977\", \"1978\", \"1979\", \"1980\", \"1981\", \"1982\", \"1983\", \"1984\", \"1985\", \"1986\", \"1987\", \"1988\", \"1989\", \"1990\", \"1991\", \"1992\", \"1993\", \"1994\", \"1995\", \"1996\", \"1997\", \"1998\", \"1999\", \"2000\", \"2001\", \"2002\", \"2003\", \"2004\", \"2005\", \"2006\", \"2007\", \"2008\", \"2009\", \"2010\", \"2011\", \"2012\", \"2013\", \"2014\", \"2015\", \"2016\"], \"y\": [4579603, 4611687, 4647727, 4684483, 4722072, 4759012, 4797381, 4835354, 4864883, 4891860, 4928757, 4963126, 4991596, 5021861, 5045297, 5059862, 5072596, 5088419, 5104248, 5116801, 5123027, 5121572, 5117810, 5114297, 5111619, 5113691, 5120534, 5127024, 5129516, 5132594, 5140939, 5154298, 5171370, 5188628, 5206180, 5233373, 5263074, 5284991, 5304219, 5321799, 5339616, 5358783, 5375931, 5390574, 5404523, 5419432, 5437272, 5461438, 5493621, 5523095, 5547683, 5570572, 5591572, 5614932, 5643475, 5683483, 5731118]}], {}, {\"showLink\": true, \"linkText\": \"Export to plot.ly\"})});</script>"
      ],
      "text/vnd.plotly.v1+html": [
       "<div id=\"da95fc4e-e9ce-4d5b-be05-94f6301a08b9\" style=\"height: 525px; width: 100%;\" class=\"plotly-graph-div\"></div><script type=\"text/javascript\">require([\"plotly\"], function(Plotly) { window.PLOTLYENV=window.PLOTLYENV || {};window.PLOTLYENV.BASE_URL=\"https://plot.ly\";Plotly.newPlot(\"da95fc4e-e9ce-4d5b-be05-94f6301a08b9\", [{\"type\": \"bar\", \"x\": [\"1960\", \"1961\", \"1962\", \"1963\", \"1964\", \"1965\", \"1966\", \"1967\", \"1968\", \"1969\", \"1970\", \"1971\", \"1972\", \"1973\", \"1974\", \"1975\", \"1976\", \"1977\", \"1978\", \"1979\", \"1980\", \"1981\", \"1982\", \"1983\", \"1984\", \"1985\", \"1986\", \"1987\", \"1988\", \"1989\", \"1990\", \"1991\", \"1992\", \"1993\", \"1994\", \"1995\", \"1996\", \"1997\", \"1998\", \"1999\", \"2000\", \"2001\", \"2002\", \"2003\", \"2004\", \"2005\", \"2006\", \"2007\", \"2008\", \"2009\", \"2010\", \"2011\", \"2012\", \"2013\", \"2014\", \"2015\", \"2016\"], \"y\": [4579603, 4611687, 4647727, 4684483, 4722072, 4759012, 4797381, 4835354, 4864883, 4891860, 4928757, 4963126, 4991596, 5021861, 5045297, 5059862, 5072596, 5088419, 5104248, 5116801, 5123027, 5121572, 5117810, 5114297, 5111619, 5113691, 5120534, 5127024, 5129516, 5132594, 5140939, 5154298, 5171370, 5188628, 5206180, 5233373, 5263074, 5284991, 5304219, 5321799, 5339616, 5358783, 5375931, 5390574, 5404523, 5419432, 5437272, 5461438, 5493621, 5523095, 5547683, 5570572, 5591572, 5614932, 5643475, 5683483, 5731118]}], {}, {\"showLink\": true, \"linkText\": \"Export to plot.ly\"})});</script>"
      ]
     },
     "metadata": {},
     "output_type": "display_data"
    }
   ],
   "source": [
    "from plotly.offline import download_plotlyjs, init_notebook_mode, plot,iplot\n",
    "init_notebook_mode(connected=True)\n",
    "from plotly import graph_objs \n",
    "\n",
    "data = [graph_objs.Bar(x=years, y=population)]\n",
    "\n",
    "iplot(data)"
   ]
  }
 ],
 "metadata": {
  "kernelspec": {
   "display_name": "Python 3",
   "language": "python",
   "name": "python3"
  },
  "language_info": {
   "codemirror_mode": {
    "name": "ipython",
    "version": 3
   },
   "file_extension": ".py",
   "mimetype": "text/x-python",
   "name": "python",
   "nbconvert_exporter": "python",
   "pygments_lexer": "ipython3",
   "version": "3.6.3"
  }
 },
 "nbformat": 4,
 "nbformat_minor": 2
}
