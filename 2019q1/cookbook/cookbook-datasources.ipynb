{
 "cells": [
  {
   "cell_type": "markdown",
   "metadata": {},
   "source": [
    "# Data sources"
   ]
  },
  {
   "cell_type": "markdown",
   "metadata": {},
   "source": [
    "## text"
   ]
  },
  {
   "cell_type": "code",
   "execution_count": 1,
   "metadata": {},
   "outputs": [
    {
     "name": "stdout",
     "output_type": "stream",
     "text": [
      "The word 'happiness' would lose its meaning if it were not balanced by sadness.\n",
      " -- Carl Jung\n",
      "%\n",
      "One looks back with appreciation to the brilliant teachers, but with gratitude to those who touched our human feelings. The curriculum is so much necessary raw material, but warmth is the vital element for the growing plant and for the soul of the child.\n",
      " -- Carl Jung\n",
      "%\n",
      "Knowing your own darkness is the best method for dealing with the darknesses of other people.\n",
      " -- Carl Jung\n",
      "%\n",
      "Everything that irritat\n"
     ]
    }
   ],
   "source": [
    "import requests\n",
    "fortunes = requests.get('https://raw.githubusercontent.com/JKirchartz/fortune/master/jung').text\n",
    "print(fortunes[0:500])"
   ]
  },
  {
   "cell_type": "markdown",
   "metadata": {},
   "source": [
    "## reddit"
   ]
  },
  {
   "cell_type": "code",
   "execution_count": 2,
   "metadata": {
    "scrolled": true
   },
   "outputs": [
    {
     "data": {
      "text/plain": [
       "{'data': {'approved_at_utc': None,\n",
       "  'approved_by': None,\n",
       "  'archived': False,\n",
       "  'author': 'fizfilson',\n",
       "  'author_flair_css_class': None,\n",
       "  'author_flair_text': None,\n",
       "  'banned_at_utc': None,\n",
       "  'banned_by': None,\n",
       "  'brand_safe': True,\n",
       "  'can_gild': False,\n",
       "  'can_mod_post': False,\n",
       "  'clicked': False,\n",
       "  'contest_mode': False,\n",
       "  'created': 1519331929.0,\n",
       "  'created_utc': 1519303129.0,\n",
       "  'distinguished': None,\n",
       "  'domain': 'i.redd.it',\n",
       "  'downs': 0,\n",
       "  'edited': False,\n",
       "  'gilded': 0,\n",
       "  'hidden': False,\n",
       "  'hide_score': False,\n",
       "  'id': '7zel4y',\n",
       "  'is_crosspostable': False,\n",
       "  'is_reddit_media_domain': True,\n",
       "  'is_self': False,\n",
       "  'is_video': False,\n",
       "  'likes': None,\n",
       "  'link_flair_css_class': None,\n",
       "  'link_flair_text': None,\n",
       "  'locked': False,\n",
       "  'media': None,\n",
       "  'media_embed': {},\n",
       "  'mod_note': None,\n",
       "  'mod_reason_by': None,\n",
       "  'mod_reason_title': None,\n",
       "  'mod_reports': [],\n",
       "  'name': 't3_7zel4y',\n",
       "  'num_comments': 7,\n",
       "  'num_crossposts': 0,\n",
       "  'num_reports': None,\n",
       "  'over_18': False,\n",
       "  'parent_whitelist_status': 'all_ads',\n",
       "  'permalink': '/r/funny/comments/7zel4y/no_one/',\n",
       "  'pinned': False,\n",
       "  'post_hint': 'image',\n",
       "  'preview': {'enabled': True,\n",
       "   'images': [{'id': 'bwpWeUiwdTar4duXPbe_pWy4oreN6mQl9HebST2eIE0',\n",
       "     'resolutions': [{'height': 80,\n",
       "       'url': 'https://i.redditmedia.com/7AwbyjEh-PV8YJH3yIwnbckAqUjwZlNdsiP5mHzIs_s.jpg?fit=crop&amp;crop=faces%2Centropy&amp;arh=2&amp;w=108&amp;fm=jpg&amp;s=7a821d531b55d6501961a3ed38b87ba4',\n",
       "       'width': 108},\n",
       "      {'height': 161,\n",
       "       'url': 'https://i.redditmedia.com/7AwbyjEh-PV8YJH3yIwnbckAqUjwZlNdsiP5mHzIs_s.jpg?fit=crop&amp;crop=faces%2Centropy&amp;arh=2&amp;w=216&amp;fm=jpg&amp;s=aa2c4067812dccd22576dea2eebc8707',\n",
       "       'width': 216},\n",
       "      {'height': 239,\n",
       "       'url': 'https://i.redditmedia.com/7AwbyjEh-PV8YJH3yIwnbckAqUjwZlNdsiP5mHzIs_s.jpg?fit=crop&amp;crop=faces%2Centropy&amp;arh=2&amp;w=320&amp;fm=jpg&amp;s=14a61c48ed135113557a4347ccd8850f',\n",
       "       'width': 320},\n",
       "      {'height': 478,\n",
       "       'url': 'https://i.redditmedia.com/7AwbyjEh-PV8YJH3yIwnbckAqUjwZlNdsiP5mHzIs_s.jpg?fit=crop&amp;crop=faces%2Centropy&amp;arh=2&amp;w=640&amp;fm=jpg&amp;s=0bb66920cca7aa32f85e390fd37b118f',\n",
       "       'width': 640},\n",
       "      {'height': 717,\n",
       "       'url': 'https://i.redditmedia.com/7AwbyjEh-PV8YJH3yIwnbckAqUjwZlNdsiP5mHzIs_s.jpg?fit=crop&amp;crop=faces%2Centropy&amp;arh=2&amp;w=960&amp;fm=jpg&amp;s=ca8c31d4362460edc91861965c7f3636',\n",
       "       'width': 960},\n",
       "      {'height': 806,\n",
       "       'url': 'https://i.redditmedia.com/7AwbyjEh-PV8YJH3yIwnbckAqUjwZlNdsiP5mHzIs_s.jpg?fit=crop&amp;crop=faces%2Centropy&amp;arh=2&amp;w=1080&amp;fm=jpg&amp;s=f9faa4f57e8cc691bdac54a8a8d975da',\n",
       "       'width': 1080}],\n",
       "     'source': {'height': 928,\n",
       "      'url': 'https://i.redditmedia.com/7AwbyjEh-PV8YJH3yIwnbckAqUjwZlNdsiP5mHzIs_s.jpg?fm=jpg&amp;s=6e5fc136bcb70b793e5d4effd5bf3a43',\n",
       "      'width': 1242},\n",
       "     'variants': {}}]},\n",
       "  'quarantine': False,\n",
       "  'removal_reason': None,\n",
       "  'report_reasons': None,\n",
       "  'saved': False,\n",
       "  'score': 270,\n",
       "  'secure_media': None,\n",
       "  'secure_media_embed': {},\n",
       "  'selftext': '',\n",
       "  'selftext_html': None,\n",
       "  'spoiler': False,\n",
       "  'stickied': False,\n",
       "  'subreddit': 'funny',\n",
       "  'subreddit_id': 't5_2qh33',\n",
       "  'subreddit_name_prefixed': 'r/funny',\n",
       "  'subreddit_type': 'public',\n",
       "  'suggested_sort': None,\n",
       "  'thumbnail': 'https://b.thumbs.redditmedia.com/VqrQYo4vDJRbAMPNriSEpKq6FQI8I78BdV_cgb5xpow.jpg',\n",
       "  'thumbnail_height': 104,\n",
       "  'thumbnail_width': 140,\n",
       "  'title': 'No one.',\n",
       "  'ups': 270,\n",
       "  'url': 'https://i.redd.it/9caglpxperh01.jpg',\n",
       "  'user_reports': [],\n",
       "  'view_count': None,\n",
       "  'visited': False,\n",
       "  'whitelist_status': 'all_ads'},\n",
       " 'kind': 't3'}"
      ]
     },
     "execution_count": 2,
     "metadata": {},
     "output_type": "execute_result"
    }
   ],
   "source": [
    "import json\n",
    "reddit_response = requests.get(\n",
    "    'http://api.reddit.com/r/funny', \n",
    "    headers={'User-Agent': 'Mozilla/5 Data Science Intro'})\n",
    "reddit_data = json.loads(reddit_response.text)\n",
    "\n",
    "reddit_page2 =  json.loads(requests.get(\n",
    "    'http://api.reddit.com/r/funny', \n",
    "    params={\"after\": reddit_data[\"data\"][\"after\"]},\n",
    "    headers={'User-Agent': 'Mozilla/5.0 Data Science Workshop at inf.ku.dk'}).text)\n",
    "\n",
    "reddit_page2[\"data\"][\"children\"][0]"
   ]
  },
  {
   "cell_type": "markdown",
   "metadata": {},
   "source": [
    "## worldbank"
   ]
  },
  {
   "cell_type": "code",
   "execution_count": 3,
   "metadata": {
    "scrolled": true
   },
   "outputs": [
    {
     "name": "stdout",
     "output_type": "stream",
     "text": [
      "[{'page': 1, 'pages': 1, 'per_page': 100, 'lastupdated': '2018-02-22', 'total': 58}, [{'indicator': {'id': 'SP.POP.TOTL', 'value': 'Population, total'}, 'country': {'id': 'DK', 'value': 'Denmark'}, 'countryiso3code': 'DNK', 'date': '2017', 'value': None, 'unit': '', 'obs_status': '', 'decimal': 0}, {'indicator': {'id': 'SP.POP.TOTL', 'value': 'Population, total'}, 'country': {'id': 'DK', 'value': 'Denmark'}, 'countryiso3code': 'DNK', 'date': '2016', 'value': 5731118, 'unit': '', 'obs_status': '', 'decimal': 0}, {'indicator': {'id': 'SP.POP.TOTL', 'value': 'Population, total'}, 'country': {'id': 'DK', 'value': 'Denmark'}, 'countryiso3code': 'DNK', 'date': '2015', 'value': 5683483, 'unit': '', 'obs_status': '', 'decimal': 0}, {'indicator': {'id': 'SP.POP.TOTL', 'value': 'Population, total'}, 'country': {'id': 'DK', 'value': 'Denmark'}, 'countryiso3code': 'DNK', 'date': '2014', 'value': 5643475, 'unit': '', 'obs_status': '', 'decimal': 0}, {'indicator': {'id': 'SP.POP.TOTL', 'value': 'Population, total'}, 'country': {'id': 'DK', 'value': 'Denmark'}, 'countryiso3code': 'DNK', 'date': '2013', 'value': 5614932, 'unit': '', 'obs_status': '', 'decimal': 0}, {'indicator': {'id': 'SP.POP.TOTL', 'value': 'Population, total'}, 'country': {'id': 'DK', 'value': 'Denmark'}, 'countryiso3code': 'DNK', 'date': '2012', 'value': 5591572, 'unit': '', 'obs_status': '', 'decimal': 0}, {'indicator': {'id': 'SP.POP.TOTL', 'value': 'Population, total'}, 'country': {'id': 'DK', 'value': 'Denmark'}, 'countryiso3code': 'DNK', 'date': '2011', 'value': 5570572, 'unit': '', 'obs_status': '', 'decimal': 0}, {'indicator': {'id': 'SP.POP.TOTL', 'value': 'Population, total'}, 'country': {'id': 'DK', 'value': 'Denmark'}, 'countryiso3code': 'DNK', 'date': '2010', 'value': 5547683, 'unit': '', 'obs_status': '', 'decimal': 0}, {'indicator': {'id': 'SP.POP.TOTL', 'value': 'Population, total'}, 'country': {'id': 'DK', 'value': 'Denmark'}, 'countryiso3code': 'DNK', 'date': '2009', 'value': 5523095, 'unit': '', 'obs_status': '', 'decimal': 0}, {'indicator': {'id': 'SP.POP.TOTL', 'value': 'Population, total'}, 'country': {'id': 'DK', 'value': 'Denmark'}, 'countryiso3code': 'DNK', 'date': '2008', 'value': 5493621, 'unit': '', 'obs_status': '', 'decimal': 0}, {'indicator': {'id': 'SP.POP.TOTL', 'value': 'Population, total'}, 'country': {'id': 'DK', 'value': 'Denmark'}, 'countryiso3code': 'DNK', 'date': '2007', 'value': 5461438, 'unit': '', 'obs_status': '', 'decimal': 0}, {'indicator': {'id': 'SP.POP.TOTL', 'value': 'Population, total'}, 'country': {'id': 'DK', 'value': 'Denmark'}, 'countryiso3code': 'DNK', 'date': '2006', 'value': 5437272, 'unit': '', 'obs_status': '', 'decimal': 0}, {'indicator': {'id': 'SP.POP.TOTL', 'value': 'Population, total'}, 'country': {'id': 'DK', 'value': 'Denmark'}, 'countryiso3code': 'DNK', 'date': '2005', 'value': 5419432, 'unit': '', 'obs_status': '', 'decimal': 0}, {'indicator': {'id': 'SP.POP.TOTL', 'value': 'Population, total'}, 'country': {'id': 'DK', 'value': 'Denmark'}, 'countryiso3code': 'DNK', 'date': '2004', 'value': 5404523, 'unit': '', 'obs_status': '', 'decimal': 0}, {'indicator': {'id': 'SP.POP.TOTL', 'value': 'Population, total'}, 'country': {'id': 'DK', 'value': 'Denmark'}, 'countryiso3code': 'DNK', 'date': '2003', 'value': 5390574, 'unit': '', 'obs_status': '', 'decimal': 0}, {'indicator': {'id': 'SP.POP.TOTL', 'value': 'Population, total'}, 'country': {'id': 'DK', 'value': 'Denmark'}, 'countryiso3code': 'DNK', 'date': '2002', 'value': 5375931, 'unit': '', 'obs_status': '', 'decimal': 0}, {'indicator': {'id': 'SP.POP.TOTL', 'value': 'Population, total'}, 'country': {'id': 'DK', 'value': 'Denmark'}, 'countryiso3code': 'DNK', 'date': '2001', 'value': 5358783, 'unit': '', 'obs_status': '', 'decimal': 0}, {'indicator': {'id': 'SP.POP.TOTL', 'value': 'Population, total'}, 'country': {'id': 'DK', 'value': 'Denmark'}, 'countryiso3code': 'DNK', 'date': '2000', 'value': 5339616, 'unit': '', 'obs_status': '', 'decimal': 0}, {'indicator': {'id': 'SP.POP.TOTL', 'value': 'Population, total'}, 'country': {'id': 'DK', 'value': 'Denmark'}, 'countryiso3code': 'DNK', 'date': '1999', 'value': 5321799, 'unit': '', 'obs_status': '', 'decimal': 0}, {'indicator': {'id': 'SP.POP.TOTL', 'value': 'Population, total'}, 'country': {'id': 'DK', 'value': 'Denmark'}, 'countryiso3code': 'DNK', 'date': '1998', 'value': 5304219, 'unit': '', 'obs_status': '', 'decimal': 0}, {'indicator': {'id': 'SP.POP.TOTL', 'value': 'Population, total'}, 'country': {'id': 'DK', 'value': 'Denmark'}, 'countryiso3code': 'DNK', 'date': '1997', 'value': 5284991, 'unit': '', 'obs_status': '', 'decimal': 0}, {'indicator': {'id': 'SP.POP.TOTL', 'value': 'Population, total'}, 'country': {'id': 'DK', 'value': 'Denmark'}, 'countryiso3code': 'DNK', 'date': '1996', 'value': 5263074, 'unit': '', 'obs_status': '', 'decimal': 0}, {'indicator': {'id': 'SP.POP.TOTL', 'value': 'Population, total'}, 'country': {'id': 'DK', 'value': 'Denmark'}, 'countryiso3code': 'DNK', 'date': '1995', 'value': 5233373, 'unit': '', 'obs_status': '', 'decimal': 0}, {'indicator': {'id': 'SP.POP.TOTL', 'value': 'Population, total'}, 'country': {'id': 'DK', 'value': 'Denmark'}, 'countryiso3code': 'DNK', 'date': '1994', 'value': 5206180, 'unit': '', 'obs_status': '', 'decimal': 0}, {'indicator': {'id': 'SP.POP.TOTL', 'value': 'Population, total'}, 'country': {'id': 'DK', 'value': 'Denmark'}, 'countryiso3code': 'DNK', 'date': '1993', 'value': 5188628, 'unit': '', 'obs_status': '', 'decimal': 0}, {'indicator': {'id': 'SP.POP.TOTL', 'value': 'Population, total'}, 'country': {'id': 'DK', 'value': 'Denmark'}, 'countryiso3code': 'DNK', 'date': '1992', 'value': 5171370, 'unit': '', 'obs_status': '', 'decimal': 0}, {'indicator': {'id': 'SP.POP.TOTL', 'value': 'Population, total'}, 'country': {'id': 'DK', 'value': 'Denmark'}, 'countryiso3code': 'DNK', 'date': '1991', 'value': 5154298, 'unit': '', 'obs_status': '', 'decimal': 0}, {'indicator': {'id': 'SP.POP.TOTL', 'value': 'Population, total'}, 'country': {'id': 'DK', 'value': 'Denmark'}, 'countryiso3code': 'DNK', 'date': '1990', 'value': 5140939, 'unit': '', 'obs_status': '', 'decimal': 0}, {'indicator': {'id': 'SP.POP.TOTL', 'value': 'Population, total'}, 'country': {'id': 'DK', 'value': 'Denmark'}, 'countryiso3code': 'DNK', 'date': '1989', 'value': 5132594, 'unit': '', 'obs_status': '', 'decimal': 0}, {'indicator': {'id': 'SP.POP.TOTL', 'value': 'Population, total'}, 'country': {'id': 'DK', 'value': 'Denmark'}, 'countryiso3code': 'DNK', 'date': '1988', 'value': 5129516, 'unit': '', 'obs_status': '', 'decimal': 0}, {'indicator': {'id': 'SP.POP.TOTL', 'value': 'Population, total'}, 'country': {'id': 'DK', 'value': 'Denmark'}, 'countryiso3code': 'DNK', 'date': '1987', 'value': 5127024, 'unit': '', 'obs_status': '', 'decimal': 0}, {'indicator': {'id': 'SP.POP.TOTL', 'value': 'Population, total'}, 'country': {'id': 'DK', 'value': 'Denmark'}, 'countryiso3code': 'DNK', 'date': '1986', 'value': 5120534, 'unit': '', 'obs_status': '', 'decimal': 0}, {'indicator': {'id': 'SP.POP.TOTL', 'value': 'Population, total'}, 'country': {'id': 'DK', 'value': 'Denmark'}, 'countryiso3code': 'DNK', 'date': '1985', 'value': 5113691, 'unit': '', 'obs_status': '', 'decimal': 0}, {'indicator': {'id': 'SP.POP.TOTL', 'value': 'Population, total'}, 'country': {'id': 'DK', 'value': 'Denmark'}, 'countryiso3code': 'DNK', 'date': '1984', 'value': 5111619, 'unit': '', 'obs_status': '', 'decimal': 0}, {'indicator': {'id': 'SP.POP.TOTL', 'value': 'Population, total'}, 'country': {'id': 'DK', 'value': 'Denmark'}, 'countryiso3code': 'DNK', 'date': '1983', 'value': 5114297, 'unit': '', 'obs_status': '', 'decimal': 0}, {'indicator': {'id': 'SP.POP.TOTL', 'value': 'Population, total'}, 'country': {'id': 'DK', 'value': 'Denmark'}, 'countryiso3code': 'DNK', 'date': '1982', 'value': 5117810, 'unit': '', 'obs_status': '', 'decimal': 0}, {'indicator': {'id': 'SP.POP.TOTL', 'value': 'Population, total'}, 'country': {'id': 'DK', 'value': 'Denmark'}, 'countryiso3code': 'DNK', 'date': '1981', 'value': 5121572, 'unit': '', 'obs_status': '', 'decimal': 0}, {'indicator': {'id': 'SP.POP.TOTL', 'value': 'Population, total'}, 'country': {'id': 'DK', 'value': 'Denmark'}, 'countryiso3code': 'DNK', 'date': '1980', 'value': 5123027, 'unit': '', 'obs_status': '', 'decimal': 0}, {'indicator': {'id': 'SP.POP.TOTL', 'value': 'Population, total'}, 'country': {'id': 'DK', 'value': 'Denmark'}, 'countryiso3code': 'DNK', 'date': '1979', 'value': 5116801, 'unit': '', 'obs_status': '', 'decimal': 0}, {'indicator': {'id': 'SP.POP.TOTL', 'value': 'Population, total'}, 'country': {'id': 'DK', 'value': 'Denmark'}, 'countryiso3code': 'DNK', 'date': '1978', 'value': 5104248, 'unit': '', 'obs_status': '', 'decimal': 0}, {'indicator': {'id': 'SP.POP.TOTL', 'value': 'Population, total'}, 'country': {'id': 'DK', 'value': 'Denmark'}, 'countryiso3code': 'DNK', 'date': '1977', 'value': 5088419, 'unit': '', 'obs_status': '', 'decimal': 0}, {'indicator': {'id': 'SP.POP.TOTL', 'value': 'Population, total'}, 'country': {'id': 'DK', 'value': 'Denmark'}, 'countryiso3code': 'DNK', 'date': '1976', 'value': 5072596, 'unit': '', 'obs_status': '', 'decimal': 0}, {'indicator': {'id': 'SP.POP.TOTL', 'value': 'Population, total'}, 'country': {'id': 'DK', 'value': 'Denmark'}, 'countryiso3code': 'DNK', 'date': '1975', 'value': 5059862, 'unit': '', 'obs_status': '', 'decimal': 0}, {'indicator': {'id': 'SP.POP.TOTL', 'value': 'Population, total'}, 'country': {'id': 'DK', 'value': 'Denmark'}, 'countryiso3code': 'DNK', 'date': '1974', 'value': 5045297, 'unit': '', 'obs_status': '', 'decimal': 0}, {'indicator': {'id': 'SP.POP.TOTL', 'value': 'Population, total'}, 'country': {'id': 'DK', 'value': 'Denmark'}, 'countryiso3code': 'DNK', 'date': '1973', 'value': 5021861, 'unit': '', 'obs_status': '', 'decimal': 0}, {'indicator': {'id': 'SP.POP.TOTL', 'value': 'Population, total'}, 'country': {'id': 'DK', 'value': 'Denmark'}, 'countryiso3code': 'DNK', 'date': '1972', 'value': 4991596, 'unit': '', 'obs_status': '', 'decimal': 0}, {'indicator': {'id': 'SP.POP.TOTL', 'value': 'Population, total'}, 'country': {'id': 'DK', 'value': 'Denmark'}, 'countryiso3code': 'DNK', 'date': '1971', 'value': 4963126, 'unit': '', 'obs_status': '', 'decimal': 0}, {'indicator': {'id': 'SP.POP.TOTL', 'value': 'Population, total'}, 'country': {'id': 'DK', 'value': 'Denmark'}, 'countryiso3code': 'DNK', 'date': '1970', 'value': 4928757, 'unit': '', 'obs_status': '', 'decimal': 0}, {'indicator': {'id': 'SP.POP.TOTL', 'value': 'Population, total'}, 'country': {'id': 'DK', 'value': 'Denmark'}, 'countryiso3code': 'DNK', 'date': '1969', 'value': 4891860, 'unit': '', 'obs_status': '', 'decimal': 0}, {'indicator': {'id': 'SP.POP.TOTL', 'value': 'Population, total'}, 'country': {'id': 'DK', 'value': 'Denmark'}, 'countryiso3code': 'DNK', 'date': '1968', 'value': 4864883, 'unit': '', 'obs_status': '', 'decimal': 0}, {'indicator': {'id': 'SP.POP.TOTL', 'value': 'Population, total'}, 'country': {'id': 'DK', 'value': 'Denmark'}, 'countryiso3code': 'DNK', 'date': '1967', 'value': 4835354, 'unit': '', 'obs_status': '', 'decimal': 0}, {'indicator': {'id': 'SP.POP.TOTL', 'value': 'Population, total'}, 'country': {'id': 'DK', 'value': 'Denmark'}, 'countryiso3code': 'DNK', 'date': '1966', 'value': 4797381, 'unit': '', 'obs_status': '', 'decimal': 0}, {'indicator': {'id': 'SP.POP.TOTL', 'value': 'Population, total'}, 'country': {'id': 'DK', 'value': 'Denmark'}, 'countryiso3code': 'DNK', 'date': '1965', 'value': 4759012, 'unit': '', 'obs_status': '', 'decimal': 0}, {'indicator': {'id': 'SP.POP.TOTL', 'value': 'Population, total'}, 'country': {'id': 'DK', 'value': 'Denmark'}, 'countryiso3code': 'DNK', 'date': '1964', 'value': 4722072, 'unit': '', 'obs_status': '', 'decimal': 0}, {'indicator': {'id': 'SP.POP.TOTL', 'value': 'Population, total'}, 'country': {'id': 'DK', 'value': 'Denmark'}, 'countryiso3code': 'DNK', 'date': '1963', 'value': 4684483, 'unit': '', 'obs_status': '', 'decimal': 0}, {'indicator': {'id': 'SP.POP.TOTL', 'value': 'Population, total'}, 'country': {'id': 'DK', 'value': 'Denmark'}, 'countryiso3code': 'DNK', 'date': '1962', 'value': 4647727, 'unit': '', 'obs_status': '', 'decimal': 0}, {'indicator': {'id': 'SP.POP.TOTL', 'value': 'Population, total'}, 'country': {'id': 'DK', 'value': 'Denmark'}, 'countryiso3code': 'DNK', 'date': '1961', 'value': 4611687, 'unit': '', 'obs_status': '', 'decimal': 0}, {'indicator': {'id': 'SP.POP.TOTL', 'value': 'Population, total'}, 'country': {'id': 'DK', 'value': 'Denmark'}, 'countryiso3code': 'DNK', 'date': '1960', 'value': 4579603, 'unit': '', 'obs_status': '', 'decimal': 0}]]\n"
     ]
    }
   ],
   "source": [
    "result = json.loads(requests.get(\n",
    "    'http://api.worldbank.org/v2/countries/DNK/indicators/SP.POP.TOTL', \n",
    "    params = {\n",
    "        \"per_page\": 100,\n",
    "        \"format\": \"json\"\n",
    "    }).text)\n",
    "print(result)"
   ]
  },
  {
   "cell_type": "markdown",
   "metadata": {},
   "source": [
    "## Wikipedia"
   ]
  },
  {
   "cell_type": "markdown",
   "metadata": {},
   "source": [
    "### links"
   ]
  },
  {
   "cell_type": "code",
   "execution_count": 4,
   "metadata": {},
   "outputs": [
    {
     "data": {
      "text/plain": [
       "{'continue': {'continue': '||', 'plcontinue': '13692155|0|Absolute_idealism'},\n",
       " 'query': {'pages': {'13692155': {'links': [{'ns': 0,\n",
       "      'title': '19th-century philosophy'},\n",
       "     {'ns': 0, 'title': 'A.C. Grayling'},\n",
       "     {'ns': 0, 'title': 'A priori knowledge'},\n",
       "     {'ns': 0, 'title': 'Abhidharma'},\n",
       "     {'ns': 0, 'title': 'Absolute (philosophy)'}],\n",
       "    'ns': 0,\n",
       "    'pageid': 13692155,\n",
       "    'title': 'Philosophy'}}}}"
      ]
     },
     "execution_count": 4,
     "metadata": {},
     "output_type": "execute_result"
    }
   ],
   "source": [
    "title = \"Philosophy\"\n",
    "result = json.loads(requests.get(\n",
    "    'https://en.wikipedia.org/w/api.php', \n",
    "    params = {\n",
    "        \"action\": \"query\",\n",
    "        \"titles\": title,\n",
    "        \"prop\": \"links\",\n",
    "        \"format\": \"json\",\n",
    "        \"plnamespace\": [0],\n",
    "        \"pllimit\": 5\n",
    "    }).text)\n",
    "[link[\"title\"] for link in list(result[\"query\"][\"pages\"].values())[0][\"links\"]]\n",
    "result"
   ]
  },
  {
   "cell_type": "code",
   "execution_count": 5,
   "metadata": {},
   "outputs": [
    {
     "data": {
      "text/plain": [
       "{'13692155': {'links': [{'ns': 0, 'title': '19th-century philosophy'},\n",
       "   {'ns': 0, 'title': 'A.C. Grayling'},\n",
       "   {'ns': 0, 'title': 'A priori knowledge'},\n",
       "   {'ns': 0, 'title': 'Abhidharma'},\n",
       "   {'ns': 0, 'title': 'Absolute (philosophy)'}],\n",
       "  'ns': 0,\n",
       "  'pageid': 13692155,\n",
       "  'title': 'Philosophy'}}"
      ]
     },
     "execution_count": 5,
     "metadata": {},
     "output_type": "execute_result"
    }
   ],
   "source": [
    "result[\"query\"][\"pages\"]"
   ]
  },
  {
   "cell_type": "code",
   "execution_count": 6,
   "metadata": {},
   "outputs": [
    {
     "data": {
      "text/plain": [
       "{'links': [{'ns': 0, 'title': '19th-century philosophy'},\n",
       "  {'ns': 0, 'title': 'A.C. Grayling'},\n",
       "  {'ns': 0, 'title': 'A priori knowledge'},\n",
       "  {'ns': 0, 'title': 'Abhidharma'},\n",
       "  {'ns': 0, 'title': 'Absolute (philosophy)'}],\n",
       " 'ns': 0,\n",
       " 'pageid': 13692155,\n",
       " 'title': 'Philosophy'}"
      ]
     },
     "execution_count": 6,
     "metadata": {},
     "output_type": "execute_result"
    }
   ],
   "source": [
    "list(result[\"query\"][\"pages\"].values())[0]"
   ]
  },
  {
   "cell_type": "code",
   "execution_count": 7,
   "metadata": {},
   "outputs": [
    {
     "data": {
      "text/plain": [
       "[{'ns': 0, 'title': '19th-century philosophy'},\n",
       " {'ns': 0, 'title': 'A.C. Grayling'},\n",
       " {'ns': 0, 'title': 'A priori knowledge'},\n",
       " {'ns': 0, 'title': 'Abhidharma'},\n",
       " {'ns': 0, 'title': 'Absolute (philosophy)'}]"
      ]
     },
     "execution_count": 7,
     "metadata": {},
     "output_type": "execute_result"
    }
   ],
   "source": [
    "links = list(result[\"query\"][\"pages\"].values())[0][\"links\"]\n",
    "links"
   ]
  },
  {
   "cell_type": "code",
   "execution_count": 8,
   "metadata": {},
   "outputs": [
    {
     "data": {
      "text/plain": [
       "['19th-century philosophy',\n",
       " 'A.C. Grayling',\n",
       " 'A priori knowledge',\n",
       " 'Abhidharma',\n",
       " 'Absolute (philosophy)']"
      ]
     },
     "execution_count": 8,
     "metadata": {},
     "output_type": "execute_result"
    }
   ],
   "source": [
    "[link[\"title\"] for link in links]"
   ]
  },
  {
   "cell_type": "markdown",
   "metadata": {},
   "source": [
    "### links here"
   ]
  },
  {
   "cell_type": "code",
   "execution_count": 9,
   "metadata": {},
   "outputs": [
    {
     "name": "stdout",
     "output_type": "stream",
     "text": [
      "['Blues', 'List of dance style categories', 'Dance improvisation', 'List of lindy hop moves', 'Lindy exchange', 'Blues (disambiguation)', 'Close embrace', 'List of North American folk music traditions', 'Lindy hop today', 'Talang 2007', 'The Spirit Moves', 'List of street and vernacular dances', 'Butler May', 'Disappearance of Tiffany Daniels']\n"
     ]
    }
   ],
   "source": [
    "title = \"Blues dance\"\n",
    "result = json.loads(requests.get(\n",
    "    'https://en.wikipedia.org/w/api.php', \n",
    "    params = {\n",
    "        \"action\": \"query\",\n",
    "        \"titles\": title,\n",
    "        \"prop\": \"linkshere\",\n",
    "        \"format\": \"json\",\n",
    "        \"lhlimit\": 50,\n",
    "        \"lhnamespace\": 0,\n",
    "        \"lhshow\": \"!redirect\"\n",
    "    }).text)\n",
    "links = list(result[\"query\"][\"pages\"].values())[0][\"linkshere\"]\n",
    "print([link[\"title\"] for link in links])"
   ]
  },
  {
   "cell_type": "markdown",
   "metadata": {},
   "source": [
    "### content"
   ]
  },
  {
   "cell_type": "code",
   "execution_count": 10,
   "metadata": {},
   "outputs": [
    {
     "data": {
      "text/plain": [
       "\"<p><b>Contact improvisation</b> is a form of improvised dancing that has been developing internationally since 1972. Contact improvisation involves the exploration from one's body to the next by using the fundamentals of sharing weight, touch, being kinetically aware and finding a point of contact between you and your partner(s). American dancer and choreographer Steve Paxton had first conceived and presented this form of movement and has impacted how dancers and people view movement by a large factor. Paxton utilized his past training such as Aikido, a martial art form, to explore and push bo\""
      ]
     },
     "execution_count": 10,
     "metadata": {},
     "output_type": "execute_result"
    }
   ],
   "source": [
    "title = \"Contact improvisation\"\n",
    "result = json.loads(requests.get(\n",
    "    'https://en.wikipedia.org/w/api.php', \n",
    "    params = {\n",
    "        \"action\": \"query\",\n",
    "        \"titles\": title,\n",
    "        \"prop\": \"extracts\",\n",
    "        \"format\": \"json\",\n",
    "    }).text)\n",
    "list(result[\"query\"][\"pages\"].values())[0][\"extract\"][0:600]"
   ]
  },
  {
   "cell_type": "markdown",
   "metadata": {},
   "source": [
    "## Open Graph Protocol (youtube, dr.dk, ...)"
   ]
  },
  {
   "cell_type": "code",
   "execution_count": 11,
   "metadata": {},
   "outputs": [
    {
     "name": "stdout",
     "output_type": "stream",
     "text": [
      "Requirement already satisfied: python-opengraph in /home/rasmuserik/anaconda3/lib/python3.6/site-packages\n",
      "Requirement already satisfied: requests>=2.7 in /home/rasmuserik/anaconda3/lib/python3.6/site-packages (from python-opengraph)\n",
      "Requirement already satisfied: beautifulsoup4>=4.3 in /home/rasmuserik/anaconda3/lib/python3.6/site-packages (from python-opengraph)\n",
      "Requirement already satisfied: chardet<3.1.0,>=3.0.2 in /home/rasmuserik/anaconda3/lib/python3.6/site-packages (from requests>=2.7->python-opengraph)\n",
      "Requirement already satisfied: idna<2.7,>=2.5 in /home/rasmuserik/anaconda3/lib/python3.6/site-packages (from requests>=2.7->python-opengraph)\n",
      "Requirement already satisfied: urllib3<1.23,>=1.21.1 in /home/rasmuserik/anaconda3/lib/python3.6/site-packages (from requests>=2.7->python-opengraph)\n",
      "Requirement already satisfied: certifi>=2017.4.17 in /home/rasmuserik/anaconda3/lib/python3.6/site-packages (from requests>=2.7->python-opengraph)\n"
     ]
    }
   ],
   "source": [
    "!pip install python-opengraph\n",
    "from opengraph import OpenGraph"
   ]
  },
  {
   "cell_type": "code",
   "execution_count": 12,
   "metadata": {},
   "outputs": [
    {
     "name": "stdout",
     "output_type": "stream",
     "text": [
      "{'type': 'article', 'title': 'Aktivist kæmper for dine digitale rettigheder mod tech-giganter', 'site_name': 'DR', 'description': 'En østrigsk aktivist har startet en ny organisation, der vil sagsøge tech-virksomheder, som krænker dine digitale rettigheder.', 'url': 'https://www.dr.dk/nyheder/viden/teknologi/aktivist-kaemper-dine-digitale-rettigheder-mod-tech-giganter', 'image': 'http://asset.dr.dk/ImageScaler/?file=%2Fimages%2Fother%2F2018%2F02%2F08%2Fscanpix-20171003-150322-l.jpg&server=www.dr.dk'}\n"
     ]
    },
    {
     "name": "stderr",
     "output_type": "stream",
     "text": [
      "/home/rasmuserik/anaconda3/lib/python3.6/site-packages/bs4/__init__.py:181: UserWarning: No parser was explicitly specified, so I'm using the best available HTML parser for this system (\"lxml\"). This usually isn't a problem, but if you run this code on another system, or in a different virtual environment, it may use a different parser and behave differently.\n",
      "\n",
      "The code that caused this warning is on line 193 of the file /home/rasmuserik/anaconda3/lib/python3.6/runpy.py. To get rid of this warning, change code that looks like this:\n",
      "\n",
      " BeautifulSoup(YOUR_MARKUP})\n",
      "\n",
      "to this:\n",
      "\n",
      " BeautifulSoup(YOUR_MARKUP, \"lxml\")\n",
      "\n",
      "  markup_type=markup_type))\n"
     ]
    }
   ],
   "source": [
    "dr = OpenGraph(\"https://www.dr.dk/nyheder/viden/teknologi/aktivist-kaemper-dine-digitale-rettigheder-mod-tech-giganter\")\n",
    "print(dr)"
   ]
  },
  {
   "cell_type": "code",
   "execution_count": 13,
   "metadata": {},
   "outputs": [
    {
     "name": "stdout",
     "output_type": "stream",
     "text": [
      "The best stats you've ever seen | Hans Rosling\n",
      "http://www.ted.com With the drama and urgency of a sportscaster, statistics guru Hans Rosling uses an amazing new presentation tool, Gapminder, to present da...\n",
      "{'type': 'video.other', 'title': \"The best stats you've ever seen | Hans Rosling\", 'site_name': 'YouTube', 'description': 'http://www.ted.com With the drama and urgency of a sportscaster, statistics guru Hans Rosling uses an amazing new presentation tool, Gapminder, to present da...', 'url': 'https://www.youtube.com/watch?v=hVimVzgtD6w', 'image': 'https://i.ytimg.com/vi/hVimVzgtD6w/hqdefault.jpg', 'video:url': 'http://www.youtube.com/v/hVimVzgtD6w?version=3&autohide=1', 'video:secure_url': 'https://www.youtube.com/v/hVimVzgtD6w?version=3&autohide=1', 'video:type': 'application/x-shockwave-flash', 'video:width': '480', 'video:height': '360', 'video:tag': 'child health'}\n"
     ]
    },
    {
     "name": "stderr",
     "output_type": "stream",
     "text": [
      "/home/rasmuserik/anaconda3/lib/python3.6/site-packages/bs4/__init__.py:181: UserWarning: No parser was explicitly specified, so I'm using the best available HTML parser for this system (\"lxml\"). This usually isn't a problem, but if you run this code on another system, or in a different virtual environment, it may use a different parser and behave differently.\n",
      "\n",
      "The code that caused this warning is on line 193 of the file /home/rasmuserik/anaconda3/lib/python3.6/runpy.py. To get rid of this warning, change code that looks like this:\n",
      "\n",
      " BeautifulSoup(YOUR_MARKUP})\n",
      "\n",
      "to this:\n",
      "\n",
      " BeautifulSoup(YOUR_MARKUP, \"lxml\")\n",
      "\n",
      "  markup_type=markup_type))\n"
     ]
    }
   ],
   "source": [
    "youtube = OpenGraph(\"https://www.youtube.com/watch?v=hVimVzgtD6w\")\n",
    "print(youtube.title)\n",
    "print(youtube.description)\n",
    "print(youtube)"
   ]
  },
  {
   "cell_type": "markdown",
   "metadata": {},
   "source": [
    "## RSS"
   ]
  },
  {
   "cell_type": "code",
   "execution_count": 14,
   "metadata": {},
   "outputs": [
    {
     "name": "stdout",
     "output_type": "stream",
     "text": [
      "Requirement already satisfied: feedparser in /home/rasmuserik/anaconda3/lib/python3.6/site-packages\r\n"
     ]
    }
   ],
   "source": [
    "!pip install feedparser\n",
    "import feedparser"
   ]
  },
  {
   "cell_type": "code",
   "execution_count": 15,
   "metadata": {},
   "outputs": [
    {
     "data": {
      "text/plain": [
       "{'dr_channeldisplayname': 'Udland',\n",
       " 'dr_channelname': 'Udland',\n",
       " 'dr_imageuri620x349': 'https://www.dr.dk/images/other/2018/02/22/scanpix-20180221-195053-7_0.jpg',\n",
       " 'dr_postingguid': '24b32be6-eb99-4d89-8ea8-98f287ca46b4',\n",
       " 'dr_xmlimagearticle': '',\n",
       " 'guidislink': False,\n",
       " 'id': '24b32be6-eb99-4d89-8ea8-98f287ca46b4',\n",
       " 'link': 'http://www.dr.dk/nyheder/udland/melissa-gemte-19-elever-i-skab-under-skyderi-bevaebnede-laerere-er-latterligt',\n",
       " 'links': [{'href': 'http://www.dr.dk/nyheder/udland/melissa-gemte-19-elever-i-skab-under-skyderi-bevaebnede-laerere-er-latterligt',\n",
       "   'rel': 'alternate',\n",
       "   'type': 'text/html'}],\n",
       " 'published': 'Thu, 22 Feb 2018 17:57:00 +0100',\n",
       " 'published_parsed': time.struct_time(tm_year=2018, tm_mon=2, tm_mday=22, tm_hour=16, tm_min=57, tm_sec=0, tm_wday=3, tm_yday=53, tm_isdst=0),\n",
       " 'summary': \"USA's præsident har foreslået at træne og bevæbne 20 procent af de amerikanske lærere.\",\n",
       " 'summary_detail': {'base': '',\n",
       "  'language': None,\n",
       "  'type': 'text/html',\n",
       "  'value': \"USA's præsident har foreslået at træne og bevæbne 20 procent af de amerikanske lærere.\"},\n",
       " 'title': 'Melissa gemte 19 elever i skab under skyderi: \"Bevæbnede lærere er latterligt\"',\n",
       " 'title_detail': {'base': '',\n",
       "  'language': None,\n",
       "  'type': 'text/plain',\n",
       "  'value': 'Melissa gemte 19 elever i skab under skyderi: \"Bevæbnede lærere er latterligt\"'}}"
      ]
     },
     "execution_count": 15,
     "metadata": {},
     "output_type": "execute_result"
    }
   ],
   "source": [
    "response = requests.get('https://www.dr.dk/nyheder/service/feeds/allenyheder')\n",
    "feedparser.parse(response.text)['entries'][0]"
   ]
  },
  {
   "cell_type": "markdown",
   "metadata": {},
   "source": [
    "## creative commons search (incl. flickr)"
   ]
  },
  {
   "cell_type": "code",
   "execution_count": 16,
   "metadata": {},
   "outputs": [
    {
     "data": {
      "text/plain": [
       "'\\n<!doctype html>\\n<meta name=\"viewport\" content=\"width=device-width, initial-scale=1\">\\n<meta charset=\"UTF-8\"><script type=\"text/javascript\">window.NREUM||(NREUM={}),__nr_require=function(e,t,n){functio'"
      ]
     },
     "execution_count": 16,
     "metadata": {},
     "output_type": "execute_result"
    }
   ],
   "source": [
    "query = 'cat'\n",
    "html = requests.get(\n",
    "    \"https://ccsearch.creativecommons.org/\",\n",
    "    params = {\n",
    "        \"search\": query,\n",
    "        \"page\": 1,\n",
    "        \"search_fields\": [\"title\", \"creator\", \"tags\"],\n",
    "        \"per_page\": 20,\n",
    "        \"licenses\": ['ALL-$', 'ALL-MOD'],\n",
    "        \"work_types\": [\"photos\", \"cultural\"],\n",
    "        \"providers\": [\"500px\", \"flickr\", \"europeana\", \"met\", \"nypl\", \"rijksmuseum\"]        \n",
    "    },\n",
    "    headers = {\n",
    "        'User-Agent': 'Mozilla/5.0 Data Science Workshop at inf.ku.dk'\n",
    "    }).text\n",
    "html[0:200]"
   ]
  },
  {
   "cell_type": "code",
   "execution_count": 17,
   "metadata": {},
   "outputs": [
    {
     "data": {
      "text/plain": [
       "{'data-created_on': '2016-11-16T16:05:57.498240+00:00',\n",
       " 'data-creator': 'Cat Wendt',\n",
       " 'data-creator_url': 'https://www.flickr.com/people/catwendt/',\n",
       " 'data-foreign_landing_url': 'https://www.flickr.com/photos/catwendt/15589191923',\n",
       " 'data-identifier': 'DkKgzQ0SUf8DA6waC0vn2w==',\n",
       " 'data-license': 'by',\n",
       " 'data-license_version': '2.0',\n",
       " 'data-provider': 'flickr',\n",
       " 'data-provider_name': 'Flickr',\n",
       " 'data-provider_url': 'https://flickr.com',\n",
       " 'data-source': 'openimages',\n",
       " 'data-tags': \"['vertebrate', 'carnivoran', 'cat', 'british semi longhair', 'norwegian forest cat', 'mammal', 'domestic long haired cat', 'cat like mammal', 'animal', 'nose', 'european shorthair', 'close up', 'domestic short haired cat', 'small to medium sized cats', 'whiskers', 'pet', 'nebelung', 'maine coon', 'siberian', 'carnivoran']\",\n",
       " 'data-title': 'Cat Selfie (Buffy)',\n",
       " 'data-url': 'https://farm8.staticflickr.com/7464/15589191923_e8ba97bf6c_o.jpg',\n",
       " 'src': 'https://c8.staticflickr.com/8/7464/15589191923_99889a9f83_z.jpg'}"
      ]
     },
     "execution_count": 17,
     "metadata": {},
     "output_type": "execute_result"
    }
   ],
   "source": [
    "from bs4 import BeautifulSoup\n",
    "soup = BeautifulSoup(html, 'html.parser')\n",
    "images = [img.attrs for img in soup.find_all('img') if img.attrs.get('data-title', False)]\n",
    "images[0]"
   ]
  },
  {
   "cell_type": "markdown",
   "metadata": {},
   "source": [
    "## openplatform.dbc.dk bibliographical data"
   ]
  },
  {
   "cell_type": "code",
   "execution_count": 18,
   "metadata": {},
   "outputs": [
    {
     "data": {
      "text/plain": [
       "{'data': [{'coverUrlFull': ['https://moreinfo.addi.dk/2.10/more_info_get.php?lokalid=24504174&attachment_type=forside_stor&bibliotek=870970&source_id=870970&key=11f628e324c65a92297e'],\n",
       "   'creator': ['Haruki Murakami'],\n",
       "   'pid': ['870970-basis:24504174'],\n",
       "   'title': ['Sønden for grænsen og vesten for solen']},\n",
       "  {'coverUrlFull': ['https://moreinfo.addi.dk/2.10/more_info_get.php?lokalid=25254996&attachment_type=forside_stor&bibliotek=870970&source_id=870970&key=4ce81715a0ab600c0af5'],\n",
       "   'creator': ['Haruki Murakami'],\n",
       "   'pid': ['870970-basis:25254996'],\n",
       "   'title': ['Sputnik min elskede']},\n",
       "  {'coverUrlFull': ['https://moreinfo.addi.dk/2.10/more_info_get.php?lokalid=29662177&attachment_type=forside_stor&bibliotek=870970&source_id=870970&key=2fbde785c4df21df6073'],\n",
       "   'creator': ['Haruki Murakami'],\n",
       "   'pid': ['870970-basis:29662177'],\n",
       "   'title': ['En vild fårejagt']},\n",
       "  {'coverUrlFull': ['https://moreinfo.addi.dk/2.10/more_info_get.php?lokalid=26742943&attachment_type=forside_stor&bibliotek=870970&source_id=870970&key=f5f1643dbff43dba9a24'],\n",
       "   'creator': ['Haruki Murakami'],\n",
       "   'pid': ['870970-basis:26742943'],\n",
       "   'title': ['Kafka på stranden']},\n",
       "  {'creator': ['Haruki Murakami'],\n",
       "   'pid': ['870970-basis:22497464'],\n",
       "   'title': ['Dans, dans, dans']},\n",
       "  {'coverUrlFull': ['https://moreinfo.addi.dk/2.10/more_info_get.php?lokalid=26001897&attachment_type=forside_stor&bibliotek=870970&source_id=870970&key=876523536b115eb9583d'],\n",
       "   'creator': ['Haruki Murakami'],\n",
       "   'pid': ['870970-basis:26001897'],\n",
       "   'title': ['Norwegian wood']},\n",
       "  {'coverUrlFull': ['https://moreinfo.addi.dk/2.10/more_info_get.php?lokalid=27434665&attachment_type=forside_stor&bibliotek=870970&source_id=870970&key=8294ba999768764cba01'],\n",
       "   'creator': ['Haruki Murakami'],\n",
       "   'pid': ['870970-basis:27434665'],\n",
       "   'title': ['Efter midnat']},\n",
       "  {'creator': ['Haruki Murakami'],\n",
       "   'pid': ['874310-katalog:DBB0416292'],\n",
       "   'title': ['Fødselsdagshistorier']},\n",
       "  {'coverUrlFull': ['https://moreinfo.addi.dk/2.10/more_info_get.php?lokalid=23645564&attachment_type=forside_stor&bibliotek=870970&source_id=870970&key=a52f1f7c9a9e3017f36e'],\n",
       "   'creator': ['Haruki Murakami'],\n",
       "   'pid': ['870970-basis:23645564'],\n",
       "   'title': ['Trækopfuglens krønike']},\n",
       "  {'creator': ['Murakami Haruki'],\n",
       "   'pid': ['875880-katalog:001320829'],\n",
       "   'title': ['Norwegian wood']}],\n",
       " 'statusCode': 200}"
      ]
     },
     "execution_count": 18,
     "metadata": {},
     "output_type": "execute_result"
    }
   ],
   "source": [
    "search_results = json.loads(requests.get(\n",
    "    'https://openplatform.dbc.dk/v2/search', \n",
    "    params = {\n",
    "        \"access_token\": \"fa2dfc00a4697058b43b8f8c52a03af60e889339\",\n",
    "        \"q\": 'fo=\"Haruki Murakami\"',\n",
    "        \"fields\": [\"title\", \"creator\", \"pid\", \"coverUrlFull\"],\n",
    "        \"limit\": 10\n",
    "    }).text)\n",
    "search_results"
   ]
  },
  {
   "cell_type": "code",
   "execution_count": 19,
   "metadata": {
    "scrolled": true
   },
   "outputs": [
    {
     "data": {
      "text/plain": [
       "{'data': [{'abstract': ['Aomame er en 30-årig smart pige, uddannet kampsportsinstruktør, men arbejder p.t. som lejemorder. Tengo er matematiklærer med forfatterdrømme. Han skal omskrive en sær 17-årig piges sære historie. Begge hovedfigurer oplever, at deres virkelighed forvrides let, hvad påvirker deres virkelighed?'],\n",
       "   'acIdentifier': ['28934297|870970'],\n",
       "   'acSource': ['Bibliotekskatalog'],\n",
       "   'accessType': ['physical'],\n",
       "   'alternative': ['1984'],\n",
       "   'audience': ['voksenmaterialer'],\n",
       "   'contributorTrl': ['Mette Holm'],\n",
       "   'creator': ['Haruki Murakami'],\n",
       "   'creatorAut': ['Haruki Murakami'],\n",
       "   'creatorSort': ['Murakami, Haruki'],\n",
       "   'date': ['2011'],\n",
       "   'dcLanguage': ['Dansk'],\n",
       "   'dcTitle': ['1Q84'],\n",
       "   'dcTitleFull': ['1Q84. Bog 1'],\n",
       "   'extent': ['403 sider', '3 bind'],\n",
       "   'fedoraPid': ['870970-basis:28934297'],\n",
       "   'hasCreatorDescription': ['870971-forfweb:89734541'],\n",
       "   'hasReview': ['870971-anmeld:34803048',\n",
       "    '870971-anmeld:34803501',\n",
       "    '870971-anmeld:34803013',\n",
       "    '870971-anmeld:35135340',\n",
       "    '870971-anmeld:34801029',\n",
       "    '870976-anmeld:30958357',\n",
       "    '870971-anmeld:34803498',\n",
       "    '870971-anmeld:35585338',\n",
       "    '870971-anmeld:34804206'],\n",
       "   'identifierISBN': ['9788779559202'],\n",
       "   'language': ['Dansk'],\n",
       "   'languageISO6392': ['dan'],\n",
       "   'pid': ['870970-basis:28934297'],\n",
       "   'publisher': ['Klim'],\n",
       "   'source': ['1Q84'],\n",
       "   'spatialDBCS': ['Japan'],\n",
       "   'subjectDBCS': ['kultur',\n",
       "    'kærlighed',\n",
       "    'magisk realisme',\n",
       "    'magt',\n",
       "    'parallelle verdener',\n",
       "    'skrivekunst'],\n",
       "   'subjectDK5': ['sk'],\n",
       "   'subjectDK5Text': ['Skønlitteratur'],\n",
       "   'temporalDBCP': ['1980-1989'],\n",
       "   'title': ['1Q84'],\n",
       "   'titleFull': ['1Q84'],\n",
       "   'type': ['Bog (bind 1)'],\n",
       "   'typeBibDKType': ['Bog'],\n",
       "   'undefined': ['_BASEURL_url_ctx_fmt=info:ofi/fmt:kev:mtx:ctx&ctx_ver=Z39.88-2004&rft_val_fmt=info:ofi/fmt:kev:mtx:book&rft.btitle=1Q84&rft.aulast=Murakami&rft.aufirst=Haruki&rft.auinit=H&rft.date=2011&rft.isbn=9788779559202&rft.pub=Klim&rft.edition=1.+udgave,+1.+oplag+%282011%29&rft.genre=book',\n",
       "    '_BASEURL_url_ctx_fmt=info:ofi/fmt:kev:mtx:ctx&ctx_ver=Z39.88-2004&rft_val_fmt=info:ofi/fmt:kev:mtx:book&rft.btitle=1Q84&rft.aulast=Murakami&rft.aufirst=Haruki&rft.auinit=H&rft.date=2011&rft.isbn=9788779559202&rft.pub=Klim&rft.edition=1.+udgave,+1.+oplag&rft.genre=book',\n",
       "    '_BASEURL_url_ctx_fmt=info:ofi/fmt:kev:mtx:ctx&ctx_ver=Z39.88-2004&rft_val_fmt=info:ofi/fmt:kev:mtx:book&rft.btitle=1Q84&rft.aulast=Murakami&rft.aufirst=Haruki&rft.auinit=H&rft.date=2013&rft.isbn=9788779559202&rft.pub=Klim&rft.edition=1.+udgave&rft.genre=book&rfr_id=info:sid/dbc.dk:820010-katalog'],\n",
       "   'version': ['1. udgave, 1. oplag (2011)'],\n",
       "   'workType': ['book']}],\n",
       " 'statusCode': 200}"
      ]
     },
     "execution_count": 19,
     "metadata": {},
     "output_type": "execute_result"
    }
   ],
   "source": [
    "json.loads(requests.get(\n",
    "    'https://openplatform.dbc.dk/v2/work', \n",
    "    params = {\n",
    "        \"access_token\": \"fa2dfc00a4697058b43b8f8c52a03af60e889339\",\n",
    "        \"pids\": '[\"870970-basis:28934297\"]'\n",
    "    }).text)"
   ]
  }
 ],
 "metadata": {
  "kernelspec": {
   "display_name": "Python 3",
   "language": "python",
   "name": "python3"
  },
  "language_info": {
   "codemirror_mode": {
    "name": "ipython",
    "version": 3
   },
   "file_extension": ".py",
   "mimetype": "text/x-python",
   "name": "python",
   "nbconvert_exporter": "python",
   "pygments_lexer": "ipython3",
   "version": "3.6.3"
  }
 },
 "nbformat": 4,
 "nbformat_minor": 2
}
