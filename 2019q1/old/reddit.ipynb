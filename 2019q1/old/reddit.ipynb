{
 "cells": [
  {
   "cell_type": "code",
   "execution_count": null,
   "metadata": {
    "scrolled": false
   },
   "outputs": [],
   "source": [
    "import requests\n",
    "from IPython.display import display, Image\n",
    "import json\n",
    "import time\n",
    "from PIL import Image\n",
    "from io import BytesIO\n",
    "\n",
    "next = ''\n",
    "posts = []\n",
    "for i in range(2):\n",
    "    result = json.loads(\n",
    "        requests.get('https://api.reddit.com/r/pics', \n",
    "                     params={\"after\": next},\n",
    "                     headers={'User-Agent': 'Mozilla/5 Data Science Intro'}).text)\n",
    "    next = result[\"data\"][\"after\"]\n",
    "    posts = posts + result[\"data\"][\"children\"]\n",
    "\n",
    "\n",
    "posts = [post[\"data\"] for post in posts if post[\"data\"][\"url\"].endswith(\"jpg\")]\n",
    "\n",
    "size = 400\n",
    "for post in posts:\n",
    "    display(post[\"url\"])\n",
    "    src = Image.open(BytesIO(requests.get(post[\"url\"]).content))\n",
    "    display(src.resize([size, int(size * src.size[1] / src.size[0])], Image.ANTIALIAS))\n",
    "    print(post[\"title\"])\n",
    "    print()\n",
    "    time.sleep(0.5)"
   ]
  }
 ],
 "metadata": {
  "kernelspec": {
   "display_name": "Python 3",
   "language": "python",
   "name": "python3"
  },
  "language_info": {
   "codemirror_mode": {
    "name": "ipython",
    "version": 3
   },
   "file_extension": ".py",
   "mimetype": "text/x-python",
   "name": "python",
   "nbconvert_exporter": "python",
   "pygments_lexer": "ipython3",
   "version": "3.6.3"
  }
 },
 "nbformat": 4,
 "nbformat_minor": 2
}
