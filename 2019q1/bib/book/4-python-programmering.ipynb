{
 "cells": [
  {
   "cell_type": "markdown",
   "metadata": {},
   "source": [
    "# Python Programmering"
   ]
  },
  {
   "cell_type": "markdown",
   "metadata": {},
   "source": [
    "**TODO**\n",
    "\n",
    "What is programming\n",
    "\n",
    "- Recipe, instructions for computer\n",
    "    - computer = forvokset regnemaskine, kan kun gøre hvad den bliver bedt om\n",
    "    - step by step instruction, computer is stupid, only does excatly what told\n",
    "- Example of programming languages easily available\n",
    "    - JavaScript\n",
    "    - Python\n",
    "    - Shell\n",
    "- Getting started with Python/jupyter-notebooks\n",
    "    - running within notebooks.azure.com\n",
    "    - running locally with https://www.anaconda.com/download\n",
    "\n",
    "What is data\n",
    "\n",
    "- Concrete/paper examples: numbers, text, checkmark/questionmark, lists, indexes\n",
    "- Structured data: JSON\n",
    "    - example/exercise bibliographical data\n",
    "- Numbers, Matrices/vectors\n",
    "- Data types\n",
    "    - Numbers\n",
    "    - Strings\n",
    "    - Lists\n",
    "    - Dictionaries\n",
    "    - Matrices/vectors\n",
    "    - ... and many morre\n",
    "- What is data science\n",
    "    - \"datalogi\" - computer science vs. data science\n",
    "    - statistics and machine learning\n",
    "        - unsupervised\n",
    "            - example: k-means\n",
    "        - supervised\n",
    "            - example: statistical\n",
    "\n",
    "Smagsprøver på python\n",
    "\n",
    "- forklaring af konstruktioner brugt i eksemplerne"
   ]
  },
  {
   "cell_type": "markdown",
   "metadata": {},
   "source": [
    "## Data, typer og strukturer\n",
    "\n",
    "Computere er kun regnemaskiner, og for computeren er alle data tal. Så når vi arbejder med tekst, billeder, store datastrukturer, etc., er det alt sammen tal.\n",
    "\n",
    "Eksempelvis er bogstaver i computeren oftest følgende tal: `A` er `65`, `B` er `66`, `C` er `67`, `D` er `68`, `E` er `69`, `F` er `70`, `G` er `71`, `H` er `72`, `I` er `73`, `J` er `74`, `K` er `75`, `L` er `76`, `M` er `77`,\n",
    "og så videre, og mellemrum, \" \" er `32`. Du kan nu læse hvad der står her: `72 69 74 32 77 69 68 32 68 73 71`.\n",
    "\n",
    "\n",
    "Vi vil gerne arbejde med forskellige _typer_ af data. Nogle typiske datatyper er:\n",
    "\n",
    "- Tal, som både kan være heltal (... `-2`, `-1`, `0`, `1`, `2`, ...), eller kommatal (i.e. `-17.42`, `0.12345`, `1001.37`).\n",
    "- Tekststrenge eller strenge, som er kortere eller længere stykke tekst. Ordet streng kommer af at tekst er en række/sekvens/tråd/streng af enkelte bogstaver. Vi vil ofte skrive eksempler på tekststreng i anførselstegne, i.e. `\"dette er en streng\"`.\n",
    "- Lister af data, som kan indeholder strenge, tal, sandhedsværdier, og også selv indeholde lister og ordbøger. Vi vil ofte skrive lister med firkantede paranteser, eksempel: `[\"Høeg\", \"Murakami\", \"Blixen\"]`.\n",
    "- Opslagsværker eller ordbøger/dictionaries, som giver mulighed for at slå en tekststreng op og få data tilbage. Et eksempel på en ordbog kan være metadata for en bøger, hvor man eksempelvis kan slå \"forfatter\" og \"titel\" op, og måske får \"A. A. Milne\" og \"Peter Plys\" tilbage. Ordet/strengen, som man slår op i ordbogen kaldes ofte nøglen, og de data man får tilbage kaldes værdien. Ordbøger skrives ofte med krøllede paranteser, så ordbogen med metadata kunne skrives som: `{\"titel\": \"Peter Plys\", \"forfatter\": \"A. A. Milne\"}`.\n",
    "\n",
    "Ud fra disse datatyper, kan vi nu strukturere data, eller lave _datastrukturer_. Her er et eksempel på en liste af metadata for et par bøger:"
   ]
  },
  {
   "cell_type": "code",
   "execution_count": 1,
   "metadata": {},
   "outputs": [],
   "source": [
    "books = [ \n",
    "  { \"titel\": \"Peter Plys\",\n",
    "    \"forfatter\": \"A. A. Milne\",\n",
    "    \"nøgleord\": [\"børnebog\"],\n",
    "    \"udlån\": 4312\n",
    "  },\n",
    "  { \"titel\": \"Turen går til Berlin\",\n",
    "    \"forfatter\": \"Kirstine Therkelsen\",\n",
    "    \"nøgleord\": [\"Berlin\", \"rejsefører\"],\n",
    "    \"udlån\": 329\n",
    "  },\n",
    "  { \"titel\": \"Mimbo Jimbo og den lange vinter\",\n",
    "    \"forfatter\": \"Jakob Martin Strid\",\n",
    "    \"udlån\": 1234 \n",
    "  }\n",
    "]"
   ]
  },
  {
   "cell_type": "markdown",
   "metadata": {},
   "source": [
    "Her gemmer vi datastrukturen i en variabel der hedder `books`.\n",
    "Den måde som vi har skrevet data på kaldes _JSON_, og er en af de mest almindelige måde at skrive strukturerede data. Eksemplet indeholder en liste af ordbøger, som igen kan indeholde andre datatyper. \n",
    "\n",
    "I modsætning til JSON, er Python ligeglad med om vi bruger `\"` eller `'`, så hvis vi finder datastrukturen igen, skrives den ud således:"
   ]
  },
  {
   "cell_type": "code",
   "execution_count": 2,
   "metadata": {},
   "outputs": [
    {
     "data": {
      "text/plain": [
       "[{'forfatter': 'A. A. Milne',\n",
       "  'nøgleord': ['børnebog'],\n",
       "  'titel': 'Peter Plys',\n",
       "  'udlån': 4312},\n",
       " {'forfatter': 'Kirstine Therkelsen',\n",
       "  'nøgleord': ['Berlin', 'rejsefører'],\n",
       "  'titel': 'Turen går til Berlin',\n",
       "  'udlån': 329},\n",
       " {'forfatter': 'Jakob Martin Strid',\n",
       "  'titel': 'Mimbo Jimbo og den lange vinter',\n",
       "  'udlån': 1234}]"
      ]
     },
     "execution_count": 2,
     "metadata": {},
     "output_type": "execute_result"
    }
   ],
   "source": [
    "books"
   ]
  },
  {
   "cell_type": "markdown",
   "metadata": {},
   "source": [
    "Når man har en liste eller en dictionary, kan man bruge `[]` til at hente de enkelte elementer. Bemærk: pladserne i listen er navngivet `0, 1, 2, ...` og ikke `1, 2, 3, ...`."
   ]
  },
  {
   "cell_type": "code",
   "execution_count": 3,
   "metadata": {},
   "outputs": [
    {
     "data": {
      "text/plain": [
       "{'forfatter': 'A. A. Milne',\n",
       " 'nøgleord': ['børnebog'],\n",
       " 'titel': 'Peter Plys',\n",
       " 'udlån': 4312}"
      ]
     },
     "execution_count": 3,
     "metadata": {},
     "output_type": "execute_result"
    }
   ],
   "source": [
    "books[0]"
   ]
  },
  {
   "cell_type": "code",
   "execution_count": 4,
   "metadata": {},
   "outputs": [
    {
     "data": {
      "text/plain": [
       "['Berlin', 'rejsefører']"
      ]
     },
     "execution_count": 4,
     "metadata": {},
     "output_type": "execute_result"
    }
   ],
   "source": [
    "books[1][\"nøgleord\"]"
   ]
  },
  {
   "cell_type": "markdown",
   "metadata": {},
   "source": [
    "Hvis man prøver at finde noget der mangler, får man en fejl:"
   ]
  },
  {
   "cell_type": "code",
   "execution_count": 5,
   "metadata": {},
   "outputs": [
    {
     "ename": "KeyError",
     "evalue": "'nøgleord'",
     "output_type": "error",
     "traceback": [
      "\u001b[0;31m-------------------------------------------------------------------------\u001b[0m",
      "\u001b[0;31mKeyError\u001b[0m                                Traceback (most recent call last)",
      "\u001b[0;32m<ipython-input-5-a6602ef92512>\u001b[0m in \u001b[0;36m<module>\u001b[0;34m()\u001b[0m\n\u001b[0;32m----> 1\u001b[0;31m \u001b[0mbooks\u001b[0m\u001b[0;34m[\u001b[0m\u001b[0;36m2\u001b[0m\u001b[0;34m]\u001b[0m\u001b[0;34m[\u001b[0m\u001b[0;34m\"nøgleord\"\u001b[0m\u001b[0;34m]\u001b[0m\u001b[0;34m\u001b[0m\u001b[0m\n\u001b[0m",
      "\u001b[0;31mKeyError\u001b[0m: 'nøgleord'"
     ]
    }
   ],
   "source": [
    "books[2][\"nøgleord\"]"
   ]
  },
  {
   "cell_type": "markdown",
   "metadata": {},
   "source": [
    "Her kan det være praktisk at bruge `.get`-metoden til at tilgå data, man kan fortælle hvad man ønsker per default, hvis data mangler:"
   ]
  },
  {
   "cell_type": "code",
   "execution_count": null,
   "metadata": {},
   "outputs": [],
   "source": [
    "books[1].get(\"nøgleord\", [])"
   ]
  },
  {
   "cell_type": "code",
   "execution_count": null,
   "metadata": {},
   "outputs": [],
   "source": [
    "books[2].get(\"nøgleord\", [])"
   ]
  }
 ],
 "metadata": {
  "kernelspec": {
   "display_name": "Python 3",
   "language": "python",
   "name": "python3"
  },
  "language_info": {
   "codemirror_mode": {
    "name": "ipython",
    "version": 3
   },
   "file_extension": ".py",
   "mimetype": "text/x-python",
   "name": "python",
   "nbconvert_exporter": "python",
   "pygments_lexer": "ipython3",
   "version": "3.6.3"
  }
 },
 "nbformat": 4,
 "nbformat_minor": 2
}
