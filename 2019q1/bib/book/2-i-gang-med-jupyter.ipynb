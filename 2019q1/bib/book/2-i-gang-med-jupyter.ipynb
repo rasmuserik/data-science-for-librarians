{
 "cells": [
  {
   "cell_type": "markdown",
   "metadata": {},
   "source": [
    "# I gang med Jupyter"
   ]
  },
  {
   "cell_type": "markdown",
   "metadata": {},
   "source": [
    "Jupyter Notebook er det værktøj, som vi vil bruge til at eksperimentere med data science.\n",
    "\n",
    "En Notebook er et dokument, som kan indeholde tekst, som kan indeholde kode, og som også kan indeholde resultatet af kørslen af koden. Eksempelvis er det dokument som du er i gang med at læse nu skrevet som Jupyter Notebooks.\n",
    "\n",
    "Hvis man eksempelvis skriver et beregningsudtryk, vil den vise koden og resultatet således:"
   ]
  },
  {
   "cell_type": "code",
   "execution_count": 1,
   "metadata": {},
   "outputs": [
    {
     "data": {
      "text/plain": [
       "4"
      ]
     },
     "execution_count": 1,
     "metadata": {},
     "output_type": "execute_result"
    }
   ],
   "source": [
    "2 + 2"
   ]
  },
  {
   "cell_type": "markdown",
   "metadata": {},
   "source": [
    "Når man starter Jupyter, kører der en beregningskerne, *\"kernel\"*, som udfører den Python-kode som man skriver. Så udover simple beregninger kan man også skrive mere generel kode såsom:"
   ]
  },
  {
   "cell_type": "code",
   "execution_count": 2,
   "metadata": {},
   "outputs": [
    {
     "name": "stdout",
     "output_type": "stream",
     "text": [
      "Min broders vogter : roman - Leif Davidsen (book)\n"
     ]
    },
    {
     "data": {
      "text/plain": [
       "{'_id': '870970-basis:28188625',\n",
       " 'creator': 'Leif Davidsen',\n",
       " 'idx': 123,\n",
       " 'language': 'Dansk',\n",
       " 'subject-term': ['Sovjetunionen',\n",
       "  'spænding',\n",
       "  'læsekreds',\n",
       "  '÷',\n",
       "  '1930-1939',\n",
       "  'fascisme',\n",
       "  'sk',\n",
       "  'Spanien',\n",
       "  'Skønlitteratur',\n",
       "  'den spanske borgerkrig',\n",
       "  'som Da Vinci',\n",
       "  'kommunisme',\n",
       "  'ideologier',\n",
       "  'spændende bøger'],\n",
       " 'title': 'Min broders vogter : roman',\n",
       " 'type': 'book'}"
      ]
     },
     "execution_count": 2,
     "metadata": {},
     "output_type": "execute_result"
    }
   ],
   "source": [
    "import bibdata;\n",
    "\n",
    "print(bibdata.title_creator(123))\n",
    "\n",
    "bibdata.meta[123]"
   ]
  },
  {
   "cell_type": "markdown",
   "metadata": {},
   "source": [
    "Herunder beskrives først: hvordan man installerer/kører Jupyter. Og dernæst: en introduktion til hvordan man bruger Jupyter."
   ]
  },
  {
   "cell_type": "markdown",
   "metadata": {},
   "source": [
    "## Opsætning / Installation\n",
    "\n",
    "Jupyter kan enten installeres lokalt på din egen computer, eller du kan køre det i skyen. Begge dele beskrives herunder."
   ]
  },
  {
   "cell_type": "markdown",
   "metadata": {},
   "source": [
    "### Lokal installation\n",
    "\n",
    "Den letteste måde at installere Jupyter Notebook lokalt på din maskine er via af værktøjet Anaconda:\n",
    "\n",
    "- Åbn <https://www.anaconda.com/download> i din webbrowser.\n",
    "- Download og kør installationsprogrammet for `Python 3.?` versionen af Anaconda, som passer til din computer (Linux/Windows/Mac, 32bit/64bit). Følg eventuelt vejledningen på websiden.\n",
    "- Start *Anaconda Navigator*, som nu er installeret, og vælg derefter at starte / \"Launch\" Jupyter Notebook.\n",
    "\n",
    "Dette starter Jupyter, og åbner en webbrowser, hvor du kan se filerne på din maskine, og redigere/køre Notebooks. Næste trin er at hente eksemplerne, så du selv kan lege med dem:\n",
    "\n",
    "- Åbn <https://github.com/solsort/data-science-for-bibliotekarer/releases> i din webbrowser.\n",
    "- Klik på / download *Source code (zip)* for den nyeste release, og udpak denne på din computer.\n",
    "\n",
    "Når filerne er pakket ud, kan du igen vende tilbage til Jupyter Notebook i din webbrowser. Her kan du vælge den mappe hvor du har pakket `data-science-for-bibliotekarer` ud, og begynde at køre Notebooks."
   ]
  },
  {
   "cell_type": "markdown",
   "metadata": {},
   "source": [
    "### Kørsel i skyen\n",
    "\n",
    "Azure giver mulighed for at køre Jupyter Notebooks gratis i skyen. For at kunne køre eksemplerne, skal du gøre følgende:\n",
    "\n",
    "- Åbn <https://notebooks.azure.com> i din webbrowser.\n",
    "- Klik på `Sign In`, opret bruger og log ind.\n",
    "- Klik på `Libraries`, og derefter `New Library`\n",
    "    - Vælg `From GitHub`\n",
    "    - Skriv `solsort/data-science-for-bibliotekarer` der hvor der står *Git repo (required)*.\n",
    "    - Find på et navn/id til projektet (*Friendly Name* / *Unique id ...*), - dette kan være hvad som helst\n",
    "    - Klik på import (først muligt når repository, name og id er udfyldt)\n",
    "\n",
    "Herefter vil eksemplerne blive loadet. Du har nu et kørende Jypyter Notebook environment, og kan åbne de enkelte notebooks ved at klikke på dem.\n",
    "\n",
    "Næste gang du logger ind, kan du bare klikke på dit igangværende projekt, og behøver ikke at vælge `New Library` etc."
   ]
  },
  {
   "cell_type": "markdown",
   "metadata": {},
   "source": [
    "## Guide til Jupyter\n",
    "\n",
    "Jupyter Notebook er et udviklingsmiljø. Det vil sige at man både kan bruge det til at skrive programmer, og bruge det til at køre dem.\n",
    "\n",
    "Et dokument i en en Notebook, består af *celler*, hvor hver celle kan indeholde tekst eller kode. Koden kan udføres via den beregningskerne / *kernel* som Jupyter også kører.\n",
    "\n",
    "En vigtig ting at være opmærksom på, når man arbejder med celler i Jupyter Notebook, er at man kan man være i to tilstande / *modes*:\n",
    "\n",
    "- `edit mode` er når man har en celle åben, kan skrive kode / tekst.\n",
    "- `command mode` er når man bevæger sig rundt mellem cellerne, og udfører kommandoer.\n",
    "\n",
    "Hvis du vælger \"User Interface Tour\" fra \"Help\"-menu'en i Jupyter Notebook, får du et overblik over grænsefladen."
   ]
  },
  {
   "cell_type": "markdown",
   "metadata": {},
   "source": [
    "Prøv derefter at eksperimentere lidt med grænsefladen:\n",
    "\n",
    "1. du kan lave en ny notebook ved at vælge \"File\", \"New Notebook\", \"Python 3\" i menuen.\n",
    "2. I den nye notebook starter du i `edit mode`, skriv eksempelvis `1+2+3`, og tryk `Alt+Enter` - herved vil den udregne resultatet af koden i cellen, oprette en ny celle, hvor du kan skrive videre.\n",
    "3. Hvis du trykke `Ctrl+Enter` udfører den cellen, og går derefter i command-mode. Brug pil-op/`K` og pil-ned/`J` til at vælge celle, og tryk herefter `Enter` for at vende tilbage tilbage til edit-mode.\n",
    "4. Hvis du trykker `H` mens du er i command mode får du en liste over keybindings.\n",
    "5. Hvis du trykker `P` mens du er i command mode, kan du søge efter kommandoer i Jupiter. \n",
    "6. Du kan også åbne en eksisterende notebook ved at vælge \"File\", \"Open\" i menuen.\n",
    "7. Vælg \"Kernel\", \"Restart & Run All\" fra menu'en, for at få udført alle celler i det åbne dokument. Hvis du arbejder videre med en celle i eksisterende kode, er det ofte vigtigt at du har kørt de foregående celler. "
   ]
  },
  {
   "cell_type": "markdown",
   "metadata": {},
   "source": [
    "Celler kan være af forskellige typer, og udføres så forskelligt: \n",
    "*Kode-celler* indeholder Python-kode, som man kan udfører, og derved se resultatet af.\n",
    "*Markdown-celler* indeholder tekst skrevet i [markdown-format](http://commonmark.org/help/), og hvis man \"udfører\" cellen betyder det blot at teksten bliver vist med formattering. Når man er i command-mode, kan man trykke `M` for at fortælle at en celle er markdown og `Y` for at fortælle at en celle indeholder kode (eller vælge det via toolbaren).\n",
    "\n",
    "Jupyter indeholder også selv dokumentation. `P` og `H` i command-mode, er godt til at finde ud af hvordan man bruger Jupyter, - og under \"`Help`\" i menuen, er der også links til dokumentationen for Python etc."
   ]
  }
 ],
 "metadata": {
  "kernelspec": {
   "display_name": "Python 3",
   "language": "python",
   "name": "python3"
  },
  "language_info": {
   "codemirror_mode": {
    "name": "ipython",
    "version": 3
   },
   "file_extension": ".py",
   "mimetype": "text/x-python",
   "name": "python",
   "nbconvert_exporter": "python",
   "pygments_lexer": "ipython3",
   "version": "3.6.3"
  }
 },
 "nbformat": 4,
 "nbformat_minor": 2
}
