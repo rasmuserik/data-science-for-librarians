{
 "cells": [
  {
   "cell_type": "markdown",
   "metadata": {},
   "source": [
    "# Indledning"
   ]
  },
  {
   "cell_type": "markdown",
   "metadata": {},
   "source": [
    "Formålet med denne bog er, at give dig en smagsprøve på hvad data science er, og en fornemmelse af hvordan man leger med data. Dette gør vi, ved at starte med en introduktion til værktøj, og hvad data science er, - og derefter dykker vi ned i nogle real-world case studies.\n",
    "\n",
    "Første trin er at komme *i gang med Jupyter*, som er er et værktøj til at lave data science i Python. Denne bog er skrevet som en række af Jupyter notesbøger, og dette kapitel sætter dig i stand til at køre, og eksperimentere med eksemplerne.\n",
    "\n",
    "Derefter undersøger vi: *Hvad er data science*, hvilket giver det teoretiske fundament for at forstå tilgangen i eksemplerne.\n",
    "\n",
    "En introduktion til *Python programmering*, giver det praktiske fundament for at kunne læse koden i eksemplerne.\n",
    "\n",
    "Herefter kommer de egentlige case studies.\n",
    "\n",
    "Og til slut afrunder vi med konklusion, og foreslag til videre studier."
   ]
  },
  {
   "cell_type": "markdown",
   "metadata": {},
   "source": [
    "## Målgruppe\n",
    "\n",
    "Denne bog er skrevet til en workshop om data science for bibliotekarer, så den forudsætter ingen forkendskab til programmering. Ligeledes er eksemplerne taget fra biblioteksverdenen."
   ]
  },
  {
   "cell_type": "markdown",
   "metadata": {},
   "source": [
    "## Læringsmål\n",
    "\n",
    "\n",
    "Du bliver i stand til at\n",
    "\n",
    "- køre python *notebooks*, og lave små ændringer / eksperimenter i disse\n",
    "- ...\n"
   ]
  }
 ],
 "metadata": {
  "kernelspec": {
   "display_name": "Python 3",
   "language": "python",
   "name": "python3"
  },
  "language_info": {
   "codemirror_mode": {
    "name": "ipython",
    "version": 3
   },
   "file_extension": ".py",
   "mimetype": "text/x-python",
   "name": "python",
   "nbconvert_exporter": "python",
   "pygments_lexer": "ipython3",
   "version": "3.6.3"
  }
 },
 "nbformat": 4,
 "nbformat_minor": 2
}
